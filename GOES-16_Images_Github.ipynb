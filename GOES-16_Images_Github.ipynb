{
 "cells": [
  {
   "cell_type": "markdown",
   "metadata": {},
   "source": [
    "# Collection of GOES-16 Satellite Images"
   ]
  },
  {
   "cell_type": "markdown",
   "metadata": {},
   "source": [
    "## Justin Richling\n",
    "## 09/20/18"
   ]
  },
  {
   "cell_type": "markdown",
   "metadata": {},
   "source": [
    "\n",
    "# GOES-16 Channels\n",
    "\n",
    "Plot the 3 main images: \n",
    "\n",
    "* Visible - Red (Band 2) \n",
    "\n",
    "* Mid-Level Water Vapor (Band 9)\n",
    "\n",
    "* Clean Infrared (Band 13)"
   ]
  },
  {
   "cell_type": "code",
   "execution_count": null,
   "metadata": {
    "collapsed": true
   },
   "outputs": [],
   "source": [
    "%matplotlib inline"
   ]
  },
  {
   "cell_type": "markdown",
   "metadata": {},
   "source": [
    "Imports\n",
    "\n"
   ]
  },
  {
   "cell_type": "code",
   "execution_count": null,
   "metadata": {
    "collapsed": true
   },
   "outputs": [],
   "source": [
    "# Random Library Imports\n",
    "import subprocess,os,glob,tempfile,re,imageio,webbrowser,io,sys,types,urllib,urllib2,\\\n",
    "time,cStringIO\n",
    "\n",
    "# Importing Datetime Libraries\n",
    "from datetime import datetime\n",
    "\n",
    "# CartoPy Map Plotting Libraires\n",
    "import cartopy.crs as ccrs\n",
    "import cartopy.feature as cfeature\n",
    "from pyproj import Proj \n",
    "\n",
    "# Numerical and Scientific Libraries\n",
    "import numpy as np\n",
    "import scipy.ndimage as ndimage\n",
    "from scipy.ndimage import gaussian_filter\n",
    "\n",
    "# Accessing Data from External Databases via XLM Catalog\n",
    "from siphon.ncss import NCSS\n",
    "from siphon.catalog import TDSCatalog\n",
    "\n",
    "# MetPy Libraries\n",
    "import metpy\n",
    "import metpy.calc as mpcalc\n",
    "from metpy.units import units\n",
    "from metpy.plots import ctables\n",
    "from metpy.plots import add_metpy_logo\n",
    "\n",
    "# NetCDF Libraries\n",
    "from netCDF4 import Dataset\n",
    "from netCDF4 import num2date\n",
    "\n",
    "# More Image Manipulation Options\n",
    "import PIL\n",
    "from PIL import Image as PILImage\n",
    "\n",
    "# Ipyhton Options\n",
    "from IPython import get_ipython\n",
    "from nbformat import current\n",
    "from IPython.core.interactiveshell import InteractiveShell\n",
    "from IPython.display import HTML, display, Image\n",
    "\n",
    "# Matplotlib Plotting Libraries\n",
    "#import matplotlib\n",
    "import matplotlib.pyplot as plt\n",
    "from matplotlib.cm import get_cmap\n",
    "import matplotlib.colors as mcolors\n",
    "from matplotlib.colors import LogNorm, Normalize\n",
    "import matplotlib as mpl\n",
    "from mpl_toolkits.axes_grid1 import make_axes_locatable, axes_size\n",
    "from matplotlib.colors import LinearSegmentedColormap"
   ]
  },
  {
   "cell_type": "code",
   "execution_count": null,
   "metadata": {
    "collapsed": true
   },
   "outputs": [],
   "source": [
    "# Pull the current time\n",
    "now = datetime.now() \n",
    "\n",
    "# Set a path to save the plots with string format for the date to set the month and day \n",
    "im_save_path =\"/path/to/where/you/want/maps/\"+'{0:%m_%d}'.format(now)+\"/\"\n",
    "print im_save_path\n",
    "\n",
    "# Check to see if the folder already exists, if not create it\n",
    "if not os.path.isdir(im_save_path):\n",
    "    os.makedirs(im_save_path)\n",
    "\n",
    "# Uncomment if you want to automatically change to the map folder    \n",
    "#os.chdir(im_save_path)\n",
    "\n",
    "# Create new folders for each channel inside the main folder - for animated gifs\n",
    "VISPATH = im_save_path+\"GOES-VIS/\"\n",
    "WVPATH = im_save_path+\"GOES-WV/\"\n",
    "IRPATH = im_save_path+\"GOES-IR/\"\n",
    "if not os.path.isdir(VISPATH):\n",
    "    os.makedirs(VISPATH)\n",
    "\n",
    "if not os.path.isdir(WVPATH):\n",
    "    os.makedirs(WVPATH)\n",
    "    \n",
    "if not os.path.isdir(IRPATH):\n",
    "    os.makedirs(IRPATH)"
   ]
  },
  {
   "cell_type": "markdown",
   "metadata": {
    "collapsed": true
   },
   "source": [
    "## GOES-16 Data\n",
    "Channel 13 IR Custom Colorbar to match Typical Color Maps"
   ]
  },
  {
   "cell_type": "code",
   "execution_count": null,
   "metadata": {
    "collapsed": true
   },
   "outputs": [],
   "source": [
    "# Recreation of University of Wisconsin? IR color bar, thanks to Unidata for making this possible\n",
    "\n",
    "red = []\n",
    "green = []\n",
    "blue = []\n",
    "valmin=-110.\n",
    "valmax=55.\n",
    "red.append( [0.0, 0.0, 0.0] ) \n",
    "green.append( [0.0, 0.0, 0.0] )\n",
    "blue.append( [0.0, 0.0, 0.0] )\n",
    "red.append( [ (-50.0-valmin)/(valmax-valmin), 0.0, 0.0 ] )\n",
    "green.append( [ (-50.0-valmin)/(valmax-valmin), 1.0, 1.0 ] )\n",
    "blue.append( [ (-50.0-valmin)/(valmax-valmin), 0.0, 0.0 ] )\n",
    "red.append( [ (-40.0-valmin)/(valmax-valmin), 0.0, 0.0 ] )\n",
    "green.append( [ (-40.0-valmin)/(valmax-valmin), 0.0, 0.0 ] )\n",
    "blue.append( [ (-40.0-valmin)/(valmax-valmin), 0.4, 0.4 ] )\n",
    "red.append( [ (-30.0-valmin)/(valmax-valmin), 0.0, 0.8 ] )\n",
    "green.append( [ (-30.0-valmin)/(valmax-valmin), 1.0, 0.8 ] )\n",
    "blue.append( [ (-30.0-valmin)/(valmax-valmin), 1.0, 0.8 ] )\n",
    "red.append( [ 1.0, 0.0, 0.0 ] )\n",
    "green.append( [ 1.0, 0.0, 0.0 ] )\n",
    "blue.append( [ 1.0, 0.0, 0.0 ] )\n",
    "cdict = {'red': red, 'green': green, 'blue': blue}\n",
    "ctbl = LinearSegmentedColormap('custom', cdict)\n",
    "\n",
    "cdict = {'red': ((0.0, 0.0, 0.0),\n",
    "                 (.001, 1.00, 1.00),\n",
    "                 (.107, 1.00, 1.00),\n",
    "                 (.113, 0.498, 0.498),\n",
    "                 (.173, 1.00, 1.00),\n",
    "                 (.179, 0.902, 0.902),\n",
    "                 (.227, 0.102, 0.102),\n",
    "                 (.233, 0.00, 0.00),\n",
    "                 (.287, 0.902, 0.902),\n",
    "                 (.293, 1.00, 1.00),\n",
    "                 (.346, 1.00, 1.00),\n",
    "                 (.352, 1.00, 1.00),\n",
    "                 (.406, 0.101, 0.101),\n",
    "                (.412, 0.00, 0.00),\n",
    "                 (.481, 0.00, 0.00),\n",
    "                 (.484, 0.00, 0.00),\n",
    "                 (.543, 0.00, 0.00),\n",
    "                 (.546, 0.773, 0.773),\n",
    "                 (.994, 0.012, 0.012),\n",
    "                 (.997, 0.004, 0.004),\n",
    "                 (1.0, 0.0, 0.0)),\n",
    "         'green': ((0.0, 0.0, 0.0),\n",
    "                 (.001, 1.00, 1.00),\n",
    "                 (.107, 1.00, 1.00),\n",
    "                 (.113, 0.00, 0.00),\n",
    "                 (.173, 0.498, 0.498),\n",
    "                 (.179, 0.902, 0.902),\n",
    "                 (.227, 0.102, 0.102),\n",
    "                 (.233, 0.00, 0.00),\n",
    "                 (.287, 0.00, 0.00),\n",
    "                 (.293, 0.00, 0.00),\n",
    "                 (.346, 0.902, 0.902),\n",
    "                 (.352, 1.00, 1.00),\n",
    "                 (.406, 1.00, 1.00),\n",
    "                 (.412, 1.00, 1.00),\n",
    "                 (.481, 0.00, 0.00),\n",
    "                 (.484, 0.00, 0.00),\n",
    "                 (.543, 1.00, 1.00),\n",
    "                 (.546, 0.773, 0.773),\n",
    "                 (.994, 0.012, 0.012),\n",
    "                 (.997, 0.004, 0.004),\n",
    "                   (1.0, 0.0, 0.0)),\n",
    "         'blue': ((0.0, 0.00, 0.00),\n",
    "                 (.001, 1.00, 1.00),\n",
    "                 (.107, 0.00, 0.00),\n",
    "                 (.113, 0.498, 0.498),\n",
    "                 (.173, 0.786, 0.786),\n",
    "                 (.179, 0.902, 0.902),\n",
    "                 (.227, 0.102, 0.102),\n",
    "                 (.233, 0.00, 0.00),\n",
    "                 (.287, 0.00, 0.00),\n",
    "                 (.293, 0.00, 0.00),\n",
    "                 (.346, 0.00, 0.00),\n",
    "                 (.352, 0.00, 0.00),\n",
    "                 (.406, 0.00, 0.00),\n",
    "                 (.412, 0.00, 0.00),\n",
    "                 (.481, 0.451, 0.451),\n",
    "                 (.484, 0.451, 0.451),\n",
    "                 (.543, 1.00, 1.00),\n",
    "                 (.546, 0.773, 0.773),\n",
    "                 (.994, 0.012, 0.012),\n",
    "                 (.997, 0.004, 0.004),\n",
    "                  (1.0, 0.0, 0.0))}\n",
    "\n",
    "\n",
    "IR_cmap = mpl.colors.LinearSegmentedColormap('my_colormap',cdict,2048)"
   ]
  },
  {
   "cell_type": "code",
   "execution_count": null,
   "metadata": {
    "collapsed": true
   },
   "outputs": [],
   "source": [
    "#WV_cmap = ctables.registry.get_colortable('WVCIMSS')"
   ]
  },
  {
   "cell_type": "markdown",
   "metadata": {},
   "source": [
    "### Here I'd like to make a block of code to directly download files via Amazon AWS and rclone..."
   ]
  },
  {
   "cell_type": "raw",
   "metadata": {},
   "source": [
    "today = datetime.now()\n",
    "JulianDate = today.strftime('%j') \n",
    "print JulianDate"
   ]
  },
  {
   "cell_type": "markdown",
   "metadata": {
    "collapsed": true
   },
   "source": [
    "## Walk the directories to find the files and populate new lists for each channel for the current day"
   ]
  },
  {
   "cell_type": "code",
   "execution_count": null,
   "metadata": {
    "collapsed": true
   },
   "outputs": [],
   "source": [
    "JulianDate = now.strftime('%j') \n",
    "print JulianDate\n",
    "\n",
    "GOES_sample_path = '/path/to/downloaded/files/' # Use full path to file   \n",
    "\n",
    "# Assumed that these are radiance files for the CONUS extent; customize as necessary    \n",
    "GOES_samples_2 = []\n",
    "for name in glob.glob(GOES_sample_path+'OR*L1b*RadC*C02*s'+'{:%Y}'.format(now)+str(JulianDate)+'*.nc'):\n",
    "    GOES_samples_2.append(name)\n",
    "GOES_samples_2 = [os.path.join(GOES_sample_path, s) for s in GOES_samples_2]\n",
    "GOES_samples_2 = sorted(GOES_samples_2, key=lambda x: int(re.sub('\\D', '', x)))\n",
    "\n",
    "GOES_samples_9 = []\n",
    "for name in glob.glob(GOES_sample_path+'OR*L1b*RadC*C09*s'+'{:%Y}'.format(now)+str(JulianDate)+'*.nc'):\n",
    "    GOES_samples_9.append(name)\n",
    "GOES_samples_9 = [os.path.join(GOES_sample_path, s) for s in GOES_samples_9]\n",
    "GOES_samples_9 = sorted(GOES_samples_9, key=lambda x: int(re.sub('\\D', '', x)))\n",
    "\n",
    "GOES_samples_13 = []\n",
    "for name in glob.glob(GOES_sample_path+'OR*L1b*RadC*C13*s'+'{:%Y}'.format(now)+str(JulianDate)+'*.nc'):\n",
    "    GOES_samples_13.append(name)\n",
    "GOES_samples_13 = [os.path.join(GOES_sample_path, s) for s in GOES_samples_13]\n",
    "GOES_samples_13 = sorted(GOES_samples_13, key=lambda x: int(re.sub('\\D', '', x)))\n",
    "\n",
    "# Find and convert Julian day to date \n",
    "import datetime as DT\n",
    "dt = datetime(2018,1,1)\n",
    "dtdelta = DT.timedelta(days=int(GOES_samples_13[0][59:62])-1)\n",
    "day = dt + dtdelta\n",
    "\n",
    "GOES_samples_13"
   ]
  },
  {
   "cell_type": "markdown",
   "metadata": {},
   "source": [
    "<h1>Red Band Visible Channel 2</h1>"
   ]
  },
  {
   "cell_type": "code",
   "execution_count": null,
   "metadata": {
    "collapsed": true
   },
   "outputs": [],
   "source": [
    "VIS_path = GOES_samples_2[0]\n",
    "print VIS_path\n",
    "vis_name = VIS_path[-76:]\n",
    "print vis_name\n",
    "vis_title = vis_name[27:31]+\"_\"+vis_name[31:34]+\"_\"+vis_name[34:36]+\"_\"+vis_name[36:38]\n",
    "print vis_title\n",
    "nc_VIS = Dataset(VIS_path)\n",
    "data_VIS = nc_VIS.variables['Rad'][:]\n",
    "\n",
    "sat_h = nc_VIS.variables['goes_imager_projection'].perspective_point_height\n",
    "\n",
    "# Satellite longitude\n",
    "#sat_lon = nc.variables['goes_imager_projection'].longitude_of_projection_origin\n",
    "\n",
    "# Satellite sweep\n",
    "#sat_sweep = nc.variables['goes_imager_projection'].sweep_angle_axis\n",
    "\n",
    "# The projection x and y coordinates equals\n",
    "# the scanning angle (in radians) multiplied by the satellite height (http://proj4.org/projections/geos.html)\n",
    "X = nc_VIS.variables['x'][:] * sat_h\n",
    "Y = nc_VIS.variables['y'][:] * sat_h\n",
    "\n",
    "proj_var = nc_VIS.variables['goes_imager_projection']\n",
    "sat_height = proj_var.perspective_point_height\n",
    "central_lon = proj_var.longitude_of_projection_origin\n",
    "semi_major = proj_var.semi_major_axis\n",
    "semi_minor = proj_var.semi_minor_axis"
   ]
  },
  {
   "cell_type": "markdown",
   "metadata": {
    "collapsed": true
   },
   "source": [
    "<h1>Mid-Level Water Vapor Channel 9</h1>"
   ]
  },
  {
   "cell_type": "code",
   "execution_count": null,
   "metadata": {
    "collapsed": true
   },
   "outputs": [],
   "source": [
    "WV_path = GOES_samples_9[0]\n",
    "print WV_path\n",
    "wv_name = WV_path[-76:]\n",
    "print wv_name\n",
    "wv_title = wv_name[27:31]+\"_\"+wv_name[31:34]+\"_\"+wv_name[34:36]+\"_\"+wv_name[36:38]\n",
    "print wv_title\n",
    "nc_WV = Dataset(WV_path)\n",
    "data_WV = nc_WV.variables['Rad'][:]"
   ]
  },
  {
   "cell_type": "markdown",
   "metadata": {},
   "source": [
    "<h1>Clean Infrared Channel 13</h1>"
   ]
  },
  {
   "cell_type": "code",
   "execution_count": null,
   "metadata": {
    "collapsed": true
   },
   "outputs": [],
   "source": [
    "IR_path = GOES_samples_13[0]\n",
    "print IR_path\n",
    "ir_name = IR_path[-76:]\n",
    "print ir_name\n",
    "ir_title = ir_name[27:31]+\"_\"+ir_name[31:34]+\"_\"+ir_name[34:36]+\"_\"+ir_name[36:38]\n",
    "print ir_title\n",
    "nc_IR = Dataset(IR_path)\n",
    "data_IR = nc_IR.variables['Rad'][:]\n",
    "fk1 = nc_IR.variables['planck_fk1'][0]\n",
    "fk2 = nc_IR.variables['planck_fk2'][0]\n",
    "bc1 = nc_IR.variables['planck_bc1'][0]\n",
    "bc2 = nc_IR.variables['planck_bc2'][0]\n",
    "\n",
    "data_IR = (fk2 / ( np.log((fk1 / data_IR) + 1 )) - bc1) / bc2"
   ]
  },
  {
   "cell_type": "markdown",
   "metadata": {},
   "source": [
    "Begin map creation\n",
    "------------------\n",
    "\n"
   ]
  },
  {
   "cell_type": "code",
   "execution_count": null,
   "metadata": {
    "collapsed": true
   },
   "outputs": [],
   "source": [
    "# Add state boundaries to plot\n",
    "states_provinces = cfeature.NaturalEarthFeature(category='cultural',\n",
    "    name='admin_1_states_provinces_lakes',scale='50m', facecolor='none')\n",
    "\n",
    "country_borders = cfeature.NaturalEarthFeature(category='cultural',\n",
    "    name='admin_0_countries',scale='50m', facecolor='none')\n",
    "\n",
    "# Set Projection of Plot\n",
    "globe = ccrs.Globe(semimajor_axis=semi_major, semiminor_axis=semi_minor)\n",
    "crs = ccrs.Geostationary(central_longitude=central_lon, satellite_height=sat_height, globe=globe)\n",
    "plotcrs = ccrs.LambertConformal(central_latitude=[30, 60], central_longitude=-100)\n",
    "#proj = ccrs.PlateCarree(central_longitude=central_lon,globe=globe) #,globe=globe\n",
    "\n",
    "extent = [-130., -70, 20., 60.]"
   ]
  },
  {
   "cell_type": "markdown",
   "metadata": {},
   "source": [
    "## We can bring up the University of Wisconsin's IR Image to verify ours"
   ]
  },
  {
   "cell_type": "markdown",
   "metadata": {},
   "source": [
    "<img src=\"https://whirlwind.aos.wisc.edu/~wxp/goes16/ircm/conus/latest_conus_1.jpg\">"
   ]
  },
  {
   "cell_type": "markdown",
   "metadata": {},
   "source": [
    "<h2>---------------------------------------------------------------------------------------------------------</h2>"
   ]
  },
  {
   "cell_type": "markdown",
   "metadata": {},
   "source": [
    "## We can define a map projection function that can take details of the different channels"
   ]
  },
  {
   "cell_type": "code",
   "execution_count": null,
   "metadata": {
    "collapsed": true
   },
   "outputs": [],
   "source": [
    "def Map(path,channel,band,title,date,data,savepath,my_cmap,X,Y,vmin=None,vmax=None):\n",
    "    print path\n",
    "    fig = plt.figure(figsize=(17., 11.))\n",
    "\n",
    "# Add state boundaries to plot\n",
    "    states_boundaries = cfeature.NaturalEarthFeature(category='cultural',\n",
    "        name='admin_1_states_provinces_lakes',scale='50m', facecolor='none')\n",
    "\n",
    "    country_borders = cfeature.NaturalEarthFeature(category='cultural',\n",
    "        name='admin_0_countries',scale='50m', facecolor='none')\n",
    "\n",
    "# Set Projection of Plot\n",
    "    globe = ccrs.Globe(semimajor_axis=semi_major, semiminor_axis=semi_minor)\n",
    "    crs = ccrs.Geostationary(central_longitude=central_lon, satellite_height=sat_height, globe=globe)\n",
    "    plotcrs = ccrs.LambertConformal(central_latitude=[30, 60], central_longitude=-100)\n",
    "\n",
    "# Add the map and set the extent\n",
    "    ax = plt.subplot(111, projection=plotcrs) \n",
    "        \n",
    "# Find and convert Julian day to date    \n",
    "    import datetime as DT\n",
    "    dt = datetime(2018,1,1)\n",
    "    dtdelta = DT.timedelta(days=int(path[59:62])-1)\n",
    "    Day = dt + dtdelta\n",
    "\n",
    "# Set the plot title    \n",
    "    plt.title(title,loc='left',fontsize=16)\n",
    "    plt.title(path[55:59]+' {0:%B %d}'.format(Day)+\" \"+path[62:64]+\":\"+path[64:66]+\"Z\", \n",
    "          fontsize=16,loc='right')\n",
    "\n",
    "# Add state boundaries to plot\n",
    "    ax.add_feature(states_boundaries, edgecolor='blue', linewidth=1)\n",
    "\n",
    "# Add country borders to plot\n",
    "    ax.add_feature(country_borders, edgecolor='black', linewidth=1)\n",
    "\n",
    "    ax.set_extent([-130., -70, 20., 60.], ccrs.PlateCarree())\n",
    "    \n",
    "    img = ax.imshow(data[:,:],origin='upper',extent=(X.min(), X.max(), Y.min(), Y.max()),\n",
    "        interpolation='nearest',transform=crs,cmap=my_cmap,vmin=vmin,vmax=vmax) \n",
    "\n",
    "    #plt.tight_layout()\n",
    "    plt.show()\n",
    "    \n",
    "    outfile = savepath+ \"GOES_Ch\"+str(channel)+\"_\"+band+\"_\"+date+\".png\"\n",
    "\n",
    "    fig.savefig(outfile,bbox_inches='tight',dpi=120)\n",
    "    return Day"
   ]
  },
  {
   "cell_type": "markdown",
   "metadata": {},
   "source": [
    "## We can now imput data from the different channels and have our generic map maker function run on each to produce our satellite images!"
   ]
  },
  {
   "cell_type": "markdown",
   "metadata": {},
   "source": [
    "### Map Arguments: Map(path, channel, band, title, data, savepath, my_cmap, X, Y, vmin=None, vmax=None)"
   ]
  },
  {
   "cell_type": "code",
   "execution_count": null,
   "metadata": {
    "collapsed": true
   },
   "outputs": [],
   "source": [
    "# Map(path,channel,band,title,data,savepath,my_cmap,X,Y,vmin=None,vmax=None)\n",
    "\n",
    "date = ir_title\n",
    "title = 'GOES-16 Ch13 - Clean Infrared'\n",
    "channel=13\n",
    "band = \"IR\"\n",
    "Map(GOES_samples_13[0],channel,band,title,date,data_IR,im_save_path,IR_cmap,X,Y,vmin=162.,vmax=330.)\n",
    "\n",
    "#date = wv_title\n",
    "channel = 9\n",
    "band = 'WV'\n",
    "title = 'GOES-16 Ch9 - Water Vapor'\n",
    "Map(GOES_samples_9[0],channel,band,title,date,data_WV,im_save_path,'gist_gray_r',X,Y)\n",
    "\n",
    "#date = vis_title\n",
    "channel = 2\n",
    "band = 'VIS'\n",
    "title = 'GOES-16 Ch2 - Red'\n",
    "#Map(GOES_samples_2[0],channel,band,title,date,data_VIS,im_save_path,'Greys_r',X,Y)"
   ]
  },
  {
   "cell_type": "markdown",
   "metadata": {},
   "source": [
    "# We can also take the lists of files we created earlier and create animated gifs"
   ]
  },
  {
   "cell_type": "markdown",
   "metadata": {},
   "source": [
    "## Ch 13"
   ]
  },
  {
   "cell_type": "code",
   "execution_count": null,
   "metadata": {
    "collapsed": true
   },
   "outputs": [],
   "source": [
    "#%%time\n",
    "# Each plot takes roughly 13 seocnds, keep that in mind when trying to plot multiple hours...\n",
    "print \"Here we go...\"\n",
    "for i in range(len(GOES_samples_13)):\n",
    "  \n",
    "    IR_path = GOES_samples_13[i]\n",
    "    date = IR_path[55:59]+\"_\"+IR_path[59:62]+\"_\"+IR_path[62:64]+\"_\"+IR_path[64:66]\n",
    "    nc = Dataset(IR_path)\n",
    " \n",
    "# Extract the Brightness Temperature values from the NetCDF\n",
    "    data = nc.variables['Rad'][:]\n",
    "\n",
    "# Recalculate the data so we can plot infrared...    \n",
    "    fk1 = nc.variables['planck_fk1'][0]\n",
    "    fk2 = nc.variables['planck_fk2'][0]\n",
    "    bc1 = nc.variables['planck_bc1'][0]\n",
    "    bc2 = nc.variables['planck_bc2'][0]\n",
    "    data = (fk2 / ( np.log((fk1 / data) + 1 )) - bc1) / bc2\n",
    "\n",
    "# Initiate the figure    \n",
    "    fig = plt.figure(figsize=(17., 11.))\n",
    "\n",
    "# Add the map\n",
    "    ax = plt.subplot(111, projection=plotcrs)\n",
    "\n",
    "# Set plot title    \n",
    "    plt.title('GOES-16 Ch13 - Clean Infrared',loc='left',fontsize=16)\n",
    "    plt.title(IR_path[55:59]+' {0:%B %d}'.format(day)+\" \"+IR_path[62:64]+\":\"+IR_path[64:66]+\"Z\", \n",
    "          fontsize=16,loc='right')\n",
    "\n",
    "# Add state boundaries to plot\n",
    "    ax.add_feature(states_provinces, edgecolor='blue', linewidth=1)\n",
    "\n",
    "# Add country borders to plot\n",
    "    ax.add_feature(country_borders, edgecolor='black', linewidth=1)\n",
    "\n",
    "# Set the extent of Lat/Lon    \n",
    "    ax.set_extent(extent, ccrs.PlateCarree())\n",
    "\n",
    "# Plot the data    \n",
    "    IR_img = ax.imshow(data[:,:],origin='upper',extent=(X.min(), X.max(), Y.min(), Y.max()),\n",
    "    interpolation='nearest',transform=crs,cmap=IR_cmap,vmin=162.,vmax=330.) #cmap=WV_cmap  transform=plotcrs\n",
    "\n",
    "# Set saved figure filename and save fig\n",
    "    outfile = IRPATH+\"IR_\"+date+\".png\"   # change path ranges for your own file locations... \n",
    "    fig.savefig(outfile,bbox_inches='tight',dpi=120)\n",
    "    ax.axis('off')\n",
    "    plt.close(fig)\n",
    "    \n",
    "print \"Images done\"\n",
    "print \"gif activated...\"\n",
    "\n",
    "# Set a new list to hold all the images for this channel\n",
    "files = []\n",
    "# searching for the files with * \n",
    "for name in glob.glob(IRPATH+'*.png'):\n",
    "    #print name\n",
    "    files.append(name)\n",
    "\n",
    "# Make sure our files are in chronological order so our animation is accurate\n",
    "files = sorted(files, key=lambda x: int(re.sub('\\D', '', x)))\n",
    "\n",
    "# Set a new list full of the images so we can create an animation\n",
    "images = []\n",
    "for filename in files:\n",
    "    images.append(imageio.imread(filename))\n",
    "imageio.mimsave(IRPATH+\"IR_\"+IR_path[55:59]+\"_\"+IR_path[59:62]+\".gif\", \n",
    "                images,duration=0.3)\n",
    "print \"gif done.\""
   ]
  },
  {
   "cell_type": "markdown",
   "metadata": {},
   "source": [
    "## Ch 9"
   ]
  },
  {
   "cell_type": "code",
   "execution_count": null,
   "metadata": {
    "collapsed": true
   },
   "outputs": [],
   "source": [
    "print \"Here we go...\"\n",
    "for i in range(len(GOES_samples_9)):\n",
    "  \n",
    "    IR_path = GOES_samples_9[i]\n",
    "    date = IR_path[55:59]+\"_\"+IR_path[59:62]+\"_\"+IR_path[62:64]+\"_\"+IR_path[64:66]\n",
    "    nc = Dataset(IR_path)\n",
    " \n",
    "# Extract the Brightness Temperature values from the NetCDF\n",
    "    data = nc.variables['Rad'][:]\n",
    "    \n",
    "# Initiate the figure    \n",
    "    fig = plt.figure(figsize=(17., 11.))\n",
    "\n",
    "# Add the map\n",
    "    ax = plt.subplot(111, projection=plotcrs)\n",
    "\n",
    "# Set plot title  \n",
    "    plt.title('GOES-16 Ch9 - Water Vapor',loc='left',fontsize=16)\n",
    "    plt.title(IR_path[55:59]+' {0:%B %d}'.format(day)+\" \"+IR_path[62:64]+\":\"+IR_path[64:66]+\"Z\", \n",
    "          fontsize=16,loc='right')\n",
    "\n",
    "# Add state boundaries to plot\n",
    "    ax.add_feature(states_provinces, edgecolor='blue', linewidth=1)\n",
    "\n",
    "# Add country borders to plot\n",
    "    ax.add_feature(country_borders, edgecolor='black', linewidth=1)\n",
    "\n",
    "# Se the extent of Lat/Lon    \n",
    "    ax.set_extent(extent, ccrs.PlateCarree())\n",
    "\n",
    "# Plot the data    \n",
    "    WV_img = ax.imshow(data[:,:],origin='upper',extent=(X.min(), X.max(), Y.min(), Y.max()),\n",
    "    interpolation='nearest',transform=crs,cmap='gist_gray_r') #cmap=WV_cmap  transform=plotcrs\n",
    "\n",
    "# Set saved figure filename and save fig\n",
    "    outfile = WVPATH+\"WV_\"+date+\".png\"\n",
    "    fig.savefig(outfile,bbox_inches='tight',dpi=120)\n",
    "    ax.axis('off')\n",
    "    plt.close(fig)\n",
    "\n",
    "print \"Images done\"\n",
    "print \"gif activated...\"\n",
    "\n",
    "# Set a new list to hold all the images for this channel\n",
    "files = []\n",
    "# searching for the files with * \n",
    "for name in glob.glob(WVPATH+'*.png'):\n",
    "    #print name\n",
    "    files.append(name)\n",
    "\n",
    "# Make sure our files are in chronological order so our animation is accurate\n",
    "files = sorted(files, key=lambda x: int(re.sub('\\D', '', x)))\n",
    "    \n",
    "# Set a new list full of the images so we can create an animation\n",
    "images = []\n",
    "for filename in files:\n",
    "    images.append(imageio.imread(filename))\n",
    "imageio.mimsave(WVPATH+\"WV_\"+IR_path[55:59]+\"_\"+IR_path[59:62]+\".gif\", \n",
    "                images,duration=0.3)\n",
    "print \"gif done.\""
   ]
  },
  {
   "cell_type": "markdown",
   "metadata": {},
   "source": [
    "## Ch 2 - Its currently commented out because it takes a looong time to run..."
   ]
  },
  {
   "cell_type": "raw",
   "metadata": {
    "collapsed": true
   },
   "source": [
    "print \"Here we go...\"\n",
    "for i in range(len(GOES_samples_2)):\n",
    "  \n",
    "    IR_path = GOES_samples_2[i]\n",
    "    date = IR_path[55:59]+\"_\"+IR_path[59:62]+\"_\"+IR_path[62:64]+\"_\"+IR_path[64:66]\n",
    "    nc = Dataset(IR_path)\n",
    "    \n",
    "# Extract the Brightness Temperature values from the NetCDF\n",
    "    data = nc.variables['Rad'][:]\n",
    "\n",
    "# Initiate the figure    \n",
    "    fig = plt.figure(figsize=(17., 11.))\n",
    "\n",
    "# Add the map\n",
    "    ax = plt.subplot(111, projection=plotcrs)\n",
    "\n",
    "# Set plot title  \n",
    "    plt.title('GOES-16 Ch2 - Red',loc='left',fontsize=16)\n",
    "    plt.title(IR_path[55:59]+' {0:%B %d}'.format(day)+\" \"+IR_path[62:64]+\":\"+IR_path[64:66]+\"Z\", \n",
    "          fontsize=16,loc='right')\n",
    "\n",
    "# Add state boundaries to plot\n",
    "    ax.add_feature(states_provinces, edgecolor='blue', linewidth=1)\n",
    "\n",
    "# Add country borders to plot\n",
    "    ax.add_feature(country_borders, edgecolor='black', linewidth=1)\n",
    "\n",
    "# Set extent of lat/lon    \n",
    "    ax.set_extent(extent, ccrs.PlateCarree())\n",
    "\n",
    "# Plot the data\n",
    "    VIS_img = ax.imshow(data[:,:],origin='upper',extent=(X.min(), X.max(), Y.min(), Y.max()),\n",
    "    interpolation='nearest',transform=crs,cmap='Greys_r') \n",
    "\n",
    "# Set saved figure filename and save fig    \n",
    "    outfile = VISPATH+\"VIS_\"+date+\".png\"\n",
    "    fig.savefig(outfile,bbox_inches='tight',dpi=120)\n",
    "    ax.axis('off')\n",
    "    plt.close(fig)\n",
    "\n",
    "print \"Images done\"\n",
    "print \"gif activated...\"\n",
    "\n",
    "# Set a new list to hold all the images for this channel\n",
    "files = []\n",
    "# searching for the files with * \n",
    "for name in glob.glob(VISPATH+'*.png'):\n",
    "    #print name\n",
    "    files.append(name)\n",
    "\n",
    "# Make sure our files are in chronological order so our animation is accurate\n",
    "files = sorted(files, key=lambda x: int(re.sub('\\D', '', x)))\n",
    "    \n",
    "# Set a new list full of the images so we can create an animation\n",
    "images = []\n",
    "for filename in files:\n",
    "    images.append(imageio.imread(filename))\n",
    "imageio.mimsave(VISPATH+\"VIS_\"+IR_path[55:59]+\"_\"+IR_path[59:62]+\".gif\", \n",
    "                images,duration=0.3)\n",
    "print \"gif done.\""
   ]
  }
 ],
 "metadata": {
  "kernelspec": {
   "display_name": "Python 2",
   "language": "python",
   "name": "python2"
  },
  "language_info": {
   "codemirror_mode": {
    "name": "ipython",
    "version": 2
   },
   "file_extension": ".py",
   "mimetype": "text/x-python",
   "name": "python",
   "nbconvert_exporter": "python",
   "pygments_lexer": "ipython2",
   "version": "2.7.15"
  }
 },
 "nbformat": 4,
 "nbformat_minor": 1
}
