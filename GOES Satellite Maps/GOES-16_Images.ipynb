{
 "cells": [
  {
   "cell_type": "markdown",
   "metadata": {},
   "source": [
    "# Collection of GOES-16 Satellite Images"
   ]
  },
  {
   "cell_type": "markdown",
   "metadata": {},
   "source": [
    "## Justin Richling\n",
    "## 09/20/18"
   ]
  },
  {
   "cell_type": "markdown",
   "metadata": {},
   "source": [
    "\n",
    "# GOES-16 Channels\n",
    "\n",
    "Plot the 4 main images: \n",
    "\n",
    "* Visible - Red (Band 2) \n",
    "\n",
    "* Mid-Level Water Vapor (Band 9)\n",
    "\n",
    "* Clean Infrared (Band 13)\n",
    "\n",
    "* True Color RGB: Band 2, Band 3, Band 1"
   ]
  },
  {
   "cell_type": "markdown",
   "metadata": {},
   "source": [
    "http://home.chpc.utah.edu/~u0553130/Brian_Blaylock/cgi-bin/goes16_download.cgi"
   ]
  },
  {
   "cell_type": "code",
   "execution_count": null,
   "metadata": {
    "collapsed": true
   },
   "outputs": [],
   "source": [
    "%matplotlib inline"
   ]
  },
  {
   "cell_type": "markdown",
   "metadata": {},
   "source": [
    "# Imports"
   ]
  },
  {
   "cell_type": "code",
   "execution_count": null,
   "metadata": {},
   "outputs": [],
   "source": [
    "# Random Library Imports\n",
    "import subprocess,os,glob,tempfile,re,imageio,webbrowser,io,sys,types,urllib,urllib2,\\\n",
    "time,cStringIO\n",
    "\n",
    "# Importing Datetime Libraries\n",
    "from datetime import datetime\n",
    "\n",
    "# CartoPy Map Plotting Libraires\n",
    "import cartopy.crs as ccrs\n",
    "import cartopy.feature as cfeature\n",
    "from pyproj import Proj \n",
    "\n",
    "# Numerical and Scientific Libraries\n",
    "import numpy as np\n",
    "import scipy.ndimage as ndimage\n",
    "from scipy.ndimage import gaussian_filter\n",
    "\n",
    "# Accessing Data from External Databases via XLM Catalog\n",
    "from siphon.ncss import NCSS\n",
    "from siphon.catalog import TDSCatalog\n",
    "\n",
    "# MetPy Libraries\n",
    "import metpy\n",
    "import metpy.calc as mpcalc\n",
    "from metpy.units import units\n",
    "from metpy.plots import ctables\n",
    "from metpy.plots import add_metpy_logo\n",
    "from metpy.plots.ctables import registry\n",
    "\n",
    "# NetCDF Libraries\n",
    "from netCDF4 import Dataset\n",
    "from netCDF4 import num2date\n",
    "\n",
    "# More Image Manipulation Options\n",
    "import PIL\n",
    "from PIL import Image as PILImage\n",
    "\n",
    "# Ipyhton Options\n",
    "from IPython import get_ipython\n",
    "from nbformat import current\n",
    "from IPython.core.interactiveshell import InteractiveShell\n",
    "from IPython.display import HTML, display, Image\n",
    "\n",
    "# Matplotlib Plotting Libraries\n",
    "#import matplotlib\n",
    "import matplotlib.pyplot as plt\n",
    "from matplotlib.cm import get_cmap\n",
    "import matplotlib.colors as mcolors\n",
    "from matplotlib.colors import LogNorm, Normalize\n",
    "import matplotlib as mpl\n",
    "from mpl_toolkits.axes_grid1 import make_axes_locatable, axes_size\n",
    "from matplotlib.colors import LinearSegmentedColormap"
   ]
  },
  {
   "cell_type": "code",
   "execution_count": null,
   "metadata": {
    "collapsed": true
   },
   "outputs": [],
   "source": [
    "# Pull the current time\n",
    "now = datetime.now()"
   ]
  },
  {
   "cell_type": "code",
   "execution_count": null,
   "metadata": {
    "collapsed": true
   },
   "outputs": [],
   "source": [
    "# Set the font \n",
    "font = {'family': 'serif',\n",
    "        'color':  'darkred',\n",
    "        'weight': 'normal',\n",
    "        'size': 18,\n",
    "        }"
   ]
  },
  {
   "cell_type": "code",
   "execution_count": null,
   "metadata": {
    "collapsed": true
   },
   "outputs": [],
   "source": [
    "# Unidata/MetPy Dictionary of GOES channels\n",
    "\n",
    "channel_list = {u'1 - Blue Band 0.47 \\u03BCm': 1,\n",
    "                u'2 - Red Band 0.64 \\u03BCm': 2,\n",
    "                u'3 - Veggie Band 0.86 \\u03BCm': 3,\n",
    "                u'4 - Cirrus Band 1.37 \\u03BCm': 4,\n",
    "                u'5 - Snow/Ice Band 1.6 \\u03BCm': 5,\n",
    "                u'6 - Cloud Particle Size Band 2.2 \\u03BCm': 6,\n",
    "                u'7 - Shortwave Window Band 3.9 \\u03BCm': 7,\n",
    "                u'8 - Upper-Level Tropo. WV Band 6.2 \\u03BCm': 8,\n",
    "                u'9 - Mid-Level Tropo. WV Band 6.9 \\u03BCm': 9,\n",
    "                u'10 - Low-Level WV Band 7.3 \\u03BCm': 10,\n",
    "                u'11 - Cloud-Top Phase Band 8.4 \\u03BCm': 11,\n",
    "                u'12 - Ozone Band 9.6 \\u03BCm': 12,\n",
    "                u'13 - Clean IR Longwave Band 10.3 \\u03BCm': 13,\n",
    "                u'14 - IR Longwave Band 11.2 \\u03BCm': 14,\n",
    "                u'15 - Dirty Longwave Band 12.3 \\u03BCm': 15,\n",
    "                u'16 - CO2 Longwave IR 13.3 \\u03BCm': 16}"
   ]
  },
  {
   "cell_type": "markdown",
   "metadata": {},
   "source": [
    "# Archived Data"
   ]
  },
  {
   "cell_type": "code",
   "execution_count": null,
   "metadata": {
    "collapsed": true
   },
   "outputs": [],
   "source": [
    "dt = datetime(2019, 1, 16, 18)\n",
    "\n",
    "# Set a path to save the plots with string format for the date to set the month and day \n",
    "save_path = '/path/to/saved files/'\n",
    "print save_path\n",
    "\n",
    "# Check to see if the folder already exists, if not create it\n",
    "if not os.path.isdir(save_path):\n",
    "    os.makedirs(save_path)\n",
    "    \n",
    "now = dt\n",
    "print now\n",
    "\n",
    "Webpage = \"http://home.chpc.utah.edu/~u0553130/Brian_Blaylock/cgi-bin/goes16_download.cgi\"+\\\n",
    "    \"?source=aws&domain=C&product=ABI-L1b-Rad&date=\"+\\\n",
    "    '{0:%Y}'.format(dt)+\"-\"+'{0:%m}'.format(dt)+\"-\"+'{0:%d}'.format(dt)+\"&hour=\"+'{0:%H}'.format(dt)"
   ]
  },
  {
   "cell_type": "raw",
   "metadata": {},
   "source": [
    "webbrowser.open(Webpage)"
   ]
  },
  {
   "cell_type": "markdown",
   "metadata": {},
   "source": [
    "# --------------------------------------------------------------------------------------------"
   ]
  },
  {
   "cell_type": "markdown",
   "metadata": {},
   "source": [
    "# Current Day's Data"
   ]
  },
  {
   "cell_type": "code",
   "execution_count": null,
   "metadata": {
    "collapsed": true
   },
   "outputs": [],
   "source": [
    "dt = datetime.now()\n",
    "\n",
    "# Set a path to save the plots with string format for the date to set the month and day \n",
    "save_path ='/path/to/saved files/'\"\n",
    "print save_path\n",
    "\n",
    "# Check to see if the folder already exists, if not create it\n",
    "if not os.path.isdir(save_path):\n",
    "    os.makedirs(save_path)\n",
    "    \n",
    "now = dt\n",
    "print now\n",
    "\n",
    "Webpage = \"http://home.chpc.utah.edu/~u0553130/Brian_Blaylock/cgi-bin/goes16_download.cgi\"+\\\n",
    "    \"?source=aws&domain=C&product=ABI-L1b-Rad&date=\"+\\\n",
    "    '{0:%Y}'.format(dt)+\"-\"+'{0:%m}'.format(dt)+\"-\"+'{0:%d}'.format(dt)+\"&hour=\"+'{0:%H}'.format(dt)"
   ]
  },
  {
   "cell_type": "code",
   "execution_count": null,
   "metadata": {
    "collapsed": true
   },
   "outputs": [],
   "source": [
    "webbrowser.open(Webpage)"
   ]
  },
  {
   "cell_type": "markdown",
   "metadata": {},
   "source": [
    "# --------------------------------------------------------------------------------------------"
   ]
  },
  {
   "cell_type": "markdown",
   "metadata": {},
   "source": [
    "# Populate the Lists for Different Channels"
   ]
  },
  {
   "cell_type": "code",
   "execution_count": null,
   "metadata": {},
   "outputs": [],
   "source": [
    "GOES_sample_path = '/path/to/data files/'\n",
    "\n",
    "\n",
    "############################################################################################\n",
    "# Channel 1\n",
    "GOES_samples_1 = []\n",
    "for name in glob.glob(GOES_sample_path+'OR*L1b*RadC*C01*G16*'+'{0:%Y%j}'.format(dt)+'*.nc'):\n",
    "    GOES_samples_1.append(name)\n",
    "GOES_samples_1 = [os.path.join(GOES_sample_path, s) for s in GOES_samples_1]\n",
    "GOES_samples_1 = sorted(GOES_samples_1, key=lambda x: int(re.sub('\\D', '', x)))\n",
    "\n",
    "############################################################################################\n",
    "# Channel 2\n",
    "GOES17_samples_2 = []\n",
    "for name in glob.glob(GOES_sample_path+'OR*L1b*RadC*C02*G16*'+'{0:%Y%j}'.format(dt)+'*.nc'):\n",
    "    GOES17_samples_2.append(name)\n",
    "GOES17_samples_2 = [os.path.join(GOES_sample_path, s) for s in GOES17_samples_2]\n",
    "GOES17_samples_2 = sorted(GOES17_samples_2, key=lambda x: int(re.sub('\\D', '', x)))\n",
    "\n",
    "############################################################################################\n",
    "# Channel 3\n",
    "GOES_samples_3 = []\n",
    "for name in glob.glob(GOES_sample_path+'OR*L1b*RadC*C03*G16*'+'{0:%Y%j}'.format(dt)+'*.nc'):\n",
    "    GOES_samples_3.append(name)\n",
    "GOES_samples_3 = [os.path.join(GOES_sample_path, s) for s in GOES_samples_3]\n",
    "GOES_samples_3 = sorted(GOES_samples_3, key=lambda x: int(re.sub('\\D', '', x)))\n",
    "\n",
    "############################################################################################\n",
    "# Channel 9\n",
    "GOES_samples_9 = []\n",
    "for name in glob.glob(GOES_sample_path+'OR*L1b*RadC*C09*G16*'+'{0:%Y%j}'.format(dt)+'*.nc'):\n",
    "    GOES_samples_9.append(name)\n",
    "GOES_samples_9 = [os.path.join(GOES_sample_path, s) for s in GOES_samples_9]\n",
    "GOES_samples_9 = sorted(GOES_samples_9, key=lambda x: int(re.sub('\\D', '', x)))\n",
    "\n",
    "############################################################################################\n",
    "# Channel 13\n",
    "GOES_samples_13 = []\n",
    "for name in glob.glob(GOES_sample_path+'OR*L1b*RadC*C13*G16*'+'{0:%Y%j}'.format(dt)+'*.nc'):\n",
    "    GOES_samples_13.append(name)\n",
    "#GOES_samples_13 = [os.path.join(GOES_sample_path, s) for s in GOES_samples_13]\n",
    "GOES_samples_13 = sorted(GOES_samples_13, key=lambda x: int(re.sub('\\D', '', x)))\n",
    "\n",
    "\n",
    "GOES17_samples_13"
   ]
  },
  {
   "cell_type": "markdown",
   "metadata": {},
   "source": [
    "# Single images, loops are further down in the notebook"
   ]
  },
  {
   "cell_type": "markdown",
   "metadata": {},
   "source": [
    "## True Color"
   ]
  },
  {
   "cell_type": "markdown",
   "metadata": {},
   "source": [
    "Source for working code - super useful and almost turn-key\n",
    "\n",
    "http://edc.occ-data.org/goes16/python/#psuedo-true-color-image"
   ]
  },
  {
   "cell_type": "code",
   "execution_count": null,
   "metadata": {
    "collapsed": true
   },
   "outputs": [],
   "source": [
    "# Rebin function from https://stackoverflow.com/questions/8090229/resize-with-averaging-or-rebin-a-numpy-2d-array\n",
    "def rebin(a, shape):\n",
    "    sh = shape[0],a.shape[0]//shape[0],shape[1],a.shape[1]//shape[1]\n",
    "    return a.reshape(sh).mean(-1).mean(1)"
   ]
  },
  {
   "cell_type": "code",
   "execution_count": null,
   "metadata": {
    "collapsed": true
   },
   "outputs": [],
   "source": [
    "# Define some constants needed for the conversion\n",
    "Esun_Ch_01 = 726.721072\n",
    "Esun_Ch_02 = 663.274497\n",
    "Esun_Ch_03 = 441.868715\n",
    "d2 = 0.3"
   ]
  },
  {
   "cell_type": "code",
   "execution_count": null,
   "metadata": {
    "collapsed": true
   },
   "outputs": [],
   "source": [
    "ch2nc = Dataset(GOES_samples_2[0])\n",
    "vis_name = GOES17_samples_2[i][-76:]\n",
    "radiance = ch2nc.variables['Rad'][:]\n",
    "#ch2nc.close()\n",
    "#ch2nc = None\n",
    "\n",
    "# Apply the formula to convert radiance to reflectance\n",
    "ref = (radiance * np.pi * d2) / Esun_Ch_02\n",
    "\n",
    "# Make sure all data is in the valid data range\n",
    "ref = np.maximum(ref, 0.0)\n",
    "ref = np.minimum(ref, 1.0)\n",
    "\n",
    "# Apply the formula to adjust reflectance gamma\n",
    "ref_gamma = np.sqrt(ref)\n",
    "\n",
    "# Load Channel 1 - Blue Visible\n",
    "ch1nc = Dataset(GOES_samples_1[i])\n",
    "radiance_1 = ch1nc.variables['Rad'][:]\n",
    "ch1nc.close()\n",
    "ch1nc = None\n",
    "ref_1 = (radiance_1 * np.pi * d2) / Esun_Ch_01\n",
    "# Make sure all data is in the valid data range\n",
    "ref_1 = np.maximum(ref_1, 0.0)\n",
    "ref_1 = np.minimum(ref_1, 1.0)\n",
    "ref_gamma_1 = np.sqrt(ref_1)\n",
    "\n",
    "# Load Channel 3 - Veggie Near IR\n",
    "ch3nc = Dataset(GOES_samples_3[i])\n",
    "radiance_3 = ch3nc.variables['Rad'][:]\n",
    "ch3nc.close()\n",
    "ch3nc = None\n",
    "ref_3 = (radiance_3 * np.pi * d2) / Esun_Ch_03\n",
    "# Make sure all data is in the valid data range\n",
    "ref_3 = np.maximum(ref_3, 0.0)\n",
    "ref_3 = np.minimum(ref_3, 1.0)\n",
    "ref_gamma_3 = np.sqrt(ref_3)\n",
    "    \n",
    "# Resize the channel 2 since it is higher resolution and thus different dims of 1 & 3\n",
    "ref_gamma_2 = rebin(ref_gamma, [3000, 5000])\n",
    "\n",
    "# Derived from Planet Labs data, CC > 0.9\n",
    "ref_gamma_true_green = 0.48358168 * ref_gamma_2 + 0.45706946 * ref_gamma_1 + 0.06038137 * ref_gamma_3\n",
    "    \n",
    "# Find and convert Julian day to date    \n",
    "import datetime as DT\n",
    "dt2 = datetime(2019,1,1)\n",
    "dtdelta = DT.timedelta(days=int(vis_name[31:34])-1)\n",
    "Day = dt2 + dtdelta\n",
    "    \n",
    "title = \"GOES-16 True Color\"\n",
    "title_date = vis_name[27:31]+\" \"+'{0:%B %d}'.format(Day)+\" \"+vis_name[34:36]+\"\"+vis_name[36:38]+\"Z\"\n",
    "im_file = vis_name[27:31]+\"_\"+'{0:%m_%d}'.format(Day)+\"_\"+vis_name[34:36]+vis_name[36:38]\n",
    "    \n",
    "    \n",
    "sat_h = ch2nc.variables['goes_imager_projection'].perspective_point_height\n",
    "\n",
    "# Satellite longitude\n",
    "#sat_lon = nc.variables['goes_imager_projection'].longitude_of_projection_origin\n",
    "\n",
    "# Satellite sweep\n",
    "#sat_sweep = nc.variables['goes_imager_projection'].sweep_angle_axis\n",
    "\n",
    "# The projection x and y coordinates equals\n",
    "# the scanning angle (in radians) multiplied by the satellite height (http://proj4.org/projections/geos.html)\n",
    "X = ch2nc.variables['x'][:] * sat_h\n",
    "Y = ch2nc.variables['y'][:] * sat_h\n",
    "\n",
    "# Set the projections for plotting \n",
    "proj_var = ch2nc.variables['goes_imager_projection']\n",
    "sat_height = proj_var.perspective_point_height\n",
    "central_lon = proj_var.longitude_of_projection_origin\n",
    "semi_major = proj_var.semi_major_axis\n",
    "semi_minor = proj_var.semi_minor_axis\n",
    "\n",
    "# Create a new fig\n",
    "fig = plt.figure(figsize=(17., 11.))\n",
    "\n",
    "# Add state and country boundaries to plot\n",
    "states_boundaries = cfeature.NaturalEarthFeature(category='cultural',\n",
    "        name='admin_1_states_provinces_lakes',scale='50m', facecolor='none')\n",
    "\n",
    "country_borders = cfeature.NaturalEarthFeature(category='cultural',\n",
    "        name='admin_0_countries',scale='50m', facecolor='none')\n",
    "\n",
    "# Set Projection of Plot\n",
    "globe = ccrs.Globe(semimajor_axis=semi_major, semiminor_axis=semi_minor)\n",
    "crs = ccrs.Geostationary(central_longitude=central_lon, satellite_height=sat_height, globe=globe)\n",
    "plotcrs = ccrs.LambertConformal(central_latitude=[30, 60], central_longitude=-100)\n",
    "\n",
    "# Add the map and set the extent\n",
    "ax = plt.subplot(111, projection=plotcrs) \n",
    "\n",
    "# Set the plot title    \n",
    "plt.title(title,loc='left',fontdict=font)\n",
    "plt.title(title_date,loc='right',fontdict=font)\n",
    "\n",
    "# Add state boundaries to plot\n",
    "ax.add_feature(states_boundaries, edgecolor='blue', linewidth=1)\n",
    "\n",
    "# Add country borders to plot\n",
    "ax.add_feature(country_borders, edgecolor='black', linewidth=1)\n",
    "\n",
    "ax.set_extent([-130., -70, 20., 60.], ccrs.PlateCarree()) # CONUS\n",
    "#ax.gridlines(color=\"w\", linestyle=\"dotted\",alpha=0.5)\n",
    "    \n",
    "# Create the actual RGB true color composite array to plot\n",
    "truecolor = np.stack([ref_gamma_2, ref_gamma_true_green, ref_gamma_1], axis=2)\n",
    "\n",
    "im = plt.imshow(truecolor[:],origin='upper',extent=(X.min(), X.max(), Y.min(), Y.max()),\n",
    "                interpolation='nearest',transform=crs) #,vmin=vmin,vmax=vmax\n",
    "\n",
    "#plt.show()\n",
    "outfile = \"GOES16_TrueColor_\"+str(im_file)+\".png\"\n",
    "   \n",
    "if not os.path.isdir(save_path):\n",
    "    os.makedirs(save_path)\n",
    "fig.savefig(save_path+outfile,bbox_inches='tight',dpi=120)\n",
    "plt.close(fig)"
   ]
  },
  {
   "cell_type": "markdown",
   "metadata": {},
   "source": [
    "<h2>----------------------------------------------//---------------------------------------------------------</h2>"
   ]
  },
  {
   "cell_type": "markdown",
   "metadata": {
    "collapsed": true
   },
   "source": [
    "## IR - Channel 13\n",
    "With the help of searching through some Unidata public emails, I was able to find the color table for the Univeristy of Wisconson's IR colorbar. (College of Dupage??) Unfortunaelty I can't find the source email to give credit to whomever peiced this together into Python..."
   ]
  },
  {
   "cell_type": "code",
   "execution_count": null,
   "metadata": {
    "collapsed": true
   },
   "outputs": [],
   "source": [
    "# Recreation of University of Wisconsin? IR color bar, thanks to Unidata for making this possible\n",
    "\n",
    "red = []\n",
    "green = []\n",
    "blue = []\n",
    "valmin=-110.\n",
    "valmax=55.\n",
    "red.append( [0.0, 0.0, 0.0] ) \n",
    "green.append( [0.0, 0.0, 0.0] )\n",
    "blue.append( [0.0, 0.0, 0.0] )\n",
    "red.append( [ (-50.0-valmin)/(valmax-valmin), 0.0, 0.0 ] )\n",
    "green.append( [ (-50.0-valmin)/(valmax-valmin), 1.0, 1.0 ] )\n",
    "blue.append( [ (-50.0-valmin)/(valmax-valmin), 0.0, 0.0 ] )\n",
    "red.append( [ (-40.0-valmin)/(valmax-valmin), 0.0, 0.0 ] )\n",
    "green.append( [ (-40.0-valmin)/(valmax-valmin), 0.0, 0.0 ] )\n",
    "blue.append( [ (-40.0-valmin)/(valmax-valmin), 0.4, 0.4 ] )\n",
    "red.append( [ (-30.0-valmin)/(valmax-valmin), 0.0, 0.8 ] )\n",
    "green.append( [ (-30.0-valmin)/(valmax-valmin), 1.0, 0.8 ] )\n",
    "blue.append( [ (-30.0-valmin)/(valmax-valmin), 1.0, 0.8 ] )\n",
    "red.append( [ 1.0, 0.0, 0.0 ] )\n",
    "green.append( [ 1.0, 0.0, 0.0 ] )\n",
    "blue.append( [ 1.0, 0.0, 0.0 ] )\n",
    "cdict = {'red': red, 'green': green, 'blue': blue}\n",
    "ctbl = LinearSegmentedColormap('custom', cdict)\n",
    "\n",
    "cdict = {'red': ((0.0, 0.0, 0.0),\n",
    "                 (.001, 1.00, 1.00),\n",
    "                 (.107, 1.00, 1.00),\n",
    "                 (.113, 0.498, 0.498),\n",
    "                 (.173, 1.00, 1.00),\n",
    "                 (.179, 0.902, 0.902),\n",
    "                 (.227, 0.102, 0.102),\n",
    "                 (.233, 0.00, 0.00),\n",
    "                 (.287, 0.902, 0.902),\n",
    "                 (.293, 1.00, 1.00),\n",
    "                 (.346, 1.00, 1.00),\n",
    "                 (.352, 1.00, 1.00),\n",
    "                 (.406, 0.101, 0.101),\n",
    "                (.412, 0.00, 0.00),\n",
    "                 (.481, 0.00, 0.00),\n",
    "                 (.484, 0.00, 0.00),\n",
    "                 (.543, 0.00, 0.00),\n",
    "                 (.546, 0.773, 0.773),\n",
    "                 (.994, 0.012, 0.012),\n",
    "                 (.997, 0.004, 0.004),\n",
    "                 (1.0, 0.0, 0.0)),\n",
    "         'green': ((0.0, 0.0, 0.0),\n",
    "                 (.001, 1.00, 1.00),\n",
    "                 (.107, 1.00, 1.00),\n",
    "                 (.113, 0.00, 0.00),\n",
    "                 (.173, 0.498, 0.498),\n",
    "                 (.179, 0.902, 0.902),\n",
    "                 (.227, 0.102, 0.102),\n",
    "                 (.233, 0.00, 0.00),\n",
    "                 (.287, 0.00, 0.00),\n",
    "                 (.293, 0.00, 0.00),\n",
    "                 (.346, 0.902, 0.902),\n",
    "                 (.352, 1.00, 1.00),\n",
    "                 (.406, 1.00, 1.00),\n",
    "                 (.412, 1.00, 1.00),\n",
    "                 (.481, 0.00, 0.00),\n",
    "                 (.484, 0.00, 0.00),\n",
    "                 (.543, 1.00, 1.00),\n",
    "                 (.546, 0.773, 0.773),\n",
    "                 (.994, 0.012, 0.012),\n",
    "                 (.997, 0.004, 0.004),\n",
    "                   (1.0, 0.0, 0.0)),\n",
    "         'blue': ((0.0, 0.00, 0.00),\n",
    "                 (.001, 1.00, 1.00),\n",
    "                 (.107, 0.00, 0.00),\n",
    "                 (.113, 0.498, 0.498),\n",
    "                 (.173, 0.786, 0.786),\n",
    "                 (.179, 0.902, 0.902),\n",
    "                 (.227, 0.102, 0.102),\n",
    "                 (.233, 0.00, 0.00),\n",
    "                 (.287, 0.00, 0.00),\n",
    "                 (.293, 0.00, 0.00),\n",
    "                 (.346, 0.00, 0.00),\n",
    "                 (.352, 0.00, 0.00),\n",
    "                 (.406, 0.00, 0.00),\n",
    "                 (.412, 0.00, 0.00),\n",
    "                 (.481, 0.451, 0.451),\n",
    "                 (.484, 0.451, 0.451),\n",
    "                 (.543, 1.00, 1.00),\n",
    "                 (.546, 0.773, 0.773),\n",
    "                 (.994, 0.012, 0.012),\n",
    "                 (.997, 0.004, 0.004),\n",
    "                  (1.0, 0.0, 0.0))}\n",
    "\n",
    "IR_cmap = mpl.colors.LinearSegmentedColormap('my_colormap',cdict,2048)"
   ]
  },
  {
   "cell_type": "code",
   "execution_count": null,
   "metadata": {},
   "outputs": [],
   "source": [
    "ch13nc = Dataset(GOES_samples_13[0])\n",
    "vis_name = GOES_samples_13[0][-76:]\n",
    "data_IR = ch13nc.variables['Rad'][:]\n",
    "        #ch2nc.close()\n",
    "        #ch2nc = None\n",
    "\n",
    "fk1 = ch13nc.variables['planck_fk1'][0]\n",
    "fk2 = ch13nc.variables['planck_fk2'][0]\n",
    "bc1 = ch13nc.variables['planck_bc1'][0]\n",
    "bc2 = ch13nc.variables['planck_bc2'][0]\n",
    "\n",
    "data_IR = (fk2 / ( np.log((fk1 / data_IR) + 1 )) - bc1) / bc2\n",
    "\n",
    "\n",
    "# Find and convert Julian day to date    \n",
    "import datetime as DT\n",
    "dt2 = datetime(2019,1,1)\n",
    "dtdelta = DT.timedelta(days=int(vis_name[31:34])-1)\n",
    "Day = dt2 + dtdelta\n",
    "    \n",
    "title = \"GOES-16 Ch 13\"\n",
    "title_date = vis_name[27:31]+\" \"+'{0:%B %d}'.format(Day)+\" \"+vis_name[34:36]+\"\"+vis_name[36:38]+\"Z\"\n",
    "im_file = vis_name[27:31]+\"_\"+'{0:%m_%d}'.format(Day)+\"_\"+vis_name[34:36]+vis_name[36:38]\n",
    "    \n",
    "    \n",
    "sat_h = ch13nc.variables['goes_imager_projection'].perspective_point_height\n",
    "\n",
    "# Satellite longitude\n",
    "#sat_lon = nc.variables['goes_imager_projection'].longitude_of_projection_origin\n",
    "\n",
    "# Satellite sweep\n",
    "#sat_sweep = nc.variables['goes_imager_projection'].sweep_angle_axis\n",
    "\n",
    "# The projection x and y coordinates equals\n",
    "# the scanning angle (in radians) multiplied by the satellite height (http://proj4.org/projections/geos.html)\n",
    "X = ch13nc.variables['x'][:] * sat_h\n",
    "Y = ch13nc.variables['y'][:] * sat_h\n",
    "\n",
    "# Set the projections for plotting \n",
    "proj_var = ch13nc.variables['goes_imager_projection']\n",
    "sat_height = proj_var.perspective_point_height\n",
    "central_lon = proj_var.longitude_of_projection_origin\n",
    "semi_major = proj_var.semi_major_axis\n",
    "semi_minor = proj_var.semi_minor_axis\n",
    "\n",
    "# Create a new fig\n",
    "fig = plt.figure(figsize=(17., 11.))\n",
    "\n",
    "# Add state and country boundaries to plot\n",
    "states_boundaries = cfeature.NaturalEarthFeature(category='cultural',\n",
    "        name='admin_1_states_provinces_lakes',scale='50m', facecolor='none')\n",
    "\n",
    "country_borders = cfeature.NaturalEarthFeature(category='cultural',\n",
    "        name='admin_0_countries',scale='50m', facecolor='none')\n",
    "\n",
    "# Set Projection of Plot\n",
    "globe = ccrs.Globe(semimajor_axis=semi_major, semiminor_axis=semi_minor)\n",
    "crs = ccrs.Geostationary(central_longitude=central_lon, satellite_height=sat_height, globe=globe)\n",
    "plotcrs = ccrs.LambertConformal(central_latitude=[30, 60], central_longitude=-100)\n",
    "\n",
    "# Add the map and set the extent\n",
    "ax = plt.subplot(111, projection=plotcrs) \n",
    "\n",
    "# Set the plot title    \n",
    "plt.title(title,loc='left',fontdict=font)\n",
    "plt.title(title_date,loc='right',fontdict=font)\n",
    "\n",
    "# Add state boundaries to plot\n",
    "ax.add_feature(states_boundaries, edgecolor='blue', linewidth=1)\n",
    "\n",
    "# Add country borders to plot\n",
    "ax.add_feature(country_borders, edgecolor='black', linewidth=1)\n",
    "\n",
    "ax.set_extent([-130., -70, 20., 60.], ccrs.PlateCarree()) # CONUS\n",
    "#ax.gridlines(color=\"w\", linestyle=\"dotted\",alpha=0.5)\n",
    "\n",
    "im = plt.imshow(data_IR[:],origin='upper',extent=(X.min(), X.max(), Y.min(), Y.max()),\n",
    "                interpolation='nearest',transform=crs,vmin=162.,vmax=330.,cmap=IR_cmap) #,vmin=vmin,vmax=vmax\n",
    "\n",
    "plt.show()\n",
    "outfile = \"GOES16_Ch13_\"+str(im_file)+\".png\"\n",
    "   \n",
    "if not os.path.isdir(save_path):\n",
    "    os.makedirs(save_path)\n",
    "fig.savefig(save_path+outfile,bbox_inches='tight',dpi=120)\n",
    "#plt.close(fig)"
   ]
  },
  {
   "cell_type": "markdown",
   "metadata": {},
   "source": [
    "<h2>----------------------------------------------//---------------------------------------------------------</h2>"
   ]
  },
  {
   "cell_type": "markdown",
   "metadata": {},
   "source": [
    "## Red Visible - Channel 2"
   ]
  },
  {
   "cell_type": "code",
   "execution_count": null,
   "metadata": {},
   "outputs": [],
   "source": [
    "File = GOES_samples_2[0]\n",
    "ch2nc = Dataset(File)\n",
    "vis_name = File[-76:]\n",
    "data_IR = ch2nc.variables['Rad'][:]\n",
    "        #ch2nc.close()\n",
    "        #ch2nc = None\n",
    "\n",
    "# Find and convert Julian day to date    \n",
    "import datetime as DT\n",
    "dt2 = datetime(2019,1,1)\n",
    "dtdelta = DT.timedelta(days=int(vis_name[31:34])-1)\n",
    "Day = dt2 + dtdelta\n",
    "    \n",
    "title = \"GOES-16 Ch 2\"\n",
    "title_date = vis_name[27:31]+\" \"+'{0:%B %d}'.format(Day)+\" \"+vis_name[34:36]+\"\"+vis_name[36:38]+\"Z\"\n",
    "im_file = vis_name[27:31]+\"_\"+'{0:%m_%d}'.format(Day)+\"_\"+vis_name[34:36]+vis_name[36:38]\n",
    "    \n",
    "    \n",
    "sat_h = ch2nc.variables['goes_imager_projection'].perspective_point_height\n",
    "\n",
    "# Satellite longitude\n",
    "#sat_lon = nc.variables['goes_imager_projection'].longitude_of_projection_origin\n",
    "\n",
    "# Satellite sweep\n",
    "#sat_sweep = nc.variables['goes_imager_projection'].sweep_angle_axis\n",
    "\n",
    "# The projection x and y coordinates equals\n",
    "# the scanning angle (in radians) multiplied by the satellite height (http://proj4.org/projections/geos.html)\n",
    "X = ch2nc.variables['x'][:] * sat_h\n",
    "Y = ch2nc.variables['y'][:] * sat_h\n",
    "\n",
    "# Set the projections for plotting \n",
    "proj_var = ch2nc.variables['goes_imager_projection']\n",
    "sat_height = proj_var.perspective_point_height\n",
    "central_lon = proj_var.longitude_of_projection_origin\n",
    "semi_major = proj_var.semi_major_axis\n",
    "semi_minor = proj_var.semi_minor_axis\n",
    "\n",
    "# Create a new fig\n",
    "fig = plt.figure(figsize=(17., 11.))\n",
    "\n",
    "# Add state and country boundaries to plot\n",
    "states_boundaries = cfeature.NaturalEarthFeature(category='cultural',\n",
    "        name='admin_1_states_provinces_lakes',scale='50m', facecolor='none')\n",
    "\n",
    "country_borders = cfeature.NaturalEarthFeature(category='cultural',\n",
    "        name='admin_0_countries',scale='50m', facecolor='none')\n",
    "\n",
    "# Set Projection of Plot\n",
    "globe = ccrs.Globe(semimajor_axis=semi_major, semiminor_axis=semi_minor)\n",
    "crs = ccrs.Geostationary(central_longitude=central_lon, satellite_height=sat_height, globe=globe)\n",
    "plotcrs = ccrs.LambertConformal(central_latitude=[30, 60], central_longitude=-100)\n",
    "\n",
    "# Add the map and set the extent\n",
    "ax = plt.subplot(111, projection=plotcrs) \n",
    "\n",
    "# Set the plot title    \n",
    "plt.title(title,loc='left',fontdict=font)\n",
    "plt.title(title_date,loc='right',fontdict=font)\n",
    "\n",
    "# Add state boundaries to plot\n",
    "ax.add_feature(states_boundaries, edgecolor='blue', linewidth=1)\n",
    "\n",
    "# Add country borders to plot\n",
    "ax.add_feature(country_borders, edgecolor='black', linewidth=1)\n",
    "\n",
    "ax.set_extent([-130., -70, 20., 60.], ccrs.PlateCarree()) # CONUS\n",
    "#ax.gridlines(color=\"w\", linestyle=\"dotted\",alpha=0.5)\n",
    "\n",
    "im = plt.imshow(data_IR[:],origin='upper',extent=(X.min(), X.max(), Y.min(), Y.max()),\n",
    "                interpolation='nearest',transform=crs,cmap=\"gray\") #,vmin=vmin,vmax=vmax\n",
    "\n",
    "plt.show()\n",
    "outfile = \"GOES16_Ch2_\"+str(im_file)+\".png\"\n",
    "   \n",
    "if not os.path.isdir(save_path):\n",
    "    os.makedirs(save_path)\n",
    "fig.savefig(save_path+outfile,bbox_inches='tight',dpi=120)\n",
    "#plt.close(fig)"
   ]
  },
  {
   "cell_type": "markdown",
   "metadata": {},
   "source": [
    "<h2>----------------------------------------------//---------------------------------------------------------</h2>"
   ]
  },
  {
   "cell_type": "markdown",
   "metadata": {
    "collapsed": true
   },
   "source": [
    "<h1>Mid-Level Water Vapor Channel 9</h1>"
   ]
  },
  {
   "cell_type": "code",
   "execution_count": null,
   "metadata": {
    "collapsed": true
   },
   "outputs": [],
   "source": [
    "WV_cmap = ctables.registry.get_colortable('WVCIMSS_r')\n",
    "wv_norm, wv_cmap = registry.get_with_range('WVCIMSS_r', 195, 265)"
   ]
  },
  {
   "cell_type": "code",
   "execution_count": null,
   "metadata": {},
   "outputs": [],
   "source": [
    "File = GOES_samples_9[0]\n",
    "ch9nc = Dataset(File)\n",
    "wv_name = File[-76:]\n",
    "data_WV = ch9nc.variables['Rad'][:]\n",
    "        #ch2nc.close()\n",
    "        #ch2nc = None\n",
    "\n",
    "# Find and convert Julian day to date    \n",
    "import datetime as DT\n",
    "dt2 = datetime(2019,1,1)\n",
    "dtdelta = DT.timedelta(days=int(vis_name[31:34])-1)\n",
    "Day = dt2 + dtdelta\n",
    "    \n",
    "title = \"GOES-16 Ch 9\"\n",
    "title_date = wv_name[27:31]+\" \"+'{0:%B %d}'.format(Day)+\" \"+wv_name[34:36]+\"\"+wv_name[36:38]+\"Z\"\n",
    "im_file = wv_name[27:31]+\"_\"+'{0:%m_%d}'.format(Day)+\"_\"+wv_name[34:36]+wv_name[36:38]\n",
    "    \n",
    "    \n",
    "sat_h = ch9nc.variables['goes_imager_projection'].perspective_point_height\n",
    "\n",
    "# Satellite longitude\n",
    "#sat_lon = nc.variables['goes_imager_projection'].longitude_of_projection_origin\n",
    "\n",
    "# Satellite sweep\n",
    "#sat_sweep = nc.variables['goes_imager_projection'].sweep_angle_axis\n",
    "\n",
    "# The projection x and y coordinates equals\n",
    "# the scanning angle (in radians) multiplied by the satellite height (http://proj4.org/projections/geos.html)\n",
    "X = ch9nc.variables['x'][:] * sat_h\n",
    "Y = ch9nc.variables['y'][:] * sat_h\n",
    "\n",
    "# Set the projections for plotting \n",
    "proj_var = ch9nc.variables['goes_imager_projection']\n",
    "sat_height = proj_var.perspective_point_height\n",
    "central_lon = proj_var.longitude_of_projection_origin\n",
    "semi_major = proj_var.semi_major_axis\n",
    "semi_minor = proj_var.semi_minor_axis\n",
    "\n",
    "# Create a new fig\n",
    "fig = plt.figure(figsize=(17., 11.))\n",
    "\n",
    "# Add state and country boundaries to plot\n",
    "states_boundaries = cfeature.NaturalEarthFeature(category='cultural',\n",
    "        name='admin_1_states_provinces_lakes',scale='50m', facecolor='none')\n",
    "\n",
    "country_borders = cfeature.NaturalEarthFeature(category='cultural',\n",
    "        name='admin_0_countries',scale='50m', facecolor='none')\n",
    "\n",
    "# Set Projection of Plot\n",
    "globe = ccrs.Globe(semimajor_axis=semi_major, semiminor_axis=semi_minor)\n",
    "crs = ccrs.Geostationary(central_longitude=central_lon, satellite_height=sat_height, globe=globe)\n",
    "plotcrs = ccrs.LambertConformal(central_latitude=[30, 60], central_longitude=-100)\n",
    "\n",
    "# Add the map and set the extent\n",
    "ax = plt.subplot(111, projection=plotcrs) \n",
    "\n",
    "# Set the plot title    \n",
    "plt.title(title,loc='left',fontdict=font)\n",
    "plt.title(title_date,loc='right',fontdict=font)\n",
    "\n",
    "# Add state boundaries to plot\n",
    "ax.add_feature(states_boundaries, edgecolor='blue', linewidth=1)\n",
    "\n",
    "# Add country borders to plot\n",
    "ax.add_feature(country_borders, edgecolor='black', linewidth=1)\n",
    "\n",
    "ax.set_extent([-130., -70, 20., 60.], ccrs.PlateCarree()) # CONUS\n",
    "#ax.gridlines(color=\"w\", linestyle=\"dotted\",alpha=0.5)\n",
    "\n",
    "im = plt.imshow(data_WV[:],origin='upper',extent=(X.min(), X.max(), Y.min(), Y.max()),\n",
    "                interpolation='nearest',transform=crs,cmap=\"gist_gray_r\") #,vmin=vmin,vmax=vmax\n",
    "\n",
    "plt.show()\n",
    "outfile = \"GOES16_Ch9_\"+str(im_file)+\".png\"\n",
    "   \n",
    "if not os.path.isdir(save_path):\n",
    "    os.makedirs(save_path)\n",
    "fig.savefig(save_path+outfile,bbox_inches='tight',dpi=120)\n",
    "#plt.close(fig)"
   ]
  },
  {
   "cell_type": "markdown",
   "metadata": {},
   "source": [
    "<h2>----------------------------------------------//---------------------------------------------------------</h2>\n",
    "<h2>----------------------------------------------//---------------------------------------------------------</h2>"
   ]
  },
  {
   "cell_type": "markdown",
   "metadata": {},
   "source": [
    "<h1>We can also define a map projection function that can take details of the different channels</h1>\n",
    "* path - data file location\n",
    "* channel - which GOES channel number\n",
    "* title - plot title\n",
    "* my_cmap - desired color table\n",
    "* vmin - (optional) min value for plotting\n",
    "* vmax - (optional) max value for plotting"
   ]
  },
  {
   "cell_type": "code",
   "execution_count": null,
   "metadata": {
    "collapsed": true
   },
   "outputs": [],
   "source": [
    "def Map(path,channel,title,savepath,my_cmap=None,vmin=None,vmax=None):\n",
    "    vis_name = path[-76:]\n",
    "    nc = Dataset(path)\n",
    "    data = nc.variables['Rad'][:]\n",
    "            #ch2nc.close()\n",
    "            #ch2nc = None\n",
    "            \n",
    "# For the ch 13 IR plot \n",
    "    if channel == 13:\n",
    "        fk1 = nc.variables['planck_fk1'][0]\n",
    "        fk2 = nc.variables['planck_fk2'][0]\n",
    "        bc1 = nc.variables['planck_bc1'][0]\n",
    "        bc2 = nc.variables['planck_bc2'][0]\n",
    "\n",
    "        data = (fk2 / ( np.log((fk1 / data) + 1 )) - bc1) / bc2\n",
    "    else:\n",
    "        data = data\n",
    "        \n",
    "    sat_h = nc.variables['goes_imager_projection'].perspective_point_height\n",
    "    \n",
    "    X = nc.variables['x'][:] * sat_h\n",
    "    Y = nc.variables['y'][:] * sat_h\n",
    "\n",
    "    proj_var = nc.variables['goes_imager_projection']\n",
    "    sat_height = proj_var.perspective_point_height\n",
    "    central_lon = proj_var.longitude_of_projection_origin\n",
    "    semi_major = proj_var.semi_major_axis\n",
    "    semi_minor = proj_var.semi_minor_axis\n",
    "\n",
    "# Create new figure\n",
    "    fig = plt.figure(figsize=(17., 11.))\n",
    "\n",
    "# Add state boundaries to plot\n",
    "    states_boundaries = cfeature.NaturalEarthFeature(category='cultural',\n",
    "        name='admin_1_states_provinces_lakes',scale='50m', facecolor='none')\n",
    "\n",
    "    country_borders = cfeature.NaturalEarthFeature(category='cultural',\n",
    "        name='admin_0_countries',scale='50m', facecolor='none')\n",
    "\n",
    "# Set Projection of Plot\n",
    "    globe = ccrs.Globe(semimajor_axis=semi_major, semiminor_axis=semi_minor)\n",
    "    crs = ccrs.Geostationary(central_longitude=central_lon, satellite_height=sat_height, globe=globe)\n",
    "    plotcrs = ccrs.LambertConformal(central_latitude=[30, 60], central_longitude=-100)\n",
    "\n",
    "# Add the map and set the extent\n",
    "    ax = plt.subplot(111, projection=plotcrs) \n",
    "        \n",
    "# Find and convert Julian day to date    \n",
    "    import datetime as DT\n",
    "    dt = datetime(2018,1,1)\n",
    "    dtdelta = DT.timedelta(days=int(path[59:62])-1)\n",
    "    Day = dt + dtdelta\n",
    "    im_file = vis_name[27:31]+\"_\"+'{0:%m_%d}'.format(Day)+\"_\"+vis_name[34:36]+vis_name[36:38]\n",
    "    title_date = vis_name[27:31]+\" \"+'{0:%B %d}'.format(Day)+\" \"+vis_name[34:36]+\"\"+vis_name[36:38]+\"Z\"\n",
    "    im_file = vis_name[27:31]+\"_\"+'{0:%m_%d}'.format(Day)+\"_\"+vis_name[34:36]+vis_name[36:38]\n",
    "\n",
    "# Set the plot title    \n",
    "    plt.title(title,loc='left',fontdict=font)\n",
    "    plt.title(title_date,loc='right',fontdict=font)\n",
    "\n",
    "# Add state boundaries to plot\n",
    "    ax.add_feature(states_boundaries, edgecolor='blue', linewidth=1)\n",
    "\n",
    "# Add country borders to plot\n",
    "    ax.add_feature(country_borders, edgecolor='black', linewidth=1)\n",
    "\n",
    "# Set the plotting extent    \n",
    "    ax.set_extent([-130., -70, 20., 60.], ccrs.PlateCarree()) # CONUS\n",
    "\n",
    "# Plot the image\n",
    "    img = ax.imshow(data[:],origin='upper',vmin=vmin,vmax=vmax,extent=(X.min(), X.max(), Y.min(), Y.max()),\n",
    "        interpolation='nearest',transform=crs,cmap=my_cmap) \n",
    "\n",
    "# Display the figure\n",
    "    plt.show()\n",
    "    \n",
    "# Set the name for saved figure, and save it    \n",
    "    outfile = savepath+ \"GOES16_Ch\"+str(channel)+\"_\"+str(im_file)+\".png\"\n",
    "    fig.savefig(outfile,bbox_inches='tight',dpi=120)"
   ]
  },
  {
   "cell_type": "markdown",
   "metadata": {},
   "source": [
    "## We can now imput data from the different channels and have our generic map maker function run on each to produce our satellite images!"
   ]
  },
  {
   "cell_type": "markdown",
   "metadata": {},
   "source": [
    "### Map Arguments: Map(path, channel, title, savepath, my_cmap, vmin=None, vmax=None)"
   ]
  },
  {
   "cell_type": "code",
   "execution_count": null,
   "metadata": {
    "scrolled": false
   },
   "outputs": [],
   "source": [
    "# Map(path,channel,title,savepath,my_cmap=None,vmin=None,vmax=None)\n",
    "\n",
    "i = 10\n",
    "\n",
    "channel=13\n",
    "title = \"GOES-16 Ch 13 - IR\"\n",
    "Map(GOES_samples_13[i],channel,title,im_save_path,IR_cmap,vmin=162.,vmax=330.)\n",
    "\n",
    "channel = 9\n",
    "title = 'GOES-16 Ch9 - WV'\n",
    "#Map(GOES17_samples_9[i],channel,title,im_save_path)\n",
    "#Map(GOES17_samples_9[0],channel,band,title,date,data_WV,im_save_path,X,Y,WV_cmap)\n",
    "Map(GOES_samples_9[0],channel,title,im_save_path,'gist_gray_r')\n",
    "\n",
    "channel = 2\n",
    "title = 'GOES-16 Ch2 - VIS Red'\n",
    "Map(GOES_samples_2[i],channel,title,im_save_path,'gray')"
   ]
  },
  {
   "cell_type": "markdown",
   "metadata": {},
   "source": [
    "<h2>----------------------------------------------//---------------------------------------------------------</h2>\n",
    "<h2>----------------------------------------------//---------------------------------------------------------</h2>"
   ]
  },
  {
   "cell_type": "markdown",
   "metadata": {},
   "source": [
    "<h1>We can also take the lists of files we created earlier to plot multiple timesteps and create animated gifs</h1>"
   ]
  },
  {
   "cell_type": "markdown",
   "metadata": {},
   "source": [
    "## Ch 13"
   ]
  },
  {
   "cell_type": "code",
   "execution_count": null,
   "metadata": {
    "collapsed": true
   },
   "outputs": [],
   "source": [
    "#%%time\n",
    "print \"Here we go...\"\n",
    "title = \"GOES-16 Ch 13 - IR\"\n",
    "channel=13\n",
    "for i in range(len(GOES_samples_13)):\n",
    "\n",
    "    Map(GOES_samples_13[i],channel,title,im_save_path,IR_cmap,vmin=162.,vmax=330.)\n",
    "    \n",
    "print \"Images done\"\n",
    "print \"gif activated...\"\n",
    "\n",
    "# Set a new list to hold all the images for this channel\n",
    "files = []\n",
    "# searching for the files with * \n",
    "for name in glob.glob(IRPATH+'*.png'):\n",
    "    #print name\n",
    "    files.append(name)\n",
    "\n",
    "# Make sure our files are in chronological order so our animation is accurate\n",
    "files = sorted(files, key=lambda x: int(re.sub('\\D', '', x)))\n",
    "\n",
    "# Set a new list full of the images so we can create an animation\n",
    "images = []\n",
    "for filename in files:\n",
    "    images.append(imageio.imread(filename))\n",
    "imageio.mimsave(\".gif\", \n",
    "                images,duration=0.3)\n",
    "print \"gif done.\""
   ]
  },
  {
   "cell_type": "markdown",
   "metadata": {},
   "source": [
    "<h2>----------------------------------------------//---------------------------------------------------------</h2>"
   ]
  },
  {
   "cell_type": "markdown",
   "metadata": {},
   "source": [
    "## Ch 9"
   ]
  },
  {
   "cell_type": "code",
   "execution_count": null,
   "metadata": {
    "collapsed": true
   },
   "outputs": [],
   "source": [
    "print \"Here we go...\"\n",
    "channel = 9\n",
    "title = 'GOES-16 Ch9 - WV'\n",
    "for i in range(len(GOES_samples_9)):\n",
    "\n",
    "    Map(GOES_samples_9[i],channel,title,im_save_path)\n",
    "\n",
    "print \"Images done\"\n",
    "print \"gif activated...\"\n",
    "\n",
    "# Set a new list to hold all the images for this channel\n",
    "files = []\n",
    "# searching for the files with * \n",
    "for name in glob.glob(WVPATH+'*.png'):\n",
    "    #print name\n",
    "    files.append(name)\n",
    "\n",
    "# Make sure our files are in chronological order so our animation is accurate\n",
    "files = sorted(files, key=lambda x: int(re.sub('\\D', '', x)))\n",
    "    \n",
    "# Set a new list full of the images so we can create an animation\n",
    "images = []\n",
    "for filename in files:\n",
    "    images.append(imageio.imread(filename))\n",
    "imageio.mimsave(\".gif\", \n",
    "                images,duration=0.3)\n",
    "print \"gif done.\""
   ]
  },
  {
   "cell_type": "markdown",
   "metadata": {},
   "source": [
    "<h2>----------------------------------------------//---------------------------------------------------------</h2>"
   ]
  },
  {
   "cell_type": "markdown",
   "metadata": {},
   "source": [
    "## Ch 2"
   ]
  },
  {
   "cell_type": "code",
   "execution_count": null,
   "metadata": {
    "collapsed": true
   },
   "outputs": [],
   "source": [
    "print \"Here we go...\"\n",
    "channel = 2\n",
    "title = 'GOES-16 Ch2 - Red'\n",
    "for i in range(len(GOES_samples_2)):\n",
    "\n",
    "    Map(GOES_samples_2[i],channel,title,im_save_path,'gray')\n",
    "    \n",
    "print \"Images done\"\n"
   ]
  },
  {
   "cell_type": "code",
   "execution_count": null,
   "metadata": {
    "collapsed": true
   },
   "outputs": [],
   "source": [
    "print \"gif activated...\"\n",
    "\n",
    "# Set a new list to hold all the images for this channel\n",
    "files = []\n",
    "# searching for the files with * \n",
    "for name in glob.glob(VISPATH+'*.png'):\n",
    "    #print name\n",
    "    files.append(name)\n",
    "\n",
    "# Make sure our files are in chronological order so our animation is accurate\n",
    "files = sorted(files, key=lambda x: int(re.sub('\\D', '', x)))\n",
    "    \n",
    "# Set a new list full of the images so we can create an animation\n",
    "images = []\n",
    "for filename in files:\n",
    "    images.append(imageio.imread(filename))\n",
    "imageio.mimsave(\".gif\", \n",
    "                images,duration=0.3)\n",
    "print \"gif done.\""
   ]
  },
  {
   "cell_type": "markdown",
   "metadata": {},
   "source": [
    "<h2>----------------------------------------------//---------------------------------------------------------</h2>"
   ]
  },
  {
   "cell_type": "markdown",
   "metadata": {},
   "source": [
    "# True Color"
   ]
  },
  {
   "cell_type": "code",
   "execution_count": null,
   "metadata": {
    "collapsed": true
   },
   "outputs": [],
   "source": [
    "ch2nc = Dataset(GOES_samples_2[0])\n",
    "sat_h = ch2nc.variables['goes_imager_projection'].perspective_point_height\n",
    "\n",
    "# Satellite longitude\n",
    "#sat_lon = nc.variables['goes_imager_projection'].longitude_of_projection_origin\n",
    "\n",
    "# Satellite sweep\n",
    "#sat_sweep = nc.variables['goes_imager_projection'].sweep_angle_axis\n",
    "\n",
    "# The projection x and y coordinates equals\n",
    "# the scanning angle (in radians) multiplied by the satellite height (http://proj4.org/projections/geos.html)\n",
    "X = ch2nc.variables['x'][:] * sat_h\n",
    "Y = ch2nc.variables['y'][:] * sat_h\n",
    "    # Set the projections for plotting \n",
    "proj_var = ch2nc.variables['goes_imager_projection']\n",
    "sat_height = proj_var.perspective_point_height\n",
    "central_lon = proj_var.longitude_of_projection_origin\n",
    "semi_major = proj_var.semi_major_axis\n",
    "semi_minor = proj_var.semi_minor_axis"
   ]
  },
  {
   "cell_type": "code",
   "execution_count": null,
   "metadata": {
    "collapsed": true
   },
   "outputs": [],
   "source": [
    "File = GOES_samples_2\n",
    "for i in range(len(File)): #len(GOES17_samples_2)\n",
    "    ch2nc = Dataset(File[i])\n",
    "    vis_name = File[i][-76:]\n",
    "    radiance = ch2nc.variables['Rad'][:]\n",
    "    #ch2nc.close()\n",
    "    #ch2nc = None\n",
    "\n",
    "# Apply the formula to convert radiance to reflectance\n",
    "    ref = (radiance * np.pi * d2) / Esun_Ch_02\n",
    "\n",
    "# Make sure all data is in the valid data range\n",
    "    ref = np.maximum(ref, 0.0)\n",
    "    ref = np.minimum(ref, 1.0)\n",
    "\n",
    "# Apply the formula to adjust reflectance gamma\n",
    "    ref_gamma = np.sqrt(ref)\n",
    "\n",
    "# Load Channel 1 - Blue Visible\n",
    "    ch1nc = Dataset(GOES17_samples_1[i])\n",
    "    radiance_1 = ch1nc.variables['Rad'][:]\n",
    "    ch1nc.close()\n",
    "    ch1nc = None\n",
    "    ref_1 = (radiance_1 * np.pi * d2) / Esun_Ch_01\n",
    "# Make sure all data is in the valid data range\n",
    "    ref_1 = np.maximum(ref_1, 0.0)\n",
    "    ref_1 = np.minimum(ref_1, 1.0)\n",
    "    ref_gamma_1 = np.sqrt(ref_1)\n",
    "\n",
    " # Load Channel 3 - Veggie Near IR\n",
    "    ch3nc = Dataset(GOES17_samples_3[i])\n",
    "    radiance_3 = ch3nc.variables['Rad'][:]\n",
    "    ch3nc.close()\n",
    "    ch3nc = None\n",
    "    ref_3 = (radiance_3 * np.pi * d2) / Esun_Ch_03\n",
    "# Make sure all data is in the valid data range\n",
    "    ref_3 = np.maximum(ref_3, 0.0)\n",
    "    ref_3 = np.minimum(ref_3, 1.0)\n",
    "    ref_gamma_3 = np.sqrt(ref_3)\n",
    "    \n",
    "# Resize the channel 2 since it is higher resolution and thus different dims of 1 & 3\n",
    "    ref_gamma_2 = rebin(ref_gamma, [3000, 5000])\n",
    "\n",
    "# Derived from Planet Labs data, CC > 0.9\n",
    "    ref_gamma_true_green = 0.48358168 * ref_gamma_2 + 0.45706946 * ref_gamma_1 + 0.06038137 * ref_gamma_3\n",
    "\n",
    "# Find and convert Julian day to date    \n",
    "    import datetime as DT\n",
    "    dt2 = datetime(2019,1,1)\n",
    "    dtdelta = DT.timedelta(days=int(vis_name[31:34])-1)\n",
    "    Day = dt2 + dtdelta\n",
    "    \n",
    "    title = \"GOES-16 True Color\"\n",
    "    title_date = vis_name[27:31]+\" \"+'{0:%B %d}'.format(Day)+\" \"+vis_name[34:36]+\"\"+vis_name[36:38]+\"Z\"\n",
    "    im_file = vis_name[27:31]+\"_\"+'{0:%m_%d}'.format(Day)+\"_\"+vis_name[34:36]+vis_name[36:38]\n",
    "\n",
    "# Create a new fig\n",
    "    fig = plt.figure(figsize=(17., 11.))\n",
    "\n",
    "# Add state and country boundaries to plot\n",
    "    states_boundaries = cfeature.NaturalEarthFeature(category='cultural',\n",
    "            name='admin_1_states_provinces_lakes',scale='50m', facecolor='none')\n",
    "\n",
    "    country_borders = cfeature.NaturalEarthFeature(category='cultural',\n",
    "            name='admin_0_countries',scale='50m', facecolor='none')\n",
    "\n",
    "# Set Projection of Plot\n",
    "    globe = ccrs.Globe(semimajor_axis=semi_major, semiminor_axis=semi_minor)\n",
    "    crs = ccrs.Geostationary(central_longitude=central_lon, satellite_height=sat_height, globe=globe)\n",
    "    plotcrs = ccrs.LambertConformal(central_latitude=[30, 60], central_longitude=-100)\n",
    "\n",
    "# Add the map and set the extent\n",
    "    ax = plt.subplot(111, projection=plotcrs) \n",
    "\n",
    "# Set the plot title    \n",
    "    plt.title(title,loc='left',fontdict=font)\n",
    "    plt.title(title_date,loc='right',fontdict=font)\n",
    "\n",
    "# Add state boundaries to plot\n",
    "    ax.add_feature(states_boundaries, edgecolor='blue', linewidth=1)\n",
    "\n",
    "# Add country borders to plot\n",
    "    ax.add_feature(country_borders, edgecolor='black', linewidth=1)\n",
    "    \n",
    "    ax.set_extent([-130., -70, 20., 60.], ccrs.PlateCarree()) # CONUS\n",
    "    #ax.gridlines(color=\"w\", linestyle=\"dotted\",alpha=0.5)\n",
    "    \n",
    "# Create the actual RGB true color composite array to plot\n",
    "    truecolor = np.stack([ref_gamma_2, ref_gamma_true_green, ref_gamma_1], axis=2)\n",
    "\n",
    "    im = plt.imshow(truecolor[:],origin='upper',extent=(X.min(), X.max(), Y.min(), Y.max()),\n",
    "                   interpolation='nearest',transform=crs) #,vmin=vmin,vmax=vmax\n",
    "\n",
    "    #plt.show()\n",
    "    outfile = \"GOES16_TrueColor_\"+str(im_file)+\".png\"\n",
    "       \n",
    "    if not os.path.isdir(save_path):\n",
    "        os.makedirs(save_path)\n",
    "    fig.savefig(save_path+outfile,bbox_inches='tight',dpi=120)\n",
    "    plt.close(fig)\n",
    "    print \"next...\"\n",
    "print \"done.\""
   ]
  },
  {
   "cell_type": "code",
   "execution_count": null,
   "metadata": {
    "collapsed": true
   },
   "outputs": [],
   "source": []
  }
 ],
 "metadata": {
  "kernelspec": {
   "display_name": "Python 2",
   "language": "python",
   "name": "python2"
  },
  "language_info": {
   "codemirror_mode": {
    "name": "ipython",
    "version": 2
   },
   "file_extension": ".py",
   "mimetype": "text/x-python",
   "name": "python",
   "nbconvert_exporter": "python",
   "pygments_lexer": "ipython2",
   "version": "2.7.15"
  }
 },
 "nbformat": 4,
 "nbformat_minor": 1
}
