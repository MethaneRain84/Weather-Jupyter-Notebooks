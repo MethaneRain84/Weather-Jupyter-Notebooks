{
 "cells": [
  {
   "cell_type": "markdown",
   "metadata": {},
   "source": [
    "# Percent Snow Chance"
   ]
  },
  {
   "cell_type": "markdown",
   "metadata": {},
   "source": [
    "## Justin Richling\n",
    "## 01/19/19"
   ]
  },
  {
   "cell_type": "markdown",
   "metadata": {},
   "source": [
    "\n",
    "# Saved Images from Snow Probablility Website\n",
    "\n",
    "\n",
    "Search through different forecast hours and inch totals and retreive the current images\n",
    "\n",
    "There are several handy maps that we can grab here:\n",
    "* inch totals: 1,2,4,6,8,12, and/or 18\n",
    "* forecast hours: 24\n"
   ]
  },
  {
   "cell_type": "markdown",
   "metadata": {},
   "source": [
    "Imports\n",
    "\n"
   ]
  },
  {
   "cell_type": "code",
   "execution_count": 1,
   "metadata": {
    "collapsed": true
   },
   "outputs": [],
   "source": [
    "# Random Library Imports\n",
    "import os,glob,imageio,webbrowser,urllib,urllib2,cStringIO\n",
    "\n",
    "# Importing Datetime Libraries\n",
    "from datetime import datetime, timedelta\n",
    "\n",
    "# More Image Manipulation Options\n",
    "from PIL import Image as PILImage\n",
    "\n",
    "# Matplotlib Plotting Libraries\n",
    "import matplotlib.pyplot as plt\n",
    "\n",
    "# Widgets\n",
    "import ipywidgets as widgets"
   ]
  },
  {
   "cell_type": "markdown",
   "metadata": {},
   "source": [
    "## Figuring out where you want the files..."
   ]
  },
  {
   "cell_type": "code",
   "execution_count": 2,
   "metadata": {},
   "outputs": [
    {
     "name": "stdout",
     "output_type": "stream",
     "text": [
      "/Users/ChowdaHead/Desktop/Weather_Blog/01_19/\n"
     ]
    }
   ],
   "source": [
    "# Pull the current time\n",
    "now = datetime.now() \n",
    "\n",
    "# Set a path to save the plots with string format for the date to set the month and day \n",
    "im_save_path =\"/path/to/saved files/\"\n",
    "print im_save_path\n",
    "\n",
    "# Check to see if the folder already exists, if not create it\n",
    "if not os.path.isdir(im_save_path):\n",
    "    os.makedirs(im_save_path)\n",
    "\n",
    "# Uncomment if you want to automatically change to the map folder    \n",
    "#os.chdir(im_save_path)"
   ]
  },
  {
   "cell_type": "markdown",
   "metadata": {},
   "source": [
    "### Generic Image Capture from Website\n",
    "#### Arguments: \n",
    "* loc - Location where you want the saved image to be placed\n"
   ]
  },
  {
   "cell_type": "code",
   "execution_count": 3,
   "metadata": {
    "collapsed": true
   },
   "outputs": [],
   "source": [
    "def CurrentMap(loc):\n",
    "    \n",
    "    inch = x.kwargs['inch']\n",
    "    inch = inch.value\n",
    "    print inch\n",
    "    hour = x.kwargs['step']\n",
    "    hour = str(hour.value)\n",
    "   \n",
    "    if inch < 10:\n",
    "        inch = \"0\"+str(inch )\n",
    "    else:\n",
    "        inch = str(inch)\n",
    "    print inch\n",
    "    page = \"http://origin.wpc.ncep.noaa.gov/pwpf_24hr/prb_24hsnow_ge\"+inch+\"_\"+\\\n",
    "                     '{0:%Y%m%d}'.format(now)+\"12f0\"+hour+\".gif\"\n",
    "    print page\n",
    "    #webbrowser.open(picture_page) \n",
    "\n",
    "# open the web page picture and read it into a variable\n",
    "    opener = urllib2.build_opener()\n",
    "        # .open() will fetch the URL\n",
    "    webpage = opener.open(page)\n",
    "        # page.read() \n",
    "    my_picture = webpage.read()\n",
    "\n",
    "# open file for binary write and save picture\n",
    "    FileEnd=\"_ChceSnow_\"+inch+\"in_hr\"+hour+\".png\"\n",
    "    Filename = '{0:%Y_%m_%d}'.format(now)+FileEnd\n",
    "    \n",
    "    # fout will create and write to a new image file\n",
    "    fout = open(loc+\"/\"+Filename, \"wb\")\n",
    "    fout.write(my_picture)\n",
    "    fout.close()\n",
    "# test to see if it saved correctly\n",
    "    #webbrowser.open(Filename)  \n",
    "    \n",
    "    file = cStringIO.StringIO(urllib.urlopen(page).read())\n",
    "    img = PILImage.open(file)\n",
    "\n",
    "    fig, ax = plt.subplots(figsize=(15, 8))\n",
    "    ax.imshow(img, interpolation='nearest')\n",
    "    #plt.show()\n",
    "    plt.close()\n"
   ]
  },
  {
   "cell_type": "markdown",
   "metadata": {},
   "source": [
    "# Pull Images from Website\n",
    "---------------------------------------------\n",
    "### Credit to NOAA\n"
   ]
  },
  {
   "cell_type": "code",
   "execution_count": 4,
   "metadata": {
    "collapsed": true
   },
   "outputs": [],
   "source": [
    "inch_widget = widgets.Dropdown(description='inch', options=[1,2,4,6,8,12,18])\n",
    "\n",
    "hour_widget = widgets.Dropdown(description='Step', options=[24,30,36,42,48,54,60,66,72])\n"
   ]
  },
  {
   "cell_type": "code",
   "execution_count": 6,
   "metadata": {},
   "outputs": [
    {
     "data": {
      "application/vnd.jupyter.widget-view+json": {
       "model_id": "1fea355ca6ca44758b0495c91cb7f26d"
      }
     },
     "metadata": {},
     "output_type": "display_data"
    }
   ],
   "source": [
    "x = widgets.interact_manual(inch=inch_widget,step=hour_widget)\n",
    "x.kwargs[\"inch\"]\n"
   ]
  },
  {
   "cell_type": "code",
   "execution_count": 7,
   "metadata": {},
   "outputs": [
    {
     "data": {
      "application/vnd.jupyter.widget-view+json": {
       "model_id": "c8bf0311c47a44bc94a8d732185d8578"
      }
     },
     "metadata": {},
     "output_type": "display_data"
    }
   ],
   "source": [
    "x.kwargs[\"step\"]"
   ]
  },
  {
   "cell_type": "code",
   "execution_count": 8,
   "metadata": {},
   "outputs": [
    {
     "name": "stdout",
     "output_type": "stream",
     "text": [
      "1\n",
      "01\n",
      "http://origin.wpc.ncep.noaa.gov/pwpf_24hr/prb_24hsnow_ge01_2019011912f024.gif\n"
     ]
    },
    {
     "data": {
      "text/plain": [
       "<ipywidgets.widgets.interaction._InteractFactory at 0x10e042590>"
      ]
     },
     "execution_count": 8,
     "metadata": {},
     "output_type": "execute_result"
    }
   ],
   "source": [
    "widgets.interact_manual(CurrentMap(im_save_path))"
   ]
  },
  {
   "cell_type": "code",
   "execution_count": null,
   "metadata": {
    "collapsed": true
   },
   "outputs": [],
   "source": []
  }
 ],
 "metadata": {
  "kernelspec": {
   "display_name": "Python 2",
   "language": "python",
   "name": "python2"
  },
  "language_info": {
   "codemirror_mode": {
    "name": "ipython",
    "version": 2
   },
   "file_extension": ".py",
   "mimetype": "text/x-python",
   "name": "python",
   "nbconvert_exporter": "python",
   "pygments_lexer": "ipython2",
   "version": "2.7.15"
  }
 },
 "nbformat": 4,
 "nbformat_minor": 1
}
