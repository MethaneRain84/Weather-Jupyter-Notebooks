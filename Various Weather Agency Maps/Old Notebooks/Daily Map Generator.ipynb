{
 "cells": [
  {
   "cell_type": "markdown",
   "metadata": {},
   "source": [
    "\n",
    "<div class=\"alert alert-block alert-info\"><h1><center><font face=\"fantasy\" color=#2F4F4F style=\"font-size:40px\">Multiple Weather Map Generator!</font></center></h1>"
   ]
  },
  {
   "cell_type": "markdown",
   "metadata": {},
   "source": [
    "<h2><center><font face=\"fantasy\" color=#2F4F4F style=\"font-size:35px\"> Justin Richling </font></center></h2>\n",
    "<h2><center><font face=\"fantasy\" color=#2F4F4F style=\"font-size:35px\"> 04/18/2016 </font></center></h2>"
   ]
  },
  {
   "cell_type": "markdown",
   "metadata": {},
   "source": [
    "<h4><font face=\"Bookman, URW Bookman L, serif\" style=\"font-size:20px\">_This is an accumulation of all the daily maps from the various weather website I use, with still more to come and some that need updating because of site change or format differences. Anyway, this notebook allows the user to automatically generate all the maps with a couple of prompts. The notebook will give the user a choice of where to save the files so it does it automatically and easily. The maps generated (saved really) are all non-archived images, meaning the moment you run the notebook that is the time stamp for the images since a lot of these images are not archived or at least aren't free if they are archived somewhere. <p><br/ >This was initially desgined to 1) familiarize myself with Python by making an actual project and 2) try to quickly gather daily weather plots from the agencies like NOAA, SPC, WPC, NCAR, and private places like Intellicast so that I could try and \"forecast.\" I'm still very amateurish about knowing the details of the atmosphere and weather as a full functioning system. So I can pull out basics terms and situations I have cemented with my education and practice.</p><p>I am currently trying to program this notebook to save run times of the NAM and GFS from the College of DuPage website which has savable gifs of these models runs. <div class=\"alert alert-danger\">The main problem with this new function is that one has to manually go to these runs and create and save the gifs. Soon I might be able to accomplish this through more HTML education._</p></font></h4>"
   ]
  },
  {
   "cell_type": "markdown",
   "metadata": {},
   "source": [
    "<center><h4><div class='alert alert-block alert-warning'><font face='fantasy' color=#2F4F4F style='font-size:25px'>Initalizing and importing libraries we're going to need</font></center></h4>"
   ]
  },
  {
   "cell_type": "code",
   "execution_count": 2,
   "metadata": {},
   "outputs": [
    {
     "name": "stdout",
     "output_type": "stream",
     "text": [
      "Using matplotlib backend: MacOSX\n",
      "Populating the interactive namespace from numpy and matplotlib\n"
     ]
    }
   ],
   "source": [
    "%pylab\n",
    "import urllib2,time,os,webbrowser\n",
    "#import logging\n",
    "%matplotlib inline\n",
    "import urllib, cStringIO\n",
    "from PIL import Image as PILImage\n",
    "import io, os, sys, types\n",
    "from IPython import get_ipython\n",
    "from nbformat import current\n",
    "from IPython.core.interactiveshell import InteractiveShell\n",
    "from IPython.display import HTML, display#, Image\n",
    "import matplotlib.pyplot as plt\n"
   ]
  },
  {
   "cell_type": "markdown",
   "metadata": {},
   "source": [
    "<h4><div class='alert alert-block alert-warning'><font face='fantasy' color=#2F4F4F style='font-size:25px'>For the daily time stamps to be current, the datetime.now( ) function is run and the year,\n",
    "month, day and hour (plus min and sec if desired) are saved to variables which will be fed into not only the filename,\n",
    "but the enclosing folder, and even the plot title.</font></h4>\n"
   ]
  },
  {
   "cell_type": "code",
   "execution_count": 3,
   "metadata": {
    "collapsed": true
   },
   "outputs": [],
   "source": [
    "now = datetime.datetime.now() \n",
    "Year = now.year\n",
    "Day = now.day\n",
    "Hour = now.hour\n",
    "Month = now.month \n",
    "Minute = now.minute\n",
    "\n",
    "# Since the maps generally use formats like 06Z or 02-20-16, we need to make the integers into\n",
    "# strings and concecanate(sp?) zeros where necessary. Ex: February = \"2\" but need \"02\"; \"0\"+\"2\" = \"02\"\n",
    "\n",
    "if Day < 10:\n",
    "    Day = \"0\"+str(Day)\n",
    "if Hour < 10:\n",
    "    Hour = \"0\"+str(Hour)\n",
    "if Minute < 10:\n",
    "    Minute = \"0\"+str(Minute)\n",
    "if Month < 10:\n",
    "    Month = \"0\"+str(Month)\n",
    "    \n",
    "month = datetime.date.today().strftime(\"%B\")[:3]\n",
    "\n",
    "homepath = \"/Users/chowdahead/\"\n",
    "desktoppath = homepath+\"Desktop/\"\n",
    "basepath = desktoppath+\"Weather_Blog/\"\n",
    "mypath = basepath+month+\"_\"+str(Day)"
   ]
  },
  {
   "cell_type": "code",
   "execution_count": 4,
   "metadata": {},
   "outputs": [
    {
     "name": "stdout",
     "output_type": "stream",
     "text": [
      "/Users/chowdahead/Desktop/Weather_Blog/Oct_27\n"
     ]
    }
   ],
   "source": [
    "print mypath"
   ]
  },
  {
   "cell_type": "markdown",
   "metadata": {},
   "source": [
    "<h4><div class='alert alert-block alert-warning'><font face='fantasy' color=#2F4F4F \\\n",
    "style='font-size:25px'>The new CurrentMap( ) function is a simple function that opens a website and captures\n",
    "the images specified and saves it to a location provided by the user.</font></h4>"
   ]
  },
  {
   "cell_type": "code",
   "execution_count": 7,
   "metadata": {
    "collapsed": true
   },
   "outputs": [],
   "source": [
    "def CurrentMap(page,FileEnd,loc,AxisTitle):\n",
    "    \n",
    "    #try:\n",
    "    picture_page = page    \n",
    "    print picture_page  \n",
    "    \n",
    "    #webbrowser.open(picture_page) \n",
    "\n",
    "# open the web page picture and read it into a variable\n",
    "    opener = urllib2.build_opener()\n",
    "        # .open() will fetch the URL\n",
    "    page = opener.open(picture_page)\n",
    "        # page.read() \n",
    "    my_picture = page.read()\n",
    "\n",
    "# open file for binary write and save picture\n",
    "# picture_page[-4:] extracts extension eg. .gif\n",
    "# (most image file extensions have three letters, otherwise modify)\n",
    "    Filename = str(Year)+\"_\"+str(Month)+\\\n",
    "    \"_\"+str(Day)+\"_\"+str(Hour)+\"_\"+str(Minute)+\"_\"+FileEnd \n",
    "    \n",
    "    # fout will create and write to a new image file\n",
    "    fout = open(loc+\"/\"+Filename, \"wb\")\n",
    "    fout.write(my_picture)\n",
    "    fout.close()\n",
    "# test to see if it saved correctly\n",
    "    #webbrowser.open(Filename)  \n",
    "    \n",
    "    #except urllib2.HTTPError, err:\n",
    "    #    if err.code == 404:\n",
    "    #        logging.exception(\"No Data from website\")\n",
    "    #        pass\n",
    "    #    else:\n",
    "    #        raise\n",
    "\n",
    "    \n",
    "    file = cStringIO.StringIO(urllib.urlopen(picture_page).read())\n",
    "    img = PILImage.open(file)\n",
    "\n",
    "    fig, ax = subplots(figsize=(15, 8))\n",
    "    ax.set_title(AxisTitle+\" \"+str(Month)+\" \"+str(Day)+\\\n",
    "                 \" \"+str(Hour)+\":\"+str(Minute))\n",
    "    ax.imshow(img, interpolation='nearest')\n",
    "    #plt.axis('off')  # I forgot what this accomplishes\n",
    "    #tight_layout()\n",
    "    #plt.show()\n",
    "    plt.close()\n",
    "    \n",
    "    return Filename"
   ]
  },
  {
   "cell_type": "code",
   "execution_count": 8,
   "metadata": {},
   "outputs": [
    {
     "data": {
      "text/plain": [
       "True"
      ]
     },
     "execution_count": 8,
     "metadata": {},
     "output_type": "execute_result"
    }
   ],
   "source": [
    "webbrowser.open(\"https://www.weather.gov/\")"
   ]
  },
  {
   "cell_type": "code",
   "execution_count": 9,
   "metadata": {},
   "outputs": [
    {
     "data": {
      "text/plain": [
       "True"
      ]
     },
     "execution_count": 9,
     "metadata": {},
     "output_type": "execute_result"
    }
   ],
   "source": [
    "webbrowser.open(\"http://www.spc.noaa.gov/\")"
   ]
  },
  {
   "cell_type": "code",
   "execution_count": 10,
   "metadata": {},
   "outputs": [
    {
     "data": {
      "text/plain": [
       "True"
      ]
     },
     "execution_count": 10,
     "metadata": {},
     "output_type": "execute_result"
    }
   ],
   "source": [
    "webbrowser.open(\"http://weather.cod.edu/forecast/\")"
   ]
  },
  {
   "cell_type": "code",
   "execution_count": 11,
   "metadata": {},
   "outputs": [
    {
     "data": {
      "text/plain": [
       "True"
      ]
     },
     "execution_count": 11,
     "metadata": {},
     "output_type": "execute_result"
    }
   ],
   "source": [
    "webbrowser.open(\"http://tempest.aos.wisc.edu/radar/us3comphtml5.html\")"
   ]
  },
  {
   "cell_type": "markdown",
   "metadata": {},
   "source": [
    "<center><h1><div class='alert alert-block alert-info'><font face='fantasy' color=#2F4F4F \\\n",
    "style='font-size:35px'>GOES 16 Visible</font></center></h1><p><center><font style=\"font-size:20\"><h4>University of Wisconsin</h4></font></center></p>\n",
    "<img src=\"https://whirlwind.aos.wisc.edu/~wxp/goes16/vis_color_enh/conus/latest_conus_1.jpg\">"
   ]
  },
  {
   "cell_type": "code",
   "execution_count": 12,
   "metadata": {
    "collapsed": true
   },
   "outputs": [],
   "source": [
    "#mypath"
   ]
  },
  {
   "cell_type": "code",
   "execution_count": 13,
   "metadata": {
    "collapsed": true
   },
   "outputs": [],
   "source": [
    "#CurrentMap(\"https://whirlwind.aos.wisc.edu/~wxp/goes16/vis_color_enh/conus/latest_conus_1.jpg\",\"Visible.png\",mypath[1:],\"\")"
   ]
  },
  {
   "cell_type": "markdown",
   "metadata": {},
   "source": [
    "<img src=\"http://tempest.aos.wisc.edu/radar/us3comphtml5.html\">"
   ]
  },
  {
   "cell_type": "code",
   "execution_count": 14,
   "metadata": {
    "collapsed": true
   },
   "outputs": [],
   "source": [
    "#https://whirlwind.aos.wisc.edu/~wxp/goes16/wvc/conus/latest_conus_1.jpg"
   ]
  },
  {
   "cell_type": "markdown",
   "metadata": {
    "collapsed": true
   },
   "source": [
    "<center><h1><div class='alert alert-block alert-info'><font face='fantasy' color=#2F4F4F \\\n",
    "style='font-size:35px'>GOES 16 4-Channel Water Vapor and IR</font></center></h1><p><center><font style=\"font-size:20\"><h4>University of Wisconsin</h4></font></center></p>\n",
    "<img src=\"https://whirlwind.aos.wisc.edu/~wxp/goes16/4panel/conus/latest_conus_1.jpg\">\n"
   ]
  },
  {
   "cell_type": "code",
   "execution_count": 15,
   "metadata": {
    "collapsed": true
   },
   "outputs": [],
   "source": [
    "#CurrentMap(\"https://whirlwind.aos.wisc.edu/~wxp/goes16/4panel/conus/latest_conus_1.jpg\",\"4-Panel WV and IR.png\",mypath,\"\")"
   ]
  },
  {
   "cell_type": "markdown",
   "metadata": {},
   "source": [
    "<img src=\"\" src=\"\">"
   ]
  },
  {
   "cell_type": "markdown",
   "metadata": {},
   "source": [
    "<h4><div class='alert alert-block alert-warning'><font face='fantasy' color=#2F4F4F \\\n",
    "style='font-size:25px'>This big ugly block of code houses all the information about the website, title information and file name extentions. The program can now automatically name the files and more as it saves it!</font></h4>"
   ]
  },
  {
   "cell_type": "code",
   "execution_count": 16,
   "metadata": {
    "collapsed": true
   },
   "outputs": [],
   "source": [
    "# http://www.atmos.albany.edu/student/heathera/qvect/nam_latest.gif\n",
    "\n",
    "#########################################################################\n",
    "# Current maps, various\n",
    "# 0-page, 1-FileEnd, 2-AxisTitle\n",
    "#########################################################################\n",
    "Wind_page=\"https://www.aviationweather.gov/\"+\\\n",
    "        \"adds/data/winds/ruc00hr_sfc_windstrm.gif\"\n",
    "Wind_FileEnd=\"Current_Wind.png\"\n",
    "Wind_AxisTitle=\"Current Wind Streamlines: \"\n",
    "Wind = [Wind_page,Wind_FileEnd,Wind_AxisTitle]\n",
    "\n",
    "Vis_page=\"http://www.ssd.noaa.gov/PS/PCPN/DATA/RT/NA/VIS/20.jpg\"\n",
    "Vis_FileEnd=\"Current_Vis.png\"\n",
    "Vis_AxisTitle=\"Current Satellite Visible: \"\n",
    "Vis = [Vis_page,Vis_FileEnd,Vis_AxisTitle]\n",
    "\n",
    "Fire_page=\"http://www.spc.noaa.gov/products/fire_wx/day1otlk_fire.gif?1471879647537.gif\"\n",
    "Fire_FileEnd=\"FireIndex.png\" \n",
    "Fire_AxisTitle=\"Fire Index: \"\n",
    "Fire = [Fire_page,Fire_FileEnd,Fire_AxisTitle]\n",
    "\n",
    "DenMeteogram_page=\"http://forecast.weather.gov/meteograms/Plotter.php?lat=39.6897&\"+\\\n",
    "\"lon=-105.0246&wfo=BOU&zcode=COZ040&gset=15&gdiff=3&unit=0&tinfo=MY7&ahour=0&pcmd=\"+\\\n",
    "\"11011111111110000000000000000000000000000000000000000000000&lg=en&indu=1!1!1!&dd=\"+\\\n",
    "\"&bw=&hrspan=48&pqpfhr=6&psnwhr=6\"\n",
    "DenMeteogram_FileEnd=\"DenverMeteogram.png\" \n",
    "DenMeteogram_AxisTitle=\"Denver Meteogram: \"\n",
    "DenMeteogram = [DenMeteogram_page,DenMeteogram_FileEnd,DenMeteogram_AxisTitle]\n",
    "\n",
    "Meteogram_page=\"http://forecast.weather.gov/meteograms/Plotter\"+\\\n",
    "        \".php?lat=40.6178&lon=-105.041&wfo=BOU&zcode=COZ038&gset=15&gdiff\"+\\\n",
    "        \"=3&unit=0&tinfo=MY7&ahour=0&pcmd=110111111111100000000000000000\"+\\\n",
    "        \"00000000000000000000000000000&lg=en&indu=1!1!1!&dd=&bw=&hrspan\"+\\\n",
    "        \"=48&pqpfhr=6&psnwhr=6\"\n",
    "Meteogram_FileEnd=\"FTCMeteogram.png\" \n",
    "Meteogram_AxisTitle=\"Fort Collins Meteogram: \"\n",
    "Meteogram = [Meteogram_page,Meteogram_FileEnd,Meteogram_AxisTitle]\n",
    "\n",
    "GOESBould_page=\"http://www.ospo.noaa.gov/data/soundings/sfov/skewt/kbol.gif\"\n",
    "GOESBould_FileEnd=\"Boulder_Sounding.png\" \n",
    "GOESBould_AxisTitle=\"Boulder Sounding (GOES): \"\n",
    "GOESBould = [GOESBould_page,GOESBould_FileEnd,GOESBould_AxisTitle]\n",
    "\n",
    "GOESFTC_page=\"http://www.ospo.noaa.gov/data/soundings/sfov/skewt/fcl.gif\"\n",
    "GOESFTC_FileEnd=\"FtCollins_Sounding.png\"  \n",
    "GOESFTC_AxisTitle=\"Ft Collins Sounding (GOES): \"\n",
    "GOESFTC = [GOESFTC_page,GOESFTC_FileEnd,GOESFTC_AxisTitle]\n",
    "\n",
    "SurfAnalNA_page=\"http://www.wpc.ncep.noaa.gov/sfc/90fwbg.gif\" \n",
    "SurfAnalNA_FileEnd=\"Current_Surf_Analy_NorthAmerica.png\"  \n",
    "SurfAnalNA_AxisTitle=\"Surface Analysis (North America): \"\n",
    "SurfAnalNA = [SurfAnalNA_page,SurfAnalNA_FileEnd,SurfAnalNA_AxisTitle]\n",
    "    \n",
    "SurfAnal_page=\"http://www.wpc.ncep.noaa.gov/sfc/namussfcwbg.gif\" \n",
    "SurfAnal_FileEnd=\"Current_Surf_Analy.png\"  \n",
    "SurfAnal_AxisTitle=\"Surface Analysis: \"\n",
    "SurfAnal = [SurfAnal_page,SurfAnal_FileEnd,SurfAnal_AxisTitle]\n",
    "\n",
    "SurfAnalSimple_page=\"http://www.wpc.ncep.noaa.gov/sfc/usfntsfc12wbg.gif\"\n",
    "SurfAnalSimple_FileEnd=\"Current_Surf_Analy_SIMPLE.png\"  \n",
    "SurfAnalSimple_AxisTitle=\"Surface Analysis (Simple): \"\n",
    "SurfAnalSimple = [SurfAnalSimple_page,SurfAnalSimple_FileEnd,SurfAnalSimple_AxisTitle]\n",
    "\n",
    "Temps_page=\"http://ww2010.atmos.uiuc.edu/%28Gh%29/wx/cwp/prods/current/sfctmp/sfctmp_N.gif\"\n",
    "Temps_FileEnd=\"Current_Surf_Temps.png\" \n",
    "Temps_AxisTitle=\"Surface Temps: \"\n",
    "Temps = [Temps_page,Temps_FileEnd,Temps_AxisTitle]\n",
    "\n",
    "DewPt_page=\"http://ww2010.atmos.uiuc.edu/wx/cwp/prods/current/sfctdp/sfctdp_N.gif\"\n",
    "DewPt_FileEnd=\"Current_DewPt_Temps.png\" \n",
    "DewPt_AxisTitle=\"Dew Point: \"\n",
    "DewPt = [DewPt_page,DewPt_FileEnd,DewPt_AxisTitle]\n",
    "\n",
    "Winds_page=\"https://www.aviationweather.gov/adds/data/winds/ruc00hr_sfc_windstrm.gif\"\n",
    "Winds_FileEnd=\"Current_Surf_Winds.png\" \n",
    "Winds_AxisTitle=\"Surface Wind Streamlines: \"\n",
    "Winds = [Winds_page,Winds_FileEnd,Winds_AxisTitle]\n",
    "\n",
    "WV_page=\"http://www.ssd.noaa.gov/PS/PCPN/DATA/RT/NA/WV/20.jpg\"\n",
    "WV_FileEnd=\"Current_WV.png\" \n",
    "WV_AxisTitle=\"Current Satellite Water Vapor: \"\n",
    "WV = [WV_page,WV_FileEnd,WV_AxisTitle]\n",
    "\n",
    "IR_page=\"http://www.ssd.noaa.gov/PS/PCPN/DATA/RT/NA/IR4/20.jpg\"\n",
    "IR_FileEnd=\"Current_IR.png\" \n",
    "IR_AxisTitle=\"Current Satellite IR: \"\n",
    "IR = [IR_page,IR_FileEnd,IR_AxisTitle]\n",
    "\n",
    "USRadar_page=\"http://radar.weather.gov/Conus/RadarImg/latest.gif\"\n",
    "USRadar_FileEnd=\"Current_US_Radar_LARGE.png\" \n",
    "USRadar_AxisTitle=\"Current Radar: \"\n",
    "USRadar = [USRadar_page,USRadar_FileEnd,USRadar_AxisTitle]\n",
    "\n",
    "CORockRadar_page=\"http://radar.weather.gov/Conus/RadarImg/northrockies.gif\" \n",
    "CORockRadar_FileEnd=\"Current_Rockies_Radar.png\" \n",
    "CORockRadar_AxisTitle=\"Current Rockies Radar: \"\n",
    "CORockRadar = [CORockRadar_page,CORockRadar_FileEnd,CORockRadar_AxisTitle]\n",
    "\n",
    "IntSurfAn_page=\"http://images.intellicast.com/WxImages/SurfaceAnalysis/usa_ICast.gif\" \n",
    "IntSurfAn_FileEnd=\"Current_Surf_Analysis.png\" \n",
    "IntSurfAn_AxisTitle=\"Current Intellicast Surface Analysis: \"\n",
    "IntSurfAn = [IntSurfAn_page,IntSurfAn_FileEnd,IntSurfAn_AxisTitle]\n",
    "\n",
    "USWarnings_page=\"http://forecast.weather.gov/wwamap/png/US.png\"\n",
    "USWarnings_FileEnd=\"US_Warnings.png\"\n",
    "USWarnings_AxisTitle=\"US Warnings and Watches: \"\n",
    "USWarnings = [USWarnings_page,USWarnings_FileEnd,USWarnings_AxisTitle]\n",
    "\n",
    "#########################################################################\n",
    "# SPC Various Surface Maps, Detailed!  National.\n",
    "# Thermodynamics, Basic Measurements, Radar, etc.\n",
    "# 0-page, 1-FileEnd, 2-AxisTitle\n",
    "#########################################################################\n",
    "# 850mb Moisture Transport\n",
    "SurfMoistTrans_page = \"http://www.spc.noaa.gov/exper/mesoanalysis/s19/tran/tran.gif\"\n",
    "SurfMoistTrans_FileEnd=\"SrfMoistTrans.png\"\n",
    "SurfMoistTrans_AxisTitle=\"850mb Moisture Transport: \"\n",
    "SurfMoistTrans = [SurfMoistTrans_page,SurfMoistTrans_FileEnd,SurfMoistTrans_AxisTitle]\n",
    "\n",
    "# Most Unstable Cape/Effective Bulk Shear\n",
    "MUCAPEShear_page = \"http://www.spc.noaa.gov/exper/mesoanalysis/s19/cpsh/cpsh.gif\"\n",
    "MUCAPEShear_FileEnd=\"MUCAPE_EffBkShr.png\"\n",
    "MUCAPEShear_AxisTitle=\"Most Unstable Cape/Effective Bulk Shear: \"\n",
    "MUCAPEShear = [MUCAPEShear_page,MUCAPEShear_FileEnd,MUCAPEShear_AxisTitle]\n",
    "\n",
    "# 850 and 500mb Winds\n",
    "UppLowWinds_page = \"http://www.spc.noaa.gov/exper/mesoanalysis/s19/xover/xover.gif\"\n",
    "UppLowWinds_FileEnd=\"850&500mb_Winds.png\"\n",
    "UppLowWinds_AxisTitle=\"850 and 500mb Winds: \"\n",
    "UppLowWinds = [UppLowWinds_page,UppLowWinds_FileEnd,UppLowWinds_AxisTitle]\n",
    "\n",
    "# LCL Heights\n",
    "LCL_page = \"http://www.spc.noaa.gov/exper/mesoanalysis/s19/lclh/lclh.gif\"\n",
    "LCL_FileEnd=\"LCLHeights.png\"\n",
    "LCL_AxisTitle=\"Lifting Condensation Level Heights: \"\n",
    "LCL = [LCL_page,LCL_FileEnd,LCL_AxisTitle]\n",
    "\n",
    "# Mean Sea Level Winds\n",
    "MSLWinds = \"http://www.spc.noaa.gov/exper/mesoanalysis/s19/pmsl/pmsl.gif\"\n",
    "LCL_FileEnd=\"LCLHeights.png\"\n",
    "LCL_AxisTitle=\"Lifting Condensation Level Heights: \"\n",
    "LCL = [LCL_page,LCL_FileEnd,LCL_AxisTitle]\n",
    "\n",
    "# RADAR\n",
    "RADAR_page = \"http://www.spc.noaa.gov/exper/mesoanalysis/s19/rgnlrad/rgnlrad.gif\"\n",
    "RADAR_FileEnd=\"RADAR.png\"\n",
    "RADAR_AxisTitle=\"RADAR: \"\n",
    "RADAR = [RADAR_page,RADAR_FileEnd,RADAR_AxisTitle]\n",
    "\n",
    "# Surface Convergence and Divergence\n",
    "ConDiv_page = \"http://www.spc.noaa.gov/exper/mesoanalysis/s19/dvvr/dvvr.gif\"\n",
    "ConDiv_FileEnd=\"Srf_ConvDiv.png\"\n",
    "ConDiv_AxisTitle=\"Surface Convergence and Divergence: \"\n",
    "ConDiv = [ConDiv_page,ConDiv_FileEnd,ConDiv_AxisTitle]\n",
    "\n",
    "# Precipitation Type\n",
    "PrecipType_page = \"http://www.spc.noaa.gov/exper/mesoanalysis/s19/ptyp/ptyp.gif\"\n",
    "PrecipType_FileEnd=\"Precip_Type.png\"\n",
    "PrecipType_AxisTitle=\"Precipitation Type: \"\n",
    "PrecipType = [PrecipType_page,PrecipType_FileEnd,PrecipType_AxisTitle]\n",
    "\n",
    "# Dendritic Layer Depth\n",
    "DenLayDep_page=\"http://www.spc.noaa.gov/exper/mesoanalysis/s19/dend/dend.gif\"\n",
    "DenLayDep_FileEnd=\"DendLayDepth.png\"\n",
    "DenLayDep_AxisTitle=\"Dendritic Layer Depth: \"\n",
    "DenLayDep = [DenLayDep_page,DenLayDep_FileEnd,DenLayDep_AxisTitle]\n",
    "\n",
    "# WPC 3-Day Forecast; nice for visual\n",
    "SrfcForecast1_page=\"http://www.wpc.ncep.noaa.gov/noaa/noaad1.gif\"\n",
    "SrfcForecast1_FileEnd=\"SrfcForecast_Day1.png\"\n",
    "SrfcForecast1_AxisTitle=\"Surface Forecast Day 1: \"\n",
    "SrfcForecast1 = [SrfcForecast1_page,SrfcForecast1_FileEnd,SrfcForecast1_AxisTitle]\n",
    "\n",
    "SrfcForecast2_page=\"http://www.wpc.ncep.noaa.gov/noaa/noaad2.gif\"\n",
    "SrfcForecast2_FileEnd=\"SrfcForecast_Day2.png\"\n",
    "SrfcForecast2_AxisTitle=\"Surface Forecast Day 2: \"\n",
    "SrfcForecast2 = [SrfcForecast2_page,SrfcForecast2_FileEnd,SrfcForecast2_AxisTitle]\n",
    "\n",
    "SrfcForecast3_page=\"http://www.wpc.ncep.noaa.gov/noaa/noaad3.gif\"\n",
    "SrfcForecast3_FileEnd=\"SrfcForecast_Day3.png\"\n",
    "SrfcForecast3_AxisTitle=\"Surface Forecast Day 3: \"\n",
    "SrfcForecast3 = [SrfcForecast3_page,SrfcForecast3_FileEnd,SrfcForecast3_AxisTitle]\n",
    "\n",
    "WPCFrontsandWeather_page=\"http://www.wpc.ncep.noaa.gov/basicwx/92fndfd.gif\"\n",
    "WPCFrontsandWeather_FileEnd=\"WPCFrontsandWeather_Day1.png\"\n",
    "WPCFrontsandWeather_AxisTitle=\"Fronts and Weather Type Forecast Day 1: \"\n",
    "WPCFrontsandWeather = [WPCFrontsandWeather_page,WPCFrontsandWeather_FileEnd,WPCFrontsandWeather_AxisTitle]\n",
    "\n",
    "WPCFrontsandWeather2_page=\"http://www.wpc.ncep.noaa.gov/basicwx/94fndfd.gif\"\n",
    "WPCFrontsandWeather2_FileEnd=\"WPCFrontsandWeather_Day2.png\"\n",
    "WPCFrontsandWeather2_AxisTitle=\"Fronts and Weather Type Forecast Day 2: \"\n",
    "WPCFrontsandWeather2 = [WPCFrontsandWeather2_page,WPCFrontsandWeather2_FileEnd,WPCFrontsandWeather2_AxisTitle]\n",
    "\n",
    "WPCFrontsandWeather3_page=\"http://www.wpc.ncep.noaa.gov/basicwx/96fndfd.gif\"\n",
    "WPCFrontsandWeather3_FileEnd=\"WPCFrontsandWeather_Day3.png\"\n",
    "WPCFrontsandWeather3_AxisTitle=\"Fronts and Weather Type Forecast Day 3: \"\n",
    "WPCFrontsandWeather3 = [WPCFrontsandWeather3_page,WPCFrontsandWeather3_FileEnd,WPCFrontsandWeather3_AxisTitle]\n",
    "\n",
    "WPCFrontsandWeather4_page=\"http://www.wpc.ncep.noaa.gov/basicwx/98fndfd.gif\"\n",
    "WPCFrontsandWeather4_FileEnd=\"WPCFrontsandWeather_Day4.png\"\n",
    "WPCFrontsandWeather4_AxisTitle=\"Fronts and Weather Type Forecast Day 4: \"\n",
    "WPCFrontsandWeather4 = [WPCFrontsandWeather4_page,WPCFrontsandWeather4_FileEnd,WPCFrontsandWeather4_AxisTitle]\n",
    "\n",
    "#########################################################################\n",
    "# Convection Outlook\n",
    "#########################################################################\n",
    "ConvDay1_page=\"http://www.spc.noaa.gov/products/outlook/day1otlk_1300_prt.gif\"\n",
    "ConvDay1_FileEnd=\"ConvDay1.png\"\n",
    "ConvDay1_AxisTitle=\"Convective Outlook Day 1: \"\n",
    "ConvDay1 = [ConvDay1_page,ConvDay1_FileEnd,ConvDay1_AxisTitle]\n",
    "\n",
    "ConvDay1_Torn_page=\"http://www.spc.noaa.gov/products/outlook/day1probotlk_1300_torn_prt.gif\"\n",
    "ConvDay1_Torn_FileEnd=\"ConvDay1_Tornado.png\"\n",
    "ConvDay1_Torn_AxisTitle=\"Convective Outlook Tornado Day 1: \"\n",
    "ConvDay1_Torn = [ConvDay1_Torn_page,ConvDay1_Torn_FileEnd,ConvDay1_Torn_AxisTitle]\n",
    "\n",
    "ConvDay1_Wind_page=\"http://www.spc.noaa.gov/products/outlook/day1probotlk_1300_wind_prt.gif\"\n",
    "ConvDay1_Wind_FileEnd=\"ConvDay1_Wind.png\"\n",
    "ConvDay1_Wind_AxisTitle=\"Convective Outlook Wind Day 1: \"\n",
    "ConvDay1_Wind = [ConvDay1_Wind_page,ConvDay1_Wind_FileEnd,ConvDay1_Wind_AxisTitle]\n",
    "\n",
    "ConvDay1_Hail_page=\"http://www.spc.noaa.gov/products/outlook/day1probotlk_1300_hail_prt.gif\"\n",
    "ConvDay1_Hail_FileEnd=\"ConvDay1_Hail.png\"\n",
    "ConvDay1_Hail_AxisTitle=\"Convective Outlook Hail Day 1: \"\n",
    "ConvDay1_Hail = [ConvDay1_Hail_page,ConvDay1_Hail_FileEnd,ConvDay1_Hail_AxisTitle]\n",
    "\n",
    "ConvDay1_List = [ConvDay1,ConvDay1_Torn,ConvDay1_Wind,ConvDay1_Hail]\n",
    "#########################################################################\n",
    "\n",
    "ConvDay2_page=\"http://www.spc.noaa.gov/products/outlook/day2otlk_1300_prt.gif\"\n",
    "ConvDay2_FileEnd=\"ConvDay2.png\"\n",
    "ConvDay2_AxisTitle=\"Convective Outlook Day 2: \"\n",
    "ConvDay2 = [ConvDay2_page,ConvDay2_FileEnd,ConvDay2_AxisTitle]\n",
    "\n",
    "ConvDay2_any_page=\"http://www.spc.noaa.gov/products/outlook/day2probotlk_1300_any_prt.gif\"\n",
    "ConvDay2_any_FileEnd=\"ConvDay2_AnyPercentage.png\"\n",
    "ConvDay2_any_AxisTitle=\"Convective Outlook Any Percentage Day 2: \"\n",
    "ConvDay2_any = [ConvDay2_any_page,ConvDay2_any_FileEnd,ConvDay2_any_AxisTitle]\n",
    "\n",
    "ConvDay2_List = [ConvDay2,ConvDay2_any]\n",
    "#########################################################################\n",
    "#########################################################################\n",
    "\n",
    "# Current list is missing Convective day 2\n",
    "\n",
    "#########################################################################\n",
    "# Duane Meteorgram\n",
    "#########################################################################\n",
    "Duane_page=\"http://foehn.colorado.edu/weather/atoc1/wxobs\"\\\n",
    "        +str(Year)+str(Month)+str(Day)+\".png\"\n",
    "Duane_FileEnd=\"Current Duane Meteo.png\" \n",
    "Duane_AxisTitle=\"Duane Meteorgram: \"\n",
    "Duane = [Duane_page,Duane_FileEnd,Duane_AxisTitle]\n",
    "\n",
    "\n",
    "#########################################################################\n",
    "# Snow Water Equivalent\n",
    "#########################################################################\n",
    "SnowWater_page=\"http://www.nohrsc.noaa.gov/snow_model/\"+\\\n",
    "        \"images/full/National/nsm_swe/\"+str(Year)+str(Month)+\\\n",
    "        \"/nsm_swe_\"+str(Year)+str(Month)+str(Day)+\"05_National.jpg\"\n",
    "SnowWater_FileEnd=\"Snow Water Eq.png\" \n",
    "SnowWater_AxisTitle=\"Snow Water Equivalent: \"\n",
    "SnowWater = [SnowWater_page,SnowWater_FileEnd,SnowWater_AxisTitle]\n",
    "\n",
    "\n",
    "#########################################################################\n",
    "# 24 Hour Snow Accumulation\n",
    "#########################################################################\n",
    "Snow24Hr_page=\"http://www.nohrsc.noaa.gov/snowfall_v2/data/\"+\\\n",
    "        str(Year)+str(Month)+\"/sfav2_CONUS_24h_\"+str(Year)+str(Month)+str(Day)+\"12.png\"\n",
    "Snow24Hr_FileEnd=\"24hr Snow.png\" \n",
    "Snow24Hr_AxisTitle=\"24 Hour Snow Accumulation: \"\n",
    "Snow24Hr = [Snow24Hr_page,Snow24Hr_FileEnd,Snow24Hr_AxisTitle]\n",
    "\n",
    "\n",
    "#########################################################################\n",
    "\n",
    "\n",
    "\n",
    "currentList = [Vis,Fire,Meteogram,DenMeteogram,GOESBould,GOESFTC,SurfAnal,SurfAnalNA,\\\n",
    "SurfAnalSimple,WPCFrontsandWeather,WPCFrontsandWeather2,WPCFrontsandWeather3,WPCFrontsandWeather4,\\\n",
    "WV,IR,IntSurfAn,USWarnings,ConvDay1,ConvDay1_Torn,ConvDay1_Wind,\\\n",
    "ConvDay1_Hail,SrfcForecast1,SrfcForecast2,SrfcForecast3,Temps,DewPt,Duane]\n",
    "\n",
    "infoList = [SurfMoistTrans,MUCAPEShear,UppLowWinds,LCL,RADAR,ConDiv,PrecipType,DenLayDep,\\\n",
    "Snow24Hr,SnowWater]\n",
    "\n",
    "#CORadar,USRadar\n",
    "#AxisTitlez = []\n",
    "#for i in range(len(infoList)):\n",
    "#    AxisTitlez.append(infoList[i][2][:-2])"
   ]
  },
  {
   "cell_type": "markdown",
   "metadata": {},
   "source": [
    "<h2><font face=\"fantasy, serif\" color=#533563 style=\"font-size:30px\">This is essentially my main function; it will prompt user to provide a save location, the full address, to save the images. Hidden behind the scenes in the CurrentMap( ) function is a folder creating piece of code that makes, navigates to and populates the current day folder.</font></h2>\n",
    "\n",
    "<h3><center><font face=\"fantasy, serif\" color=#533907 style=\"font-size:24px\">CurrentMap(Page Address, Filename Ending, Saved File Location, Axis Title)</font></center></h3>"
   ]
  },
  {
   "cell_type": "code",
   "execution_count": 17,
   "metadata": {},
   "outputs": [
    {
     "name": "stdout",
     "output_type": "stream",
     "text": [
      "http://www.ssd.noaa.gov/PS/PCPN/DATA/RT/NA/VIS/20.jpg\n",
      "http://www.spc.noaa.gov/products/fire_wx/day1otlk_fire.gif?1471879647537.gif\n",
      "http://forecast.weather.gov/meteograms/Plotter.php?lat=40.6178&lon=-105.041&wfo=BOU&zcode=COZ038&gset=15&gdiff=3&unit=0&tinfo=MY7&ahour=0&pcmd=11011111111110000000000000000000000000000000000000000000000&lg=en&indu=1!1!1!&dd=&bw=&hrspan=48&pqpfhr=6&psnwhr=6\n",
      "http://forecast.weather.gov/meteograms/Plotter.php?lat=39.6897&lon=-105.0246&wfo=BOU&zcode=COZ040&gset=15&gdiff=3&unit=0&tinfo=MY7&ahour=0&pcmd=11011111111110000000000000000000000000000000000000000000000&lg=en&indu=1!1!1!&dd=&bw=&hrspan=48&pqpfhr=6&psnwhr=6\n",
      "http://www.ospo.noaa.gov/data/soundings/sfov/skewt/kbol.gif\n",
      "http://www.ospo.noaa.gov/data/soundings/sfov/skewt/fcl.gif\n",
      "http://www.wpc.ncep.noaa.gov/sfc/namussfcwbg.gif\n",
      "http://www.wpc.ncep.noaa.gov/sfc/90fwbg.gif\n",
      "http://www.wpc.ncep.noaa.gov/sfc/usfntsfc12wbg.gif\n",
      "http://www.wpc.ncep.noaa.gov/basicwx/92fndfd.gif\n",
      "http://www.wpc.ncep.noaa.gov/basicwx/94fndfd.gif\n",
      "http://www.wpc.ncep.noaa.gov/basicwx/96fndfd.gif\n",
      "http://www.wpc.ncep.noaa.gov/basicwx/98fndfd.gif\n",
      "http://www.ssd.noaa.gov/PS/PCPN/DATA/RT/NA/WV/20.jpg\n",
      "http://www.ssd.noaa.gov/PS/PCPN/DATA/RT/NA/IR4/20.jpg\n",
      "http://images.intellicast.com/WxImages/SurfaceAnalysis/usa_ICast.gif\n",
      "http://forecast.weather.gov/wwamap/png/US.png\n",
      "http://www.spc.noaa.gov/products/outlook/day1otlk_1300_prt.gif\n",
      "http://www.spc.noaa.gov/products/outlook/day1probotlk_1300_torn_prt.gif\n",
      "http://www.spc.noaa.gov/products/outlook/day1probotlk_1300_wind_prt.gif\n",
      "http://www.spc.noaa.gov/products/outlook/day1probotlk_1300_hail_prt.gif\n",
      "http://www.wpc.ncep.noaa.gov/noaa/noaad1.gif\n",
      "http://www.wpc.ncep.noaa.gov/noaa/noaad2.gif\n",
      "http://www.wpc.ncep.noaa.gov/noaa/noaad3.gif\n",
      "http://ww2010.atmos.uiuc.edu/%28Gh%29/wx/cwp/prods/current/sfctmp/sfctmp_N.gif\n",
      "http://ww2010.atmos.uiuc.edu/wx/cwp/prods/current/sfctdp/sfctdp_N.gif\n",
      "http://foehn.colorado.edu/weather/atoc1/wxobs20181027.png\n",
      "http://www.spc.noaa.gov/exper/mesoanalysis/s19/tran/tran.gif\n",
      "http://www.spc.noaa.gov/exper/mesoanalysis/s19/cpsh/cpsh.gif\n",
      "http://www.spc.noaa.gov/exper/mesoanalysis/s19/xover/xover.gif\n",
      "http://www.spc.noaa.gov/exper/mesoanalysis/s19/lclh/lclh.gif\n",
      "http://www.spc.noaa.gov/exper/mesoanalysis/s19/rgnlrad/rgnlrad.gif\n",
      "http://www.spc.noaa.gov/exper/mesoanalysis/s19/dvvr/dvvr.gif\n",
      "http://www.spc.noaa.gov/exper/mesoanalysis/s19/ptyp/ptyp.gif\n",
      "http://www.spc.noaa.gov/exper/mesoanalysis/s19/dend/dend.gif\n",
      "http://www.nohrsc.noaa.gov/snowfall_v2/data/201810/sfav2_CONUS_24h_2018102712.png\n",
      "http://www.nohrsc.noaa.gov/snow_model/images/full/National/nsm_swe/201810/nsm_swe_2018102705_National.jpg\n"
     ]
    }
   ],
   "source": [
    "# Check to see if the path already exists and if not, create the folder\n",
    "if not os.path.isdir(mypath):\n",
    "    os.makedirs(mypath)\n",
    "os.chdir(mypath)\n",
    "\n",
    "# CurrentMap(page,FileEnd,loc,AxisTitle)\n",
    "\n",
    "for i in range(len(currentList)):\n",
    "    CurrentMap(currentList[i][0],currentList[i][1],mypath,currentList[i][2]) \n",
    "for i in range(len(infoList)):\n",
    "    CurrentMap(infoList[i][0],infoList[i][1],mypath,infoList[i][2]) "
   ]
  },
  {
   "cell_type": "markdown",
   "metadata": {},
   "source": []
  },
  {
   "cell_type": "markdown",
   "metadata": {},
   "source": [
    "<h2><font face=\"fantasy, serif\" color=#533563 style=\"font-size:30px\">Trying to run other notebooks directly in this one so I can run all three of my main daily notebooks without having to do it manually. I know it's a _real_ time saver...</font><br/ ><font face=\"fantasy, serif\" color=#533563 style=\"font-size:20px\"><div class=\"alert alert-danger\"><p>There are some major issues with running notebooks in other notebooks from what I've setup below. If you mess up the user input, you have to restart this notebook and clear input/output and run again. This can be tedious, just a heads up.</p></font></h2>"
   ]
  },
  {
   "cell_type": "code",
   "execution_count": 18,
   "metadata": {
    "collapsed": true
   },
   "outputs": [],
   "source": [
    "def find_notebook(fullname, path=None):\n",
    "    \"\"\"find a notebook, given its fully qualified name and an optional path\n",
    "\n",
    "    This turns \"foo.bar\" into \"foo/bar.ipynb\"\n",
    "    and tries turning \"Foo_Bar\" into \"Foo Bar\" if Foo_Bar\n",
    "    does not exist.\n",
    "    \"\"\"\n",
    "    name = fullname.rsplit('.', 1)[-1]\n",
    "    if not path:\n",
    "        path = ['']\n",
    "    for d in path:\n",
    "        nb_path = os.path.join(d, name + \".ipynb\")\n",
    "        if os.path.isfile(nb_path):\n",
    "            return nb_path\n",
    "        # let import Notebook_Name find \"Notebook Name.ipynb\"\n",
    "        nb_path = nb_path.replace(\"_\", \" \")\n",
    "        if os.path.isfile(nb_path):\n",
    "            return nb_path\n",
    "\n",
    "\n",
    "class NotebookLoader(object):\n",
    "    \"\"\"Module Loader for Jupyter Notebooks\"\"\"\n",
    "    def __init__(self, path=None):\n",
    "        self.shell = InteractiveShell.instance()\n",
    "        self.path = path\n",
    "\n",
    "    def load_module(self, fullname):\n",
    "        \"\"\"import a notebook as a module\"\"\"\n",
    "        path = find_notebook(fullname, self.path)\n",
    "\n",
    "        print (\"importing Jupyter notebook from %s\" % path)\n",
    "\n",
    "        # load the notebook object\n",
    "        with io.open(path, 'r', encoding='utf-8') as f:\n",
    "            nb = current.read(f, 'json')\n",
    "\n",
    "\n",
    "        # create the module and add it to sys.modules\n",
    "        # if name in sys.modules:\n",
    "        #    return sys.modules[name]\n",
    "        mod = types.ModuleType(fullname)\n",
    "        mod.__file__ = path\n",
    "        mod.__loader__ = self\n",
    "        mod.__dict__['get_ipython'] = get_ipython\n",
    "        sys.modules[fullname] = mod\n",
    "\n",
    "        # extra work to ensure that magics that would affect the user_ns\n",
    "        # actually affect the notebook module's ns\n",
    "        save_user_ns = self.shell.user_ns\n",
    "        self.shell.user_ns = mod.__dict__\n",
    "\n",
    "        try:\n",
    "            for cell in nb.worksheets[0].cells:\n",
    "                if cell.cell_type == 'code' and cell.language == 'python':\n",
    "                # transform the input to executable Python\n",
    "                    code = self.shell.input_transformer_manager.transform_cell(cell.input)\n",
    "                # run the code in themodule\n",
    "                    exec(code, mod.__dict__)\n",
    "        finally:\n",
    "            self.shell.user_ns = save_user_ns\n",
    "        return mod\n",
    "\n",
    "\n",
    "class NotebookFinder(object):\n",
    "    \"\"\"Module finder that locates Jupyter Notebooks\"\"\"\n",
    "    def __init__(self):\n",
    "        self.loaders = {}\n",
    "\n",
    "    def find_module(self, fullname, path=None):\n",
    "        nb_path = find_notebook(fullname, path)\n",
    "        if not nb_path:\n",
    "            return\n",
    "\n",
    "        key = path\n",
    "        if path:\n",
    "            # lists aren't hashable\n",
    "            key = os.path.sep.join(path)\n",
    "\n",
    "        if key not in self.loaders:\n",
    "            self.loaders[key] = NotebookLoader(path)\n",
    "        return self.loaders[key]\n",
    "\n",
    "sys.meta_path.append(NotebookFinder())\n"
   ]
  },
  {
   "cell_type": "markdown",
   "metadata": {},
   "source": [
    "<h4><div class='alert alert-block alert-warning'><font face='fantasy' color=#2F4F4F \\\n",
    "style='font-size:25px'>Let's try and run my U of Wyo soundings notebook...</font></h4>"
   ]
  },
  {
   "cell_type": "code",
   "execution_count": 19,
   "metadata": {},
   "outputs": [
    {
     "name": "stdout",
     "output_type": "stream",
     "text": [
      "importing Jupyter notebook from UWyo_Soundings.ipynb\n",
      "72659\n",
      "Spokane, WA\n",
      "Using matplotlib backend: MacOSX\n",
      "Populating the interactive namespace from numpy and matplotlib\n",
      "Denver: 72469\n",
      "Grand Junction: 72476\n",
      "Our forecast city: 72376\n",
      "(C)urrent time or (a)rchive? C\n",
      "Current Local Hour: 10\n",
      "Fixed Local Hour: 12\n",
      "Oct\n",
      "(D)aily map or (O)ther location: D\n",
      "Multiple Maps? (y) or (n): y\n",
      "The default will run Denver and Grand Junction soundings. Run these (y) or choose other station (n)? y\n"
     ]
    },
    {
     "name": "stderr",
     "output_type": "stream",
     "text": [
      "/Users/chowdahead/anaconda/lib/python2.7/site-packages/bs4/__init__.py:181: UserWarning: No parser was explicitly specified, so I'm using the best available HTML parser for this system (\"lxml\"). This usually isn't a problem, but if you run this code on another system, or in a different virtual environment, it may use a different parser and behave differently.\n",
      "\n",
      "The code that caused this warning is on line 174 of the file /Users/chowdahead/anaconda/lib/python2.7/runpy.py. To get rid of this warning, change code that looks like this:\n",
      "\n",
      " BeautifulSoup(YOUR_MARKUP})\n",
      "\n",
      "to this:\n",
      "\n",
      " BeautifulSoup(YOUR_MARKUP, \"lxml\")\n",
      "\n",
      "  markup_type=markup_type))\n"
     ]
    },
    {
     "name": "stdout",
     "output_type": "stream",
     "text": [
      "\n",
      "---- Lifted Parcel Quantities ----\n",
      "Parcel: SB\n",
      "Ps  : 858.0hPa\n",
      "TCs :   7.0C\n",
      "TDs :   1.0C\n",
      "-------------\n",
      "Plcl: 782.6hPa\n",
      "Tlcl:  -0.3C\n",
      "Plfc:   nanhPa\n",
      "P_el:   nanhPa\n",
      "CAPE:   0.0J\n",
      "CIN:    0.0J\n"
     ]
    },
    {
     "ename": "TypeError",
     "evalue": "_update_label_position() takes exactly 2 arguments (3 given)",
     "output_type": "error",
     "traceback": [
      "\u001b[0;31m---------------------------------------------------------------------------\u001b[0m",
      "\u001b[0;31mTypeError\u001b[0m                                 Traceback (most recent call last)",
      "\u001b[0;32m<ipython-input-19-85abaedec297>\u001b[0m in \u001b[0;36m<module>\u001b[0;34m()\u001b[0m\n\u001b[1;32m      1\u001b[0m \u001b[0mos\u001b[0m\u001b[0;34m.\u001b[0m\u001b[0mchdir\u001b[0m\u001b[0;34m(\u001b[0m\u001b[0mdesktoppath\u001b[0m\u001b[0;34m+\u001b[0m\u001b[0;34m\"/Weather_Notebooks/Daily/\"\u001b[0m\u001b[0;34m)\u001b[0m\u001b[0;34m\u001b[0m\u001b[0m\n\u001b[0;32m----> 2\u001b[0;31m \u001b[0;32mimport\u001b[0m \u001b[0mUWyo_Soundings\u001b[0m \u001b[0;32mas\u001b[0m \u001b[0mSound\u001b[0m\u001b[0;34m\u001b[0m\u001b[0m\n\u001b[0m",
      "\u001b[0;32m<ipython-input-18-b0e80197b6a8>\u001b[0m in \u001b[0;36mload_module\u001b[0;34m(self, fullname)\u001b[0m\n\u001b[1;32m     56\u001b[0m                     \u001b[0mcode\u001b[0m \u001b[0;34m=\u001b[0m \u001b[0mself\u001b[0m\u001b[0;34m.\u001b[0m\u001b[0mshell\u001b[0m\u001b[0;34m.\u001b[0m\u001b[0minput_transformer_manager\u001b[0m\u001b[0;34m.\u001b[0m\u001b[0mtransform_cell\u001b[0m\u001b[0;34m(\u001b[0m\u001b[0mcell\u001b[0m\u001b[0;34m.\u001b[0m\u001b[0minput\u001b[0m\u001b[0;34m)\u001b[0m\u001b[0;34m\u001b[0m\u001b[0m\n\u001b[1;32m     57\u001b[0m                 \u001b[0;31m# run the code in themodule\u001b[0m\u001b[0;34m\u001b[0m\u001b[0;34m\u001b[0m\u001b[0m\n\u001b[0;32m---> 58\u001b[0;31m                     \u001b[0;32mexec\u001b[0m\u001b[0;34m(\u001b[0m\u001b[0mcode\u001b[0m\u001b[0;34m,\u001b[0m \u001b[0mmod\u001b[0m\u001b[0;34m.\u001b[0m\u001b[0m__dict__\u001b[0m\u001b[0;34m)\u001b[0m\u001b[0;34m\u001b[0m\u001b[0m\n\u001b[0m\u001b[1;32m     59\u001b[0m         \u001b[0;32mfinally\u001b[0m\u001b[0;34m:\u001b[0m\u001b[0;34m\u001b[0m\u001b[0m\n\u001b[1;32m     60\u001b[0m             \u001b[0mself\u001b[0m\u001b[0;34m.\u001b[0m\u001b[0mshell\u001b[0m\u001b[0;34m.\u001b[0m\u001b[0muser_ns\u001b[0m \u001b[0;34m=\u001b[0m \u001b[0msave_user_ns\u001b[0m\u001b[0;34m\u001b[0m\u001b[0m\n",
      "\u001b[0;32mUWyo_Soundings.ipynb\u001b[0m in \u001b[0;36m<module>\u001b[0;34m()\u001b[0m\n",
      "\u001b[0;32mUWyo_Soundings.ipynb\u001b[0m in \u001b[0;36mUWyoRadiosonde\u001b[0;34m(stn, year, month, day, hour, path, plot_title)\u001b[0m\n",
      "\u001b[0;32m/Users/chowdahead/anaconda/lib/python2.7/site-packages/matplotlib/pyplot.pyc\u001b[0m in \u001b[0;36msavefig\u001b[0;34m(*args, **kwargs)\u001b[0m\n\u001b[1;32m    693\u001b[0m \u001b[0;32mdef\u001b[0m \u001b[0msavefig\u001b[0m\u001b[0;34m(\u001b[0m\u001b[0;34m*\u001b[0m\u001b[0margs\u001b[0m\u001b[0;34m,\u001b[0m \u001b[0;34m**\u001b[0m\u001b[0mkwargs\u001b[0m\u001b[0;34m)\u001b[0m\u001b[0;34m:\u001b[0m\u001b[0;34m\u001b[0m\u001b[0m\n\u001b[1;32m    694\u001b[0m     \u001b[0mfig\u001b[0m \u001b[0;34m=\u001b[0m \u001b[0mgcf\u001b[0m\u001b[0;34m(\u001b[0m\u001b[0;34m)\u001b[0m\u001b[0;34m\u001b[0m\u001b[0m\n\u001b[0;32m--> 695\u001b[0;31m     \u001b[0mres\u001b[0m \u001b[0;34m=\u001b[0m \u001b[0mfig\u001b[0m\u001b[0;34m.\u001b[0m\u001b[0msavefig\u001b[0m\u001b[0;34m(\u001b[0m\u001b[0;34m*\u001b[0m\u001b[0margs\u001b[0m\u001b[0;34m,\u001b[0m \u001b[0;34m**\u001b[0m\u001b[0mkwargs\u001b[0m\u001b[0;34m)\u001b[0m\u001b[0;34m\u001b[0m\u001b[0m\n\u001b[0m\u001b[1;32m    696\u001b[0m     \u001b[0mfig\u001b[0m\u001b[0;34m.\u001b[0m\u001b[0mcanvas\u001b[0m\u001b[0;34m.\u001b[0m\u001b[0mdraw_idle\u001b[0m\u001b[0;34m(\u001b[0m\u001b[0;34m)\u001b[0m   \u001b[0;31m# need this if 'transparent=True' to reset colors\u001b[0m\u001b[0;34m\u001b[0m\u001b[0m\n\u001b[1;32m    697\u001b[0m     \u001b[0;32mreturn\u001b[0m \u001b[0mres\u001b[0m\u001b[0;34m\u001b[0m\u001b[0m\n",
      "\u001b[0;32m/Users/chowdahead/anaconda/lib/python2.7/site-packages/matplotlib/figure.pyc\u001b[0m in \u001b[0;36msavefig\u001b[0;34m(self, fname, **kwargs)\u001b[0m\n\u001b[1;32m   2060\u001b[0m             \u001b[0mself\u001b[0m\u001b[0;34m.\u001b[0m\u001b[0mset_frameon\u001b[0m\u001b[0;34m(\u001b[0m\u001b[0mframeon\u001b[0m\u001b[0;34m)\u001b[0m\u001b[0;34m\u001b[0m\u001b[0m\n\u001b[1;32m   2061\u001b[0m \u001b[0;34m\u001b[0m\u001b[0m\n\u001b[0;32m-> 2062\u001b[0;31m         \u001b[0mself\u001b[0m\u001b[0;34m.\u001b[0m\u001b[0mcanvas\u001b[0m\u001b[0;34m.\u001b[0m\u001b[0mprint_figure\u001b[0m\u001b[0;34m(\u001b[0m\u001b[0mfname\u001b[0m\u001b[0;34m,\u001b[0m \u001b[0;34m**\u001b[0m\u001b[0mkwargs\u001b[0m\u001b[0;34m)\u001b[0m\u001b[0;34m\u001b[0m\u001b[0m\n\u001b[0m\u001b[1;32m   2063\u001b[0m \u001b[0;34m\u001b[0m\u001b[0m\n\u001b[1;32m   2064\u001b[0m         \u001b[0;32mif\u001b[0m \u001b[0mframeon\u001b[0m\u001b[0;34m:\u001b[0m\u001b[0;34m\u001b[0m\u001b[0m\n",
      "\u001b[0;32m/Users/chowdahead/anaconda/lib/python2.7/site-packages/matplotlib/backend_bases.pyc\u001b[0m in \u001b[0;36mprint_figure\u001b[0;34m(self, filename, dpi, facecolor, edgecolor, orientation, format, **kwargs)\u001b[0m\n\u001b[1;32m   2261\u001b[0m                 \u001b[0morientation\u001b[0m\u001b[0;34m=\u001b[0m\u001b[0morientation\u001b[0m\u001b[0;34m,\u001b[0m\u001b[0;34m\u001b[0m\u001b[0m\n\u001b[1;32m   2262\u001b[0m                 \u001b[0mbbox_inches_restore\u001b[0m\u001b[0;34m=\u001b[0m\u001b[0m_bbox_inches_restore\u001b[0m\u001b[0;34m,\u001b[0m\u001b[0;34m\u001b[0m\u001b[0m\n\u001b[0;32m-> 2263\u001b[0;31m                 **kwargs)\n\u001b[0m\u001b[1;32m   2264\u001b[0m         \u001b[0;32mfinally\u001b[0m\u001b[0;34m:\u001b[0m\u001b[0;34m\u001b[0m\u001b[0m\n\u001b[1;32m   2265\u001b[0m             \u001b[0;32mif\u001b[0m \u001b[0mbbox_inches\u001b[0m \u001b[0;32mand\u001b[0m \u001b[0mrestore_bbox\u001b[0m\u001b[0;34m:\u001b[0m\u001b[0;34m\u001b[0m\u001b[0m\n",
      "\u001b[0;32m/Users/chowdahead/anaconda/lib/python2.7/site-packages/matplotlib/backends/backend_agg.pyc\u001b[0m in \u001b[0;36mprint_png\u001b[0;34m(self, filename_or_obj, *args, **kwargs)\u001b[0m\n\u001b[1;32m    515\u001b[0m \u001b[0;34m\u001b[0m\u001b[0m\n\u001b[1;32m    516\u001b[0m     \u001b[0;32mdef\u001b[0m \u001b[0mprint_png\u001b[0m\u001b[0;34m(\u001b[0m\u001b[0mself\u001b[0m\u001b[0;34m,\u001b[0m \u001b[0mfilename_or_obj\u001b[0m\u001b[0;34m,\u001b[0m \u001b[0;34m*\u001b[0m\u001b[0margs\u001b[0m\u001b[0;34m,\u001b[0m \u001b[0;34m**\u001b[0m\u001b[0mkwargs\u001b[0m\u001b[0;34m)\u001b[0m\u001b[0;34m:\u001b[0m\u001b[0;34m\u001b[0m\u001b[0m\n\u001b[0;32m--> 517\u001b[0;31m         \u001b[0mFigureCanvasAgg\u001b[0m\u001b[0;34m.\u001b[0m\u001b[0mdraw\u001b[0m\u001b[0;34m(\u001b[0m\u001b[0mself\u001b[0m\u001b[0;34m)\u001b[0m\u001b[0;34m\u001b[0m\u001b[0m\n\u001b[0m\u001b[1;32m    518\u001b[0m         \u001b[0mrenderer\u001b[0m \u001b[0;34m=\u001b[0m \u001b[0mself\u001b[0m\u001b[0;34m.\u001b[0m\u001b[0mget_renderer\u001b[0m\u001b[0;34m(\u001b[0m\u001b[0;34m)\u001b[0m\u001b[0;34m\u001b[0m\u001b[0m\n\u001b[1;32m    519\u001b[0m         \u001b[0moriginal_dpi\u001b[0m \u001b[0;34m=\u001b[0m \u001b[0mrenderer\u001b[0m\u001b[0;34m.\u001b[0m\u001b[0mdpi\u001b[0m\u001b[0;34m\u001b[0m\u001b[0m\n",
      "\u001b[0;32m/Users/chowdahead/anaconda/lib/python2.7/site-packages/matplotlib/backends/backend_agg.pyc\u001b[0m in \u001b[0;36mdraw\u001b[0;34m(self)\u001b[0m\n\u001b[1;32m    435\u001b[0m             \u001b[0;31m# if toolbar:\u001b[0m\u001b[0;34m\u001b[0m\u001b[0;34m\u001b[0m\u001b[0m\n\u001b[1;32m    436\u001b[0m             \u001b[0;31m#     toolbar.set_cursor(cursors.WAIT)\u001b[0m\u001b[0;34m\u001b[0m\u001b[0;34m\u001b[0m\u001b[0m\n\u001b[0;32m--> 437\u001b[0;31m             \u001b[0mself\u001b[0m\u001b[0;34m.\u001b[0m\u001b[0mfigure\u001b[0m\u001b[0;34m.\u001b[0m\u001b[0mdraw\u001b[0m\u001b[0;34m(\u001b[0m\u001b[0mself\u001b[0m\u001b[0;34m.\u001b[0m\u001b[0mrenderer\u001b[0m\u001b[0;34m)\u001b[0m\u001b[0;34m\u001b[0m\u001b[0m\n\u001b[0m\u001b[1;32m    438\u001b[0m             \u001b[0;31m# A GUI class may be need to update a window using this draw, so\u001b[0m\u001b[0;34m\u001b[0m\u001b[0;34m\u001b[0m\u001b[0m\n\u001b[1;32m    439\u001b[0m             \u001b[0;31m# don't forget to call the superclass.\u001b[0m\u001b[0;34m\u001b[0m\u001b[0;34m\u001b[0m\u001b[0m\n",
      "\u001b[0;32m/Users/chowdahead/anaconda/lib/python2.7/site-packages/matplotlib/artist.pyc\u001b[0m in \u001b[0;36mdraw_wrapper\u001b[0;34m(artist, renderer, *args, **kwargs)\u001b[0m\n\u001b[1;32m     53\u001b[0m                 \u001b[0mrenderer\u001b[0m\u001b[0;34m.\u001b[0m\u001b[0mstart_filter\u001b[0m\u001b[0;34m(\u001b[0m\u001b[0;34m)\u001b[0m\u001b[0;34m\u001b[0m\u001b[0m\n\u001b[1;32m     54\u001b[0m \u001b[0;34m\u001b[0m\u001b[0m\n\u001b[0;32m---> 55\u001b[0;31m             \u001b[0;32mreturn\u001b[0m \u001b[0mdraw\u001b[0m\u001b[0;34m(\u001b[0m\u001b[0martist\u001b[0m\u001b[0;34m,\u001b[0m \u001b[0mrenderer\u001b[0m\u001b[0;34m,\u001b[0m \u001b[0;34m*\u001b[0m\u001b[0margs\u001b[0m\u001b[0;34m,\u001b[0m \u001b[0;34m**\u001b[0m\u001b[0mkwargs\u001b[0m\u001b[0;34m)\u001b[0m\u001b[0;34m\u001b[0m\u001b[0m\n\u001b[0m\u001b[1;32m     56\u001b[0m         \u001b[0;32mfinally\u001b[0m\u001b[0;34m:\u001b[0m\u001b[0;34m\u001b[0m\u001b[0m\n\u001b[1;32m     57\u001b[0m             \u001b[0;32mif\u001b[0m \u001b[0martist\u001b[0m\u001b[0;34m.\u001b[0m\u001b[0mget_agg_filter\u001b[0m\u001b[0;34m(\u001b[0m\u001b[0;34m)\u001b[0m \u001b[0;32mis\u001b[0m \u001b[0;32mnot\u001b[0m \u001b[0mNone\u001b[0m\u001b[0;34m:\u001b[0m\u001b[0;34m\u001b[0m\u001b[0m\n",
      "\u001b[0;32m/Users/chowdahead/anaconda/lib/python2.7/site-packages/matplotlib/figure.pyc\u001b[0m in \u001b[0;36mdraw\u001b[0;34m(self, renderer)\u001b[0m\n\u001b[1;32m   1491\u001b[0m \u001b[0;34m\u001b[0m\u001b[0m\n\u001b[1;32m   1492\u001b[0m             mimage._draw_list_compositing_images(\n\u001b[0;32m-> 1493\u001b[0;31m                 renderer, self, artists, self.suppressComposite)\n\u001b[0m\u001b[1;32m   1494\u001b[0m \u001b[0;34m\u001b[0m\u001b[0m\n\u001b[1;32m   1495\u001b[0m             \u001b[0mrenderer\u001b[0m\u001b[0;34m.\u001b[0m\u001b[0mclose_group\u001b[0m\u001b[0;34m(\u001b[0m\u001b[0;34m'figure'\u001b[0m\u001b[0;34m)\u001b[0m\u001b[0;34m\u001b[0m\u001b[0m\n",
      "\u001b[0;32m/Users/chowdahead/anaconda/lib/python2.7/site-packages/matplotlib/image.pyc\u001b[0m in \u001b[0;36m_draw_list_compositing_images\u001b[0;34m(renderer, parent, artists, suppress_composite)\u001b[0m\n\u001b[1;32m    139\u001b[0m     \u001b[0;32mif\u001b[0m \u001b[0mnot_composite\u001b[0m \u001b[0;32mor\u001b[0m \u001b[0;32mnot\u001b[0m \u001b[0mhas_images\u001b[0m\u001b[0;34m:\u001b[0m\u001b[0;34m\u001b[0m\u001b[0m\n\u001b[1;32m    140\u001b[0m         \u001b[0;32mfor\u001b[0m \u001b[0ma\u001b[0m \u001b[0;32min\u001b[0m \u001b[0martists\u001b[0m\u001b[0;34m:\u001b[0m\u001b[0;34m\u001b[0m\u001b[0m\n\u001b[0;32m--> 141\u001b[0;31m             \u001b[0ma\u001b[0m\u001b[0;34m.\u001b[0m\u001b[0mdraw\u001b[0m\u001b[0;34m(\u001b[0m\u001b[0mrenderer\u001b[0m\u001b[0;34m)\u001b[0m\u001b[0;34m\u001b[0m\u001b[0m\n\u001b[0m\u001b[1;32m    142\u001b[0m     \u001b[0;32melse\u001b[0m\u001b[0;34m:\u001b[0m\u001b[0;34m\u001b[0m\u001b[0m\n\u001b[1;32m    143\u001b[0m         \u001b[0;31m# Composite any adjacent images together\u001b[0m\u001b[0;34m\u001b[0m\u001b[0;34m\u001b[0m\u001b[0m\n",
      "\u001b[0;32mskewt/skewx_projection_matplotlib_lt_1d4.pyc\u001b[0m in \u001b[0;36mdraw\u001b[0;34m(self, *args)\u001b[0m\n",
      "\u001b[0;32m/Users/chowdahead/anaconda/lib/python2.7/site-packages/matplotlib/artist.pyc\u001b[0m in \u001b[0;36mdraw_wrapper\u001b[0;34m(artist, renderer, *args, **kwargs)\u001b[0m\n\u001b[1;32m     53\u001b[0m                 \u001b[0mrenderer\u001b[0m\u001b[0;34m.\u001b[0m\u001b[0mstart_filter\u001b[0m\u001b[0;34m(\u001b[0m\u001b[0;34m)\u001b[0m\u001b[0;34m\u001b[0m\u001b[0m\n\u001b[1;32m     54\u001b[0m \u001b[0;34m\u001b[0m\u001b[0m\n\u001b[0;32m---> 55\u001b[0;31m             \u001b[0;32mreturn\u001b[0m \u001b[0mdraw\u001b[0m\u001b[0;34m(\u001b[0m\u001b[0martist\u001b[0m\u001b[0;34m,\u001b[0m \u001b[0mrenderer\u001b[0m\u001b[0;34m,\u001b[0m \u001b[0;34m*\u001b[0m\u001b[0margs\u001b[0m\u001b[0;34m,\u001b[0m \u001b[0;34m**\u001b[0m\u001b[0mkwargs\u001b[0m\u001b[0;34m)\u001b[0m\u001b[0;34m\u001b[0m\u001b[0m\n\u001b[0m\u001b[1;32m     56\u001b[0m         \u001b[0;32mfinally\u001b[0m\u001b[0;34m:\u001b[0m\u001b[0;34m\u001b[0m\u001b[0m\n\u001b[1;32m     57\u001b[0m             \u001b[0;32mif\u001b[0m \u001b[0martist\u001b[0m\u001b[0;34m.\u001b[0m\u001b[0mget_agg_filter\u001b[0m\u001b[0;34m(\u001b[0m\u001b[0;34m)\u001b[0m \u001b[0;32mis\u001b[0m \u001b[0;32mnot\u001b[0m \u001b[0mNone\u001b[0m\u001b[0;34m:\u001b[0m\u001b[0;34m\u001b[0m\u001b[0m\n",
      "\u001b[0;32m/Users/chowdahead/anaconda/lib/python2.7/site-packages/matplotlib/axes/_base.pyc\u001b[0m in \u001b[0;36mdraw\u001b[0;34m(self, renderer, inframe)\u001b[0m\n\u001b[1;32m   2633\u001b[0m             \u001b[0mrenderer\u001b[0m\u001b[0;34m.\u001b[0m\u001b[0mstop_rasterizing\u001b[0m\u001b[0;34m(\u001b[0m\u001b[0;34m)\u001b[0m\u001b[0;34m\u001b[0m\u001b[0m\n\u001b[1;32m   2634\u001b[0m \u001b[0;34m\u001b[0m\u001b[0m\n\u001b[0;32m-> 2635\u001b[0;31m         \u001b[0mmimage\u001b[0m\u001b[0;34m.\u001b[0m\u001b[0m_draw_list_compositing_images\u001b[0m\u001b[0;34m(\u001b[0m\u001b[0mrenderer\u001b[0m\u001b[0;34m,\u001b[0m \u001b[0mself\u001b[0m\u001b[0;34m,\u001b[0m \u001b[0martists\u001b[0m\u001b[0;34m)\u001b[0m\u001b[0;34m\u001b[0m\u001b[0m\n\u001b[0m\u001b[1;32m   2636\u001b[0m \u001b[0;34m\u001b[0m\u001b[0m\n\u001b[1;32m   2637\u001b[0m         \u001b[0mrenderer\u001b[0m\u001b[0;34m.\u001b[0m\u001b[0mclose_group\u001b[0m\u001b[0;34m(\u001b[0m\u001b[0;34m'axes'\u001b[0m\u001b[0;34m)\u001b[0m\u001b[0;34m\u001b[0m\u001b[0m\n",
      "\u001b[0;32m/Users/chowdahead/anaconda/lib/python2.7/site-packages/matplotlib/image.pyc\u001b[0m in \u001b[0;36m_draw_list_compositing_images\u001b[0;34m(renderer, parent, artists, suppress_composite)\u001b[0m\n\u001b[1;32m    139\u001b[0m     \u001b[0;32mif\u001b[0m \u001b[0mnot_composite\u001b[0m \u001b[0;32mor\u001b[0m \u001b[0;32mnot\u001b[0m \u001b[0mhas_images\u001b[0m\u001b[0;34m:\u001b[0m\u001b[0;34m\u001b[0m\u001b[0m\n\u001b[1;32m    140\u001b[0m         \u001b[0;32mfor\u001b[0m \u001b[0ma\u001b[0m \u001b[0;32min\u001b[0m \u001b[0martists\u001b[0m\u001b[0;34m:\u001b[0m\u001b[0;34m\u001b[0m\u001b[0m\n\u001b[0;32m--> 141\u001b[0;31m             \u001b[0ma\u001b[0m\u001b[0;34m.\u001b[0m\u001b[0mdraw\u001b[0m\u001b[0;34m(\u001b[0m\u001b[0mrenderer\u001b[0m\u001b[0;34m)\u001b[0m\u001b[0;34m\u001b[0m\u001b[0m\n\u001b[0m\u001b[1;32m    142\u001b[0m     \u001b[0;32melse\u001b[0m\u001b[0;34m:\u001b[0m\u001b[0;34m\u001b[0m\u001b[0m\n\u001b[1;32m    143\u001b[0m         \u001b[0;31m# Composite any adjacent images together\u001b[0m\u001b[0;34m\u001b[0m\u001b[0;34m\u001b[0m\u001b[0m\n",
      "\u001b[0;32mskewt/skewx_projection_matplotlib_lt_1d4.pyc\u001b[0m in \u001b[0;36mdraw\u001b[0;34m(self, renderer, *args, **kwargs)\u001b[0m\n",
      "\u001b[0;31mTypeError\u001b[0m: _update_label_position() takes exactly 2 arguments (3 given)"
     ]
    }
   ],
   "source": [
    "os.chdir(desktoppath+\"/Weather_Notebooks/Daily/\")\n",
    "import UWyo_Soundings as Sound"
   ]
  },
  {
   "cell_type": "markdown",
   "metadata": {},
   "source": [
    "<h4><div class='alert alert-block alert-warning'><font face='fantasy' color=#2F4F4F \\\n",
    "style='font-size:25px'>Now let's try and run my SPC upper air winds notebook...</font></h4>"
   ]
  },
  {
   "cell_type": "code",
   "execution_count": 20,
   "metadata": {},
   "outputs": [
    {
     "name": "stdout",
     "output_type": "stream",
     "text": [
      "importing Jupyter notebook from SPC_UpperAir_Maps.ipynb\n",
      "Using matplotlib backend: MacOSX\n",
      "Populating the interactive namespace from numpy and matplotlib\n",
      "(C)urrent or (A)rchive? C\n",
      "Would you like 00 or 12Z? (Check the time...) 12\n",
      "(D)aily map or (O)ther location: D\n",
      "925\n",
      "/Users/ChowdaHead/Desktop/Weather_Blog/Oct_27/\n",
      "http://www.spc.noaa.gov/obswx/maps/925_181027_12.gif\n",
      "850\n",
      "/Users/ChowdaHead/Desktop/Weather_Blog/Oct_27/\n",
      "http://www.spc.noaa.gov/obswx/maps/850_181027_12.gif\n",
      "700\n",
      "/Users/ChowdaHead/Desktop/Weather_Blog/Oct_27/\n",
      "http://www.spc.noaa.gov/obswx/maps/700_181027_12.gif\n",
      "500\n",
      "/Users/ChowdaHead/Desktop/Weather_Blog/Oct_27/\n",
      "http://www.spc.noaa.gov/obswx/maps/500_181027_12.gif\n",
      "300\n",
      "/Users/ChowdaHead/Desktop/Weather_Blog/Oct_27/\n",
      "http://www.spc.noaa.gov/obswx/maps/300_181027_12.gif\n",
      "250\n",
      "/Users/ChowdaHead/Desktop/Weather_Blog/Oct_27/\n",
      "http://www.spc.noaa.gov/obswx/maps/250_181027_12.gif\n",
      "27\n"
     ]
    }
   ],
   "source": [
    "os.chdir(desktoppath+\"/Weather_Notebooks/Daily/\")\n",
    "import SPC_UpperAir_Maps as SPC"
   ]
  },
  {
   "cell_type": "markdown",
   "metadata": {},
   "source": [
    "<h4><div class='alert alert-block alert-warning'><font face='fantasy' color=#2F4F4F \\\n",
    "style='font-size:25px'>Finally, lets have the OS open that folder so we can quickly take a look at today's maps</font></h4>"
   ]
  },
  {
   "cell_type": "code",
   "execution_count": 21,
   "metadata": {},
   "outputs": [
    {
     "data": {
      "text/plain": [
       "0"
      ]
     },
     "execution_count": 21,
     "metadata": {},
     "output_type": "execute_result"
    }
   ],
   "source": [
    "os.chdir(mypath)\n",
    "os.system(\"open .\")"
   ]
  },
  {
   "cell_type": "code",
   "execution_count": null,
   "metadata": {
    "collapsed": true
   },
   "outputs": [],
   "source": []
  }
 ],
 "metadata": {
  "kernelspec": {
   "display_name": "Python 2",
   "language": "python",
   "name": "python2"
  },
  "language_info": {
   "codemirror_mode": {
    "name": "ipython",
    "version": 2
   },
   "file_extension": ".py",
   "mimetype": "text/x-python",
   "name": "python",
   "nbconvert_exporter": "python",
   "pygments_lexer": "ipython2",
   "version": "2.7.15"
  }
 },
 "nbformat": 4,
 "nbformat_minor": 1
}
