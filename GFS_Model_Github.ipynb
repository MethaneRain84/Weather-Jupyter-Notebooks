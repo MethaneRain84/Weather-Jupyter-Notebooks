{
 "cells": [
  {
   "cell_type": "markdown",
   "metadata": {},
   "source": [
    "# MetPy Collection of Atmospheric Maps from Current GFS Data"
   ]
  },
  {
   "cell_type": "markdown",
   "metadata": {},
   "source": [
    "## Justin Richling\n",
    "## 09/20/18"
   ]
  },
  {
   "cell_type": "code",
   "execution_count": null,
   "metadata": {
    "collapsed": true
   },
   "outputs": [],
   "source": [
    "%matplotlib inline"
   ]
  },
  {
   "cell_type": "markdown",
   "metadata": {},
   "source": [
    "\n",
    "# Model Surface Output\n",
    "\n",
    "\n",
    "Plot an surface map with mean sea level pressure (MSLP),\n",
    "2m Temperature (F), and Wind Barbs (kt).\n",
    "\n",
    "In this part of the final notebook I had to really dig into the 2m plot data, because it was originally setup for NARR data which had various discrepencies from the GFS NetCDF files. I successfully gotten python to plot the GFS data for the original NARR variables, which was another bit of customization\n",
    "\n"
   ]
  },
  {
   "cell_type": "markdown",
   "metadata": {},
   "source": [
    "Imports\n",
    "\n"
   ]
  },
  {
   "cell_type": "code",
   "execution_count": null,
   "metadata": {},
   "outputs": [],
   "source": [
    "# Random Library Imports\n",
    "import subprocess,os,glob,tempfile,re,imageio,webbrowser,io,sys,types,urllib,urllib2,\\\n",
    "time,cStringIO\n",
    "\n",
    "# Importing Datetime Libraries\n",
    "from datetime import datetime\n",
    "\n",
    "# CartoPy Map Plotting Libraires\n",
    "import cartopy.crs as ccrs\n",
    "import cartopy.feature as cfeature\n",
    "from pyproj import Proj \n",
    "\n",
    "# Numerical and Scientific Libraries\n",
    "import numpy as np\n",
    "import scipy.ndimage as ndimage\n",
    "from scipy.ndimage import gaussian_filter\n",
    "\n",
    "# Accessing Data from External Databases via XLM Catalog\n",
    "from siphon.ncss import NCSS\n",
    "from siphon.catalog import TDSCatalog\n",
    "\n",
    "# MetPy Libraries\n",
    "import metpy\n",
    "import metpy.calc as mpcalc\n",
    "from metpy.units import units\n",
    "from metpy.plots import ctables\n",
    "from metpy.plots import add_metpy_logo\n",
    "\n",
    "# NetCDF Libraries\n",
    "from netCDF4 import Dataset\n",
    "from netCDF4 import num2date\n",
    "\n",
    "# More Image Manipulation Options\n",
    "from PIL import Image as PILImage\n",
    "\n",
    "# Ipyhton Options\n",
    "from IPython import get_ipython\n",
    "from nbformat import current\n",
    "from IPython.core.interactiveshell import InteractiveShell\n",
    "from IPython.display import HTML, display, Image\n",
    "\n",
    "# Matplotlib Plotting Libraries\n",
    "#import matplotlib\n",
    "import matplotlib.pyplot as plt\n",
    "from matplotlib.cm import get_cmap\n",
    "import matplotlib.colors as mcolors\n",
    "from matplotlib.colors import LogNorm, Normalize\n",
    "import matplotlib as mpl\n",
    "from mpl_toolkits.axes_grid1 import make_axes_locatable, axes_size\n",
    "from matplotlib.colors import LinearSegmentedColormap"
   ]
  },
  {
   "cell_type": "markdown",
   "metadata": {},
   "source": [
    "## Figuring out where you want the files..."
   ]
  },
  {
   "cell_type": "code",
   "execution_count": null,
   "metadata": {
    "collapsed": true
   },
   "outputs": [],
   "source": [
    "# Pull the current time\n",
    "now = datetime.now() \n",
    "\n",
    "# Set a path to save the plots with string format for the date to set the month and day \n",
    "im_save_path =\"/path/to/where/you/want/maps/\"+'{0:%m_%d}'.format(now)+\"/\"\n",
    "print im_save_path\n",
    "\n",
    "# Check to see if the folder already exists, if not create it\n",
    "if not os.path.isdir(im_save_path):\n",
    "    os.makedirs(im_save_path)\n",
    "\n",
    "# Uncomment if you want to automatically change to the map folder    \n",
    "#os.chdir(im_save_path)"
   ]
  },
  {
   "cell_type": "markdown",
   "metadata": {},
   "source": [
    "# Additional Functions"
   ]
  },
  {
   "cell_type": "markdown",
   "metadata": {},
   "source": [
    "### Finding proper time variables: find_time_var()"
   ]
  },
  {
   "cell_type": "code",
   "execution_count": null,
   "metadata": {
    "collapsed": true
   },
   "outputs": [],
   "source": [
    "# Thanks to the crew over at Metpy for this handy little function\n",
    "def find_time_var(var, time_basename='time'):\n",
    "    for coord_name in var.coordinates.split():\n",
    "        if coord_name.startswith(time_basename):\n",
    "            return coord_name\n",
    "    raise ValueError('No time variable found for ' + var.name)"
   ]
  },
  {
   "cell_type": "markdown",
   "metadata": {},
   "source": [
    "### Maximum and Minimum function to locate Highs and Lows: plot_maxmin_points()"
   ]
  },
  {
   "cell_type": "code",
   "execution_count": null,
   "metadata": {
    "collapsed": true
   },
   "outputs": [],
   "source": [
    "# Again, thanks to MetPy for doing the leg work to get a H/L function\n",
    "def plot_maxmin_points(lon, lat, data, extrema, nsize, symbol, color='k',\n",
    "                       plotValue=True, transform=None):\n",
    "    \"\"\"\n",
    "    This function will find and plot relative maximum and minimum for a 2D grid. The function\n",
    "    can be used to plot an H for maximum values (e.g., High pressure) and an L for minimum\n",
    "    values (e.g., low pressue). It is best to used filetered data to obtain  a synoptic scale\n",
    "    max/min value. The symbol text can be set to a string value and optionally the color of the\n",
    "    symbol and any plotted value can be set with the parameter color\n",
    "    lon = plotting longitude values (2D)\n",
    "    lat = plotting latitude values (2D)\n",
    "    data = 2D data that you wish to plot the max/min symbol placement\n",
    "    extrema = Either a value of max for Maximum Values or min for Minimum Values\n",
    "    nsize = Size of the grid box to filter the max and min values to plot a reasonable number\n",
    "    symbol = String to be placed at location of max/min value\n",
    "    color = String matplotlib colorname to plot the symbol (and numerica value, if plotted)\n",
    "    plot_value = Boolean (True/False) of whether to plot the numeric value of max/min point\n",
    "    The max/min symbol will be plotted on the current axes within the bounding frame\n",
    "    (e.g., clip_on=True)\n",
    "    \"\"\"\n",
    "    from scipy.ndimage.filters import maximum_filter, minimum_filter\n",
    "\n",
    "    if (extrema == 'max'):\n",
    "        data_ext = maximum_filter(data, nsize, mode='nearest')\n",
    "    elif (extrema == 'min'):\n",
    "        data_ext = minimum_filter(data, nsize, mode='nearest')\n",
    "    else:\n",
    "        raise ValueError('Value for hilo must be either max or min')\n",
    "\n",
    "    mxy, mxx = np.where(data_ext == data)\n",
    "\n",
    "    for i in range(len(mxy)):\n",
    "        ax.text(lon[mxx[i]], lat[mxy[i]], symbol, color=color, size=24,\n",
    "                clip_on=True, horizontalalignment='center', verticalalignment='center',\n",
    "                transform=transform)\n",
    "        ax.text(lon[mxx[i]], lat[mxy[i]],\n",
    "                '\\n' + str(np.int(data[mxy[i], mxx[i]])),\n",
    "                color=color, size=12, clip_on=True, fontweight='bold',\n",
    "                horizontalalignment='center', verticalalignment='top', transform=transform)"
   ]
  },
  {
   "cell_type": "markdown",
   "metadata": {},
   "source": [
    "# Create NCSS object to access the NetcdfSubset\n",
    "---------------------------------------------\n",
    "### Data from NCEI GFS 0.5 deg Analysis Archive\n",
    "\n"
   ]
  },
  {
   "cell_type": "code",
   "execution_count": null,
   "metadata": {
    "scrolled": false
   },
   "outputs": [],
   "source": [
    "cat = TDSCatalog('http://thredds.ucar.edu/thredds/catalog/grib/'\n",
    "                 'NCEP/GFS/Global_0p5deg/catalog.xml')\n",
    "best = cat.datasets['Best GFS Half Degree Forecast Time Series']\n",
    "\n",
    "# Summary: NCEP GFS Model : AWIPS 230 (G) Grid. Global Lat/Lon grid. Model runs at 0, 6, 12, and 18Z. \n",
    "# Horizontal= 361 by 720 points, resolution 0.5 degree, Lat/Lon projection. \n",
    "# Vertical= 1000 to 100 hPa mandatory pressure levels (10 levels); surface, height above ground, pressure layers.\n",
    "\n",
    "subset_access = best.subset()\n",
    "query = subset_access.query()\n",
    "#for i in subset_access.variables: print i\n",
    "\n",
    "query.time(datetime.utcnow())\n",
    "print datetime.utcnow()\n",
    "Time = str(datetime.utcnow())[:-7]\n",
    "print Time\n",
    "query.variables('Temperature_isobaric', 'Geopotential_height_isobaric',\n",
    "                'u-component_of_wind_isobaric', 'v-component_of_wind_isobaric',\n",
    "                'Relative_humidity_isobaric','Absolute_vorticity_isobaric',\n",
    "                \"Vertical_velocity_pressure_isobaric\",\"Pressure_reduced_to_MSL_msl\",\"Pressure_surface\",\n",
    "               'Apparent_temperature_height_above_ground','u-component_of_wind_height_above_ground',\n",
    "               'v-component_of_wind_height_above_ground','Dewpoint_temperature_height_above_ground')\n",
    "\n",
    "variables = sorted(v for v in subset_access.variables if v.endswith('temperature'))\n",
    "#print variables\n",
    "\n",
    "query.lonlat_box(west=-130, east=-50, south=10, north=60)\n",
    "query.accept('netcdf4')\n",
    "\n",
    "data = subset_access.get_data(query)\n",
    "\n",
    "print \"Variables:\"\n",
    "for i in data.variables.keys(): print i,\"\\n\"\n",
    "\n",
    "print \"done.\""
   ]
  },
  {
   "cell_type": "markdown",
   "metadata": {},
   "source": [
    "# Begin data maipulation\n",
    "-----------------------\n",
    "Data for the surface from a model is a bit complicated.\n",
    "The variables come from different levels and may have different data array shapes."
   ]
  },
  {
   "cell_type": "code",
   "execution_count": null,
   "metadata": {
    "collapsed": true
   },
   "outputs": [],
   "source": [
    "dew = units.K * data.variables['Dewpoint_temperature_height_above_ground'][:].squeeze()"
   ]
  },
  {
   "cell_type": "markdown",
   "metadata": {},
   "source": [
    "## MSLP, 2m Temp, and 10m Wind\n",
    "\n",
    "Height above ground Temp from GFS has one level (2m)\n",
    "Height above ground Wind from GFS has three levels (10m, 80m, 100m)\n"
   ]
  },
  {
   "cell_type": "code",
   "execution_count": null,
   "metadata": {},
   "outputs": [],
   "source": [
    "# Pull out variables you want to use\n",
    "mslp = data.variables['Pressure_reduced_to_MSL_msl'][:].squeeze()\n",
    "temp = units.K * data.variables['Apparent_temperature_height_above_ground'][:].squeeze()\n",
    "u_wind = units('m/s') * data.variables['u-component_of_wind_height_above_ground'][:].squeeze()\n",
    "v_wind = units('m/s') * data.variables['v-component_of_wind_height_above_ground'][:].squeeze()\n",
    "lat = data.variables['lat'][:].squeeze()\n",
    "lon = data.variables['lon'][:].squeeze()\n",
    "lats = data.variables['lat'][:]\n",
    "lons = data.variables['lon'][:]\n",
    "print lons.shape,lats.shape\n",
    "time_var = data.variables[find_time_var(data.variables['Pressure_reduced_to_MSL_msl'])]\n",
    "\n",
    "# Convert winds to knots\n",
    "u_wind.ito('kt')\n",
    "v_wind.ito('kt')\n",
    "\n",
    "# Convert number of hours since the reference time into an actual date\n",
    "time_final = num2date(time_var[:].squeeze(), time_var.units)\n",
    "print str(time_final)[:4]+\"_\"+str(time_final)[5:7]+\"_\"+str(time_final)[8:10]+\"_\"+str(time_final)[11:13]+\"Z\"\n",
    "file_time = str(time_final)[:4]+\"_\"+str(time_final)[5:7]+\"_\"+str(time_final)[8:10]+\"_\"+str(time_final)[11:13]+\"Z\"\n",
    "\n",
    "lev_10m = np.where(data.variables['height_above_ground3'][:] == 10)[0][0]\n",
    "u_wind_10m = u_wind[lev_10m]\n",
    "v_wind_10m = v_wind[lev_10m]\n",
    "\n",
    "# Combine 1D latitude and longitudes into a 2D grid of locations\n",
    "lon_2d, lat_2d = np.meshgrid(lon, lat)\n",
    "\n",
    "# Smooth MSLP a little\n",
    "# Be sure to only put in a 2D lat/lon or Y/X array for smoothing\n",
    "smooth_mslp = ndimage.gaussian_filter(mslp, sigma=3, order=0) * units.Pa\n",
    "smooth_mslp.ito('hPa')\n"
   ]
  },
  {
   "cell_type": "markdown",
   "metadata": {},
   "source": [
    "## High/Lows and Thickness Data"
   ]
  },
  {
   "cell_type": "code",
   "execution_count": null,
   "metadata": {},
   "outputs": [],
   "source": [
    "# Grab pressure levels\n",
    "plev = list(data.variables['isobaric'][:])\n",
    "print plev\n",
    "\n",
    "# Grab lat/lons and make all lons 0-360\n",
    "lats = data.variables['lat'][:]\n",
    "lons = data.variables['lon'][:]\n",
    "print lats.shape,lons.shape\n",
    "lons[lons < 0] = 360 + lons[lons < 0]\n",
    "\n",
    "# Grab MSLP and smooth, use MetPy Units module for conversion\n",
    "EMSL = data.variables['Pressure_reduced_to_MSL_msl'][:] * units.Pa\n",
    "EMSL.ito('hPa')\n",
    "mslp = gaussian_filter(EMSL[0], sigma=3.0)\n",
    "\n",
    "# Grab pressure level data\n",
    "hght_1000 = data.variables['Geopotential_height_isobaric'][0, plev.index(100000.0)]\n",
    "hght_500 = data.variables['Geopotential_height_isobaric'][0, plev.index(50000.0)]\n",
    "#mb500 = data.variables['Geopotential_height_isobaric'][0,::plev.index(50000.0)]*units.Pa\n",
    "#mb500.ito('hPa')\n",
    "Height500mb = gaussian_filter(hght_500[0], sigma=3.0)\n",
    "\n",
    "# Calculate and smooth 1000-500 hPa thickness\n",
    "thickness_1000_500 = gaussian_filter(hght_500 - hght_1000, sigma=3.0)"
   ]
  },
  {
   "cell_type": "markdown",
   "metadata": {},
   "source": []
  },
  {
   "cell_type": "code",
   "execution_count": null,
   "metadata": {
    "collapsed": true
   },
   "outputs": [],
   "source": [
    "lev_500 = np.where(data.variables['isobaric'][:] == 50000)[0][0]\n",
    "hght_500 = data.variables['Geopotential_height_isobaric'][0, lev_500, :, :]"
   ]
  },
  {
   "cell_type": "markdown",
   "metadata": {},
   "source": []
  },
  {
   "cell_type": "code",
   "execution_count": null,
   "metadata": {
    "collapsed": true
   },
   "outputs": [],
   "source": [
    "lev_250 = np.where(data.variables['isobaric'][:] == 25000)[0][0]\n",
    "\n",
    "hght_250 = data.variables['Geopotential_height_isobaric'][0, lev_250, :, :]\n",
    "u_250 = data.variables['u-component_of_wind_isobaric'][0, lev_250, :, :]\n",
    "v_250 = data.variables['v-component_of_wind_isobaric'][0, lev_250, :, :]"
   ]
  },
  {
   "cell_type": "markdown",
   "metadata": {},
   "source": [
    "## PV Analysis"
   ]
  },
  {
   "cell_type": "code",
   "execution_count": null,
   "metadata": {
    "collapsed": true
   },
   "outputs": [],
   "source": [
    "lat = data.variables['lat'][:]\n",
    "lon = data.variables['lon'][:]\n",
    "press = data.variables['isobaric'][:] * units.Pa\n",
    "temperature = data.variables['Temperature_isobaric'][0] * units.kelvin\n",
    "rh = data.variables['Relative_humidity_isobaric'][0] * units.percent\n",
    "height = data.variables['Geopotential_height_isobaric'][0] * units.meter\n",
    "u = data.variables['u-component_of_wind_isobaric'][0] * units('m/s')\n",
    "v = data.variables['v-component_of_wind_isobaric'][0] * units('m/s')\n",
    "vort =  data.variables['Absolute_vorticity_isobaric'][0] * units('1/s')"
   ]
  },
  {
   "cell_type": "markdown",
   "metadata": {},
   "source": [
    "Next, we perform the isentropic interpolation. At a minimum, this must be given one or more isentropic levels, the 3-D temperature field, and the pressure levels of the original field; it then returns the 3D array of pressure values (2D slices for each isentropic level). You can also pass addition fields which will be interpolated to these levels as well. Below, we interpolate the winds (and pressure) to the 295K isentropic level:"
   ]
  },
  {
   "cell_type": "code",
   "execution_count": null,
   "metadata": {},
   "outputs": [],
   "source": [
    "TEMP = 295\n",
    "isen_level = np.array([TEMP]) * units.kelvin\n",
    "isen_press, isen_u, isen_v = mpcalc.isentropic_interpolation(isen_level, press,\n",
    "                                                             temperature, u, v)"
   ]
  },
  {
   "cell_type": "code",
   "execution_count": null,
   "metadata": {
    "collapsed": true
   },
   "outputs": [],
   "source": [
    "# Need to squeeze() out the size-1 dimension for the isentropic level\n",
    "isen_press = isen_press.squeeze()\n",
    "isen_u = isen_u.squeeze()\n",
    "isen_v = isen_v.squeeze()\n",
    "#isen_vort = isen_vort.squeeze()"
   ]
  },
  {
   "cell_type": "code",
   "execution_count": null,
   "metadata": {
    "collapsed": true
   },
   "outputs": [],
   "source": [
    "MIN = data.variables['Absolute_vorticity_isobaric'][0,15,:,:].min()\n",
    "MAX = data.variables['Absolute_vorticity_isobaric'][0,15,:,:].max()"
   ]
  },
  {
   "cell_type": "code",
   "execution_count": null,
   "metadata": {
    "collapsed": true
   },
   "outputs": [],
   "source": [
    "# Needed to make numpy broadcasting work between 1D pressure and other 3D arrays\n",
    "pressure_for_calc = press[:, None, None]\n",
    "\n",
    "# Calculate mixing ratio using something from mpcalc\n",
    "mixing = mpcalc.mixing_ratio_from_relative_humidity(rh, temperature, pressure_for_calc)\n",
    "\n",
    "# Take the return and convert manually to units of 'dimenionless'\n",
    "mixing.ito('dimensionless')\n",
    "\n",
    "# Interpolate all the data\n",
    "isen_level = np.array([295]) * units.kelvin\n",
    "ret = mpcalc.isentropic_interpolation(isen_level, press, temperature, mixing, u, v)\n",
    "isen_press, isen_mixing, isen_u, isen_v = ret\n",
    "\n",
    "# Squeeze the returned arrays\n",
    "isen_press = isen_press.squeeze()\n",
    "isen_mixing = isen_mixing.squeeze()\n",
    "isen_u = isen_u.squeeze()\n",
    "isen_v = isen_v.squeeze()\n"
   ]
  },
  {
   "cell_type": "markdown",
   "metadata": {},
   "source": [
    "<a name=\"ascent\"></a>\n",
    "## Calculating Isentropic Ascent\n",
    "\n",
    "Air flow across isobars on an isentropic surface represents vertical motion. We can use MetPy to calculate this ascent for us.\n",
    "\n",
    "Since calculating this involves taking derivatives, first let's smooth the input fields using the `gaussian_filter` from `scipy.ndimage`. Unfortunately, `gaussian_filter` drops units from the input vluaes, so we should see what units we have so we can reattach afterwards. (In the future, MetPy will provide its own version of `gaussian_filter` to avoid this.)"
   ]
  },
  {
   "cell_type": "code",
   "execution_count": null,
   "metadata": {},
   "outputs": [],
   "source": [
    "isen_press.units, isen_u.units, isen_v.units"
   ]
  },
  {
   "cell_type": "code",
   "execution_count": null,
   "metadata": {},
   "outputs": [],
   "source": [
    "dx, dy = mpcalc.lat_lon_grid_spacing(lon, lat)\n",
    "dy = -dy"
   ]
  },
  {
   "cell_type": "markdown",
   "metadata": {},
   "source": [
    "Begin map creation\n",
    "------------------\n",
    "\n"
   ]
  },
  {
   "cell_type": "code",
   "execution_count": null,
   "metadata": {
    "collapsed": true
   },
   "outputs": [],
   "source": [
    "# Set Projection of Data\n",
    "datacrs = ccrs.PlateCarree()\n",
    "\n",
    "# Set Projection of Plot\n",
    "plotcrs = ccrs.LambertConformal(central_latitude=[30, 60], central_longitude=-100)\n",
    "\n",
    "# Set the state/provinces\n",
    "states_provinces = cfeature.NaturalEarthFeature(category='cultural',\n",
    "    name='admin_1_states_provinces_lakes',scale='50m', facecolor='none')\n",
    "\n",
    "# Set the country borders\n",
    "country_borders = cfeature.NaturalEarthFeature(category='cultural',\n",
    "    name='admin_0_countries',scale='50m', facecolor='none')\n",
    "\n",
    "# Colorbar Axis Placement (under figure)\n",
    "colorbar_axis = [0.183, 0.09, 0.659, 0.03] # [left, bottom, width, height]\n",
    "\n",
    "# Lat/Lon Extents [lon_west, lon_east, lat_south, lat_north]\n",
    "extent = [-130., -70, 20., 60.]"
   ]
  },
  {
   "cell_type": "markdown",
   "metadata": {},
   "source": [
    "# Plots"
   ]
  },
  {
   "cell_type": "markdown",
   "metadata": {},
   "source": [
    "## MSLP, 2m Temps, and 10m Winds"
   ]
  },
  {
   "cell_type": "code",
   "execution_count": null,
   "metadata": {},
   "outputs": [],
   "source": [
    "# Create new figure\n",
    "fig = plt.figure(figsize=(17., 11.))\n",
    "\n",
    "add_metpy_logo(fig, 30, 940, size='small')\n",
    "\n",
    "# Add the map and set the extent\n",
    "ax = plt.subplot(111, projection=plotcrs)\n",
    "\n",
    "#Set the lat and lon boundaries\n",
    "ax.set_extent(extent, datacrs)\n",
    "\n",
    "# Add state boundaries to plot\n",
    "ax.add_feature(states_provinces, edgecolor='blue', linewidth=1)\n",
    "\n",
    "# Add country borders to plot\n",
    "ax.add_feature(country_borders, edgecolor='black', linewidth=1)\n",
    "\n",
    "# Plot Title\n",
    "plt.title('GFS Analysis MSLP, 2m Temperature (F), Wind Barbs (kt)', fontsize=16,loc='left')\n",
    "plt.title(' {0:%d %B %Y %H:%MZ}'.format(time_final), fontsize=16,loc='right')\n",
    "\n",
    "                                            # MSLP\n",
    "#---------------------------------------------------------------------------------------------------\n",
    "#clev_mslp = np.arange(0, 1200, 3)\n",
    "\n",
    "#cs = ax.contour(lon_2d, lat_2d, smooth_mslp, clev_mslp, colors='k', linewidths=3,\n",
    "#    linestyles='solid', transform=datacrs) # cmap='rainbow\n",
    "\n",
    "#plt.clabel(cs, fontsize=10, inline=1, inline_spacing=10, fmt='%i',\n",
    "#           rightside_up=True, use_clabeltext=True,colors='k')\n",
    "\n",
    "# Plot Absolute Vorticity\n",
    "#clev_abVort = np.arange(Max,Min,0.00001)\n",
    "#abVort = ax.contourf(lon_2d, lat_2d, abs_vort[5,:,:],transform=datacrs,cmap='BrBG')\n",
    "#cbaxes = fig.add_axes([0.92, 0.233, 0.03, 0.54]) # [left, bottom, width, height]\n",
    "#cbar = plt.colorbar(abVort, orientation='vertical',cax=cbaxes)\n",
    "#plt.colorbar(cs2, orientation='vertical', fraction=0.0311, pad=0.02)\n",
    "\n",
    "\n",
    "                                            # 2m Temperatures\n",
    "#---------------------------------------------------------------------------------------------------\n",
    "# Plot 2m Temperature Contours\n",
    "clevtemp = np.arange(-30, 90, 2)\n",
    "\n",
    "# Uncomment for contours instead of contour fill (below)\n",
    "#cs2 = ax.contour(lon_2d, lat_2d, temp.to(units('degF')), clevtemp,\n",
    "#                 cmap='gist_rainbow_r', linewidths=1.25,\n",
    "#                 transform=datacrs)  #linestyles='dotted'\n",
    "#plt.clabel(cs2, fontsize=10, inline=1, inline_spacing=10, fmt='%i',\n",
    "#           rightside_up=True, use_clabeltext=True)\n",
    "\n",
    "cs2 = ax.contourf(lon_2d, lat_2d, temp.to(units('degF')),clevtemp,\n",
    "                 transform=datacrs,cmap='gist_rainbow_r')\n",
    "\n",
    "cbaxes = fig.add_axes(colorbar_axis) # [left, bottom, width, height]\n",
    "\n",
    "cbar = plt.colorbar(cs2, orientation='horizontal',cax=cbaxes)\n",
    "\n",
    "\n",
    "                                            # 10m Winds\n",
    "#---------------------------------------------------------------------------------------------------\n",
    "ax.barbs(lon_2d, lat_2d, u_wind_10m.magnitude, v_wind_10m.magnitude,\n",
    "         length=6, regrid_shape=20, pivot='middle', transform=datacrs,barbcolor='k')\n",
    "\n",
    "plt.show()\n",
    "\n",
    "outfile=im_save_path+\"MSLP_Temps_Winds_\"+file_time+\".png\"\n",
    "fig.savefig(outfile,bbox_inches='tight',dpi=120)\n",
    "print \"done.\""
   ]
  },
  {
   "cell_type": "markdown",
   "metadata": {},
   "source": [
    "## MSLP w/ Highs and Lows and 1000-500mn Thickness"
   ]
  },
  {
   "cell_type": "code",
   "execution_count": null,
   "metadata": {},
   "outputs": [],
   "source": [
    "# Create new figure\n",
    "fig = plt.figure(figsize=(17., 11.))\n",
    "\n",
    "add_metpy_logo(fig, 30, 1000, size='small')\n",
    "\n",
    "# Add the map \n",
    "ax = plt.subplot(111, projection=plotcrs)\n",
    "\n",
    "# Set extent and plot map lines\n",
    "ax.set_extent(extent, datacrs)\n",
    "#ax.set_extent([-75, -30.5, 0.5, 28.5])\n",
    "\n",
    "# Add state boundaries to plot\n",
    "ax.add_feature(states_provinces, edgecolor='k', linewidth=1)\n",
    "\n",
    "# Add country borders to plot\n",
    "ax.add_feature(country_borders, edgecolor='black', linewidth=1)\n",
    "\n",
    "# Plot Title\n",
    "plt.title('MSLP (hPa) with Highs and Lows, 1000-500 hPa Thickness (m)', loc='left',fontsize=16)\n",
    "plt.title(' {0:%d %B %Y %H:%MZ}'.format(time_final), loc='right',fontsize=16)\n",
    "\n",
    "                                            # 1000-500mb Thickness\n",
    "#---------------------------------------------------------------------------------------------------\n",
    "# Setting the limits for the dashed thickness lines to go from blue to red\n",
    "clevs = (np.arange(0, 5400, 60), 5400, np.arange(5460, 7000, 60))\n",
    "colors = ('tab:blue', 'b', 'tab:red')\n",
    "kw_clabels = {'fontsize': 11, 'inline': True, 'inline_spacing': 5, 'fmt': '%i',\n",
    "              'rightside_up': True, 'use_clabeltext': True}\n",
    "for clevthick, color in zip(clevs, colors):\n",
    "    cs = ax.contour(lons, lats, thickness_1000_500, levels=clevthick, colors=color,\n",
    "                    linewidths=1.0, linestyles='dashed', transform=datacrs)\n",
    "    plt.clabel(cs, **kw_clabels)\n",
    "\n",
    "                                            # MSLP\n",
    "#---------------------------------------------------------------------------------------------------\n",
    "clevmslp = np.arange(800., 1120., 4)\n",
    "cs2 = ax.contour(lons, lats, mslp, clevmslp, colors='k', linewidths=1.25,\n",
    "                 linestyles='solid', transform=datacrs)\n",
    "plt.clabel(cs2, **kw_clabels)\n",
    "\n",
    "                                            # High and Low Symbols\n",
    "#---------------------------------------------------------------------------------------------------\n",
    "plot_maxmin_points(lons, lats, mslp, 'max', 50, symbol='H', color='b',  transform=datacrs)\n",
    "plot_maxmin_points(lons, lats, mslp, 'min', 25, symbol='L', color='r', transform=datacrs)\n",
    "\n",
    "plt.show()\n",
    "\n",
    "outfile=im_save_path+\"HL_Thickness_Model_\"+file_time+\".png\"\n",
    "fig.savefig(outfile,bbox_inches='tight',dpi=120)\n",
    "print \"done.\""
   ]
  },
  {
   "cell_type": "markdown",
   "metadata": {},
   "source": [
    "## Isentropic Pressure and Winds"
   ]
  },
  {
   "cell_type": "code",
   "execution_count": null,
   "metadata": {},
   "outputs": [],
   "source": [
    "# Create a plot and basic map projection\n",
    "fig = plt.figure(figsize=(17., 11.))\n",
    "\n",
    "add_metpy_logo(fig, 30, 940, size='small')\n",
    "\n",
    "# Add the map and set the extent\n",
    "ax = plt.subplot(111, projection=plotcrs)\n",
    "\n",
    "# Add state boundaries to plot\n",
    "ax.add_feature(states_provinces, edgecolor='k', linewidth=1)\n",
    "\n",
    "# Add country borders to plot\n",
    "ax.add_feature(country_borders, edgecolor='black', linewidth=1)\n",
    "\n",
    "# Plot Title\n",
    "plt.title('{}K Isentrope Heights and Winds'.format(TEMP),loc='left',fontsize=16)\n",
    "plt.title(' {0:%d %B %Y %H:%MZ}'.format(time_final),loc='right',fontsize=16)\n",
    "\n",
    "                                            # Isentropic Pressure\n",
    "#---------------------------------------------------------------------------------------------------\n",
    "# Contour the pressure values for the isentropic level. We keep the handle\n",
    "# for the contour so that we can have matplotlib label the contours\n",
    "\n",
    "levels = np.arange(300, 1000, 10)\n",
    "cntr = ax.contour(lon, lat, isen_press, transform=datacrs,\n",
    "                 cmap='rainbow',levels=levels,linewidths=2) #ccrs.PlateCarree()\n",
    "#ax.clabel(cntr, fmt='%.0f',colors='black')\n",
    "\n",
    "cbaxes = fig.add_axes(colorbar_axis)\n",
    "cbar = plt.colorbar(cntr, orientation='horizontal',cax=cbaxes)\n",
    "\n",
    "                                            # Isentropic Winds\n",
    "#---------------------------------------------------------------------------------------------------\n",
    "# Set up slices to subset the wind barbs--the slices below are the same as `::5`\n",
    "# We put these here so that it's easy to change and keep all of the ones below matched\n",
    "# up.\n",
    "\n",
    "lon_slice = slice(None, None, 7)\n",
    "lat_slice = slice(None, None, 7)\n",
    "ax.barbs(lon[lon_slice], lat[lat_slice],\n",
    "         isen_u[lon_slice, lat_slice].to('knots').magnitude,\n",
    "         isen_v[lon_slice, lat_slice].to('knots').magnitude,\n",
    "         transform=ccrs.PlateCarree(), zorder=2,length=7) # barbcolor=\"\" optional call\n",
    "\n",
    "ax.set_extent(extent, datacrs)\n",
    "\n",
    "plt.show()\n",
    "\n",
    "outfile=im_save_path+\"Isentropes_Winds_\"+file_time+\".png\"\n",
    "fig.savefig(outfile,bbox_inches='tight',dpi=120)\n",
    "print \"done.\""
   ]
  },
  {
   "cell_type": "markdown",
   "metadata": {},
   "source": [
    "## Isentropic Pressure, Winds and Vorticity"
   ]
  },
  {
   "cell_type": "code",
   "execution_count": null,
   "metadata": {},
   "outputs": [],
   "source": [
    "# Create a plot and basic map projection\n",
    "fig = plt.figure(figsize=(17., 11.))\n",
    "\n",
    "add_metpy_logo(fig, 30, 940, size='small')\n",
    "\n",
    "# Add the map and set the extent\n",
    "ax = plt.subplot(111, projection=plotcrs)\n",
    "\n",
    "# Add state boundaries to plot\n",
    "ax.add_feature(states_provinces, edgecolor='k', linewidth=1)\n",
    "\n",
    "# Add country borders to plot\n",
    "ax.add_feature(country_borders, edgecolor='black', linewidth=1)\n",
    "\n",
    "# Plot Title\n",
    "plt.title('Vorticity and Winds',loc='left',fontsize=16)\n",
    "plt.title(' {0:%d %B %Y %H:%MZ}'.format(time_final),loc='right',fontsize=16)\n",
    "\n",
    "                                            # Isentropic Pressure\n",
    "#---------------------------------------------------------------------------------------------------\n",
    "#levels = np.arange(300, 1000, 50)\n",
    "#cntr = ax.contour(lon, lat, isen_press, transform=ccrs.PlateCarree(),\n",
    "#                  colors='red', levels=levels)\n",
    "#cntr = ax.contour(lon, lat, isen_press, transform=ccrs.PlateCarree(),\n",
    "#                  cmap='rainbow',levels=levels)\n",
    "#ax.clabel(cntr, fmt='%.0f',colors='black')\n",
    "\n",
    "#cbaxes = fig.add_axes([0.82, 0.133, 0.02, 0.74]) # [left, bottom, width, height]\n",
    "#cbar = plt.colorbar(cntr, orientation='vertical',cax=cbaxes)\n",
    "\n",
    "                                            # Vorticity\n",
    "#---------------------------------------------------------------------------------------------------\n",
    "# draw filled contours.\n",
    "clevs = [0, 1, 2.5, 5, 7.5, 10, 15, 20, 30, 40,\n",
    "         50, 70, 100, 150, 200, 250, 300, 400, 500, 600, 750]\n",
    "# In future MetPy\n",
    "#norm, cmap = ctables.registry.get_with_boundaries('precipitation', clevs)\n",
    "cmap_data = [(1.0, 1.0, 1.0),\n",
    "             (0.3137255012989044, 0.8156862854957581, 0.8156862854957581),\n",
    "             (0.0, 1.0, 1.0),\n",
    "             (0.0, 0.8784313797950745, 0.501960813999176),\n",
    "             (0.0, 0.7529411911964417, 0.0),\n",
    "             (0.501960813999176, 0.8784313797950745, 0.0),\n",
    "             (1.0, 1.0, 0.0),\n",
    "             (1.0, 0.6274510025978088, 0.0),\n",
    "             (1.0, 0.0, 0.0),\n",
    "             (1.0, 0.125490203499794, 0.501960813999176),\n",
    "             (0.9411764740943909, 0.250980406999588, 1.0),\n",
    "             (0.501960813999176, 0.125490203499794, 1.0),\n",
    "             (0.250980406999588, 0.250980406999588, 1.0),\n",
    "             (0.125490203499794, 0.125490203499794, 0.501960813999176),\n",
    "             (0.125490203499794, 0.125490203499794, 0.125490203499794),\n",
    "             (0.501960813999176, 0.501960813999176, 0.501960813999176),\n",
    "             (0.8784313797950745, 0.8784313797950745, 0.8784313797950745),\n",
    "             (0.9333333373069763, 0.8313725590705872, 0.7372549176216125),\n",
    "             (0.8549019694328308, 0.6509804129600525, 0.47058823704719543),\n",
    "             (0.6274510025978088, 0.42352941632270813, 0.23529411852359772),\n",
    "             (0.4000000059604645, 0.20000000298023224, 0.0)]\n",
    "cmap = mcolors.ListedColormap(cmap_data, 'precipitation')\n",
    "norm = mcolors.BoundaryNorm(clevs, cmap.N)\n",
    "\n",
    "colors = [(1, 0, 0), (1, 1, 1), (0, 0, 1)]\n",
    "n_bin = 10  # Discretizes the interpolation into bins\n",
    "cmap_name = 'my_list'\n",
    "\n",
    "levels = np.arange(MIN,MAX,.00001)\n",
    "\n",
    "# Create the colormap\n",
    "cm = LinearSegmentedColormap.from_list(\"seismic\",colors, N=n_bin)\n",
    "cntr = ax.contourf(lon, lat, vort[15,:,:], transform=datacrs,\n",
    "                  cmap=\"Spectral_r\",levels=levels)  # cmap=\"Spectral_r\"\n",
    "\n",
    "cbaxes = fig.add_axes(colorbar_axis) # [left, bottom, width, height]\n",
    "cbar = plt.colorbar(cntr, orientation='horizontal',cax=cbaxes)\n",
    "\n",
    "                                            # Isentropic Winds\n",
    "#---------------------------------------------------------------------------------------------------\n",
    "# Set up slices to subset the wind barbs--the slices below are the same as `::5`\n",
    "# We put these here so that it's easy to change and keep all of the ones below matched\n",
    "# up.\n",
    "lon_slice = slice(None, None, 5)\n",
    "lat_slice = slice(None, None, 5)\n",
    "ax.barbs(lon[lon_slice], lat[lat_slice],\n",
    "         isen_u[lon_slice, lat_slice].to('knots').magnitude,\n",
    "         isen_v[lon_slice, lat_slice].to('knots').magnitude,\n",
    "         transform=ccrs.PlateCarree(), zorder=2) # barbcolor=\"\" optional call\n",
    "\n",
    "ax.set_extent(extent, datacrs)\n",
    "\n",
    "plt.show()\n",
    "outfile=im_save_path+\"Isentropes_Vorticity_Winds_\"+file_time+\".png\"\n",
    "fig.savefig(outfile,bbox_inches='tight',dpi=120)\n",
    "print \"done.\""
   ]
  },
  {
   "cell_type": "markdown",
   "metadata": {},
   "source": [
    "## Isentropic Pressure, Winds and Mixing Ratio"
   ]
  },
  {
   "cell_type": "code",
   "execution_count": null,
   "metadata": {},
   "outputs": [],
   "source": [
    "# Create a plot and basic map projection\n",
    "fig = plt.figure(figsize=(17., 11.))\n",
    "\n",
    "add_metpy_logo(fig, 30, 940, size='small')\n",
    "\n",
    "# Add the map and set the extent\n",
    "ax = plt.subplot(111, projection=plotcrs)\n",
    "\n",
    "# Add state boundaries to plot\n",
    "ax.add_feature(states_provinces, edgecolor='k', linewidth=1)\n",
    "\n",
    "# Add country borders to plot\n",
    "ax.add_feature(country_borders, edgecolor='black', linewidth=1)\n",
    "\n",
    "# Plot Title\n",
    "plt.title('{}K Isentrope Pressure, Winds and Mixing Ratio'.format(TEMP),loc='left',fontsize=16)\n",
    "plt.title(' {0:%d %B %Y %H:%MZ}'.format(time_final),loc='right',fontsize=16)\n",
    "\n",
    "                                            # Isentropic Pressure\n",
    "#---------------------------------------------------------------------------------------------------\n",
    "levels = np.arange(300, 1000, 20)\n",
    "cntr = ax.contour(lon, lat, isen_press, transform=datacrs,\n",
    "                  cmap='rainbow', levels=levels,linewidths=2.0)#colors='black'\n",
    "ax.clabel(cntr, fmt='%.0f')\n",
    "\n",
    "                                            # Isentropic Winds\n",
    "#---------------------------------------------------------------------------------------------------\n",
    "lon_slice = slice(None, None, 8)\n",
    "lat_slice = slice(None, None, 8)\n",
    "ax.barbs(lon[lon_slice], lat[lat_slice],\n",
    "         isen_u[lon_slice, lat_slice].to('knots').magnitude,\n",
    "         isen_v[lon_slice, lat_slice].to('knots').magnitude,\n",
    "         transform=ccrs.PlateCarree(), zorder=3,barbcolor='k')\n",
    "\n",
    "\n",
    "                                           # Isentropic Mixing Ratio\n",
    "#---------------------------------------------------------------------------------------------------\n",
    "# Contourf the mixing ratio values\n",
    "mixing_levels = [0.001, 0.002, 0.004, 0.006, 0.010, 0.012, 0.014, 0.016, 0.020]\n",
    "cntr2 = ax.contourf(lon, lat, isen_mixing, transform=datacrs,\n",
    "            levels=mixing_levels, cmap='YlGn')\n",
    "\n",
    "ax.set_extent(extent, datacrs)\n",
    "\n",
    "cbaxes = fig.add_axes(colorbar_axis) # [left, bottom, width, height]\n",
    "cbar = plt.colorbar(cntr2, orientation='horizontal',cax=cbaxes)\n",
    "\n",
    "plt.show()\n",
    "\n",
    "outfile=im_save_path+\"Isentropes_MixingRatio_Winds_\"+file_time+\".png\"\n",
    "fig.savefig(outfile,bbox_inches='tight',dpi=120)\n",
    "print \"done.\""
   ]
  },
  {
   "cell_type": "markdown",
   "metadata": {},
   "source": [
    "### We can smooth the data, why I'm not sure..."
   ]
  },
  {
   "cell_type": "code",
   "execution_count": null,
   "metadata": {
    "collapsed": true
   },
   "outputs": [],
   "source": [
    "# Filter and re-attach units\n",
    "isen_press = gaussian_filter(isen_press.squeeze(), sigma=2.0) * units.hPa\n",
    "isen_u = gaussian_filter(isen_u.squeeze(), sigma=2.0) * units('m/s')\n",
    "isen_v = gaussian_filter(isen_v.squeeze(), sigma=2.0) * units('m/s')\n",
    "lift = -mpcalc.advection(isen_press, [isen_u, isen_v], [dx, dy], dim_order='yx')"
   ]
  },
  {
   "cell_type": "markdown",
   "metadata": {},
   "source": [
    "## Isentropic Pressure, Winds and Omega"
   ]
  },
  {
   "cell_type": "code",
   "execution_count": null,
   "metadata": {},
   "outputs": [],
   "source": [
    "# Create a plot and basic map projection\n",
    "fig = plt.figure(figsize=(17., 11.))\n",
    "\n",
    "add_metpy_logo(fig, 30, 940, size='small')\n",
    "\n",
    "# Add the map and set the extent\n",
    "ax = plt.subplot(111, projection=plotcrs)\n",
    "\n",
    "# Add state boundaries to plot\n",
    "ax.add_feature(states_provinces, edgecolor='k', linewidth=1)\n",
    "\n",
    "# Add country borders to plot\n",
    "ax.add_feature(country_borders, edgecolor='black', linewidth=1)\n",
    "\n",
    "# Plot Title\n",
    "plt.title('{}K Isentropes, Winds and Omega'.format(TEMP),loc='left',fontsize=16)\n",
    "plt.title(' {0:%d %B %Y %H:%MZ}'.format(time_final),loc='right',fontsize=16)\n",
    "\n",
    "                                            # Isentropic Pressure\n",
    "#---------------------------------------------------------------------------------------------------\n",
    "levels = np.arange(300, 1000, 50)\n",
    "cntr = ax.contour(lon, lat, isen_press, transform=ccrs.PlateCarree(), colors='black', levels=levels)\n",
    "ax.clabel(cntr, fmt='%.0f')\n",
    "\n",
    "\n",
    "                                            # Isentropic Winds\n",
    "#---------------------------------------------------------------------------------------------------\n",
    "lon_slice = slice(None, None, 7)\n",
    "lat_slice = slice(None, None, 7)\n",
    "ax.barbs(lon[lon_slice], lat[lat_slice],\n",
    "         isen_u[lon_slice, lat_slice].to('knots').magnitude,\n",
    "         isen_v[lon_slice, lat_slice].to('knots').magnitude,\n",
    "         transform=ccrs.PlateCarree(), zorder=2)\n",
    "\n",
    "\n",
    "                                            # Omega\n",
    "#---------------------------------------------------------------------------------------------------\n",
    "levels = np.arange(-10, 10,2)\n",
    "cs = ax.contourf(lon, lat, lift.to('microbar/s'), levels=levels, cmap='RdBu',\n",
    "                 transform=ccrs.PlateCarree())#, extend='both')\n",
    "cbaxes = fig.add_axes(colorbar_axis) \n",
    "cbar = plt.colorbar(cs, orientation='horizontal',cax=cbaxes)\n",
    "\n",
    "ax.set_extent(extent, datacrs)\n",
    "\n",
    "plt.show(fig)\n",
    "outfile=im_save_path+\"Isentropes_Omega_Winds_\"+file_time+\".png\"\n",
    "fig.savefig(outfile,bbox_inches='tight',dpi=120)\n",
    "print \"done.\""
   ]
  },
  {
   "cell_type": "markdown",
   "metadata": {
    "collapsed": true
   },
   "source": [
    "## 1000-500mb Heights"
   ]
  },
  {
   "cell_type": "code",
   "execution_count": null,
   "metadata": {},
   "outputs": [],
   "source": [
    "# Create a figure object, title it, and do the plots.\n",
    "fig = plt.figure(figsize = (17.,11.))\n",
    "\n",
    "add_metpy_logo(fig, 30, 940, size='small')\n",
    "\n",
    "# Add the map and set the extent\n",
    "ax5 = plt.subplot(1,1,1, projection=plotcrs)\n",
    "ax5.set_extent(extent, datacrs)\n",
    "\n",
    "# Add state boundaries to plot\n",
    "ax5.add_feature(states_provinces, edgecolor='k', linewidth=1)\n",
    "\n",
    "# Add country borders to plot\n",
    "ax5.add_feature(country_borders, edgecolor='black', linewidth=1)\n",
    "\n",
    "# Plot Title\n",
    "plt.title('1000 and 500mb Heights',loc='left',fontsize=16)\n",
    "plt.title(' {0:%d %B %Y %H:%MZ}'.format(time_final),loc='right',fontsize=16)\n",
    "\n",
    "                                        # Heights - 1000mb\n",
    "#---------------------------------------------------------------------------------------------------\n",
    "lev_1000 = np.where(data.variables['isobaric'][:] == 100000)[0][0]\n",
    "\n",
    "hght_1000 = data.variables['Geopotential_height_isobaric'][0, lev_1000, :, :]\n",
    "MIN = hght_1000.min()\n",
    "MAX = hght_1000.max()\n",
    "print hght_1000.min(),hght_1000.max()\n",
    "hght_1000 = ndimage.gaussian_filter(hght_1000, sigma=3, order=0) * units.meter\n",
    "\n",
    "clev1000 = np.arange(MIN, MAX, 50)\n",
    "cs = ax5.contour(lon, lat, hght_1000.m, clev1000, colors='blue', linewidths=2.0,\n",
    "                linestyles='solid', transform=ccrs.PlateCarree())\n",
    "plt.clabel(cs, fontsize=10, inline=1, inline_spacing=10, fmt='%i',\n",
    "           rightside_up=True, use_clabeltext=True)\n",
    "\n",
    "                                        # Heights - 500mb\n",
    "#---------------------------------------------------------------------------------------------------\n",
    "MIN = hght_500.min()\n",
    "MAX = hght_500.max()\n",
    "print hght_500.min(),hght_500.max()\n",
    "hght_500 = ndimage.gaussian_filter(hght_500, sigma=3, order=0) * units.meter\n",
    "\n",
    "clev500 = np.arange(MIN, MAX, 70)\n",
    "cs = ax5.contour(lon, lat, hght_500.m, clev500, colors='black', linewidths=2.0,\n",
    "                linestyles='solid', transform=ccrs.PlateCarree())\n",
    "plt.clabel(cs, fontsize=10, inline=1, inline_spacing=10, fmt='%i',\n",
    "           rightside_up=True, use_clabeltext=True)\n",
    "\n",
    "\n",
    "                                        # Vorticity\n",
    "#---------------------------------------------------------------------------------------------------\n",
    "#uwnd_500 = data.variables['u-component_of_wind_isobaric'][0, lev_500, :, :] * units('m/s')\n",
    "#vwnd_500 = data.variables['v-component_of_wind_isobaric'][0, lev_500, :, :] * units('m/s')\n",
    "#dx, dy = mpcalc.lat_lon_grid_spacing(lon, lat)#\n",
    "\n",
    "#lat = data.variables['lat'][:]\n",
    "#f = mpcalc.coriolis_parameter(np.deg2rad(lat)).to(units('1/sec'))\n",
    "\n",
    "#avor = mpcalc.vorticity(uwnd_500, vwnd_500, dx, dy, dim_order='yx') + f\n",
    "#print avor.units\n",
    "#MAX = avor2.max()\n",
    "#MIN = avor2.min()\n",
    "#print MAX*units('dimensionless'),MIN*units('dimensionless')\n",
    "\n",
    "#avor2 = ndimage.gaussian_filter(avor, sigma=3, order=0) * units('1/s')\n",
    "\n",
    "\n",
    "#vort_adv = mpcalc.advection(avor2, [uwnd_500, vwnd_500], (dx, dy), dim_order='yx') * 1e9\n",
    "# Plot Colorfill of Vorticity Advection\n",
    "#clev_avoradv = np.arange(MIN, MAX, 5)\n",
    "#cf = ax5.contourf(lon, lat, vort_adv.m, clev_avoradv[clev_avoradv != 0], extend='both',\n",
    "#                 cmap='bwr', transform=ccrs.PlateCarree())\n",
    "#cax = plt.subplot(gs[1])\n",
    "#cb = plt.colorbar(cf, cax=cax, orientation='horizontal', extendrect='True', ticks=clev_avoradv)\n",
    "#cb.set_label(r'$1/s^2$', size='large')\n",
    "\n",
    "#---------------------------------------------------------------------------------------------------\n",
    "#---------------------------------------------------------------------------------------------------\n",
    "\n",
    "fig.subplots_adjust(top=0.89)\n",
    "fig.savefig(im_save_path+\"1000_500mb_Heights_\"+file_time+\".png\",\n",
    "            bbox_inches='tight',dpi=120)\n",
    "print 'done.'"
   ]
  },
  {
   "cell_type": "markdown",
   "metadata": {},
   "source": [
    "## 250mb Heights"
   ]
  },
  {
   "cell_type": "code",
   "execution_count": null,
   "metadata": {},
   "outputs": [],
   "source": [
    "# Create a figure object, title it, and do the plots.\n",
    "fig = plt.figure(figsize = (17.,11.))\n",
    "\n",
    "add_metpy_logo(fig, 30, 1000, size='small')\n",
    "\n",
    "# Add the map and set the extent\n",
    "ax6 = plt.subplot(1,1,1, projection=plotcrs)\n",
    "\n",
    "# Add state boundaries to plot\n",
    "ax6.add_feature(states_provinces, edgecolor='b', linewidth=1)\n",
    "\n",
    "# Add country borders to plot\n",
    "ax6.add_feature(country_borders, edgecolor='k', linewidth=1)\n",
    "\n",
    "# Plot Title\n",
    "plt.title('250mb Heights and Jet Streaks',loc='left',fontsize=16)\n",
    "plt.title(' {0:%d %B %Y %H:%MZ}'.format(time_final),loc='right',fontsize=16)\n",
    "\n",
    "\n",
    "                                        # Heights\n",
    "#---------------------------------------------------------------------------------------------------\n",
    "\n",
    "MIN = hght_250.min()\n",
    "MAX = hght_250.max()\n",
    "\n",
    "print hght_250.min(),hght_250.max()\n",
    "hght_250 = ndimage.gaussian_filter(hght_250, sigma=3, order=0) * units.meter\n",
    "\n",
    "clev250 = np.arange(MIN, MAX, 80)\n",
    "cs = ax6.contour(lon, lat, hght_250.m, clev250, colors='black', linewidths=2.0,\n",
    "                linestyles='solid', transform=ccrs.PlateCarree())\n",
    "#plt.clabel(cs, fontsize=10, inline=1, inline_spacing=10, fmt='%i',\n",
    "#           rightside_up=True, use_clabeltext=True)\n",
    "\n",
    "                                        # Winds\n",
    "#---------------------------------------------------------------------------------------------------\n",
    "#lon_slice = slice(None, None, 7)\n",
    "#lat_slice = slice(None, None, 7)\n",
    "#ax4.barbs(lon[lon_slice], lat[lat_slice],\n",
    "#         u_250[lon_slice, lat_slice].magnitude,\n",
    "#         v_250[lon_slice, lat_slice].magnitude,\n",
    "#         transform=ccrs.PlateCarree(), zorder=2)\n",
    "\n",
    "wspd250 = mpcalc.get_wind_speed(u_250, v_250)\n",
    "#print wspd250.min()\n",
    "clevsped250 = np.arange(50, 100, 1)\n",
    "cf = ax6.contourf(lon, lat, wspd250, clevsped250, cmap=\"gist_ncar\", transform=ccrs.PlateCarree())\n",
    "#cbar = plt.colorbar(cf, cax=cax, orientation='horizontal', extend='max', extendrect=True,pad=0.2)\n",
    "cbaxes = fig.add_axes(colorbar_axis) \n",
    "cbar = plt.colorbar(cf, orientation='horizontal',cax=cbaxes)\n",
    "\n",
    "ax6.set_extent(extent, datacrs)\n",
    "\n",
    "\n",
    "#---------------------------------------------------------------------------------------------------\n",
    "#---------------------------------------------------------------------------------------------------\n",
    "\n",
    "fig.savefig(im_save_path+\"250mb_Heights_Winds_\"+file_time+\".png\",\n",
    "            bbox_inches='tight',dpi=120)\n",
    "print 'done.'"
   ]
  },
  {
   "cell_type": "code",
   "execution_count": null,
   "metadata": {
    "collapsed": true
   },
   "outputs": [],
   "source": [
    "os.chdir(im_save_path)\n",
    "os.system(\"open .\")"
   ]
  },
  {
   "cell_type": "markdown",
   "metadata": {},
   "source": [
    "# --------------------------------------------------------------------------------------"
   ]
  },
  {
   "cell_type": "markdown",
   "metadata": {},
   "source": [
    "# <center>End of Daily Maps</center>"
   ]
  },
  {
   "cell_type": "markdown",
   "metadata": {},
   "source": [
    "# --------------------------------------------------------------------------------------"
   ]
  },
  {
   "cell_type": "markdown",
   "metadata": {},
   "source": [
    "# We can look further in to the servers we accessed for the raw data"
   ]
  },
  {
   "cell_type": "markdown",
   "metadata": {},
   "source": [
    "https://doi.org/10.6084/m9.figshare.5244637.v1"
   ]
  },
  {
   "cell_type": "raw",
   "metadata": {
    "collapsed": true
   },
   "source": [
    "from siphon.catalog import TDSCatalog\n",
    "top_cat = TDSCatalog('http://thredds.ucar.edu/thredds/catalog.xml')\n",
    "for ref in top_cat.catalog_refs:\n",
    "    print(ref)\n"
   ]
  },
  {
   "cell_type": "raw",
   "metadata": {
    "collapsed": true
   },
   "source": [
    "ref = top_cat.catalog_refs['Forecast Model Data']\n",
    "ref.href"
   ]
  },
  {
   "cell_type": "raw",
   "metadata": {
    "collapsed": true
   },
   "source": [
    "new_cat = ref.follow()\n",
    "list(new_cat.catalog_refs)"
   ]
  },
  {
   "cell_type": "raw",
   "metadata": {
    "collapsed": true
   },
   "source": [
    "model = new_cat.catalog_refs[4]\n",
    "print str(model)[0:4]\n",
    "gfs_cat = model.follow()\n",
    "list(gfs_cat.datasets)"
   ]
  },
  {
   "cell_type": "raw",
   "metadata": {
    "collapsed": true
   },
   "source": [
    "gfs_cat.datasets"
   ]
  },
  {
   "cell_type": "raw",
   "metadata": {
    "collapsed": true
   },
   "source": [
    "ds = gfs_cat.datasets[0]\n",
    "ds.name"
   ]
  },
  {
   "cell_type": "raw",
   "metadata": {
    "collapsed": true
   },
   "source": [
    "gfs_cat.datasets[1]"
   ]
  },
  {
   "cell_type": "code",
   "execution_count": null,
   "metadata": {
    "collapsed": true
   },
   "outputs": [],
   "source": []
  },
  {
   "cell_type": "markdown",
   "metadata": {},
   "source": [
    "# We can access archived data as well for case studies"
   ]
  },
  {
   "cell_type": "raw",
   "metadata": {
    "collapsed": true
   },
   "source": [
    "from datetime import datetime\n",
    "base_url = 'https://www.ncei.noaa.gov/thredds/ncss/grid/gfs-g4-anl-files/'\n",
    "dt = datetime(2017, 9, 12, 6)\n",
    "\n",
    "ncss = NCSS('{}{dt:%Y%m}/{dt:%Y%m%d}/gfsanl_4_{dt:%Y%m%d}_{dt:%H}00_000.grb2'.format(base_url, dt=dt))\n",
    "\n",
    "# Create lat/lon box for location you want to get data for\n",
    "query = ncss.query().time(dt)\n",
    "\n",
    "#query.lonlat_box(north=28.5, south=0.5, east=-30.5, west=-75)\n",
    "query.lonlat_box(north=65, south=15, east=310, west=220)\n",
    "query.accept('netcdf')\n",
    "\n",
    "# Request data for model \"surface\" data\n",
    "query.variables('Pressure_reduced_to_MSL_msl',\n",
    "                'Apparent_temperature_height_above_ground',\n",
    "                'u-component_of_wind_height_above_ground',\n",
    "                'v-component_of_wind_height_above_ground',\n",
    "               'Absolute_vorticity_isobaric','Geopotential_height_isobaric',\n",
    "               'u-component_of_wind_isobaric','v-component_of_wind_isobaric')\n",
    "data = ncss.get_data(query)"
   ]
  },
  {
   "cell_type": "raw",
   "metadata": {
    "collapsed": true
   },
   "source": [
    "query.variables"
   ]
  },
  {
   "cell_type": "raw",
   "metadata": {
    "collapsed": true
   },
   "source": [
    "# Pull out variables you want to use\n",
    "mslp = data.variables['Pressure_reduced_to_MSL_msl'][:].squeeze()\n",
    "#temp = units.K * data.variables['Apparent_temperature_height_above_ground'][:].squeeze()\n",
    "u_wind = units('m/s') * data.variables['u-component_of_wind_height_above_ground'][:].squeeze()\n",
    "v_wind = units('m/s') * data.variables['v-component_of_wind_height_above_ground'][:].squeeze()\n",
    "abs_vort = data.variables['Absolute_vorticity_isobaric'][:].squeeze()\n",
    "lat = data.variables['lat'][:].squeeze()\n",
    "lon = data.variables['lon'][:].squeeze()\n",
    "time_var = data.variables[find_time_var(data.variables['Pressure_reduced_to_MSL_msl'])]\n",
    "\n",
    "# Convert winds to knots\n",
    "u_wind.ito('kt')\n",
    "v_wind.ito('kt')\n",
    "\n",
    "# Convert number of hours since the reference time into an actual date\n",
    "time = num2date(time_var[:].squeeze(), time_var.units)\n",
    "\n",
    "lev_10m = np.where(data.variables['height_above_ground3'][:] == 10)[0][0]\n",
    "u_wind_10m = u_wind[lev_10m]\n",
    "v_wind_10m = v_wind[lev_10m]\n",
    "\n",
    "# Combine 1D latitude and longitudes into a 2D grid of locations\n",
    "lon_2d, lat_2d = np.meshgrid(lon, lat)\n",
    "\n",
    "# Smooth MSLP a little\n",
    "# Be sure to only put in a 2D lat/lon or Y/X array for smoothing\n",
    "smooth_mslp = ndimage.gaussian_filter(mslp, sigma=3, order=0) * units.Pa\n",
    "smooth_mslp.ito('hPa')\n",
    "\n",
    "lev_250 = np.where(data.variables['isobaric'][:] == 25000)[0][0]\n",
    "hght_250 = data.variables['Geopotential_height_isobaric'][0, lev_250, :, :]\n",
    "u_250 = data.variables['u-component_of_wind_isobaric'][0, lev_250, :, :]\n",
    "v_250 = data.variables['u-component_of_wind_isobaric'][0, lev_250, :, :]"
   ]
  },
  {
   "cell_type": "raw",
   "metadata": {
    "collapsed": true,
    "scrolled": false
   },
   "source": [
    "fig.clf()\n",
    "# Create a figure object, title it, and do the plots.\n",
    "fig = plt.figure(figsize = (17.,11.))\n",
    "\n",
    "add_metpy_logo(fig, 30, 1000, size='small')\n",
    "\n",
    "# Add the map and set the extent\n",
    "ax6 = plt.subplot(1,1,1, projection=plotcrs)\n",
    "\n",
    "# Add state boundaries to plot\n",
    "ax6.add_feature(states_provinces, edgecolor='b', linewidth=1)\n",
    "\n",
    "# Add country borders to plot\n",
    "ax6.add_feature(country_borders, edgecolor='k', linewidth=1)\n",
    "\n",
    "# Plot Title\n",
    "plt.title('250mb Heights and Jet Streaks',loc='left',fontsize=16)\n",
    "plt.title(' {0:%d %B %Y %H:%MZ}'.format(time),loc='right',fontsize=16)\n",
    "\n",
    "\n",
    "                                        # Heights\n",
    "#---------------------------------------------------------------------------------------------------\n",
    "lev_250 = np.where(data.variables['isobaric'][:] == 25000)[0][0]\n",
    "\n",
    "hght_250 = data.variables['Geopotential_height_isobaric'][0, lev_250, :, :]\n",
    "MIN = hght_250.min()\n",
    "MAX = hght_250.max()\n",
    "\n",
    "print hght_250.min(),hght_250.max()\n",
    "hght_250 = ndimage.gaussian_filter(hght_250, sigma=3, order=0) * units.meter\n",
    "\n",
    "clev250 = np.arange(MIN, MAX, 80)\n",
    "cs = ax6.contour(lon, lat, hght_250.m, clev250, colors='black', linewidths=2.0,\n",
    "                linestyles='solid', transform=ccrs.PlateCarree())\n",
    "#plt.clabel(cs, fontsize=10, inline=1, inline_spacing=10, fmt='%i',\n",
    "#           rightside_up=True, use_clabeltext=True)\n",
    "\n",
    "                                        # Winds\n",
    "#---------------------------------------------------------------------------------------------------\n",
    "u_250 = data.variables['u-component_of_wind_isobaric'][0, lev_250, :, :]\n",
    "v_250 = data.variables['v-component_of_wind_isobaric'][0, lev_250, :, :]\n",
    "\n",
    "#lon_slice = slice(None, None, 7)\n",
    "#lat_slice = slice(None, None, 7)\n",
    "#ax4.barbs(lon[lon_slice], lat[lat_slice],\n",
    "#         u_250[lon_slice, lat_slice].magnitude,\n",
    "#         v_250[lon_slice, lat_slice].magnitude,\n",
    "#         transform=ccrs.PlateCarree(), zorder=2)\n",
    "\n",
    "wspd250 = mpcalc.get_wind_speed(u_250, v_250)\n",
    "#print wspd250.min()\n",
    "clevsped250 = np.arange(20, 90, 1)\n",
    "cf = ax6.contourf(lon, lat, wspd250, clevsped250, cmap=\"gist_ncar\", transform=ccrs.PlateCarree())\n",
    "#cbar = plt.colorbar(cf, cax=cax, orientation='horizontal', extend='max', extendrect=True,pad=0.2)\n",
    "cbaxes = fig.add_axes(colorbar_axis) \n",
    "cbar = plt.colorbar(cf, orientation='horizontal',cax=cbaxes)\n",
    "\n",
    "ax6.set_extent(extent, datacrs)\n",
    "\n",
    "\n",
    "#---------------------------------------------------------------------------------------------------\n",
    "#---------------------------------------------------------------------------------------------------\n",
    "plt.show()\n",
    "#fig.savefig(\"/Users/chowdahead/Desktop/\"+\"250mb_Heights_Winds\"+' {0:%d %B %Y %H:%MZ}'.format(time)+\".png\",\n",
    "#            bbox_inches='tight',dpi=120)\n",
    "print 'done.'"
   ]
  },
  {
   "cell_type": "code",
   "execution_count": null,
   "metadata": {
    "collapsed": true
   },
   "outputs": [],
   "source": []
  },
  {
   "cell_type": "code",
   "execution_count": null,
   "metadata": {
    "collapsed": true
   },
   "outputs": [],
   "source": []
  },
  {
   "cell_type": "code",
   "execution_count": null,
   "metadata": {
    "collapsed": true
   },
   "outputs": [],
   "source": []
  },
  {
   "cell_type": "code",
   "execution_count": null,
   "metadata": {
    "collapsed": true
   },
   "outputs": [],
   "source": []
  },
  {
   "cell_type": "code",
   "execution_count": null,
   "metadata": {
    "collapsed": true
   },
   "outputs": [],
   "source": []
  },
  {
   "cell_type": "markdown",
   "metadata": {},
   "source": [
    "# Try and get forecasted data, but not working"
   ]
  },
  {
   "cell_type": "raw",
   "metadata": {
    "collapsed": true
   },
   "source": [
    "from datetime import datetime\n",
    "#base_url = 'https://www.ncei.noaa.gov/thredds/ncss/grid/gfs-g4-anl-files/'\n",
    "base_url = 'http://thredds.ucar.edu/thredds/ncss/grib/NCEP/GEFS/Global_1p0deg_Ensemble/members/'\n",
    "#\"http://thredds.ucar.edu/thredds/ncss/grib/NCEP/GEFS/Global_1p0deg_Ensemble/members/\"\n",
    "dt = datetime(2018, 11, 19, 6)\n",
    "forecast_hour = 18\n",
    "#ncss = NCSS('{}{dt:%Y%m}/{dt:%Y%m%d}/gfsanl_4_{dt:%Y%m%d}_{dt:%H}00_000.grb2'.format(base_url, dt=dt))\n",
    "\n",
    "ncss = NCSS(\"{}GEFS_Global_1p0deg_Ensemble_{dt:%Y%m%d}_{dt:%H}00_00.grb2/\".format(base_url, dt=dt))\n",
    "\n",
    "# Create lat/lon box for location you want to get data for\n",
    "query = ncss.query().time(dt)\n",
    "\n",
    "#query.lonlat_box(north=28.5, south=0.5, east=-30.5, west=-75)\n",
    "query.lonlat_box(north=65, south=15, east=310, west=220)\n",
    "query.accept('netcdf')\n",
    "\n",
    "# Request data for model \"surface\" data\n",
    "query.variables('Pressure_reduced_to_MSL_msl',\n",
    "                'Apparent_temperature_height_above_ground',\n",
    "                'u-component_of_wind_height_above_ground',\n",
    "                'v-component_of_wind_height_above_ground',\n",
    "               'Absolute_vorticity_isobaric','Geopotential_height_isobaric',\n",
    "               'u-component_of_wind_isobaric','v-component_of_wind_isobaric')\n",
    "data = ncss.get_data(query)\n",
    "print '{}{dt:%Y%m}/{dt:%Y%m%d}/gfsanl_4_{dt:%Y%m%d}_{dt:%H}00_000.grb2'.format(base_url, dt=dt)\n",
    "\"GEFS_Global_1p0deg_Ensemble_20181119_0600.grib2\"\n",
    "\"GEFS_Global_1p0deg_Ensemble_20181119_0600.grib2/dataset.html\""
   ]
  },
  {
   "cell_type": "code",
   "execution_count": null,
   "metadata": {
    "collapsed": true
   },
   "outputs": [],
   "source": []
  }
 ],
 "metadata": {
  "kernelspec": {
   "display_name": "Python 2",
   "language": "python",
   "name": "python2"
  },
  "language_info": {
   "codemirror_mode": {
    "name": "ipython",
    "version": 2
   },
   "file_extension": ".py",
   "mimetype": "text/x-python",
   "name": "python",
   "nbconvert_exporter": "python",
   "pygments_lexer": "ipython2",
   "version": "2.7.15"
  }
 },
 "nbformat": 4,
 "nbformat_minor": 1
}
