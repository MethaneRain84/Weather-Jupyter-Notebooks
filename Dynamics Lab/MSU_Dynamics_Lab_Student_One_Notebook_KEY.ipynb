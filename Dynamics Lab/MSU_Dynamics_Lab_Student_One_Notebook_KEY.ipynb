{
 "cells": [
  {
   "cell_type": "markdown",
   "metadata": {
    "collapsed": true
   },
   "source": [
    "<h1><font face=\"fantasy, serif\" color=#533563 style=\"font-size:40px\"><center>MTR 3420 Dynamics Interactive Lab Notebook</center></font></h1>"
   ]
  },
  {
   "cell_type": "markdown",
   "metadata": {},
   "source": [
    "<h1><font face=\"fantasy, serif\" color=#533563 style=\"font-size:40px\"><center>Data Notebook</center></font></h1>"
   ]
  },
  {
   "cell_type": "markdown",
   "metadata": {},
   "source": [
    "<h1><font face=\"fantasy, serif\" color=#533563 style=\"font-size:40px\"><center>Justin Richling - 08/20/2018</center></font></h1>"
   ]
  },
  {
   "cell_type": "markdown",
   "metadata": {
    "collapsed": true
   },
   "source": [
    "<h1><font face=\"fantasy, serif\" color=#533563 style=\"font-size:23px\"><center>This notebook will allow many learning opportunities:</center><br/></font><font face=\"fantasy, serif\" color=#533563 style=\"font-size:18px\"><ul>\n",
    "  <li><font>Reading Data from NetCDF file</font></li><br>\n",
    "  <li>Working with Multidimensional Arrays</li><br>\n",
    "  <li>Creating Functions</li><br>\n",
    "  <li>Running Calculations</li><br>\n",
    "  <li>Plotting Maps</li><br>\n",
    "  <li>Using Working Notebook - chance to use HTML and Tex formatting</li><br>\n",
    "  <li>Learning Python and common programming language terminology</li><br>\n",
    "  <li>Algorithms - Learning how to think rationally</li>\n",
    "</ul></font></h1>"
   ]
  },
  {
   "cell_type": "markdown",
   "metadata": {},
   "source": [
    "<h3><center><font face=\"fantasy, serif\" color=#233513 style=\"font-size:35px\">-----------------------------//-----------------------------</font></center></h3>"
   ]
  },
  {
   "cell_type": "markdown",
   "metadata": {},
   "source": [
    "<h2><font face=\"fantasy, serif\" color=#533563 style=\"font-size:40px\"><center>In Python we can import external libraries that we can download which will help us in numerous ways</center><br></font><font face=\"fantasy, serif\" color=#533563 style=\"font-size:20px\">One of the most useful aspects of Python is being able to import external libraries (once you have them downloaded) to help with such things like mathematical calcs, plotting, working with arrays and specific types of data files (NetCDF for example).<br><br>We can also use them for grabbing things from the internet or the operating system of our computer like time or command line operations.  </font></h2>"
   ]
  },
  {
   "cell_type": "code",
   "execution_count": null,
   "metadata": {
    "collapsed": true
   },
   "outputs": [],
   "source": [
    "# matplotlib is the powerful plotting tool that allows us to make customizable plots\n",
    "import matplotlib.pyplot as plt\n",
    "import matplotlib.ticker as mticker\n",
    "\n",
    "# numpy is Python's math library and helps us with calculations. Trig functions, constants and \n",
    "# symbols are accessable.\n",
    "import numpy as np\n",
    "\n",
    "# xarray will allow us so many cool and useful features when working with multidimensional data arrays\n",
    "import xarray as xr\n",
    "\n",
    "# build our backgroud map and plotting control\n",
    "from mpl_toolkits.basemap import Basemap\n",
    "\n",
    "# Locally set the figure size\n",
    "plt.rcParams['figure.figsize'] = (20, 20)\n",
    "\n",
    "#\n",
    "import scipy.ndimage as ndimage\n",
    "\n",
    "# for better control of the ticks on the x and y-axis\n",
    "from matplotlib import ticker\n",
    "\n",
    "#import pandas as pd \n",
    "# It wouldn't be a bad idea to save our calulations in a new .nc file so we don't have to run calculation\n",
    "# everytime we open out notebook, we can just call in the data by opening the new .nc file.\n",
    "from netCDF4 import Dataset\n",
    "\n",
    "# If we want to import images the Image libary will be what we want \n",
    "from IPython.display import Image, display"
   ]
  },
  {
   "cell_type": "raw",
   "metadata": {
    "collapsed": true
   },
   "source": [
    "# numpy is Python's math library and helps us with calculations. Trig functions, constants and \n",
    "# symbols are accessable.\n",
    "import numpy as np\n",
    "\n",
    "# xarray will allow us so many cool and useful features when working with multidimensional data arrays\n",
    "import xarray as xr\n",
    "\n",
    "# This can allow us to Gaussian smooth the data if desired\n",
    "import scipy.ndimage as ndimage\n",
    "\n",
    "# It wouldn't be a bad idea to save our calulations in a new .nc file so we don't have to run calculations\n",
    "# everytime we open our notebook.\n",
    "import netCDF4\n",
    "from netCDF4 import Dataset\n"
   ]
  },
  {
   "cell_type": "markdown",
   "metadata": {},
   "source": [
    "<h3><center><font face=\"fantasy, serif\" color=#233513 style=\"font-size:35px\">-----------------------------//-----------------------------</font></center></h3>"
   ]
  },
  {
   "cell_type": "markdown",
   "metadata": {},
   "source": [
    "<h2><h2><font face=\"fantasy, serif\" color=#533563 style=\"font-size:40px\"><center>Now it's time to pull some data from our NetCDF file!</center><br></font><font face=\"fantasy, serif\" color=#533563 style=\"font-size:20px\">Setting the file path as a variable <font face=\"fantasy, serif\" color=#000000 style=\"font-size:23px\"><i>datafile</i></font>. Find out where this file lives on your computer. We can use the command line or through finder windows on the desktop.<br><br>Then calling xr.open() will read all the data from the NetCDF file and we can print it out to examine what's going on.</font></h2>"
   ]
  },
  {
   "cell_type": "markdown",
   "metadata": {},
   "source": [
    "<h2><font face=\"fantasy, serif\" color=#533563 style=\"font-size:20px\">What we will be doing time and time again is assigning data, numbers, strings, etc to <font face=\"fantasy, serif\" color=#000000 style=\"font-size:23px\"><i>variables</i></font>. This allows us to keep accessing the data once the data file is closed. Most importantly it will allow us to be free to probe the information stored in the variable over and over again in our <font face=\"fantasy, serif\" color=#000000 style=\"font-size:23px\"><i>for-loops</i></font>.</font></h2>"
   ]
  },
  {
   "cell_type": "code",
   "execution_count": 4,
   "metadata": {},
   "outputs": [
    {
     "name": "stdout",
     "output_type": "stream",
     "text": [
      "<xarray.Dataset>\n",
      "Dimensions:  (lat: 73, level: 17, lon: 144, time: 1464)\n",
      "Coordinates:\n",
      "  * level    (level) float32 1000.0 925.0 850.0 700.0 600.0 500.0 400.0 ...\n",
      "  * lat      (lat) float32 90.0 87.5 85.0 82.5 80.0 77.5 75.0 72.5 70.0 67.5 ...\n",
      "  * lon      (lon) float32 0.0 2.5 5.0 7.5 10.0 12.5 15.0 17.5 20.0 22.5 ...\n",
      "  * time     (time) datetime64[ns] 2016-01-01 2016-01-01T06:00:00 ...\n",
      "Data variables:\n",
      "    hgt      (time, level, lat, lon) float32 ...\n",
      "Attributes:\n",
      "    Conventions:    COARDS\n",
      "    title:          4x daily NMC reanalysis (2014)\n",
      "    history:        created 2013/12 by Hoop (netCDF2.3)\n",
      "    description:    Data is from NMC initialized reanalysis\\n(4x/day).  It co...\n",
      "    platform:       Model\n",
      "    References:     http://www.esrl.noaa.gov/psd/data/gridded/data.ncep.reana...\n",
      "    dataset_title:  NCEP-NCAR Reanalysis 1\n"
     ]
    }
   ],
   "source": [
    "# Try to find the location of the data file and set the path to the variable dataFile\n",
    "dataFile = '/Users/chowdahead/Desktop/Dynamics/hgt.2016.nc'\n",
    "\n",
    "#Open the dataset, set it to a vriable and print out metadeta\n",
    "ds = xr.open_dataset(dataFile)\n",
    "\n",
    "# Let's take a look at the metadata\n",
    "print ds"
   ]
  },
  {
   "cell_type": "markdown",
   "metadata": {},
   "source": []
  },
  {
   "cell_type": "code",
   "execution_count": 5,
   "metadata": {},
   "outputs": [
    {
     "name": "stderr",
     "output_type": "stream",
     "text": [
      "/Users/chowdahead/anaconda/lib/python2.7/_abcoll.py:410: FutureWarning: iteration over an xarray.Dataset will change in xarray v0.11 to only include data variables, not coordinates. Iterate over the Dataset.variables property instead to preserve existing behavior in a forwards compatible manner.\n",
      "  return list(self)\n",
      "/Users/chowdahead/anaconda/lib/python2.7/_abcoll.py:410: FutureWarning: calling len() on an xarray.Dataset will change in xarray v0.11 to only include data variables, not coordinates. Call len() on the Dataset.variables property instead, like ``len(ds.variables)``, to preserve existing behavior in a forwards compatible manner.\n",
      "  return list(self)\n"
     ]
    },
    {
     "data": {
      "text/plain": [
       "[u'level', u'lat', u'lon', u'time', u'hgt']"
      ]
     },
     "execution_count": 5,
     "metadata": {},
     "output_type": "execute_result"
    }
   ],
   "source": [
    "ds.keys()"
   ]
  },
  {
   "cell_type": "code",
   "execution_count": 6,
   "metadata": {},
   "outputs": [
    {
     "data": {
      "text/plain": [
       "<xarray.DataArray 'lon' (lon: 144)>\n",
       "array([   0. ,    2.5,    5. ,    7.5,   10. ,   12.5,   15. ,   17.5,   20. ,\n",
       "         22.5,   25. ,   27.5,   30. ,   32.5,   35. ,   37.5,   40. ,   42.5,\n",
       "         45. ,   47.5,   50. ,   52.5,   55. ,   57.5,   60. ,   62.5,   65. ,\n",
       "         67.5,   70. ,   72.5,   75. ,   77.5,   80. ,   82.5,   85. ,   87.5,\n",
       "         90. ,   92.5,   95. ,   97.5,  100. ,  102.5,  105. ,  107.5,  110. ,\n",
       "        112.5,  115. ,  117.5,  120. ,  122.5,  125. ,  127.5,  130. ,  132.5,\n",
       "        135. ,  137.5,  140. ,  142.5,  145. ,  147.5,  150. ,  152.5,  155. ,\n",
       "        157.5,  160. ,  162.5,  165. ,  167.5,  170. ,  172.5,  175. ,  177.5,\n",
       "        180. ,  182.5,  185. ,  187.5,  190. ,  192.5,  195. ,  197.5,  200. ,\n",
       "        202.5,  205. ,  207.5,  210. ,  212.5,  215. ,  217.5,  220. ,  222.5,\n",
       "        225. ,  227.5,  230. ,  232.5,  235. ,  237.5,  240. ,  242.5,  245. ,\n",
       "        247.5,  250. ,  252.5,  255. ,  257.5,  260. ,  262.5,  265. ,  267.5,\n",
       "        270. ,  272.5,  275. ,  277.5,  280. ,  282.5,  285. ,  287.5,  290. ,\n",
       "        292.5,  295. ,  297.5,  300. ,  302.5,  305. ,  307.5,  310. ,  312.5,\n",
       "        315. ,  317.5,  320. ,  322.5,  325. ,  327.5,  330. ,  332.5,  335. ,\n",
       "        337.5,  340. ,  342.5,  345. ,  347.5,  350. ,  352.5,  355. ,  357.5], dtype=float32)\n",
       "Coordinates:\n",
       "  * lon      (lon) float32 0.0 2.5 5.0 7.5 10.0 12.5 15.0 17.5 20.0 22.5 ...\n",
       "Attributes:\n",
       "    units:          degrees_east\n",
       "    long_name:      Longitude\n",
       "    actual_range:   [   0.   357.5]\n",
       "    standard_name:  longitude\n",
       "    axis:           X"
      ]
     },
     "execution_count": 6,
     "metadata": {},
     "output_type": "execute_result"
    }
   ],
   "source": [
    "ds['lon']"
   ]
  },
  {
   "cell_type": "code",
   "execution_count": 7,
   "metadata": {},
   "outputs": [
    {
     "data": {
      "text/plain": [
       "<xarray.DataArray 'lon' ()>\n",
       "array(350.0, dtype=float32)\n",
       "Coordinates:\n",
       "    lon      float32 350.0\n",
       "Attributes:\n",
       "    units:          degrees_east\n",
       "    long_name:      Longitude\n",
       "    actual_range:   [   0.   357.5]\n",
       "    standard_name:  longitude\n",
       "    axis:           X"
      ]
     },
     "execution_count": 7,
     "metadata": {},
     "output_type": "execute_result"
    }
   ],
   "source": [
    "ds['lon'][140]\n",
    "\n",
    "# actual_range:   [   0.   357.5]  \n",
    "# means (0,2.5,...,355,357.5)"
   ]
  },
  {
   "cell_type": "code",
   "execution_count": null,
   "metadata": {
    "collapsed": true
   },
   "outputs": [],
   "source": []
  },
  {
   "cell_type": "markdown",
   "metadata": {},
   "source": [
    "<h2><font face=\"fantasy, serif\" color=#533563 style=\"font-size:23px\">We are going to grab all the values for each variable and assign them to a new arrays: Lat, Lon, Time, and Level:</font></h2>"
   ]
  },
  {
   "cell_type": "code",
   "execution_count": 8,
   "metadata": {},
   "outputs": [
    {
     "name": "stdout",
     "output_type": "stream",
     "text": [
      "Data type of our new arrays:  <type 'numpy.ndarray'>\n",
      "Shape of Lat array:  73\n",
      "Shape of Lon array:  144\n",
      "Shape of Time array:  1464\n",
      "Shape of Level array:  17\n",
      "Number of dimensions for Level array: 1, meaning 1 dimension of length 17\n"
     ]
    }
   ],
   "source": [
    "# The .values command is fetching just the numerical data\n",
    "\n",
    "Lat = ds['lat'].values\n",
    "Lon = ds['lon'].values\n",
    "Time = ds['time'].values\n",
    "Level = ds['level'].values\n",
    "\n",
    "print \"Data type of our new arrays: \",type(Lon)\n",
    "print \"Shape of Lat array: \",Lat.shape[0]\n",
    "print \"Shape of Lon array: \",Lon.shape[0]\n",
    "print \"Shape of Time array: \",Time.shape[0]\n",
    "print \"Shape of Level array: \",Level.shape[0]\n",
    "print \"Number of dimensions for Level array: \"+str(len(Level.shape))+\", meaning 1 dimension of length 17\""
   ]
  },
  {
   "cell_type": "markdown",
   "metadata": {},
   "source": [
    "<h3><center><font face=\"fantasy, serif\" color=#233513 style=\"font-size:35px\">-----------------------------//-----------------------------</font></center></h3>"
   ]
  },
  {
   "cell_type": "code",
   "execution_count": 9,
   "metadata": {},
   "outputs": [
    {
     "name": "stdout",
     "output_type": "stream",
     "text": [
      "Which mb level: 500\n",
      "Pressure level index of input:  5\n"
     ]
    }
   ],
   "source": [
    "# Lets find the index number in Level array for say 500mb\n",
    "mylevel = input(\"Which mb level: \")\n",
    "mylev = np.where(Level == mylevel)[0][0]\n",
    "print \"Pressure level index of input: \",mylev"
   ]
  },
  {
   "cell_type": "markdown",
   "metadata": {},
   "source": [
    "<h2><font face=\"fantasy, serif\" color=#533563 style=\"font-size:23px\">Now we need to find which index number Denver's lat and lon are knowing that Denver is approximately 40 N and -105 W or 255 E.<br/><br/> We can use the indexing to find Denver's lat and lon in the same way we did before with the pressure level: </font></h2>"
   ]
  },
  {
   "cell_type": "code",
   "execution_count": 15,
   "metadata": {},
   "outputs": [
    {
     "name": "stdout",
     "output_type": "stream",
     "text": [
      "Which latitude? (-90 to 90) 40\n",
      "Index number for Denver lat:  20 \n",
      "\n",
      "255\n",
      "Index number for Denver lon:  102\n"
     ]
    }
   ],
   "source": [
    "mylat = input(\"Which latitude? (-90 to 90) \")\n",
    "Denlat = np.where(Lat == mylat)[0][0]\n",
    "print \"Index number for Denver lat: \",Denlat,\"\\n\" # The \\n just means print new line\n",
    "\n",
    "mylon = input(\"Which latitude? (0 to 357.5) \") # Think about what is the range of the lons in this data set?\n",
    "Denlon = np.where(Lon == mylon)[0][0]\n",
    "print \"Index number for Denver lon: \",Denlon"
   ]
  },
  {
   "cell_type": "markdown",
   "metadata": {},
   "source": [
    "<h2><font face=\"fantasy, serif\" color=#533563 style=\"font-size:25px\">So Lat[20] = 40 deg north = Denver's Lat <br><br>And Lon[102] = 255 deg east = Denver's Lon.</font><br/ ></h2>"
   ]
  },
  {
   "cell_type": "markdown",
   "metadata": {},
   "source": [
    "<h3><center><font face=\"fantasy, serif\" color=#233513 style=\"font-size:35px\">-----------------------------//-----------------------------</font></center></h3>"
   ]
  },
  {
   "cell_type": "markdown",
   "metadata": {},
   "source": [
    "<h2><font face=\"fantasy, serif\" color=#533563 style=\"font-size:25px\">Finally we want to know the index number for Feb. 2nd, 12:00Z is in the $Time$ array:</font></h2>"
   ]
  },
  {
   "cell_type": "code",
   "execution_count": 10,
   "metadata": {},
   "outputs": [
    {
     "name": "stdout",
     "output_type": "stream",
     "text": [
      "Day of year index number:  130 \n",
      "\n"
     ]
    }
   ],
   "source": [
    "january=31*4 #31 days in January, multiplied by 4 for 00, 06, 12, and 18Z each day\n",
    "groundhog=4+3 #4 time steps on the 1st plus 0 z on the 2nd, 6 z on the 2nd, 12 z on the second \n",
    "mytime=january+groundhog-1 # Reason for the minus one??\n",
    "print \"Day of year index number: \",mytime,\"\\n\"\n",
    "\n",
    "# mytime is the variable for the index number."
   ]
  },
  {
   "cell_type": "code",
   "execution_count": 11,
   "metadata": {},
   "outputs": [
    {
     "name": "stdout",
     "output_type": "stream",
     "text": [
      "What the raw datetime data looks like:  2016-02-02T12:00:00.000000000 \n",
      "\n",
      "What the raw datetime data type is:  <type 'numpy.datetime64'>\n"
     ]
    }
   ],
   "source": [
    "# We can pull various things out of the metadata like parts of the date and store them in \n",
    "# variables for later if we want to help automate things we print out\n",
    "\n",
    "print \"What the raw datetime data looks like: \",Time[mytime],\"\\n\"\n",
    "print \"What the raw datetime data type is: \",type(Time[mytime])"
   ]
  },
  {
   "cell_type": "code",
   "execution_count": 12,
   "metadata": {},
   "outputs": [
    {
     "name": "stdout",
     "output_type": "stream",
     "text": [
      "Modified string date:  2016-02-02 12:00:00\n",
      "Year:  2016\n",
      "Modified hour of day: 12:00Z\n"
     ]
    }
   ],
   "source": [
    "# We can clean this up a bit with a little trickery...\n",
    "date1 = str(Time[mytime])[0:10] # Remember we can take pieces of the string\n",
    "date2 = str(Time[mytime])[-18:-10] # some more pieces...\n",
    "date = date1+\" \"+date2 # Finally combine the pieces to make a cleaner date string\n",
    "# What is printing date going to show?\n",
    "#print date\n",
    "\n",
    "hour = date[11:16]\n",
    "year = date[0:4]\n",
    "print \"Modified string date: \",date\n",
    "print \"Year: \",year\n",
    "print \"Modified hour of day: \"+str(hour)+\"Z\""
   ]
  },
  {
   "cell_type": "markdown",
   "metadata": {},
   "source": [
    "<h2><font face=\"fantasy, serif\" color=#533563 style=\"font-size:25px\">Now we can populate a 4d array of time, level, lat, and lon. Each entry in the new 4d array will have a height value in meters:</font></h2>"
   ]
  },
  {
   "cell_type": "code",
   "execution_count": 13,
   "metadata": {},
   "outputs": [
    {
     "name": "stdout",
     "output_type": "stream",
     "text": [
      "Shape of the height array:  (1464, 17, 73, 144)\n",
      "<type 'numpy.float32'>\n"
     ]
    }
   ],
   "source": [
    "# hgt(time, level, lat, lon)\n",
    "height = ds['hgt'][:,:,:,:].values\n",
    "list(np.float_(height))\n",
    "print \"Shape of the height array: \",height.shape\n",
    "print type(height[0][0][0][0])"
   ]
  },
  {
   "cell_type": "markdown",
   "metadata": {},
   "source": [
    "<h2><font face=\"fantasy, serif\" color=#533563 style=\"font-size:25px\">One cool feature of accessing metadata is getting variables to save as variables too. Here we are pulling the description of the name of the variable. For height it will print geopotential heights:</font></h2>"
   ]
  },
  {
   "cell_type": "code",
   "execution_count": 10,
   "metadata": {},
   "outputs": [
    {
     "name": "stdout",
     "output_type": "stream",
     "text": [
      "What 'hgt' variable is:  Geopotential height\n"
     ]
    }
   ],
   "source": [
    "# This will work, any guess why this worked and the previous attempt failed?\n",
    "# height array stored all the actual values of ds[\"hgt\"], but not the metadata like description (.var_descr)\n",
    "\n",
    "hgt_descr = str(ds['hgt'].var_desc)\n",
    "print \"What 'hgt' variable is: \",hgt_descr"
   ]
  },
  {
   "cell_type": "markdown",
   "metadata": {},
   "source": [
    "<h2><font face=\"fantasy, serif\" color=#533563 style=\"font-size:25px\">Since we've loaded all our data we can close the file so it's not running in the background:</font></h2>"
   ]
  },
  {
   "cell_type": "code",
   "execution_count": 16,
   "metadata": {
    "collapsed": true
   },
   "outputs": [],
   "source": [
    "ds.close()"
   ]
  },
  {
   "cell_type": "code",
   "execution_count": null,
   "metadata": {
    "collapsed": true
   },
   "outputs": [],
   "source": [
    "# Uncomment these if you just want to assign to variables and move on quickly...\n",
    "\n",
    "#Denlot = 20\n",
    "#Denlat = 102\n",
    "#mytime = 130"
   ]
  },
  {
   "cell_type": "markdown",
   "metadata": {},
   "source": [
    "<h3><center><font face=\"fantasy, serif\" color=#233513 style=\"font-size:35px\">-----------------------------//-----------------------------</font></center></h3>"
   ]
  },
  {
   "cell_type": "code",
   "execution_count": null,
   "metadata": {
    "collapsed": true
   },
   "outputs": [],
   "source": [
    "hgt130_500mb=height[mytime][mylev][:][:]\n",
    "\n",
    "print type(hgt130_500mb)\n",
    "print hgt130_500mb.shape\n"
   ]
  },
  {
   "cell_type": "code",
   "execution_count": null,
   "metadata": {
    "collapsed": true
   },
   "outputs": [],
   "source": [
    "lat_0 = 20\n",
    "lat_1 = 60\n",
    "lon_0 = 225\n",
    "lon_1 = 300 \n",
    "\n",
    "#lat_0 = -90\n",
    "#lat_1 = 90\n",
    "#lon_0 = 0\n",
    "#lon_1 = 357.5 \n",
    "\n",
    "# Initiate a new figure so we can draw on it\n",
    "fig=plt.figure()\n",
    "\n",
    "# We need to figure out what set of numbers to plot with and we can pull those values right from \n",
    "# the data with .max/min(). \n",
    "# np.arange just guarantess that we have consistant plotting and labeling. \n",
    "# np.arange(start,end,interval)\n",
    "hgt130_Surf=height[mytime][0][:][:]\n",
    "hgt130_Surf_levels = np.arange(0,400,40) \n",
    "\n",
    "hgt130_500mb_levels = np.arange(hgt130_500mb.min(),hgt130_500mb.max()+60,60) \n",
    "\n",
    "#Smooth the height field \n",
    "hgt130_500mb_smooth = ndimage.gaussian_filter(hgt130_500mb, sigma=1, order=0)\n",
    "hgt130_Surf_smooth = ndimage.gaussian_filter(hgt130_Surf, sigma=1, order=0)\n",
    "\n",
    "# Setting up our map through the basemap library and calling the function Basemap() and setting \n",
    "# it to a variable m (short for map)\n",
    "m=Basemap(projection='mill',lat_ts=10,llcrnrlon=lon_0, \\\n",
    "      urcrnrlon=lon_1,llcrnrlat=lat_0,urcrnrlat=lat_1, \\\n",
    "      resolution='l')\n",
    "\n",
    "\n",
    "x, y = m(*np.meshgrid(Lon,Lat))\n",
    "\n",
    "lons = [262.5]\n",
    "lats = [35.5]\n",
    "\n",
    "x1,y1 = m(lons, lats)\n",
    "labels = ['L']\n",
    "for label, xpt, ypt in zip(labels, x1, y1):   #fontname='Times New Roman'\n",
    "    plt.text(xpt, ypt, label,fontsize=70,color='r',fontweight='bold') #fontfamily='serif'\n",
    "    \n",
    "#m.drawrivers()\n",
    "m.drawstates(color='blue')\n",
    "m.drawcoastlines(color='blue')\n",
    "m.drawcountries(color='blue')\n",
    "#m.fillcontinents(lake_color='blue')\n",
    "#m.drawmapboundary(fill_color='black')\n",
    "m.etopo(alpha=0.6)\n",
    "\n",
    "m.drawparallels(np.arange(lat_0,lat_1,5),labels=[1,0,0,0],fontsize=18)\n",
    "m.drawmeridians(np.arange(lon_0,lon_1,10),labels=[0,0,0,1],fontsize=18)\n",
    "\n",
    "hgt_contour = m.contour(x, y, hgt130_500mb_smooth,hgt130_500mb_levels,colors='k',shading='flat',linewidths=3)\n",
    "hgt_contourSurf = m.contour(x, y, hgt130_Surf_smooth,hgt130_Surf_levels,colors='blue',shading='flat',\n",
    "                            linewidths=3,linestyle='--')\n",
    "\n",
    "labels = '500mb'\n",
    "labels2 = '1000mb'\n",
    "\n",
    "hgt_contour.collections[0].set_label(labels)\n",
    "hgt_contourSurf.collections[0].set_label(labels2)\n",
    "\n",
    "legend = plt.legend(bbox_to_anchor=(.68, -0.05), ncol=2, prop={'size': 25},shadow=True,framealpha=1,\n",
    "                        handletextpad=0.3,markerscale=8,borderpad=.5)\n",
    "frame = legend.get_frame()\n",
    "legend.get_frame().set_linewidth(5)\n",
    "legend.get_frame().set_edgecolor(\"black\")\n",
    "#plt.clabel(hgt_contour, inline=True, fmt='%1i', fontsize=18,colors='k')\n",
    "\n",
    "plt.title('Geopotential Heights\\n'+mydate+\"Z\",fontsize=30)\n",
    "\n",
    "#plt.savefig(\"/Users/chowdahead/Desktop/Dynamics/Intro.png\")\n",
    "fig"
   ]
  },
  {
   "cell_type": "code",
   "execution_count": null,
   "metadata": {
    "collapsed": true
   },
   "outputs": [],
   "source": []
  },
  {
   "cell_type": "code",
   "execution_count": null,
   "metadata": {
    "collapsed": true
   },
   "outputs": [],
   "source": [
    "plt.clf()\n",
    "fig = plt.figure()\n",
    "\n",
    "lat_0 = 20\n",
    "lat_1 = 60\n",
    "lon_0 = 225\n",
    "lon_1 = 300   \n",
    "\n",
    "m=Basemap(projection='mill',lat_ts=10,llcrnrlon=lon_0, \\\n",
    "      urcrnrlon=lon_1,llcrnrlat=lat_0,urcrnrlat=lat_1, \\\n",
    "      resolution='l')\n",
    "    \n",
    "    \n",
    "#m.drawrivers()\n",
    "m.drawstates()\n",
    "m.drawcoastlines()\n",
    "m.drawcountries()\n",
    "#m.fillcontinents(lake_color='blue')\n",
    "#m.drawmapboundary(fill_color='black')\n",
    "\n",
    "m.drawparallels(np.arange(lat_0,lat_1,5),labels=[1,0,0,0],fontsize=18)\n",
    "m.drawmeridians(np.arange(lon_0,lon_1,10),labels=[0,0,0,1],fontsize=18)\n",
    "\n",
    "x, y = m(*np.meshgrid(Lon,Lat))\n",
    "lons2 = [Lon[102]]\n",
    "lats2 = [Lat[20]]\n",
    "\n",
    "# Different levels to plot the contours. \n",
    "#Denhgt130_levels = np.arange(Denhgt130.min(),Denhgt130.max()+80,60)\n",
    "\n",
    "#Smooth and re-plot the height field\n",
    "#Denhgt130_smooth = ndimage.gaussian_filter(Denhgt130, sigma=1, order=0)\n",
    "hgt_contour_smooth = m.contour(x, y, hgt130_500mb_smooth,hgt130_500mb_levels,colors='k',shading='flat')\n",
    "\n",
    "hgt_contourfill=m.contourf(x,y,hgt130_500mb_smooth,hgt130_500mb_levels,shading='flat',cmap=plt.cm.jet)\n",
    "\n",
    "# Colorbar\n",
    "cb = plt.colorbar(hgt_contourfill, shrink=0.53)\n",
    "\n",
    "# Contour labels\n",
    "plt.clabel(hgt_contour_smooth, inline=True, fmt='%1i', fontsize=18,colors='k')\n",
    "\n",
    "cb.ax.tick_params(labelsize=14)\n",
    "cb.ax.set_title('Heights: $m$', fontsize=15,horizontalalignment='center',y=1.01,x=1)\n",
    "\n",
    "\n",
    "# Plot title\n",
    "plt.title(str(int(mylevel))+'mb Heights\\n'+mydate+\"Z\",fontsize=30)\n",
    "\n",
    "# Save figure, need full path to where you want the download, unless you want it in the \n",
    "# current working drive...\n",
    "#plt.savefig(\"/Users/chowdahead/Desktop/Dynamics/500mb_Height_ContourFilled.png\")\n",
    "\n",
    "# Show the figure\n",
    "fig"
   ]
  },
  {
   "cell_type": "markdown",
   "metadata": {},
   "source": [
    "<h3><center><font face=\"fantasy, serif\" color=#233513 style=\"font-size:35px\">-----------------------------//-----------------------------</font></center></h3>"
   ]
  },
  {
   "cell_type": "markdown",
   "metadata": {},
   "source": [
    "<h2><center><font face=\"fantasy, serif\" color=#533563 style=\"font-size:40px\">Functions!</font></center><br/><font face=\"fantasy, serif\" color=#533563 style=\"font-size:25px\">Now time to define a fucntion so we can call it many times and get all the values we need like a programmable calculator. PGF will be the name of the function and and the arguments in the parenthesis will be the variables it needs to run the calculation.</font><br/ ><h3>$PGF = -(\\frac{\\partial \\Phi_{i}}{\\partial x} \\hat{i} + \\frac{\\partial \\Phi_{j}}{\\partial y} \\hat{j} )= -(\\frac{\\Delta\\Phi_{lon}}{\\Delta x} \\hat{i} + \\frac{\\Delta\\Phi_{lat}}{\\Delta y} \\hat{j} )$<br/><br/>\n",
    "\n",
    "$PGF = -(\\frac{\\Phi_{east} - \\Phi_{west}}{dx} \\hat{i} + \\frac{\\Phi_{north} - \\Phi_{south}}{dy} \\hat{j} ) = -g(\\frac{Z_{east} - Z_{west}}{dx} \\hat{i} + \\frac{Z_{north} - Z_{south}}{dy} \\hat{j} )$<br><br>$\\left\\lvert{PGF}\\right\\rvert = \\sqrt{PGF_{x}^{2}+PGF_{y}^{2}}$</h3></h2>"
   ]
  },
  {
   "cell_type": "code",
   "execution_count": 17,
   "metadata": {
    "collapsed": true
   },
   "outputs": [],
   "source": [
    "def PGF(time,level,east,west,north,south,dx,dy):\n",
    "    pgfx = -9.8*((east-west)/(dx*2))\n",
    "    pgfy = -9.8*((north-south)/(dy*2))\n",
    "    pgf = np.sqrt((pgfx**2)+(pgfy**2))\n",
    "    return float(pgfx), float(pgfy), float(pgf)"
   ]
  },
  {
   "cell_type": "markdown",
   "metadata": {},
   "source": [
    "<h2><font face=\"fantasy, serif\" color=#533563 style=\"font-size:23px\">Since we know the beam angle of the instrument and the lat and lon values, the dx and dy can be calcluated knowing that 2.5 deg of latitude is 278km and 2.5 deg of longitude is 213km:</font></h2>"
   ]
  },
  {
   "cell_type": "code",
   "execution_count": 18,
   "metadata": {
    "collapsed": true
   },
   "outputs": [],
   "source": [
    "dx = 213000\n",
    "dy = 278000"
   ]
  },
  {
   "cell_type": "markdown",
   "metadata": {},
   "source": [
    "<h2><font face=\"fantasy, serif\" color=#533563 style=\"font-size:23px\">Now we can calculate the geopotential heights at and around Denver. Taking the heights around Denver will allow us to calculate the PGF, Geostrophic Wind, and Vorticity</font></h2>"
   ]
  },
  {
   "cell_type": "code",
   "execution_count": 19,
   "metadata": {},
   "outputs": [
    {
     "name": "stdout",
     "output_type": "stream",
     "text": [
      "Denver's height:  5362.0 m\n",
      "Height north:  5390.0 m\n",
      "Height south:  5362.0 m\n",
      "Height east:  5339.0 m\n",
      "Height west:  5392.0 m\n"
     ]
    }
   ],
   "source": [
    "height_Denver = height[mytime][5][Denlat][Denlon]\n",
    "print \"Denver's height: \",height_Denver,\"m\"\n",
    "\n",
    "# The reason why the northern height is Denlat-1 instead of +1 is because how the lat data was read in\n",
    "height_north = height[mytime][5][Denlat-1][Denlon]\n",
    "print \"Height north: \",height_north,\"m\"\n",
    "\n",
    "height_south = height[mytime][5][Denlat+1][Denlon]\n",
    "print \"Height south: \",height_south,\"m\"\n",
    "\n",
    "height_east = height[mytime][5][Denlat][Denlon+1]\n",
    "print \"Height east: \",height_east,\"m\"\n",
    "\n",
    "height_west = height[mytime][5][Denlat][Denlon-1]\n",
    "print \"Height west: \",height_west,\"m\""
   ]
  },
  {
   "cell_type": "code",
   "execution_count": 20,
   "metadata": {},
   "outputs": [
    {
     "name": "stdout",
     "output_type": "stream",
     "text": [
      "PGFx at Denver:  1.219e-03\n",
      "PGFy at Denver:  -4.935e-04\n",
      "PGF resultant:  1.315e-03\n"
     ]
    }
   ],
   "source": [
    "pgfx,pgfy,pgf = PGF(mytime,5,height_east,height_west,height_north,height_south,dx,dy)\n",
    "#print pgfx,pgfy,pgf\n",
    "\n",
    "# We can print it out a little neater in scientific notation: (%.3e means 3 decimal places in 'e' notation)\n",
    "print 'PGFx at Denver: ','%.3e' % pgfx\n",
    "print 'PGFy at Denver: ','%.3e' % pgfy\n",
    "print 'PGF resultant: ','%.3e' % pgf"
   ]
  },
  {
   "cell_type": "markdown",
   "metadata": {},
   "source": []
  },
  {
   "cell_type": "code",
   "execution_count": 21,
   "metadata": {},
   "outputs": [
    {
     "name": "stdout",
     "output_type": "stream",
     "text": [
      "22.04\n"
     ]
    }
   ],
   "source": [
    "angle = np.arccos(pgfx/pgf)*(180/np.pi)\n",
    "# We can round the decimal to two places:\n",
    "angle = np.around(angle,2)\n",
    "print angle"
   ]
  },
  {
   "cell_type": "markdown",
   "metadata": {},
   "source": [
    "<h3><center><font face=\"fantasy, serif\" color=#233513 style=\"font-size:35px\">-----------------------------//-----------------------------</font></center></h3>"
   ]
  },
  {
   "cell_type": "markdown",
   "metadata": {},
   "source": [
    "<h3><center><font face=\"fantasy, serif\" color=#233513 style=\"font-size:35px\">End of Day 1 Data, I'm Proud of You!</font></center></h3>"
   ]
  },
  {
   "cell_type": "markdown",
   "metadata": {},
   "source": [
    "<h3><center><font face=\"fantasy, serif\" color=#233513 style=\"font-size:35px\">-----------------------------//-----------------------------</font></center></h3>"
   ]
  },
  {
   "cell_type": "markdown",
   "metadata": {},
   "source": [
    "<h3><center><font face=\"fantasy, serif\" color=#233513 style=\"font-size:50px\">Day 2 Data</font></center></h3>"
   ]
  },
  {
   "cell_type": "markdown",
   "metadata": {},
   "source": [
    "<h2><font face=\"fantasy, serif\" color=#533563 style=\"font-size:25px\">We can also define another function for the Coriolis factor <i>CorFac</i> with only one variable, the latitude: </font><br/><br/>$f = 2\\Omega sin{\\phi} \\hspace{10 mm} \\Omega=7.292e^{-5}s^{-1}$<br/ ></h2>"
   ]
  },
  {
   "cell_type": "code",
   "execution_count": 22,
   "metadata": {
    "collapsed": true
   },
   "outputs": [],
   "source": [
    "def CorFac(lat):\n",
    "    cof = 2*7.292E-5*np.sin(Lat[lat]*np.pi/180)\n",
    "    return float(cof)"
   ]
  },
  {
   "cell_type": "code",
   "execution_count": 23,
   "metadata": {},
   "outputs": [
    {
     "name": "stdout",
     "output_type": "stream",
     "text": [
      "Coriolis factor over Denver:  9.37441449967e-05\n",
      "Coriolis factor over Denver: 9.374e-05\n"
     ]
    }
   ],
   "source": [
    "f = CorFac(Denlat)\n",
    "print 'Coriolis factor over Denver: ',f\n",
    "print 'Coriolis factor over Denver: %.3e' % f"
   ]
  },
  {
   "cell_type": "markdown",
   "metadata": {},
   "source": [
    "<h2><font face=\"fantasy, serif\" color=#533563 style=\"font-size:25px\">How would we want to scale this up to collect the Coriolis factor for all latitudes?</font></h2>"
   ]
  },
  {
   "cell_type": "code",
   "execution_count": 1,
   "metadata": {},
   "outputs": [
    {
     "ename": "NameError",
     "evalue": "name 'xr' is not defined",
     "output_type": "error",
     "traceback": [
      "\u001b[0;31m---------------------------------------------------------------------------\u001b[0m",
      "\u001b[0;31mNameError\u001b[0m                                 Traceback (most recent call last)",
      "\u001b[0;32m<ipython-input-1-ba3b7c066d8d>\u001b[0m in \u001b[0;36m<module>\u001b[0;34m()\u001b[0m\n\u001b[1;32m      1\u001b[0m \u001b[0;31m# Initate an empty 1d array to populate with Coriolis factors for each lat\u001b[0m\u001b[0;34m\u001b[0m\u001b[0;34m\u001b[0m\u001b[0m\n\u001b[0;32m----> 2\u001b[0;31m \u001b[0mCOR\u001b[0m \u001b[0;34m=\u001b[0m \u001b[0mxr\u001b[0m\u001b[0;34m.\u001b[0m\u001b[0mDataArray\u001b[0m\u001b[0;34m(\u001b[0m\u001b[0mnp\u001b[0m\u001b[0;34m.\u001b[0m\u001b[0mzeros\u001b[0m\u001b[0;34m(\u001b[0m\u001b[0;34m(\u001b[0m\u001b[0;36m73\u001b[0m\u001b[0;34m)\u001b[0m\u001b[0;34m)\u001b[0m\u001b[0;34m,\u001b[0m\u001b[0mdims\u001b[0m\u001b[0;34m=\u001b[0m\u001b[0;34m[\u001b[0m\u001b[0;34m'x'\u001b[0m\u001b[0;34m]\u001b[0m\u001b[0;34m,\u001b[0m\u001b[0mcoords\u001b[0m\u001b[0;34m=\u001b[0m\u001b[0;34m{\u001b[0m\u001b[0;34m'x'\u001b[0m\u001b[0;34m:\u001b[0m \u001b[0mLat\u001b[0m\u001b[0;34m}\u001b[0m\u001b[0;34m)\u001b[0m\u001b[0;34m\u001b[0m\u001b[0m\n\u001b[0m\u001b[1;32m      3\u001b[0m \u001b[0;34m\u001b[0m\u001b[0m\n\u001b[1;32m      4\u001b[0m \u001b[0;32mfor\u001b[0m \u001b[0mi\u001b[0m \u001b[0;32min\u001b[0m \u001b[0mrange\u001b[0m\u001b[0;34m(\u001b[0m\u001b[0;36m0\u001b[0m\u001b[0;34m,\u001b[0m\u001b[0;36m74\u001b[0m\u001b[0;34m)\u001b[0m\u001b[0;34m:\u001b[0m\u001b[0;34m\u001b[0m\u001b[0m\n\u001b[1;32m      5\u001b[0m     \u001b[0mCOR\u001b[0m\u001b[0;34m[\u001b[0m\u001b[0mi\u001b[0m\u001b[0;34m]\u001b[0m\u001b[0;34m=\u001b[0m\u001b[0mCorFac\u001b[0m\u001b[0;34m(\u001b[0m\u001b[0mi\u001b[0m\u001b[0;34m)\u001b[0m\u001b[0;34m\u001b[0m\u001b[0m\n",
      "\u001b[0;31mNameError\u001b[0m: name 'xr' is not defined"
     ]
    }
   ],
   "source": [
    "# Initate an empty 1d array to populate with Coriolis factors for each lat\n",
    "COR = xr.DataArray(np.zeros((73)),dims=['x'],coords={'x': Lat})\n",
    "\n",
    "for i in range(0,74):\n",
    "    COR[i]=CorFac(i)\n",
    "        \n",
    "print \"done.\"\n",
    "print COR.shape"
   ]
  },
  {
   "cell_type": "markdown",
   "metadata": {},
   "source": [
    "<h3><center><font face=\"fantasy, serif\" color=#233513 style=\"font-size:35px\">-----------------------------//-----------------------------</font></center></h3>"
   ]
  },
  {
   "cell_type": "markdown",
   "metadata": {},
   "source": [
    "<h3><center><font face=\"fantasy, serif\" color=#233513 style=\"font-size:35px\">End of Day 2 Data, No sweat</font></center></h3>"
   ]
  },
  {
   "cell_type": "markdown",
   "metadata": {},
   "source": [
    "<h3><center><font face=\"fantasy, serif\" color=#233513 style=\"font-size:35px\">-----------------------------//-----------------------------</font></center></h3>"
   ]
  },
  {
   "cell_type": "markdown",
   "metadata": {},
   "source": [
    "<h3><center><font face=\"fantasy, serif\" color=#233513 style=\"font-size:50px\">Day 3 Data</font></center></h3>"
   ]
  },
  {
   "cell_type": "markdown",
   "metadata": {},
   "source": [
    "<h2><font face=\"fantasy, serif\" color=#533563 style=\"font-size:25px\">With the geopotential height differences and the Coriolis factor, the geostrophic winds can be calculated.</font><br/><br/><center><font style=\"font-size:30px\">$\\vec{V_{g}} = -\\frac{1}{f}(\\frac{\\partial \\Phi_{j}}{\\partial y} \\hat{i} - \\frac{\\partial \\Phi_{i}}{\\partial x} \\hat{j} )$</font></center><br/></h2>"
   ]
  },
  {
   "cell_type": "markdown",
   "metadata": {},
   "source": [
    "<h2><font face=\"fantasy, serif\" color=#533563 style=\"font-size:25px\">Let's break the total horizontal geostrophic wind vector into it's zonal and meridonal components:</font></h2>"
   ]
  },
  {
   "cell_type": "markdown",
   "metadata": {},
   "source": [
    "<h1>$\\vec{u_{g}} = -\\frac{1}{f}(\\frac{\\partial \\Phi_{j}}{\\partial y})\\hspace{.1cm} \\hat{i}= -\\frac{g}{f}(\\frac{\\partial Z_{j}}{\\partial y})\\hspace{.1cm}\\hat{i}$</h1>"
   ]
  },
  {
   "cell_type": "code",
   "execution_count": 25,
   "metadata": {
    "collapsed": true
   },
   "outputs": [],
   "source": [
    "def uGeoWind(level,time,lat,lon,dy):\n",
    "    ug = (-9.8/CorFac(lat))*\\\n",
    "          ((height[time][level][lat-1][lon]-height[time][level][lat+1][lon])/(dy*2))   \n",
    "\n",
    "    return ug"
   ]
  },
  {
   "cell_type": "markdown",
   "metadata": {},
   "source": [
    "<h1>$\\vec{v_{g}} = \\frac{1}{f}(\\frac{\\partial \\Phi_{i}}{\\partial x})\\hspace{.1cm}\\hat{j} = \\frac{g}{f}(\\frac{\\partial Z_{i}}{\\partial x})\\hspace{.1cm}\\hat{j}$</h1>"
   ]
  },
  {
   "cell_type": "code",
   "execution_count": 26,
   "metadata": {
    "collapsed": true
   },
   "outputs": [],
   "source": [
    "def vGeoWind(level,time,lat,lon,dx):\n",
    "    vg = (9.8/CorFac(lat))*\\\n",
    "          ((height[time][level][lat][lon+1]-height[time][level][lat][lon-1])/(dx*2))   \n",
    "    \n",
    "    return vg "
   ]
  },
  {
   "cell_type": "markdown",
   "metadata": {},
   "source": [
    "<h1>$\\left\\lvert{V_{g}}\\right\\rvert= \\sqrt{u_{g}^{2}+v_{g}^{2}}$<br><br><font face=\"fantasy, serif\" color=#533563 style=\"font-size:25px\">We'll define another function called <i>GeoWind</i></font></h1>"
   ]
  },
  {
   "cell_type": "code",
   "execution_count": 27,
   "metadata": {
    "collapsed": true
   },
   "outputs": [],
   "source": [
    "def GeoWind(level,time,lat,lon,dx,dy):\n",
    "\n",
    "    ug = uGeoWind(level,time,lat,lon,dy)\n",
    "    vg = vGeoWind(level,time,lat,lon,dx)\n",
    "    \n",
    "    return np.sqrt((ug**2)+(vg**2))"
   ]
  },
  {
   "cell_type": "code",
   "execution_count": 28,
   "metadata": {},
   "outputs": [
    {
     "name": "stdout",
     "output_type": "stream",
     "text": [
      "-5.26459737697\n",
      "-13.0061330906\n",
      "14.0312324303\n"
     ]
    }
   ],
   "source": [
    "u = uGeoWind(5,130,Denlat,Denlon,dy)\n",
    "print u\n",
    "v = vGeoWind(5,130,Denlat,Denlon,dx)\n",
    "print v\n",
    "V = GeoWind(5,130,Denlat,Denlon,dx,dy)\n",
    "print V"
   ]
  },
  {
   "cell_type": "code",
   "execution_count": 29,
   "metadata": {},
   "outputs": [
    {
     "name": "stdout",
     "output_type": "stream",
     "text": [
      "112.04\n",
      "Angle of resultant vector from x-axis: 112.04 deg\n",
      "In meteorlogical terms it would be: 202.04 deg from north \n",
      "\n",
      "However this is the angle the vector is pointing. \n",
      "We're looking for the angle of origin, where the wind is coming from: 202.04 deg\n",
      "202.04\n"
     ]
    }
   ],
   "source": [
    "angle = np.arccos(u/V)*(180/np.pi)\n",
    "# We can round the decimal to two places:\n",
    "angle = np.around(angle,2)\n",
    "print angle\n",
    "\n",
    "print \"Angle of resultant vector from x-axis:\",angle,\"deg\"\n",
    "print \"In meteorlogical terms it would be:\",angle+90,\"deg from north \\n\"\n",
    "print \"However this is the angle the vector is pointing.\",\"\\n\",\\\n",
    "\"We're looking for the angle of origin, where the wind is coming from:\",angle+90,\"deg\"\n",
    "final_angle = angle+90\n",
    "print final_angle"
   ]
  },
  {
   "cell_type": "markdown",
   "metadata": {},
   "source": [
    "<h3><center><font face=\"fantasy, serif\" color=#233513 style=\"font-size:35px\">-----------------------------//-----------------------------</font></center></h3>"
   ]
  },
  {
   "cell_type": "markdown",
   "metadata": {},
   "source": [
    "<h2><center><font face=\"fantasy, serif\" color=#533563 style=\"font-size:40px\">Building Arrays!</font></center><br/><font face=\"fantasy, serif\" color=#533563 style=\"font-size:25px\">Arrays are very important and useful in data handeling. We are going to make a new array that has 2 dimensions: latitude and longitude.  Thus the size of the array is 73 for the first dimension (lats) and 144 for the second dimension (lons).<font face=\"fantasy, serif\" color=#533563 style=\"font-size:25px\"><br/ ></font>we can set dimensions for plotting as x and y. Notice that the dimensions seem switched with x and latitudes, but python plots with the first value on the y-axis. Instead of plotting traditionally f(x,y), python plots f(y,x).</font></h2>"
   ]
  },
  {
   "cell_type": "markdown",
   "metadata": {},
   "source": [
    "<h2><font face=\"fantasy, serif\" color=#533563 style=\"font-size:40px\"><center>Creating new arrays for our calculations</center><br></font><font face=\"fantasy, serif\" color=#533563 style=\"font-size:23px\">Don't focus on the how so much as to what you are getting in the end. We are making a 2d array named WindsFull_130_500mb with coordiantes of lat and lon only. This array is focused on time 130 and level 500mb.<br><br>In the nested for-loop we will need to loop over all the lats and lons seperately so we will have a wind value for every lat/lon pair.</font></h2>"
   ]
  },
  {
   "cell_type": "code",
   "execution_count": 56,
   "metadata": {},
   "outputs": [
    {
     "name": "stdout",
     "output_type": "stream",
     "text": [
      "(73, 144)\n",
      "done.\n",
      "\n"
     ]
    }
   ],
   "source": [
    "#%%time\n",
    "WindsFull_130_500mb = xr.DataArray(np.zeros((73, 144)),dims=['x','y'],coords={'x': Lat,'y': Lon})\n",
    "uWindsFull_130_500mb = xr.DataArray(np.zeros((73, 144)),dims=['x','y'],coords={'x': Lat,'y': Lon})\n",
    "vWindsFull_130_500mb = xr.DataArray(np.zeros((73, 144)),dims=['x','y'],coords={'x': Lat,'y': Lon})\n",
    "print WindsFull_130_500mb.shape\n",
    "\n",
    "# We need to go from the second entry to the second to last entry, why?\n",
    "for i in range(1,72):\n",
    "    for j in range(1,143):\n",
    "            try:\n",
    "                WindsFull_130_500mb[i,j]=GeoWind(5,130,i,j,dx,dy) # What arguments does GeoWind take?\n",
    "                uWindsFull_130_500mb[i,j]=uGeoWind(5,130,i,j,dy)\n",
    "                vWindsFull_130_500mb[i,j]=vGeoWind(5,130,i,j,dx)\n",
    "            except ZeroDivisionError:\n",
    "                normalized_score = 0\n",
    "                \n",
    "print \"done.\\n\"\n",
    "#display(WindsFull_130_500mb)"
   ]
  },
  {
   "cell_type": "code",
   "execution_count": null,
   "metadata": {
    "collapsed": true
   },
   "outputs": [],
   "source": [
    "print \"data of lon index 0 and lat index 0: \",WindsFull_130_500mb[0][0],\"\\n\"\n",
    "print \"data of lon index 143 and lat index 72: \",WindsFull_130_500mb[72][143]"
   ]
  },
  {
   "cell_type": "code",
   "execution_count": null,
   "metadata": {
    "collapsed": true
   },
   "outputs": [],
   "source": [
    "print \"Winds min value: \",WindsFull_130_500mb.min().values\n",
    "print \"Winds max value: \",WindsFull_130_500mb.max().values"
   ]
  },
  {
   "cell_type": "code",
   "execution_count": 42,
   "metadata": {},
   "outputs": [
    {
     "name": "stdout",
     "output_type": "stream",
     "text": [
      "(73, 144, 17)\n",
      "done.\n"
     ]
    },
    {
     "ename": "NameError",
     "evalue": "name 'display' is not defined",
     "output_type": "error",
     "traceback": [
      "\u001b[0;31m---------------------------------------------------------------------------\u001b[0m",
      "\u001b[0;31mNameError\u001b[0m                                 Traceback (most recent call last)",
      "\u001b[0;32m<ipython-input-42-8296b6bb801a>\u001b[0m in \u001b[0;36m<module>\u001b[0;34m()\u001b[0m\n\u001b[0;32m----> 1\u001b[0;31m \u001b[0mget_ipython\u001b[0m\u001b[0;34m(\u001b[0m\u001b[0;34m)\u001b[0m\u001b[0;34m.\u001b[0m\u001b[0mrun_cell_magic\u001b[0m\u001b[0;34m(\u001b[0m\u001b[0;34mu'time'\u001b[0m\u001b[0;34m,\u001b[0m \u001b[0;34mu''\u001b[0m\u001b[0;34m,\u001b[0m \u001b[0;34mu'WindsFull_130 = xr.DataArray(np.zeros((73, 144, 17)),dims=[\\'x\\',\\'y\\',\\'z\\'],coords={\\'x\\': Lat,\\'y\\': Lon,\\'z\\': Level})\\nprint WindsFull_130.shape\\n\\nfor i in range(1,72):\\n    for j in range(1,143):\\n        for k in range(0,17):\\n            try:\\n                WindsFull_130[i,j,k]=GeoWind(k,130,i,j,dx,dy)\\n            except ZeroDivisionError:\\n                normalized_score = WindsFull_130[i-1,j-1,k]\\n    #print \"next lat: \"+str(i+2) \\nprint \"done.\"\\ndisplay(WindsFull_130)'\u001b[0m\u001b[0;34m)\u001b[0m\u001b[0;34m\u001b[0m\u001b[0m\n\u001b[0m",
      "\u001b[0;32m/Users/chowdahead/anaconda/lib/python2.7/site-packages/IPython/core/interactiveshell.pyc\u001b[0m in \u001b[0;36mrun_cell_magic\u001b[0;34m(self, magic_name, line, cell)\u001b[0m\n\u001b[1;32m   2113\u001b[0m             \u001b[0mmagic_arg_s\u001b[0m \u001b[0;34m=\u001b[0m \u001b[0mself\u001b[0m\u001b[0;34m.\u001b[0m\u001b[0mvar_expand\u001b[0m\u001b[0;34m(\u001b[0m\u001b[0mline\u001b[0m\u001b[0;34m,\u001b[0m \u001b[0mstack_depth\u001b[0m\u001b[0;34m)\u001b[0m\u001b[0;34m\u001b[0m\u001b[0m\n\u001b[1;32m   2114\u001b[0m             \u001b[0;32mwith\u001b[0m \u001b[0mself\u001b[0m\u001b[0;34m.\u001b[0m\u001b[0mbuiltin_trap\u001b[0m\u001b[0;34m:\u001b[0m\u001b[0;34m\u001b[0m\u001b[0m\n\u001b[0;32m-> 2115\u001b[0;31m                 \u001b[0mresult\u001b[0m \u001b[0;34m=\u001b[0m \u001b[0mfn\u001b[0m\u001b[0;34m(\u001b[0m\u001b[0mmagic_arg_s\u001b[0m\u001b[0;34m,\u001b[0m \u001b[0mcell\u001b[0m\u001b[0;34m)\u001b[0m\u001b[0;34m\u001b[0m\u001b[0m\n\u001b[0m\u001b[1;32m   2116\u001b[0m             \u001b[0;32mreturn\u001b[0m \u001b[0mresult\u001b[0m\u001b[0;34m\u001b[0m\u001b[0m\n\u001b[1;32m   2117\u001b[0m \u001b[0;34m\u001b[0m\u001b[0m\n",
      "\u001b[0;32m<decorator-gen-59>\u001b[0m in \u001b[0;36mtime\u001b[0;34m(self, line, cell, local_ns)\u001b[0m\n",
      "\u001b[0;32m/Users/chowdahead/anaconda/lib/python2.7/site-packages/IPython/core/magic.pyc\u001b[0m in \u001b[0;36m<lambda>\u001b[0;34m(f, *a, **k)\u001b[0m\n\u001b[1;32m    186\u001b[0m     \u001b[0;31m# but it's overkill for just that one bit of state.\u001b[0m\u001b[0;34m\u001b[0m\u001b[0;34m\u001b[0m\u001b[0m\n\u001b[1;32m    187\u001b[0m     \u001b[0;32mdef\u001b[0m \u001b[0mmagic_deco\u001b[0m\u001b[0;34m(\u001b[0m\u001b[0marg\u001b[0m\u001b[0;34m)\u001b[0m\u001b[0;34m:\u001b[0m\u001b[0;34m\u001b[0m\u001b[0m\n\u001b[0;32m--> 188\u001b[0;31m         \u001b[0mcall\u001b[0m \u001b[0;34m=\u001b[0m \u001b[0;32mlambda\u001b[0m \u001b[0mf\u001b[0m\u001b[0;34m,\u001b[0m \u001b[0;34m*\u001b[0m\u001b[0ma\u001b[0m\u001b[0;34m,\u001b[0m \u001b[0;34m**\u001b[0m\u001b[0mk\u001b[0m\u001b[0;34m:\u001b[0m \u001b[0mf\u001b[0m\u001b[0;34m(\u001b[0m\u001b[0;34m*\u001b[0m\u001b[0ma\u001b[0m\u001b[0;34m,\u001b[0m \u001b[0;34m**\u001b[0m\u001b[0mk\u001b[0m\u001b[0;34m)\u001b[0m\u001b[0;34m\u001b[0m\u001b[0m\n\u001b[0m\u001b[1;32m    189\u001b[0m \u001b[0;34m\u001b[0m\u001b[0m\n\u001b[1;32m    190\u001b[0m         \u001b[0;32mif\u001b[0m \u001b[0mcallable\u001b[0m\u001b[0;34m(\u001b[0m\u001b[0marg\u001b[0m\u001b[0;34m)\u001b[0m\u001b[0;34m:\u001b[0m\u001b[0;34m\u001b[0m\u001b[0m\n",
      "\u001b[0;32m/Users/chowdahead/anaconda/lib/python2.7/site-packages/IPython/core/magics/execution.pyc\u001b[0m in \u001b[0;36mtime\u001b[0;34m(self, line, cell, local_ns)\u001b[0m\n\u001b[1;32m   1183\u001b[0m         \u001b[0;32melse\u001b[0m\u001b[0;34m:\u001b[0m\u001b[0;34m\u001b[0m\u001b[0m\n\u001b[1;32m   1184\u001b[0m             \u001b[0mst\u001b[0m \u001b[0;34m=\u001b[0m \u001b[0mclock2\u001b[0m\u001b[0;34m(\u001b[0m\u001b[0;34m)\u001b[0m\u001b[0;34m\u001b[0m\u001b[0m\n\u001b[0;32m-> 1185\u001b[0;31m             \u001b[0;32mexec\u001b[0m\u001b[0;34m(\u001b[0m\u001b[0mcode\u001b[0m\u001b[0;34m,\u001b[0m \u001b[0mglob\u001b[0m\u001b[0;34m,\u001b[0m \u001b[0mlocal_ns\u001b[0m\u001b[0;34m)\u001b[0m\u001b[0;34m\u001b[0m\u001b[0m\n\u001b[0m\u001b[1;32m   1186\u001b[0m             \u001b[0mend\u001b[0m \u001b[0;34m=\u001b[0m \u001b[0mclock2\u001b[0m\u001b[0;34m(\u001b[0m\u001b[0;34m)\u001b[0m\u001b[0;34m\u001b[0m\u001b[0m\n\u001b[1;32m   1187\u001b[0m             \u001b[0mout\u001b[0m \u001b[0;34m=\u001b[0m \u001b[0mNone\u001b[0m\u001b[0;34m\u001b[0m\u001b[0m\n",
      "\u001b[0;32m<timed exec>\u001b[0m in \u001b[0;36m<module>\u001b[0;34m()\u001b[0m\n",
      "\u001b[0;31mNameError\u001b[0m: name 'display' is not defined"
     ]
    }
   ],
   "source": [
    "%%time\n",
    "WindsFull_129 = xr.DataArray(np.zeros((73, 144, 17)),dims=['x','y','z'],coords={'x': Lat,'y': Lon,'z': Level})\n",
    "WindsFull_130 = xr.DataArray(np.zeros((73, 144, 17)),dims=['x','y','z'],coords={'x': Lat,'y': Lon,'z': Level})\n",
    "WindsFull_131 = xr.DataArray(np.zeros((73, 144, 17)),dims=['x','y','z'],coords={'x': Lat,'y': Lon,'z': Level})\n",
    "\n",
    "print WindsFull_130.shape\n",
    "\n",
    "for i in range(1,72):\n",
    "    for j in range(1,143):\n",
    "        for k in range(0,17):\n",
    "            try:\n",
    "                WindsFull_129[i,j,k]=GeoWind(k,129,i,j,dx,dy)\n",
    "                WindsFull_130[i,j,k]=GeoWind(k,130,i,j,dx,dy)\n",
    "                WindsFull_131[i,j,k]=GeoWind(k,131,i,j,dx,dy)\n",
    "            except ZeroDivisionError:\n",
    "                normalized_score = WindsFull_130[i-1,j-1,k] \n",
    "print \"done.\"\n",
    "#display(WindsFull_130)"
   ]
  },
  {
   "cell_type": "raw",
   "metadata": {},
   "source": [
    "WindsFullArray = xr.DataArray(np.zeros((73, 144, 17,1464)),dims=['x','y','z','t'],coords={'x': Lat,'y': Lon,'z': Level,'t': Time})\n",
    "print WindsFullArray.shape\n",
    "\n",
    "for i in range(1,72):\n",
    "    for j in range(1,143):\n",
    "        for k in range(0,17):\n",
    "            for t in range(0,1463):\n",
    "                try:\n",
    "                    WindsFullArray[i,j,k,t]=GeoWind(k,t,i,j,dx,dy)\n",
    "                except ZeroDivisionError:\n",
    "                    normalized_score = WindsFullArray[i-1,j-1,k,t]\n",
    "print \"done.\""
   ]
  },
  {
   "cell_type": "code",
   "execution_count": null,
   "metadata": {
    "collapsed": true
   },
   "outputs": [],
   "source": []
  },
  {
   "cell_type": "code",
   "execution_count": null,
   "metadata": {
    "collapsed": true
   },
   "outputs": [],
   "source": [
    "plt.clf()\n",
    "fig = plt.figure()\n",
    "\n",
    "lat_0 = 20\n",
    "lat_1 = 60\n",
    "lon_0 = 225\n",
    "lon_1 = 300   \n",
    "\n",
    "#lat_0 = -90\n",
    "#lat_1 = 90\n",
    "#lon_0 = 0\n",
    "#lon_1 = 357.5  \n",
    "\n",
    "m=Basemap(projection='mill',lat_ts=10,llcrnrlon=lon_0, \\\n",
    "      urcrnrlon=lon_1,llcrnrlat=lat_0,urcrnrlat=lat_1, \\\n",
    "      resolution='l')\n",
    "    \n",
    "    \n",
    "#m.drawrivers()\n",
    "m.drawstates()\n",
    "m.drawcoastlines()\n",
    "m.drawcountries()\n",
    "#m.fillcontinents(lake_color='blue')\n",
    "#m.drawmapboundary(fill_color='black')\n",
    "\n",
    "#######################################################################\n",
    "m.drawparallels(np.arange(lat_0,lat_1,5),labels=[1,0,0,0],fontsize=18)\n",
    "m.drawmeridians(np.arange(lon_0,lon_1,10),labels=[0,0,0,1],fontsize=18)\n",
    "#######################################################################\n",
    "\n",
    "################################\n",
    "x, y = m(*np.meshgrid(Lon,Lat))\n",
    "################################\n",
    "\n",
    "###############################\n",
    "wind_levels = np.arange(0,80,1)\n",
    "#wind_levels = np.arange(int(Winds.min()),int(Winds.max()),1)\n",
    "###############################\n",
    "\n",
    "#####################################################################\n",
    "#Smooth and re-plot the wind field\n",
    "wind_smooth = ndimage.gaussian_filter(Winds_130_500[:,:], sigma=1, order=0)\n",
    "#####################################################################\n",
    "\n",
    "###################################################################################################################\n",
    "wind_contourfill = m.contourf(x, y,wind_smooth,wind_levels,cmap=plt.cm.inferno,shading='flat',antialiased = True)\n",
    "hght_contour = m.contour(x, y, hgt130_500mb_smooth,hgt130_500mb_levels,colors='w',shading='flat',alpha=0.7)\n",
    "###################################################################################################################\n",
    "\n",
    "#######################################\n",
    "for c in wind_contourfill.collections:\n",
    "    c.set_edgecolor(\"face\")\n",
    "#######################################\n",
    "\n",
    "###################################################################################################################\n",
    "cb = plt.colorbar(wind_contourfill,alpha=0.4,orientation=\"vertical\",shrink=0.53)\n",
    "cb.ax.set_yticklabels(wind_levels[0:-1:5])\n",
    "cb.ax.tick_params(labelsize=14)\n",
    "cb.ax.set_title('Geo Winds: $ms^{-1}$', fontsize=15,horizontalalignment='center',y=1.01,x=1)\n",
    "###################################################################################################################\n",
    "\n",
    "plt.clabel(hght_contour, inline=True, fmt='%1i', fontsize=18,colors='w')\n",
    "\n",
    "\n",
    "x2,y2 = m(*np.meshgrid(Lon[102],Lat[20]))\n",
    "labels = ['Denver']\n",
    "for label, xpt, ypt in zip(labels, x2, y2):   #fontname='Times New Roman'\n",
    "    plt.text(xpt-440000, ypt-200000, label,fontsize=17,color='w',fontweight='bold') #fontfamily='serif'\n",
    "plt.barbs(x2, y2-50000, u, v,color='w',length=9,lw=3)    \n",
    "\n",
    "plt.title('Geostrophic Winds and '+str(int(mylevel))+'mb Heights\\n'+mydate+\"Z\",fontsize=30)\n",
    "\n",
    "#plt.savefig(\"/Users/chowdahead/Desktop/Dynamics/Isotachs_and_Winds_Contours.png\")\n",
    "fig"
   ]
  },
  {
   "cell_type": "markdown",
   "metadata": {},
   "source": [
    "<h3><center><font face=\"fantasy, serif\" color=#233513 style=\"font-size:35px\">-----------------------------//-----------------------------</font></center></h3>"
   ]
  },
  {
   "cell_type": "markdown",
   "metadata": {},
   "source": [
    "<h3><center><font face=\"fantasy, serif\" color=#233513 style=\"font-size:35px\">End of Day 3 Data, Hanging In there?</font></center></h3>"
   ]
  },
  {
   "cell_type": "markdown",
   "metadata": {},
   "source": [
    "<h3><center><font face=\"fantasy, serif\" color=#233513 style=\"font-size:35px\">-----------------------------//-----------------------------</font></center></h3>"
   ]
  },
  {
   "cell_type": "markdown",
   "metadata": {},
   "source": [
    "<h3><center><font face=\"fantasy, serif\" color=#233513 style=\"font-size:50px\">Day 4 Data</font></center></h3>"
   ]
  },
  {
   "cell_type": "markdown",
   "metadata": {},
   "source": [
    "<h2><font face=\"fantasy, serif\" color=#533563 style=\"font-size:25px\">Now that we have the geostrophic winds, we can take a look at vorticity using the change in winds over distance.</font><h1>$\\zeta = (\\frac{\\partial v_{geo}}{\\partial x} - \\frac{\\partial u_{geo}}{\\partial y} )$<br/><br><font face=\"fantasy, serif\" color=#533563 style=\"font-size:25px\">We can define a vorticity function, <i>Vort</i></font></h1></h2>"
   ]
  },
  {
   "cell_type": "code",
   "execution_count": 31,
   "metadata": {
    "collapsed": true
   },
   "outputs": [],
   "source": [
    "def Vort(level,time,lat,lon,dx,dy):    \n",
    "    vort = (vGeoWind(level,time,lat,lon+1,dx)-vGeoWind(level,time,lat,lon-1,dx)/(2*dx))-\\\n",
    "                            (uGeoWind(level,time,lat-1,lon,dy)-uGeoWind(level,time,lat+1,lon,dy)/(2*dy))\n",
    "    return vort"
   ]
  },
  {
   "cell_type": "markdown",
   "metadata": {},
   "source": [
    "<h2><font face=\"fantasy, serif\" color=#533563 style=\"font-size:25px\">We will do the same thing for the vorticity array as we did for the geostrophic winds:</font></h2>"
   ]
  },
  {
   "cell_type": "code",
   "execution_count": 33,
   "metadata": {},
   "outputs": [
    {
     "name": "stdout",
     "output_type": "stream",
     "text": [
      "(73, 144)\n",
      "done.\n"
     ]
    }
   ],
   "source": [
    "Vort_130_500mb = xr.DataArray(np.zeros((73, 144)),dims=['x','y'],coords={'x': Lat,'y': Lon})\n",
    "\n",
    "print Vort_130_500mb.shape\n",
    "# We have to change the range for our for-loops, before we could use \n",
    "for i in range(1,72):\n",
    "    for j in range(1,142):\n",
    "        try:\n",
    "            Vort_130_500mb[i,j]=Vort(5,mytime,i,j,dx,dy)\n",
    "        except ZeroDivisionError:\n",
    "            normalized_score = 0\n",
    "print \"done.\"\n"
   ]
  },
  {
   "cell_type": "code",
   "execution_count": null,
   "metadata": {
    "collapsed": true
   },
   "outputs": [],
   "source": [
    "print \"Maximum vorticity value in array: \",VortFull_130_500mb.min().values\n",
    "print \"Minimum vorticity value in array: \",VortFull_130_500mb.max().values"
   ]
  },
  {
   "cell_type": "code",
   "execution_count": 43,
   "metadata": {},
   "outputs": [
    {
     "name": "stdout",
     "output_type": "stream",
     "text": [
      "(73, 144, 17)\n",
      "done.\n"
     ]
    }
   ],
   "source": [
    "VortFull_129 = xr.DataArray(np.zeros((73, 144, 17)),dims=['x','y','z'],coords={'x': Lat,'y': Lon, 'z': Level})\n",
    "VortFull_130 = xr.DataArray(np.zeros((73, 144, 17)),dims=['x','y','z'],coords={'x': Lat,'y': Lon, 'z': Level})\n",
    "VortFull_131 = xr.DataArray(np.zeros((73, 144, 17)),dims=['x','y','z'],coords={'x': Lat,'y': Lon, 'z': Level})\n",
    "print VortFull_130.shape\n",
    "\n",
    "for i in range(1,72):\n",
    "    for j in range(1,143):\n",
    "        for k in range(0,17):\n",
    "            try:\n",
    "                VortFull_129[i,j,k]=Vort(k,129,i,j,dx,dy)\n",
    "                VortFull_130[i,j,k]=Vort(k,130,i,j,dx,dy)\n",
    "                VortFull_131[i,j,k]=Vort(k,131,i,j,dx,dy)\n",
    "            except ZeroDivisionError:\n",
    "                normalized_score = VortFull_130[i-1,j-1,k] \n",
    "print \"done.\""
   ]
  },
  {
   "cell_type": "raw",
   "metadata": {},
   "source": [
    "VortFullArray = xr.DataArray(np.zeros((73, 144, 17,1464)),dims=['x','y','z','t'],coords={'x': Lat,'y': Lon,'z': Level,'t': Time})\n",
    "print VortFullArray.shape\n",
    "\n",
    "for i in range(1,72):\n",
    "    for j in range(1,143):\n",
    "        for k in range(0,17):\n",
    "            for t in range(0,1463):\n",
    "                try:\n",
    "                    VortFullArray[i][j][k][t]=Vort(k,t,i,j,dx,dy)\n",
    "                except ZeroDivisionError:\n",
    "                    normalized_score = VortFullArray[i-1,j-1,k,t]\n",
    "print \"done."
   ]
  },
  {
   "cell_type": "markdown",
   "metadata": {},
   "source": [
    "<h2><font face=\"fantasy, serif\" color=#533563 style=\"font-size:25px\">We can print out info to see if the data makes sense, or we want the value at specific lats/lons, etc.</font></h2>"
   ]
  },
  {
   "cell_type": "code",
   "execution_count": null,
   "metadata": {
    "collapsed": true
   },
   "outputs": [],
   "source": [
    "#print \"data of lon index 0 and lat index 0: \"+str(Vortdata[0][0])+\"\\n\"\n",
    "#print \"data of lon index 143 and lat index 72: \"+str(Vortdata[72][143])\n",
    "\n",
    "print \"data of lon index 0 and lat index 0: \",VortFull_130_500mb[1][1],\"\\n\"\n",
    "print \"data of lon index 143 and lat index 72: \",VortFull_130_500mb[71][142]"
   ]
  },
  {
   "cell_type": "code",
   "execution_count": null,
   "metadata": {
    "collapsed": true
   },
   "outputs": [],
   "source": []
  },
  {
   "cell_type": "code",
   "execution_count": null,
   "metadata": {
    "collapsed": true
   },
   "outputs": [],
   "source": [
    "#fig = plt.figure()\n",
    "plt.clf()\n",
    "lat_0 = 20\n",
    "lat_1 = 60\n",
    "lon_0 = 225\n",
    "lon_1 = 300   \n",
    "\n",
    "m=Basemap(projection='mill',lat_ts=10,llcrnrlon=lon_0, \\\n",
    "      urcrnrlon=lon_1,llcrnrlat=lat_0,urcrnrlat=lat_1, \\\n",
    "      resolution='l')\n",
    "    \n",
    "#m.drawrivers()\n",
    "m.drawstates()\n",
    "m.drawcoastlines()\n",
    "m.drawcountries()\n",
    "#m.fillcontinents(lake_color='blue')\n",
    "#m.drawmapboundary(fill_color='black')\n",
    "#m.etopo(alpha=0.4)\n",
    "m.drawparallels(np.arange(lat_0,lat_1,5),labels=[1,0,0,0],fontsize=18)\n",
    "m.drawmeridians(np.arange(lon_0,lon_1,10),labels=[0,0,0,1],fontsize=18)\n",
    "\n",
    "x, y = m(*np.meshgrid(Lon,Lat))\n",
    "vort_levels = np.arange(Vorts_130_500[:,:].min(),Vorts_130_500[:,:].max(),1)\n",
    "\n",
    "#Smooth and re-plot the vorticity field\n",
    "vort_smooth = ndimage.gaussian_filter(Vorts_130_500[:,:], sigma=1, order=0)\n",
    "\n",
    "vort_contourfill = m.contourf(x, y, vort_smooth,vort_levels,shading='flat',cmap=plt.cm.cubehelix)\n",
    "hght_contour = m.contour(x, y, hgt130_500mb_smooth,hgt130_500mb_levels,colors='w')\n",
    "\n",
    "plt.clabel(hght_contour, inline=True, fmt='%1i', fontsize=18,colors='w')\n",
    "cb = plt.colorbar(vort_contourfill, shrink=0.53)\n",
    "cb.ax.tick_params(labelsize=14)\n",
    "cb.ax.set_title('Vorticity: $s^{-1}$', fontsize=15,horizontalalignment='center',y=1.01,x=1)\n",
    "\n",
    "plt.title('Vorticity and '+str(int(mylevel))+'mb Heights\\n'+mydate+\"Z\",fontsize=30)\n",
    "#plt.savefig(\"/Users/chowdahead/Desktop/Dynamics/VortSmooth_and_500mb_Heights.png\")\n",
    "fig"
   ]
  },
  {
   "cell_type": "markdown",
   "metadata": {
    "collapsed": true
   },
   "source": [
    "<h3><center><font face=\"fantasy, serif\" color=#233513 style=\"font-size:35px\">-----------------------------//-----------------------------</font></center></h3>"
   ]
  },
  {
   "cell_type": "markdown",
   "metadata": {},
   "source": [
    "<h3><center><font face=\"fantasy, serif\" color=#233513 style=\"font-size:35px\">End of Day 4 Data, All Done.</font></center></h3>"
   ]
  },
  {
   "cell_type": "markdown",
   "metadata": {},
   "source": [
    "<h3><center><font face=\"fantasy, serif\" color=#233513 style=\"font-size:35px\">-----------------------------//-----------------------------</font></center></h3>"
   ]
  },
  {
   "cell_type": "markdown",
   "metadata": {},
   "source": [
    "<h3><center><font face=\"fantasy, serif\" color=#233513 style=\"font-size:35px\">-----------------------------//-----------------------------</font></center></h3>"
   ]
  },
  {
   "cell_type": "markdown",
   "metadata": {
    "collapsed": true
   },
   "source": [
    "<h3><center><font face=\"fantasy, serif\" color=#233513 style=\"font-size:35px\">Let's make our own NetCDF file so we can keep track of our progress:</font></center></h3>"
   ]
  },
  {
   "cell_type": "code",
   "execution_count": 57,
   "metadata": {
    "collapsed": true
   },
   "outputs": [],
   "source": [
    "dataset = Dataset('/Users/chowdahead/Desktop/Dynamics/PlottingData.nc','w')"
   ]
  },
  {
   "cell_type": "markdown",
   "metadata": {},
   "source": [
    "<h2><font face=\"fantasy, serif\" color=#533563 style=\"font-size:25px\">We can now create variables with dimensions and keys for our new NetCDF file which we will use to avoid doing calulations everytime when we plot.</font></h2>"
   ]
  },
  {
   "cell_type": "code",
   "execution_count": 58,
   "metadata": {
    "collapsed": true
   },
   "outputs": [],
   "source": [
    "level = dataset.createDimension('level', len(Level))\n",
    "lat = dataset.createDimension('lat', len(Lat))\n",
    "lon = dataset.createDimension('lon', len(Lon))\n",
    "date = dataset.createDimension('date', len(Time))\n"
   ]
  },
  {
   "cell_type": "code",
   "execution_count": 59,
   "metadata": {
    "collapsed": true
   },
   "outputs": [],
   "source": [
    "levels = dataset.createVariable('level', np.int32, ('level',))\n",
    "latitudes = dataset.createVariable('latitude', np.float32,('lat',))\n",
    "longitudes = dataset.createVariable('longitude', np.float32,('lon',))\n",
    "dates = dataset.createVariable('dates', str, ('date',))\n",
    "\n",
    "# Create the 3-d arrays for WInds and Vorticities\n",
    "winds_129_500 = dataset.createVariable('winds_129_500', np.float32,('lat','lon',))\n",
    "uwinds_129_500 = dataset.createVariable('uwinds_129_500', np.float32,('lat','lon',))\n",
    "vwinds_129_500 = dataset.createVariable('vwinds_129_500', np.float32,('lat','lon',))\n",
    "\n",
    "winds_130_500 = dataset.createVariable('winds_130_500', np.float32,('lat','lon',))\n",
    "uwinds_130_500 = dataset.createVariable('uwinds_130_500', np.float32,('lat','lon',))\n",
    "vwinds_130_500 = dataset.createVariable('vwinds_130_500', np.float32,('lat','lon',))\n",
    "\n",
    "winds_131_500 = dataset.createVariable('winds_131_500', np.float32,('lat','lon',))\n",
    "uwinds_131_500 = dataset.createVariable('uwinds_131_500', np.float32,('lat','lon',))\n",
    "vwinds_131_500 = dataset.createVariable('vwinds_131_500', np.float32,('lat','lon',))\n",
    "\n",
    "##########################################################################################\n",
    "vorts_129_500 = dataset.createVariable('vorticity_129_500', np.float32,('lat','lon',))\n",
    "vorts_130_500 = dataset.createVariable('vorticity_130_500', np.float32,('lat','lon',))\n",
    "vorts_131_500 = dataset.createVariable('vorticity_131_500', np.float32,('lat','lon',))\n",
    "##########################################################################################\n",
    "\n",
    "##########################################################################################\n",
    "winds_130 = dataset.createVariable('winds_130', np.float32,('lat','lon','level'))\n",
    "vorts_130 = dataset.createVariable('vorticity_130', np.float32,('lat','lon','level'))\n",
    "##########################################################################################\n",
    "\n",
    "# Create the 4-d array for geopotential heights\n",
    "hgts = dataset.createVariable('hgt', np.float32,('date','level','lat','lon'))\n"
   ]
  },
  {
   "cell_type": "markdown",
   "metadata": {},
   "source": []
  },
  {
   "cell_type": "code",
   "execution_count": 60,
   "metadata": {
    "collapsed": true
   },
   "outputs": [],
   "source": [
    "Date=[]\n",
    "for i in range(len(Time)):\n",
    "    date1 = str(Time[i])[0:10] # Remember we can take pieces of the string\n",
    "    date2 = str(Time[i])[-18:-10] # some more pieces...\n",
    "    date = date1+\" \"+date2 # Finally combine the pieces to make a cleaner date string\n",
    "    \n",
    "    Date.append(date)"
   ]
  },
  {
   "cell_type": "code",
   "execution_count": 62,
   "metadata": {
    "collapsed": true
   },
   "outputs": [],
   "source": [
    "for i in range(1464): \n",
    "    dates[i]=Date[i]"
   ]
  },
  {
   "cell_type": "code",
   "execution_count": 63,
   "metadata": {
    "collapsed": true
   },
   "outputs": [],
   "source": [
    "latitudes[:] = Lat\n",
    "longitudes[:] = Lon\n",
    "levels[:] = Level\n",
    "hgts[:] = height\n",
    "\n",
    "winds_129[:] = WindsFull_129.values\n",
    "winds_130[:] = WindsFull_130.values\n",
    "winds_131[:] = WindsFull_131.values\n",
    "\n",
    "winds_129_500[:] = WindsFull_129_500mb.values\n",
    "uwinds_129_500[:] = uWindsFull_129_500mb.values\n",
    "vwinds_129_500[:] = vWindsFull_129_500mb.values\n",
    "\n",
    "winds_130_500[:] = WindsFull_130_500mb.values\n",
    "uwinds_130_500[:] = uWindsFull_130_500mb.values\n",
    "vwinds_130_500[:] = vWindsFull_130_500mb.values\n",
    "\n",
    "winds_131_500[:] = WindsFull_131_500mb.values\n",
    "uwinds_131_500[:] = uWindsFull_131_500mb.values\n",
    "vwinds_131_500[:] = vWindsFull_131_500mb.values\n",
    "\n",
    "\n",
    "\n",
    "vorts_129[:] = VortFull_129.values\n",
    "vorts_130[:] = VortFull_130.values\n",
    "vorts_131[:] = VortFull_131.values\n",
    "\n",
    "vorts_129_500[:] = Vort_129_500mb.values\n",
    "vorts_130_500[:] = Vort_130_500mb.values\n",
    "vorts_131_500[:] = Vort_131_500mb.values\n"
   ]
  },
  {
   "cell_type": "code",
   "execution_count": 64,
   "metadata": {
    "collapsed": true
   },
   "outputs": [],
   "source": [
    "dataset.close()"
   ]
  },
  {
   "cell_type": "markdown",
   "metadata": {
    "collapsed": true
   },
   "source": [
    "<h3><center><font face=\"fantasy, serif\" color=#233513 style=\"font-size:35px\">-----------------------------//-----------------------------</font></center></h3>"
   ]
  },
  {
   "cell_type": "markdown",
   "metadata": {},
   "source": [
    "<h3><center><font face=\"fantasy, serif\" color=#233513 style=\"font-size:35px\">-----------------------------//-----------------------------</font></center></h3>"
   ]
  }
 ],
 "metadata": {
  "kernelspec": {
   "display_name": "Python 2",
   "language": "python",
   "name": "python2"
  },
  "language_info": {
   "codemirror_mode": {
    "name": "ipython",
    "version": 2
   },
   "file_extension": ".py",
   "mimetype": "text/x-python",
   "name": "python",
   "nbconvert_exporter": "python",
   "pygments_lexer": "ipython2",
   "version": "2.7.15"
  }
 },
 "nbformat": 4,
 "nbformat_minor": 2
}
