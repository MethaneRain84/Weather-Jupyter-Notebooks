{
 "cells": [
  {
   "cell_type": "code",
   "execution_count": null,
   "metadata": {
    "collapsed": true
   },
   "outputs": [],
   "source": [
    "# Imports\n",
    "\n",
    "from mpl_toolkits.basemap import Basemap\n",
    "import matplotlib.pyplot as plt\n",
    "import random\n",
    "import time\n",
    "import numpy as np\n",
    "import webbrowser"
   ]
  },
  {
   "cell_type": "code",
   "execution_count": null,
   "metadata": {
    "collapsed": true
   },
   "outputs": [],
   "source": [
    "%matplotlib inline"
   ]
  },
  {
   "cell_type": "code",
   "execution_count": null,
   "metadata": {
    "collapsed": true
   },
   "outputs": [],
   "source": [
    "# Set random generated lat/lons \n",
    "\n",
    "Colorado = 0.\n",
    "lat_randoms=[random.uniform(25,51) for _ in range (300)]\n",
    "lon_randoms=[random.uniform(-60,-130) for _ in range (300)]\n",
    "\n",
    "# Initialize lists to keep track of the plat/lon pairs and hit locations\n",
    "LatLon = []\n",
    "Hit = []\n",
    "\n",
    "# Run it for 300 tries\n",
    "for i in range(300):\n",
    "    #time.sleep(2)\n",
    "    \n",
    "# Set the map up    \n",
    "    m = Basemap(projection='mill',llcrnrlat=25,urcrnrlat=50,\\\n",
    "            llcrnrlon=-130,urcrnrlon=-60,resolution='c')\n",
    "    Lat = round(lat_randoms[i],2)\n",
    "    Lon = round(lon_randoms[i],2)\n",
    "    LatLon.append(zip(lon_randoms, lat_randoms))\n",
    "\n",
    "# print the current lat/lon pair    \n",
    "    print \"Latitude: \"+str(round(Lat,2))+\"° N\"\n",
    "    print \"Longitude: \"+str(abs(round(Lon,2)))+\"° W\"    \n",
    "    m.drawcoastlines()\n",
    "    m.drawcountries()\n",
    "    m.drawstates()\n",
    "    m.fillcontinents(color='#04BAE3', lake_color='#FFFFFF')\n",
    "    m.drawmapboundary(fill_color='#FFFFFF')\n",
    "\n",
    "# Locate the lat/lon pairs on the basemap    \n",
    "    x,y = m(lon_randoms[i],lat_randoms[i])\n",
    "    if m.is_land(x,y) == True:\n",
    "        if -109.000 <= lon_randoms[i] <= -102.000 and 37.000 <= lat_randoms[i] <= 41.000:\n",
    "            print \"Oh NO!!\"\n",
    "            print \"Colorado has been hit!\"\n",
    "            url = \"https://www.google.com/search?q={}\".format(str(abs(round(Lon,2)))+\"° W,\"+str(round(Lat,2))+\"° N\")    \n",
    "            webbrowser.open(url)\n",
    "            m.plot(x,y,'rs',markersize=50,alpha=.5)\n",
    "            m.plot(x,y,'bs',markersize=4.5,alpha=.5)\n",
    "            Colorado = Colorado +1.\n",
    "            Hit.append((Lon,Lat))\n",
    "        else:\n",
    "            m.plot(x,y,'yo',markersize=10,alpha=.5)\n",
    "    else:\n",
    "        print \"The U.S. is safe!\"\n",
    "    plt.title('Bomb Drop: '+str(i+1))\n",
    "    plt.show()\n",
    "    print\n",
    "    print\n",
    "    #time.sleep(2)\n",
    "    #plt.clf()\n",
    "\n",
    "print Colorado"
   ]
  },
  {
   "cell_type": "code",
   "execution_count": 7,
   "metadata": {},
   "outputs": [
    {
     "name": "stdout",
     "output_type": "stream",
     "text": [
      "[(-108.3, 39.63), (-104.7, 37.98), (-108.07, 38.01)]\n"
     ]
    }
   ],
   "source": [
    "# Print the lat/lons of the hits in Colorado\n",
    "print Hit"
   ]
  },
  {
   "cell_type": "code",
   "execution_count": null,
   "metadata": {
    "collapsed": true
   },
   "outputs": [],
   "source": [
    "LatLon = zip(lon_randoms, lat_randoms)\n",
    "print LatLon"
   ]
  }
 ],
 "metadata": {
  "kernelspec": {
   "display_name": "Python 2",
   "language": "python",
   "name": "python2"
  },
  "language_info": {
   "codemirror_mode": {
    "name": "ipython",
    "version": 2
   },
   "file_extension": ".py",
   "mimetype": "text/x-python",
   "name": "python",
   "nbconvert_exporter": "python",
   "pygments_lexer": "ipython2",
   "version": "2.7.15"
  }
 },
 "nbformat": 4,
 "nbformat_minor": 1
}
