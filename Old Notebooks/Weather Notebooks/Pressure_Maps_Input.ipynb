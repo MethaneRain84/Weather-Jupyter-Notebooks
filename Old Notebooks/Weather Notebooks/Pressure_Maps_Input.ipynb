{
 "cells": [
  {
   "cell_type": "markdown",
   "metadata": {},
   "source": [
    "# SPC Pressure level maps"
   ]
  },
  {
   "cell_type": "code",
   "execution_count": 1,
   "metadata": {},
   "outputs": [
    {
     "name": "stdout",
     "output_type": "stream",
     "text": [
      "Using matplotlib backend: MacOSX\n",
      "Populating the interactive namespace from numpy and matplotlib\n"
     ]
    },
    {
     "name": "stderr",
     "output_type": "stream",
     "text": [
      "Vendor:  Continuum Analytics, Inc.\n",
      "Package: mkl\n",
      "Message: trial mode expires in 26 days\n"
     ]
    }
   ],
   "source": [
    "%pylab\n",
    "from matplotlib.pyplot import imshow\n",
    "import time\n",
    "import logging\n",
    "import urllib2\n",
    "import urllib, cStringIO\n",
    "import datetime\n",
    "import webbrowser\n",
    "import matplotlib.pyplot as plt\n",
    "from IPython.core.display import Image\n",
    "import IPython.display\n",
    "from PIL import Image as PILImage"
   ]
  },
  {
   "cell_type": "code",
   "execution_count": 3,
   "metadata": {},
   "outputs": [],
   "source": [
    "%matplotlib inline"
   ]
  },
  {
   "cell_type": "code",
   "execution_count": 5,
   "metadata": {},
   "outputs": [
    {
     "name": "stdout",
     "output_type": "stream",
     "text": [
      "Please choose year: 2016\n",
      "Please choose month (1-12): 2\n",
      "Please choose day (numrical): 5\n",
      "Please choose hour (either 12 or 00Z): 0\n",
      "Choose a pressure level: \n",
      "Surface, 925mb, 850mb, 700mb, 500mb, 300mb, 250mb: 850\n",
      "http://www.spc.noaa.gov/obswx/maps/850_160205_00.gif\n"
     ]
    }
   ],
   "source": [
    "path = raw_input(\"Where would you like the files? \")\n",
    "year = input('Please choose year: ')\n",
    "month = input('Please choose month (1-12): ')\n",
    "day = input('Please choose day (numrical): ')\n",
    "hour = input('Please choose hour (either 12 or 00Z): ') #either 12 or 00\n",
    "print \"Choose a pressure level: \"\n",
    "#pressure = 500\n",
    "pressure = input(\"Surface, 925mb, 850mb, 700mb, 500mb, 300mb, 250mb: \")\n",
    "\n",
    "\n",
    "#if 0 < int(currentHour) < 12 or int(currentHour) == 24 :\n",
    "    #hour = 0\n",
    "#if 12 < int(currentHour) < 24:\n",
    "    #hour = 12\n",
    "\n",
    "if month < 10:\n",
    "    month = \"0\"+str(month)\n",
    "if day < 10:\n",
    "    day = \"0\"+str(day)\n",
    "if hour == 0:\n",
    "    hour = \"0\"+str(hour)\n",
    "\n",
    "year = str(year)\n",
    "\n",
    "#picture_page = \"http://www.wpc.ncep.noaa.gov/archives/sfc/2012/namussfc2012010809.gif\"\n",
    "\n",
    "try:\n",
    "    picture_page = \"http://www.spc.noaa.gov/obswx/maps/\"+str(pressure)+\"_\"+str(year[2:])+str(month)+str(day)+\"_\"+str(hour)+\".gif\"\n",
    "    print picture_page\n",
    "# open the web page picture and read it into a variable\n",
    "    opener1 = urllib2.build_opener()\n",
    "    page1 = opener1.open(picture_page)\n",
    "    my_picture = page1.read()\n",
    "    UpperFilename = str(year)+\"_\"+str(month)+\"_\"+str(day)+\"_\"+str(hour)+\"Z\"+\"_Current_\"+str(pressure)+\"mb\" + picture_page[-4:]\n",
    "\n",
    "except urllib2.HTTPError, err:\n",
    "    if err.code == 404:\n",
    "        logging.exception(\"No Data from website\")\n",
    "        pass\n",
    "    else:\n",
    "        raise\n",
    "\n",
    "file = cStringIO.StringIO(urllib.urlopen(picture_page).read())\n",
    "img = PILImage.open(file)\n",
    "fig, ax = subplots(figsize=(15, 8))\n",
    "ax.set_title(\"500mb: \"+str(year)+\"_\"+str(month)+\"/\"+str(day)+\"_\"+str(hour)+\"Z\")\n",
    "ax.imshow(img, interpolation='nearest')\n",
    "tight_layout()\n",
    "plt.show()\n",
    "plt.savefig(path+UpperFilename)"
   ]
  },
  {
   "cell_type": "code",
   "execution_count": null,
   "metadata": {},
   "outputs": [],
   "source": []
  }
 ],
 "metadata": {
  "kernelspec": {
   "display_name": "Python 2",
   "language": "python",
   "name": "python2"
  },
  "language_info": {
   "codemirror_mode": {
    "name": "ipython",
    "version": 2
   },
   "file_extension": ".py",
   "mimetype": "text/x-python",
   "name": "python",
   "nbconvert_exporter": "python",
   "pygments_lexer": "ipython2",
   "version": "2.7.15"
  }
 },
 "nbformat": 4,
 "nbformat_minor": 1
}
