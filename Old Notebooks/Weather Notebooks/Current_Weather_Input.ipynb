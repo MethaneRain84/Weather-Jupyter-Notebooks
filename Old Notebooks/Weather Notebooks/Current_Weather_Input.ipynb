{
 "cells": [
  {
   "cell_type": "code",
   "execution_count": null,
   "metadata": {},
   "outputs": [],
   "source": [
    "#!/usr/bin/env python"
   ]
  },
  {
   "cell_type": "code",
   "execution_count": 2,
   "metadata": {},
   "outputs": [
    {
     "name": "stdout",
     "output_type": "stream",
     "text": [
      "/Users/ChowdaHead/Desktop/SkewT-1.1.0\n"
     ]
    }
   ],
   "source": [
    "cd Desktop/SkewT-1.1.0/"
   ]
  },
  {
   "cell_type": "code",
   "execution_count": null,
   "metadata": {
    "collapsed": true
   },
   "outputs": [],
   "source": [
    "%pylab\n",
    "from matplotlib.pyplot import imshow\n",
    "import matplotlib.image as mpimg\n",
    "import time\n",
    "import logging\n",
    "import urllib2\n",
    "import urllib, cStringIO\n",
    "import datetime\n",
    "import webbrowser\n",
    "import numpy as np\n",
    "from mpl_toolkits.basemap import Basemap, cm\n",
    "from scipy.io import netcdf\n",
    "import matplotlib.pyplot as plt\n",
    "from skewt import SkewT\n",
    "from bs4 import BeautifulSoup\n",
    "from IPython.core.display import Image\n",
    "import IPython.display\n",
    "from PIL import Image as PILImage"
   ]
  },
  {
   "cell_type": "code",
   "execution_count": null,
   "metadata": {},
   "outputs": [],
   "source": [
    "%matplotlib inline"
   ]
  },
  {
   "cell_type": "markdown",
   "metadata": {},
   "source": [
    "# --------------------------------------------------------------------------------------------------"
   ]
  },
  {
   "cell_type": "markdown",
   "metadata": {},
   "source": [
    "# --------------------------------------------------------------------------------------------------"
   ]
  },
  {
   "cell_type": "code",
   "execution_count": 4,
   "metadata": {},
   "outputs": [
    {
     "name": "stdout",
     "output_type": "stream",
     "text": [
      "22 (2, 27)\n"
     ]
    }
   ],
   "source": [
    "now = datetime.datetime.now()\n",
    "year = now.year \n",
    "month = now.month \n",
    "day = now.day\n",
    "date = (month, day)\n",
    "#print now.year, now.month, now.day, now.hour, now.minute, now.second\n",
    "\n",
    "if year == 2016:\n",
    "    if (3,13) <= date <= (11,6):\n",
    "        currentHour = now.hour + 6\n",
    "    if (11,7) <= date <= (12,31) or (1,1) <= date <= (3,12):\n",
    "        currentHour = now.hour + 7\n",
    "print currentHour, date"
   ]
  },
  {
   "cell_type": "raw",
   "metadata": {},
   "source": [
    "print datetime.date.today().strftime(\"%d\")\n",
    "print datetime.date.today().strftime(\"%B\")\n",
    "print datetime.date.today().strftime(\"%Y\")\n",
    "print currentHour"
   ]
  },
  {
   "cell_type": "code",
   "execution_count": 32,
   "metadata": {},
   "outputs": [
    {
     "name": "stdout",
     "output_type": "stream",
     "text": [
      "Please choose station number (72469 for Denver): 72469\n",
      "Please choose year: 2016\n",
      "Please choose month (1-12): 1\n",
      "Please choose day (numrical): 31\n",
      "Please choose hour (either 12 or 00Z): 12\n",
      "Choose a pressure level: \n",
      "Surface, 925mb, 850mb, 700mb, 500mb, 300mb, 250mb: 500\n"
     ]
    },
    {
     "data": {
      "text/plain": [
       "'print year\\nprint month\\nprint day\\nprint hour'"
      ]
     },
     "execution_count": 32,
     "metadata": {},
     "output_type": "execute_result"
    }
   ],
   "source": [
    "stn = input('Please choose station number (72469 for Denver): ') #72469 for Denver\n",
    "year= input('Please choose year: ')\n",
    "month = input('Please choose month (1-12): ')\n",
    "day = input('Please choose day (numrical): ')\n",
    "hour = input('Please choose hour (either 12 or 00Z): ') #either 12 or 00\n",
    "print \"Choose a pressure level: \"\n",
    "#pressure = 500\n",
    "pressure = input(\"Surface, 925mb, 850mb, 700mb, 500mb, 300mb, 250mb: \")\n",
    "\n",
    "\n",
    "#if 0 < int(currentHour) < 12 or int(currentHour) == 24 :\n",
    "    #hour = 0\n",
    "#if 12 < int(currentHour) < 24:\n",
    "    #hour = 12\n",
    "\n",
    "if month < 10:\n",
    "    month = \"0\"+str(month)\n",
    "if day < 10:\n",
    "    day = \"0\"+str(day)\n",
    "if hour == 0:\n",
    "    hour = \"0\"+str(hour) \n",
    "\n",
    "\n",
    "#hour = input('Please choose hour (either 12 or 00Z): ') #either 12 or 00\n",
    "#hour = 12\n",
    "'''print year\n",
    "print month\n",
    "print day\n",
    "print hour'''"
   ]
  },
  {
   "cell_type": "markdown",
   "metadata": {},
   "source": [
    "# --------------------------------------------------------------------------------------------------"
   ]
  },
  {
   "cell_type": "markdown",
   "metadata": {},
   "source": [
    "## University of Wyoming sounding data from their website"
   ]
  },
  {
   "cell_type": "markdown",
   "metadata": {},
   "source": [
    "# --------------------------------------------------------------------------------------------------"
   ]
  },
  {
   "cell_type": "markdown",
   "metadata": {},
   "source": [
    "#### Default station is set to Denver, #72469"
   ]
  },
  {
   "cell_type": "code",
   "execution_count": null,
   "metadata": {},
   "outputs": [],
   "source": [
    "#stn = 72469\n",
    "\n",
    "try:\n",
    "# 1) \n",
    "# Wyoming URL to download Sounding from\n",
    "#url = \"http://weather.uwyo.edu/cgi-bin/sounding?region=naconf&TYPE=TEXT%3ALIST&YEAR=2016&MONTH=01&FROM=2012&TO=2012&STNM=72469\"\n",
    "    url = \"http://weather.uwyo.edu/cgi-bin/sounding?region=naconf&TYPE=TEXT%3ALIST&YEAR=\"+str(year)+\"&MONTH=\"+str(month)+\"&FROM=\"+str(day)+\\\n",
    "    str(hour)+\"&TO=\"+str(day)+str(hour)+\"&STNM=\"+str(stn)\n",
    "    print url\n",
    "#url = \"http://weather.uwyo.edu/cgi-bin/sounding?region=naconf&TYPE=TEXT%3ALIST&YEAR=2015&MONTH=06&FROM=1400&TO=1400&STNM=72469\"\n",
    "    content = urllib2.urlopen(url).read()\n",
    "\n",
    "# 2)\n",
    "# Remove the html tags\n",
    "    soup = BeautifulSoup(content)\n",
    "    data_text = soup.get_text()\n",
    "\n",
    "# 3)\n",
    "# Split the content by new line.\n",
    "    splitted = data_text.split(\"\\n\",data_text.count(\"\\n\"))\n",
    "\n",
    "# 4)\n",
    "# Write this splitted text to a .txt document\n",
    "    Sounding_filename = str(stn)+'.'+str(year)+str(month)+str(day)+str(hour)+'.txt'\n",
    "    f = open(Sounding_filename,'w')\n",
    "    for line in splitted[4:]:\n",
    "        f.write(line+'\\n')\n",
    "    f.close()\n",
    "    print f\n",
    "# 5)\n",
    "    sounding = SkewT.Sounding(Sounding_filename)\n",
    "    sounding.plot_skewt?\n",
    "    \n",
    "    sounding.plot_skewt()\n",
    "    \n",
    "\n",
    "    plt.savefig(\"/Users/ChowdaHead/Dropbox/Daily Weather/\"+str(year)+\"_\"+str(month)+\"_\"+str(day)+\"_\"+str(hour)+\"_Current_Sounding.gif\")\n",
    "\n",
    "    \n",
    "except ValueError:\n",
    "    logging.exception(\"No Data from website: \"+Sounding_filename)\n",
    "    pass\n",
    "    \n",
    "#And if you wish to plot more than one sounding on the same plot do this...\n",
    "#S = SkewT.Sounding(filename=Sounding_filename)\n",
    "#T = SkewT.Sounding(filename=\"72572.2015061212.txt\")\n",
    "#S.make_skewt_axes(tmax=55)\n",
    "#S.add_profile(color='r',linewidth=5,bloc=0)\n",
    "#S.soundingdata=T.soundingdata\n",
    "#S.add_profile(color=\"b\",bloc=1)\n",
    "plt.show()"
   ]
  },
  {
   "cell_type": "code",
   "execution_count": 25,
   "metadata": {},
   "outputs": [
    {
     "name": "stdout",
     "output_type": "stream",
     "text": [
      "http://weather.uwyo.edu/cgi-bin/sounding?region=naconf&TYPE=TEXT%3ALIST&YEAR=2016&MONTH=01&FROM=3112&TO=3112&STNM=72469\n",
      "\n",
      "\n",
      "Denver\n",
      "\n",
      "---- Lifted Parcel Quantities ----\n",
      "Parcel: SB\n",
      "Ps  : 830.0hPa\n",
      "TCs :  -1.1C\n",
      "TDs :  -3.3C\n",
      "-------------\n",
      "Plcl: 801.9hPa\n",
      "Tlcl:  -3.8C\n",
      "Plfc:   nanhPa\n",
      "P_el:   nanhPa\n",
      "CAPE:   0.0J\n",
      "CIN:    0.0J\n",
      "http://weather.uwyo.edu/cgi-bin/sounding?region=naconf&TYPE=TEXT%3ALIST&YEAR=2016&MONTH=01&FROM=3112&TO=3112&STNM=72476\n",
      "\n",
      "\n",
      "Grand Junction\n",
      "\n",
      "---- Lifted Parcel Quantities ----\n",
      "Parcel: SB\n",
      "Ps  : 848.0hPa\n",
      "TCs :  -0.3C\n",
      "TDs :  -1.6C\n",
      "-------------\n",
      "Plcl: 831.0hPa\n",
      "Tlcl:  -1.9C\n",
      "Plfc:   nanhPa\n",
      "P_el:   nanhPa\n",
      "CAPE:   0.0J\n",
      "CIN:    0.0J\n"
     ]
    }
   ],
   "source": [
    "stn1 = 72469\n",
    "\n",
    "try:\n",
    "# 1) \n",
    "# Wyoming URL to download Sounding from\n",
    "    url = \"http://weather.uwyo.edu/cgi-bin/sounding?region=naconf&TYPE=TEXT%3ALIST&YEAR=\"+str(year)+\"&MONTH=\"+str(month)+\"&FROM=\"+str(day)+\\\n",
    "    str(hour)+\"&TO=\"+str(day)+str(hour)+\"&STNM=\"+str(stn1)\n",
    "    #print url\n",
    "#url = \"http://weather.uwyo.edu/cgi-bin/sounding?region=naconf&TYPE=TEXT%3ALIST&YEAR=2015&MONTH=06&FROM=1400&TO=1400&STNM=72469\"\n",
    "    content = urllib2.urlopen(url).read()\n",
    "\n",
    "# 2)\n",
    "# Remove the html tags\n",
    "    soup = BeautifulSoup(content)\n",
    "    data_text = soup.get_text()\n",
    "\n",
    "# 3)\n",
    "# Split the content by new line.\n",
    "    splitted = data_text.split(\"\\n\",data_text.count(\"\\n\"))\n",
    "\n",
    "# 4)\n",
    "# Write this splitted text to a .txt document\n",
    "    Sounding_filename = str(stn1)+'.'+str(year)+str(month)+str(day)+str(hour)+\"Z\"+'.txt'\n",
    "    f = open(Sounding_filename,'w')\n",
    "    for line in splitted[4:]:\n",
    "        f.write(line+'\\n')\n",
    "    f.close()\n",
    "    print \n",
    "    print\n",
    "    print \"Denver\"\n",
    "# 5)\n",
    "    S = SkewT.Sounding(Sounding_filename)\n",
    "    #sounding.plot_skewt()\n",
    "    S.plot_skewt(title='Denver: '+str(stn1)+'.'+str(year)+str(month)+str(day)+str(hour)+\"Z\")    \n",
    "    \n",
    "except ValueError:\n",
    "    logging.exception(\"No Data from website: \"+Sounding_filename)\n",
    "    pass\n",
    "    \n",
    "\n",
    "#-------------------------------------------------------------------------------------------------------------------\n",
    "#\n",
    "#\n",
    "#-------------------------------------------------------------------------------------------------------------------\n",
    "\n",
    "stn2 = 72476\n",
    "\n",
    "try:\n",
    "# 1) \n",
    "# Wyoming URL to download Sounding from\n",
    "#url = \"http://weather.uwyo.edu/cgi-bin/sounding?region=naconf&TYPE=TEXT%3ALIST&YEAR=2016&MONTH=01&FROM=2012&TO=2012&STNM=72469\"\n",
    "    url2 = \"http://weather.uwyo.edu/cgi-bin/sounding?region=naconf&TYPE=TEXT%3ALIST&YEAR=\"+str(year)+\"&MONTH=\"+str(month)+\"&FROM=\"+str(day)+\\\n",
    "    str(hour)+\"&TO=\"+str(day)+str(hour)+\"&STNM=\"+str(stn2)\n",
    "    #print url2\n",
    "#url = \"http://weather.uwyo.edu/cgi-bin/sounding?region=naconf&TYPE=TEXT%3ALIST&YEAR=2015&MONTH=06&FROM=1400&TO=1400&STNM=72469\"\n",
    "    content2 = urllib2.urlopen(url2).read()\n",
    "\n",
    "# 2)\n",
    "# Remove the html tags\n",
    "    soup2 = BeautifulSoup(content2)\n",
    "    data_text2 = soup2.get_text()\n",
    "\n",
    "# 3)\n",
    "# Split the content by new line.\n",
    "    splitted2 = data_text2.split(\"\\n\",data_text2.count(\"\\n\"))\n",
    "\n",
    "# 4)\n",
    "# Write this splitted text to a .txt document\n",
    "    Sounding_filename2 = str(stn2)+'.'+str(year)+str(month)+str(day)+str(hour)+\"Z\"+'.txt'\n",
    "    f2 = open(Sounding_filename2,'w')\n",
    "    for line in splitted2[4:]:\n",
    "        f2.write(line+'\\n')\n",
    "    f2.close()\n",
    "    print \n",
    "    print\n",
    "    print \"Grand Junction\"\n",
    "    T = SkewT.Sounding(Sounding_filename2)\n",
    "    T.plot_skewt(title='Grand Junction: '+str(stn2)+'.'+str(year)+str(month)+str(day)+str(hour)+\"Z\")\n",
    "    #S.soundingdata=T.soundingdata\n",
    "    #S.add_profile(color=\"b\",bloc=1)\n",
    "    \n",
    "#S = SkewT.Sounding(filename=Sounding_filename)\n",
    "#T = SkewT.Sounding(filename=\"72572.2015061212.txt\")\n",
    "    #S.make_skewt_axes(tmax=55)\n",
    "    #S.add_profile(color='r',linewidth=3,bloc=0)\n",
    "    #S.soundingdata=T.soundingdata\n",
    "    #S.add_profile(color=\"b\",bloc=1)\n",
    "\n",
    "\n",
    "    plt.show()\n",
    "except ValueError:\n",
    "    logging.exception(\"No Data from website: \"+Sounding_filename2)\n",
    "    pass"
   ]
  },
  {
   "cell_type": "markdown",
   "metadata": {},
   "source": [
    "# --------------------------------------------------------------------------------------------------"
   ]
  },
  {
   "cell_type": "markdown",
   "metadata": {},
   "source": [
    "## Current Surface Analysis from WPC"
   ]
  },
  {
   "cell_type": "markdown",
   "metadata": {},
   "source": [
    "# --------------------------------------------------------------------------------------------------"
   ]
  },
  {
   "cell_type": "code",
   "execution_count": 38,
   "metadata": {},
   "outputs": [],
   "source": [
    "try:\n",
    "    picture_page = \"http://www.wpc.ncep.noaa.gov/sfc/namussfcwbg.gif\"    \n",
    "  \n",
    "# Open a browser to the page\n",
    "    #webbrowser.open(picture_page) \n",
    "\n",
    "# open the web page picture and read it into a variable\n",
    "    opener1 = urllib2.build_opener()\n",
    "    page1 = opener1.open(picture_page)\n",
    "    my_picture = page1.read()\n",
    "\n",
    "# open file for binary write and save picture\n",
    "# picture_page[-4:] extracts extension eg. .gif\n",
    "# (most image file extensions have three letters, otherwise modify)\n",
    "    SurfAnalFilename = str(year)+\"_\"+str(month)+\"_\"+str(day)+\"_\"+str(hour)+\"Z\"+\"_Current_Surf_Analy\" + picture_page[-4:]\n",
    "    \n",
    "# test to see if it saved correctly\n",
    "    webbrowser.open(SurfAnalFilename)                   \n",
    "except urllib2.HTTPError, err:\n",
    "    if err.code == 404:\n",
    "        logging.exception(\"No Data from website\")\n",
    "        pass\n",
    "    else:\n",
    "        raise\n",
    "\n",
    "\n",
    "file = cStringIO.StringIO(urllib.urlopen(picture_page).read())\n",
    "img = PILImage.open(file)\n",
    "#imshow(img)\n",
    "fig, ax = subplots(figsize=(15, 8))\n",
    "ax.set_title(\"Surface Analysis: \"+str(year)+\"_\"+str(month)+\"/\"+str(day)+\"_\"+str(hour)+\"Z\")\n",
    "ax.imshow(img, interpolation='nearest')\n",
    "\n",
    "#figure(figsize = (100,220))\n",
    "#imshow(img, interpolation='nearest')\n",
    "#tight_layout()\n",
    "plt.savefig(\"/Users/ChowdaHead/Dropbox/Daily Weather/\"+str(SurfAnalFilename))\n",
    "plt.show()"
   ]
  },
  {
   "cell_type": "markdown",
   "metadata": {},
   "source": [
    "# --------------------------------------------------------------------------------------------------"
   ]
  },
  {
   "cell_type": "markdown",
   "metadata": {},
   "source": [
    "## SPC Pressure level maps"
   ]
  },
  {
   "cell_type": "markdown",
   "metadata": {},
   "source": [
    "# --------------------------------------------------------------------------------------------------"
   ]
  },
  {
   "cell_type": "markdown",
   "metadata": {},
   "source": [
    "http://www.spc.noaa.gov/obswx/maps/500_160119_00.gif"
   ]
  },
  {
   "cell_type": "code",
   "execution_count": 33,
   "metadata": {},
   "outputs": [
    {
     "name": "stdout",
     "output_type": "stream",
     "text": [
      "http://www.spc.noaa.gov/obswx/maps/500_160131_12.gif\n"
     ]
    }
   ],
   "source": [
    "year = str(year)\n",
    "\n",
    "#picture_page = \"http://www.wpc.ncep.noaa.gov/archives/sfc/2012/namussfc2012010809.gif\"\n",
    "\n",
    "try:\n",
    "    picture_page = \"http://www.spc.noaa.gov/obswx/maps/\"+str(pressure)+\"_\"+str(year[2:])+str(month)+str(day)+\"_\"+str(hour)+\".gif\"\n",
    "    print picture_page\n",
    "# open the web page picture and read it into a variable\n",
    "    opener1 = urllib2.build_opener()\n",
    "    page1 = opener1.open(picture_page)\n",
    "    my_picture = page1.read()\n",
    "    UpperFilename = str(year)+\"_\"+str(month)+\"_\"+str(day)+\"_\"+str(hour)+\"Z\"+\"_Current_\"+str(pressure)+\"mb\" + picture_page[-4:]\n",
    "\n",
    "except urllib2.HTTPError, err:\n",
    "    if err.code == 404:\n",
    "        logging.exception(\"No Data from website\")\n",
    "        pass\n",
    "    else:\n",
    "        raise\n",
    "\n",
    "file = cStringIO.StringIO(urllib.urlopen(picture_page).read())\n",
    "img = PILImage.open(file)\n",
    "fig, ax = subplots(figsize=(15, 8))\n",
    "ax.set_title(\"500mb: \"+str(year)+\"_\"+str(month)+\"/\"+str(day)+\"_\"+str(hour)+\"Z\")\n",
    "ax.imshow(img, interpolation='nearest')\n",
    "tight_layout()\n",
    "plt.show()\n",
    "plt.savefig(\"/Users/ChowdaHead/Dropbox/Daily Weather/\"+UpperFilename)"
   ]
  },
  {
   "cell_type": "markdown",
   "metadata": {},
   "source": [
    "# --------------------------------------------------------------------------------------------------"
   ]
  },
  {
   "cell_type": "markdown",
   "metadata": {},
   "source": [
    "## Daily High Temperatures, Conus. US"
   ]
  },
  {
   "cell_type": "markdown",
   "metadata": {},
   "source": [
    "# --------------------------------------------------------------------------------------------------"
   ]
  },
  {
   "cell_type": "markdown",
   "metadata": {},
   "source": [
    "### This is only for the current day of running this script. I don't believe I found an archive in an easy way to code with"
   ]
  },
  {
   "cell_type": "markdown",
   "metadata": {},
   "source": [
    "http://graphical.weather.gov/sectors/conus.php#tabs"
   ]
  },
  {
   "cell_type": "raw",
   "metadata": {},
   "source": [
    "picture_page = \"http://graphical.weather.gov/images/conus/MaxT1_conus.png\"    \n",
    "\n",
    "# Open a browser to the page\n",
    "#webbrowser.open(picture_page) \n",
    "\n",
    "# open the web page picture and read it into a variable\n",
    "opener1 = urllib2.build_opener()\n",
    "page1 = opener1.open(picture_page)\n",
    "my_picture = page1.read()\n",
    "\n",
    "# open file for binary write and save picture\n",
    "# picture_page[-4:] extracts extension eg. .gif\n",
    "# (most image file extensions have three letters, otherwise modify)\n",
    "filename = datetime.date.today().strftime(\"%B_%d_%Y\")+\"_Daily_High\"+ picture_page[-4:]\n",
    "#print datetime.date.today().strftime(\"%B_%d_%Y\")\n",
    "fout = open(\"/Users/ChowdaHead/Desktop/Weather Blog/Daily_Temp/\"+filename, \"wb\")\n",
    "fout.write(my_picture)\n",
    "fout.close()\n",
    "\n",
    "Image(filename = (\"/Users/ChowdaHead/Desktop/Weather Blog/Daily_Temp/\"+filename))"
   ]
  },
  {
   "cell_type": "markdown",
   "metadata": {},
   "source": [
    "# --------------------------------------------------------------------------------------------------"
   ]
  },
  {
   "cell_type": "markdown",
   "metadata": {},
   "source": [
    "## Current Surface Temperatures and Dew Point from University of Illinois WW2010 Project"
   ]
  },
  {
   "cell_type": "markdown",
   "metadata": {},
   "source": [
    "# --------------------------------------------------------------------------------------------------"
   ]
  },
  {
   "cell_type": "code",
   "execution_count": 30,
   "metadata": {},
   "outputs": [
    {
     "name": "stdout",
     "output_type": "stream",
     "text": [
      "2016 01 31\n",
      "Choose an hour, UTC 1-23: 9\n",
      "16\n",
      "2016_01_31_9Z_Current_Surf_Temps.gif 2016_01_31_9Z_Current_DewPt_Temps.gif\n"
     ]
    }
   ],
   "source": [
    "print year, month, day\n",
    "Hour = input(\"Choose an hour, UTC 1-23: \")\n",
    "\n",
    "if Hour == 0:\n",
    "    Hour = \"0\"+str(Hour)\n",
    "\n",
    "if year == 2016:\n",
    "    if (3,13) <= date <= (11,6):\n",
    "        print Hour + 6\n",
    "    if (11,7) <= date <= (12,31) or (1,1) <= date <= (3,12):\n",
    "        print Hour + 7\n",
    "\n",
    "try:\n",
    "    picture_page = \"http://ww2010.atmos.uiuc.edu/%28Gh%29/wx/cwp/prods/current/sfctmp/sfctmp_N.gif\"    \n",
    "    picture_page2 = \"http://ww2010.atmos.uiuc.edu/wx/cwp/prods/current/sfctdp/sfctdp_N.gif\"    \n",
    "\n",
    "# Open a browser to the page\n",
    "    #webbrowser.open(picture_page) \n",
    "\n",
    "# open the web page picture and read it into a variable\n",
    "    opener1 = urllib2.build_opener()\n",
    "    page1 = opener1.open(picture_page)\n",
    "    my_picture = page1.read()\n",
    "    \n",
    "    opener2 = urllib2.build_opener()\n",
    "    page2 = opener2.open(picture_page2)\n",
    "    my_picture2 = page2.read()\n",
    "   \n",
    "    \n",
    "# open file for binary write and save picture\n",
    "# picture_page[-4:] extracts extension eg. .gif\n",
    "# (most image file extensions have three letters, otherwise modify)\n",
    "    SurfTempFilename = str(year)+\"_\"+str(month)+\"_\"+str(day)+\"_\"+str(Hour)+\"Z\"+\"_Current_Surf_Temps\" + picture_page[-4:]\n",
    "    DewPtFilename = str(year)+\"_\"+str(month)+\"_\"+str(day)+\"_\"+str(Hour)+\"Z\"+\"_Current_DewPt_Temps\" + picture_page[-4:]\n",
    "    print SurfTempFilename, DewPtFilename            \n",
    "except urllib2.HTTPError, err:\n",
    "    if err.code == 404:\n",
    "        logging.exception(\"No Data from website\")\n",
    "        pass\n",
    "    else:\n",
    "        raise\n",
    "\n",
    "\n",
    "file = cStringIO.StringIO(urllib.urlopen(picture_page).read())\n",
    "img = PILImage.open(file)\n",
    "#imshow(img)\n",
    "fig, ax = subplots(figsize=(15, 8))\n",
    "ax.set_title(\"Surface Temps: \"+str(year)+\"_\"+str(month)+\"/\"+str(day)+\"_\"+str(Hour)+\"Z\")\n",
    "ax.imshow(img, interpolation='nearest')\n",
    "tight_layout()\n",
    "\n",
    "plt.savefig(\"/Users/ChowdaHead/Dropbox/Daily Weather/\"+SurfTempFilename)\n",
    "\n",
    "file = cStringIO.StringIO(urllib.urlopen(picture_page2).read())\n",
    "img2 = PILImage.open(file)\n",
    "#imshow(img)\n",
    "fig, ax = subplots(figsize=(15, 8))\n",
    "ax.set_title(\"Dew Point: \"+str(year)+\"_\"+str(month)+\"/\"+str(day)+\"_\"+str(Hour)+\"Z\")\n",
    "ax.imshow(img2, interpolation='nearest')\n",
    "tight_layout()\n",
    "\n",
    "\n",
    "plt.savefig(\"/Users/ChowdaHead/Dropbox/Daily Weather/\"+DewPtFilename)\n",
    "\n",
    "#figure(figsize = (100,220))\n",
    "#imshow(img, interpolation='nearest')\n",
    "#tight_layout()\n",
    "plt.show()"
   ]
  },
  {
   "cell_type": "markdown",
   "metadata": {},
   "source": [
    "# --------------------------------------------------------------------------------------------------"
   ]
  },
  {
   "cell_type": "markdown",
   "metadata": {},
   "source": [
    "## Current Surface Wind Streamlines, NOAA"
   ]
  },
  {
   "cell_type": "markdown",
   "metadata": {},
   "source": [
    "# --------------------------------------------------------------------------------------------------"
   ]
  },
  {
   "cell_type": "markdown",
   "metadata": {},
   "source": [
    "https://www.aviationweather.gov/adds/winds"
   ]
  },
  {
   "cell_type": "code",
   "execution_count": 31,
   "metadata": {},
   "outputs": [
    {
     "name": "stdout",
     "output_type": "stream",
     "text": [
      "2016 01 31\n",
      "Choose an hour, UTC 1-23: 12\n",
      "19\n"
     ]
    }
   ],
   "source": [
    "print year, month, day\n",
    "Hour = input(\"Choose an hour, UTC 1-23: \")\n",
    "\n",
    "if Hour == 0:\n",
    "    Hour = \"0\"+str(Hour)\n",
    "\n",
    "if year == 2016:\n",
    "    if (3,13) <= date <= (11,6):\n",
    "        print Hour + 6\n",
    "    if (11,7) <= date <= (12,31) or (1,1) <= date <= (3,12):\n",
    "        print Hour + 7\n",
    "\n",
    "try:\n",
    "    picture_page = \"https://www.aviationweather.gov/adds/data/winds/ruc00hr_sfc_windstrm.gif\"    \n",
    "    \n",
    "    #webbrowser.open(picture_page) \n",
    "\n",
    "# open the web page picture and read it into a variable\n",
    "    opener1 = urllib2.build_opener()\n",
    "    page1 = opener1.open(picture_page)\n",
    "    my_picture = page1.read()\n",
    "\n",
    "# open file for binary write and save picture\n",
    "# picture_page[-4:] extracts extension eg. .gif\n",
    "# (most image file extensions have three letters, otherwise modify)\n",
    "    SurfWindFilename = str(year)+\"_\"+str(month)+\"_\"+str(day)+\"_\"+str(Hour)+\"Z\"+\"_Current_Surf_Winds\" + picture_page[-4:]\n",
    "\n",
    "# test to see if it saved correctly\n",
    "    #webbrowser.open(Filename)  \n",
    "    \n",
    "except urllib2.HTTPError, err:\n",
    "    if err.code == 404:\n",
    "        logging.exception(\"No Data from website\")\n",
    "        pass\n",
    "    else:\n",
    "        raise\n",
    "\n",
    "\n",
    "file = cStringIO.StringIO(urllib.urlopen(picture_page).read())\n",
    "img = PILImage.open(file)\n",
    "#imshow(img)\n",
    "fig, ax = subplots(figsize=(15, 8))\n",
    "ax.set_title(\"Surface Wind Streamlines: \"+str(year)+\"_\"+str(month)+\"/\"+str(day)+\"_\"+str(Hour)+\"Z\")\n",
    "ax.imshow(img, interpolation='nearest')\n",
    "tight_layout()\n",
    "\n",
    "#figure(figsize = (100,220))\n",
    "#imshow(img, interpolation='nearest')\n",
    "#tight_layout()\n",
    "plt.savefig(\"/Users/ChowdaHead/Dropbox/Daily Weather/\"+SurfWindFilename)\n",
    "plt.show()"
   ]
  },
  {
   "cell_type": "code",
   "execution_count": null,
   "metadata": {},
   "outputs": [],
   "source": []
  }
 ],
 "metadata": {
  "kernelspec": {
   "display_name": "Python 2",
   "language": "python",
   "name": "python2"
  },
  "language_info": {
   "codemirror_mode": {
    "name": "ipython",
    "version": 2
   },
   "file_extension": ".py",
   "mimetype": "text/x-python",
   "name": "python",
   "nbconvert_exporter": "python",
   "pygments_lexer": "ipython2",
   "version": "2.7.15"
  }
 },
 "nbformat": 4,
 "nbformat_minor": 1
}
