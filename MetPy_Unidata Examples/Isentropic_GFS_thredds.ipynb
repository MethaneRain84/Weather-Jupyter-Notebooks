{
 "cells": [
  {
   "cell_type": "markdown",
   "metadata": {},
   "source": [
    "# Isentropic Analysis - GFS Forecast Maps from Thredds Server via NCSS and Siphon"
   ]
  },
  {
   "cell_type": "markdown",
   "metadata": {},
   "source": [
    "## Justin Richling\n",
    "## 11/15/18"
   ]
  },
  {
   "cell_type": "markdown",
   "metadata": {},
   "source": [
    "https://doi.org/10.6084/m9.figshare.5244637.v1"
   ]
  },
  {
   "cell_type": "code",
   "execution_count": 2,
   "metadata": {
    "collapsed": true
   },
   "outputs": [],
   "source": [
    "# Random Library Imports\n",
    "import subprocess,os,glob,tempfile,re,imageio,webbrowser,io,sys,types,urllib,urllib2,\\\n",
    "time,cStringIO\n",
    "\n",
    "# Importing Datetime Libraries\n",
    "from datetime import datetime, timedelta\n",
    "\n",
    "# CartoPy Map Plotting Libraires\n",
    "import cartopy.crs as ccrs\n",
    "import cartopy.feature as cfeature\n",
    "from pyproj import Proj \n",
    "\n",
    "# Numerical and Scientific Libraries\n",
    "import numpy as np\n",
    "import scipy.ndimage as ndimage\n",
    "from scipy.ndimage import gaussian_filter\n",
    "\n",
    "# Accessing Data from External Databases via XLM Catalog\n",
    "from siphon.ncss import NCSS\n",
    "from siphon.catalog import TDSCatalog\n",
    "\n",
    "# MetPy Libraries\n",
    "import metpy\n",
    "import metpy.calc as mpcalc\n",
    "from metpy.units import masked_array, units\n",
    "from metpy.plots import ctables\n",
    "from metpy.plots import add_metpy_logo\n",
    "from metpy.constants import g\n",
    "\n",
    "# NetCDF Libraries\n",
    "from netCDF4 import Dataset\n",
    "from netCDF4 import num2date\n",
    "\n",
    "# More Image Manipulation Options\n",
    "from PIL import Image as PILImage\n",
    "\n",
    "# Ipyhton Options\n",
    "from IPython import get_ipython\n",
    "from nbformat import current\n",
    "from IPython.core.interactiveshell import InteractiveShell\n",
    "from IPython.display import HTML, display, Image\n",
    "\n",
    "# Matplotlib Plotting Libraries\n",
    "import matplotlib.pyplot as plt\n",
    "from matplotlib.cm import get_cmap\n",
    "import matplotlib.colors as mcolors\n",
    "from matplotlib.colors import LogNorm, Normalize\n",
    "import matplotlib as mpl\n",
    "from mpl_toolkits.axes_grid1 import make_axes_locatable, axes_size\n",
    "from matplotlib.colors import LinearSegmentedColormap\n",
    "\n",
    "# URL Manipulation\n",
    "from urllib import urlopen\n",
    "\n",
    "# PV widgits imports\n",
    "import ipywidgets as widgets\n",
    "\n",
    "# Warnings\n",
    "import warnings\n",
    "warnings.filterwarnings('ignore')"
   ]
  },
  {
   "cell_type": "markdown",
   "metadata": {},
   "source": [
    "## Helper Functions"
   ]
  },
  {
   "cell_type": "code",
   "execution_count": 3,
   "metadata": {
    "collapsed": true
   },
   "outputs": [],
   "source": [
    "# Thanks to the crew over at Metpy for this handy little function\n",
    "def find_time_var(var, time_basename='time'):\n",
    "    for coord_name in var.coordinates.split():\n",
    "        if coord_name.startswith(time_basename):\n",
    "            return coord_name\n",
    "    raise ValueError('No time variable found for ' + var.name)"
   ]
  },
  {
   "cell_type": "markdown",
   "metadata": {},
   "source": [
    "<h2>----------------------------------------------//---------------------------------------------------------</h2>"
   ]
  },
  {
   "cell_type": "markdown",
   "metadata": {},
   "source": [
    "## Set the Map Projection"
   ]
  },
  {
   "cell_type": "code",
   "execution_count": null,
   "metadata": {
    "collapsed": true
   },
   "outputs": [],
   "source": [
    "# Set Projection of Data\n",
    "datacrs = ccrs.PlateCarree()\n",
    "\n",
    "# Set Projection of Plot\n",
    "plotcrs = ccrs.LambertConformal(central_latitude=[30, 60], central_longitude=-100)\n",
    "\n",
    "# Add Map Features\n",
    "states_provinces = cfeature.NaturalEarthFeature(category='cultural',\n",
    "    name='admin_1_states_provinces_lakes',scale='50m', facecolor='none')\n",
    "\n",
    "country_borders = cfeature.NaturalEarthFeature(category='cultural',\n",
    "    name='admin_0_countries',scale='50m', facecolor='none')\n",
    "\n",
    "# Colorbar Axis Placement (under figure)\n",
    "colorbar_axis = [0.183, 0.09, 0.659, 0.03] # [left, bottom, width, height]\n",
    "\n",
    "# Lat/Lon Extents [lon0,lon1,lat0,lat1]\n",
    "extent = [-130., -70, 20., 60.]"
   ]
  },
  {
   "cell_type": "markdown",
   "metadata": {},
   "source": [
    "<h2>----------------------------------------------//---------------------------------------------------------</h2>"
   ]
  },
  {
   "cell_type": "markdown",
   "metadata": {},
   "source": [
    "## Set a list for the 24 hour forecast time steps"
   ]
  },
  {
   "cell_type": "code",
   "execution_count": null,
   "metadata": {
    "collapsed": true
   },
   "outputs": [],
   "source": [
    "now = datetime.utcnow()\n",
    "#now = datetime(2018,12,27,21,0)\n",
    "today_day = int('{0:%d}'.format(now))\n",
    "today_year = int('{0:%Y}'.format(now))\n",
    "today_month = int('{0:%m}'.format(now))\n",
    "print today_day,today_year,today_month\n",
    "\n",
    "forecast_times = []\n",
    "for i in range(4,8):\n",
    "    forecast_times.append(datetime(today_year,today_month,today_day,i*3,0))\n",
    "for i in range(0,5):\n",
    "    forecast_times.append(datetime(today_year,today_month,today_day+1,i*3,0))\n",
    "forecast_times"
   ]
  },
  {
   "cell_type": "markdown",
   "metadata": {},
   "source": [
    "<h2>----------------------------------------------//---------------------------------------------------------</h2>"
   ]
  },
  {
   "cell_type": "markdown",
   "metadata": {},
   "source": [
    "## Figure out where the saved maps will go"
   ]
  },
  {
   "cell_type": "code",
   "execution_count": null,
   "metadata": {
    "collapsed": true
   },
   "outputs": [],
   "source": [
    "# Set a path to save the plots with string format for the date to set the month and day \n",
    "im_save_path =\"/path/to/saved files/\"\n",
    "print im_save_path\n",
    "\n",
    "# Check to see if the folder already exists, if not create it\n",
    "if not os.path.isdir(im_save_path):\n",
    "    os.makedirs(im_save_path)\n",
    "\n",
    "# Uncomment if you want to automatically change to the map folder    \n",
    "#os.chdir(im_save_path)"
   ]
  },
  {
   "cell_type": "markdown",
   "metadata": {},
   "source": [
    "<h2>----------------------------------------------//---------------------------------------------------------</h2>"
   ]
  },
  {
   "cell_type": "markdown",
   "metadata": {},
   "source": [
    "## Start at the top of the thredds catalog"
   ]
  },
  {
   "cell_type": "code",
   "execution_count": 5,
   "metadata": {},
   "outputs": [
    {
     "name": "stdout",
     "output_type": "stream",
     "text": [
      "Forecast Model Data\n",
      "Forecast Products and Analyses\n",
      "Observation Data\n",
      "Radar Data\n",
      "Satellite Data\n",
      "Unidata case studies\n"
     ]
    }
   ],
   "source": [
    "from siphon.catalog import TDSCatalog\n",
    "top_cat = TDSCatalog('http://thredds.ucar.edu/thredds/catalog.xml')\n",
    "for ref in top_cat.catalog_refs:\n",
    "    print(ref)\n"
   ]
  },
  {
   "cell_type": "markdown",
   "metadata": {},
   "source": [
    "## Model Forecast Data"
   ]
  },
  {
   "cell_type": "code",
   "execution_count": 6,
   "metadata": {},
   "outputs": [
    {
     "data": {
      "text/plain": [
       "u'http://thredds.ucar.edu/thredds/idd/forecastModels.xml'"
      ]
     },
     "execution_count": 6,
     "metadata": {},
     "output_type": "execute_result"
    }
   ],
   "source": [
    "ref = top_cat.catalog_refs['Forecast Model Data']\n",
    "ref.href"
   ]
  },
  {
   "cell_type": "code",
   "execution_count": 7,
   "metadata": {},
   "outputs": [
    {
     "data": {
      "text/plain": [
       "['GEFS Members - Analysis',\n",
       " 'GEFS Members - Forecasts',\n",
       " 'GEFS Derived Forecast Products',\n",
       " 'GFS Quarter Degree Analysis',\n",
       " 'GFS Quarter Degree Forecast',\n",
       " 'GFS Half Degree Analysis',\n",
       " 'GFS Half Degree Forecast',\n",
       " 'GFS One Degree Analysis',\n",
       " 'GFS One Degree Forecast',\n",
       " 'GFS Global 1.0 Degree (NOAAPORT)',\n",
       " 'GFS Pacific 40km',\n",
       " 'GFS Pacific 20km',\n",
       " 'GFS Puerto Rico Half Degree',\n",
       " 'GFS Puerto Rico Quarter Degree',\n",
       " 'GFS CONUS 80km',\n",
       " 'GFS CONUS 20km',\n",
       " 'GFS CONUS 95km',\n",
       " 'GFS Alaska 20km',\n",
       " 'GSD HRRR CONUS 3km wrfprs',\n",
       " 'GSD HRRR CONUS 3km surface',\n",
       " 'NCEP HRRR CONUS 2.5km Analysis',\n",
       " 'NCEP HRRR CONUS 2.5km',\n",
       " 'NAM Alaska 11km',\n",
       " 'NAM Alaska 45km from NOAAPORT',\n",
       " 'NAM Alaska 45km from CONDUIT',\n",
       " 'NAM Alaska 95km',\n",
       " 'NAM CONUS 12km from NOAAPORT',\n",
       " 'NAM CONUS 12km from CONDUIT',\n",
       " 'NAM CONUS 20km',\n",
       " 'NAM CONUS 40km',\n",
       " 'NAM CONUS 80km',\n",
       " 'NAM Polar 90km',\n",
       " 'NAM Fireweather Nested',\n",
       " 'Rapid Refresh CONUS 13km',\n",
       " 'Rapid Refresh CONUS 20km',\n",
       " 'Rapid Refresh CONUS 40km',\n",
       " 'SREF CONUS 40km Ensemble Derived Products',\n",
       " 'SREF CONUS 40km Ensemble Derived Products (Bias Corrected)',\n",
       " 'SREF Alaska 45km Ensemble Derived Products',\n",
       " 'SREF Pacific North East 0.4 Degree Ensemble Derived Products',\n",
       " 'Wave Watch III Global',\n",
       " 'Wave Watch III Regional Alaska',\n",
       " 'Wave Watch III Coastal Alaska',\n",
       " 'Wave Watch III Regional Eastern Pacific',\n",
       " 'Wave Watch III Regional US East Coast',\n",
       " 'Wave Watch III Regional US West Coast',\n",
       " 'Wave Watch III Coastal US East Coast',\n",
       " 'Wave Watch III Coastal US West Coast',\n",
       " 'FNMOC NAVGEM Global 0.5 Degree',\n",
       " 'FNMOC WW3 Global 1.0 Degree',\n",
       " 'FNMOC WW3 Europe',\n",
       " 'FNMOC FAROP Global 1.0 Degree',\n",
       " 'FNMOC COAMPS Western Atlantic',\n",
       " 'FNMOC COAMPS Europe',\n",
       " 'FNMOC COAMPS Equatorial America',\n",
       " 'FNMOC COAMPS Northeast Pacific',\n",
       " 'FNMOC COAMPS Southern California',\n",
       " 'FNMOC NCODA Global Ocean']"
      ]
     },
     "execution_count": 7,
     "metadata": {},
     "output_type": "execute_result"
    }
   ],
   "source": [
    "new_cat = ref.follow()\n",
    "list(new_cat.catalog_refs)"
   ]
  },
  {
   "cell_type": "markdown",
   "metadata": {},
   "source": [
    "## GFS Quarter Degree Data"
   ]
  },
  {
   "cell_type": "code",
   "execution_count": 8,
   "metadata": {},
   "outputs": [
    {
     "name": "stdout",
     "output_type": "stream",
     "text": [
      "GFS Quarter Degree Forecast\n"
     ]
    },
    {
     "data": {
      "text/plain": [
       "['Full Collection (Reference / Forecast Time) Dataset',\n",
       " 'Best GFS Quarter Degree Forecast Time Series',\n",
       " 'Latest Collection for GFS Quarter Degree Forecast']"
      ]
     },
     "execution_count": 8,
     "metadata": {},
     "output_type": "execute_result"
    }
   ],
   "source": [
    "model = new_cat.catalog_refs[4]\n",
    "print str(model)\n",
    "gfs_cat = model.follow()\n",
    "list(gfs_cat.datasets)"
   ]
  },
  {
   "cell_type": "markdown",
   "metadata": {},
   "source": [
    "## Best GFS Quarter Degree Forecast Time Series"
   ]
  },
  {
   "cell_type": "code",
   "execution_count": 9,
   "metadata": {},
   "outputs": [
    {
     "name": "stdout",
     "output_type": "stream",
     "text": [
      "Variable Name: Best GFS Quarter Degree Forecast Time Series\n",
      "Path: grib/NCEP/GFS/Global_0p25deg/Best\n"
     ]
    }
   ],
   "source": [
    "ds = gfs_cat.datasets[1]\n",
    "print \"Variable Name:\",ds.name\n",
    "print \"Path:\",ds.url_path"
   ]
  },
  {
   "cell_type": "markdown",
   "metadata": {},
   "source": [
    "<h2>----------------------------------------------//---------------------------------------------------------</h2>\n",
    "<h2>----------------------------------------------//---------------------------------------------------------</h2>"
   ]
  },
  {
   "cell_type": "markdown",
   "metadata": {
    "collapsed": true
   },
   "source": [
    "<h1><font style=\"font-size:32px\"><center>-- Plotting all of the GFS forecast hours for the current day --</center></font></h1>"
   ]
  },
  {
   "cell_type": "markdown",
   "metadata": {},
   "source": [
    "<h2><font><center>-- Isentropic Analysis --</center></font></h2>\n",
    "\n",
    "<ul>\n",
    "  <li>Isentropic Heights and Winds</li>\n",
    "  <li>Isentropic Heights, Winds, and Mixing Ratio</li>\n",
    "  <li>Isentropic Heights, Winds, and Omega</li>\n",
    "</ul>"
   ]
  },
  {
   "cell_type": "code",
   "execution_count": null,
   "metadata": {
    "collapsed": true
   },
   "outputs": [],
   "source": [
    "for i in forecast_times:\n",
    "    cat = TDSCatalog('http://thredds.ucar.edu/thredds/catalog/grib/'\n",
    "                 'NCEP/GFS/Global_0p5deg/catalog.xml')\n",
    "    best = cat.datasets['Best GFS Half Degree Forecast Time Series']\n",
    "\n",
    "    subset_access = best.subset()\n",
    "    query = subset_access.query()\n",
    "\n",
    "    query.time(i)\n",
    "    #print query.time(datetime.utcnow())\n",
    "    #print datetime.utcnow()\n",
    "    #time = str(datetime.utcnow())[:-7]\n",
    "    #print time\n",
    "\n",
    "    query.variables('Temperature_isobaric', 'Geopotential_height_isobaric',\n",
    "                'u-component_of_wind_isobaric', 'v-component_of_wind_isobaric',\n",
    "                'Relative_humidity_isobaric','Absolute_vorticity_isobaric')\n",
    "#230., 295., 15., 45.\n",
    "#query.lonlat_box(west=230., east=295., south=15., north=45.)\n",
    "    query.lonlat_box(west=-130, east=-50, south=10, north=60)\n",
    "    query.accept('netcdf4')\n",
    "    data = subset_access.get_data(query)\n",
    "\n",
    "    \n",
    "    lat = data.variables['lat'][:]\n",
    "    lon = data.variables['lon'][:]\n",
    "    press = data.variables['isobaric'][:] * units.Pa\n",
    "    temperature = data.variables['Temperature_isobaric'][0] * units.kelvin\n",
    "    rh = data.variables['Relative_humidity_isobaric'][0] * units.percent\n",
    "    height = data.variables['Geopotential_height_isobaric'][0] * units.meter\n",
    "    u = data.variables['u-component_of_wind_isobaric'][0] * units('m/s')\n",
    "    v = data.variables['v-component_of_wind_isobaric'][0] * units('m/s')\n",
    "    #vort =  data.variables['Absolute_vorticity_isobaric'][0] * units('1/s')  \n",
    "    TEMP = 295\n",
    "    isen_level = np.array([TEMP]) * units.kelvin\n",
    "    isen_press, isen_u, isen_v = mpcalc.isentropic_interpolation(isen_level, press,\n",
    "            temperature, u, v)\n",
    "# Need to squeeze() out the size-1 dimension for the isentropic level\n",
    "    isen_press = isen_press.squeeze()\n",
    "    isen_u = isen_u.squeeze()\n",
    "    isen_v = isen_v.squeeze()\n",
    "    #isen_vort = isen_vort.squeeze()\n",
    "    \n",
    "# Needed to make numpy broadcasting work between 1D pressure and other 3D arrays\n",
    "    pressure_for_calc = press[:, None, None]\n",
    "\n",
    "# Calculate mixing ratio using something from mpcalc\n",
    "    mixing = mpcalc.mixing_ratio_from_relative_humidity(rh, temperature, pressure_for_calc)\n",
    "\n",
    "# Take the return and convert manually to units of 'dimenionless'\n",
    "    mixing.ito('dimensionless')\n",
    "\n",
    "# Interpolate all the data\n",
    "    isen_level = np.array([295]) * units.kelvin\n",
    "    ret = mpcalc.isentropic_interpolation(isen_level, press, temperature, mixing, u, v)\n",
    "    isen_press, isen_mixing, isen_u, isen_v = ret\n",
    "\n",
    "# Squeeze the returned arrays\n",
    "    isen_press = isen_press.squeeze()\n",
    "    isen_mixing = isen_mixing.squeeze()\n",
    "    isen_u = isen_u.squeeze()\n",
    "    isen_v = isen_v.squeeze()\n",
    "    \n",
    "# Create a plot and basic map projection\n",
    "    fig = plt.figure(figsize=(17., 11.))\n",
    "\n",
    "    add_metpy_logo(fig, 30, 940, size='small')\n",
    "\n",
    "# Add the map and set the extent\n",
    "    ax = plt.subplot(111, projection=plotcrs)\n",
    "\n",
    "# Add state boundaries to plot\n",
    "    ax.add_feature(states_provinces, edgecolor='k', linewidth=1)\n",
    "\n",
    "# Add country borders to plot\n",
    "    ax.add_feature(country_borders, edgecolor='black', linewidth=1)\n",
    "\n",
    "# Convert number of hours since the reference time into an actual date\n",
    "    time_var = data.variables[find_time_var(data.variables['Geopotential_height_isobaric'])]\n",
    "    time_final = num2date(time_var[:].squeeze(), time_var.units)\n",
    "    print str(time_final)[:4]+\"_\"+str(time_final)[5:7]+\"_\"+str(time_final)[8:10]+\"_\"+str(time_final)[11:13]+\"Z\"\n",
    "    file_time = str(time_final)[:4]+\"_\"+str(time_final)[5:7]+\"_\"+str(time_final)[8:10]+\"_\"+str(time_final)[11:13]+\"Z\"    \n",
    "    \n",
    "# Plot Title\n",
    "    plt.title('{}K Isentrope Heights and Winds (kts)'.format(TEMP),loc='left',fontsize=16)\n",
    "    plt.title(' {0:%d %B %Y %H:%MZ}'.format(time_final),loc='right',fontsize=16)\n",
    "\n",
    "                                            # Isentropic Pressure\n",
    "#---------------------------------------------------------------------------------------------------\n",
    "# Contour the pressure values for the isentropic level. We keep the handle\n",
    "# for the contour so that we can have matplotlib label the contours\n",
    "\n",
    "    levels = np.arange(300, 1000, 10)\n",
    "    cntr = ax.contour(lon, lat, isen_press, transform=datacrs,\n",
    "                 cmap='rainbow',levels=levels,linewidths=2) #ccrs.PlateCarree()\n",
    "#ax.clabel(cntr, fmt='%.0f',colors='black')\n",
    "\n",
    "#cbaxes = fig.add_axes(colorbar_axis)\n",
    "#cbar = plt.colorbar(cntr, orientation='horizontal',cax=cbaxes)\n",
    "\n",
    "                                            # Isentropic Winds\n",
    "#---------------------------------------------------------------------------------------------------\n",
    "# Set up slices to subset the wind barbs--the slices below are the same as `::5`\n",
    "# We put these here so that it's easy to change and keep all of the ones below matched\n",
    "# up.\n",
    "\n",
    "    lon_slice = slice(None, None, 7)\n",
    "    lat_slice = slice(None, None, 7)\n",
    "    ax.barbs(lon[lon_slice], lat[lat_slice],\n",
    "         isen_u[lon_slice, lat_slice].to('knots').magnitude,\n",
    "         isen_v[lon_slice, lat_slice].to('knots').magnitude,\n",
    "         transform=ccrs.PlateCarree(), zorder=2,length=7) # barbcolor=\"\" optional call\n",
    "\n",
    "    ax.set_extent(extent, datacrs)\n",
    "\n",
    "    #plt.show()\n",
    "    fig.savefig(im_save_path+\"Isentropes_Winds_\"+file_time+\".png\",\n",
    "            bbox_inches='tight',dpi=120)\n",
    "    \n",
    "######################################################################################################## \n",
    "\n",
    "    # Create a plot and basic map projection\n",
    "    fig = plt.figure(figsize=(17., 11.))\n",
    "\n",
    "    add_metpy_logo(fig, 30, 940, size='small')\n",
    "\n",
    "# Add the map and set the extent\n",
    "    ax = plt.subplot(111, projection=plotcrs)\n",
    "\n",
    "# Add state boundaries to plot\n",
    "    ax.add_feature(states_provinces, edgecolor='k', linewidth=1)\n",
    "\n",
    "# Add country borders to plot\n",
    "    ax.add_feature(country_borders, edgecolor='black', linewidth=1)\n",
    "\n",
    "# Convert number of hours since the reference time into an actual date\n",
    "    time_var = data.variables[find_time_var(data.variables['Geopotential_height_isobaric'])]\n",
    "    time_final = num2date(time_var[:].squeeze(), time_var.units)\n",
    "    print str(time_final)[:4]+\"_\"+str(time_final)[5:7]+\"_\"+str(time_final)[8:10]+\"_\"+str(time_final)[11:13]+\"Z\"\n",
    "    file_time = str(time_final)[:4]+\"_\"+str(time_final)[5:7]+\"_\"+str(time_final)[8:10]+\"_\"+str(time_final)[11:13]+\"Z\"    \n",
    "    \n",
    "# Plot Title\n",
    "    plt.title('{}K Isentrope Pressure, Winds (kts) and Mixing Ratio'.format(TEMP),loc='left',fontsize=16)\n",
    "    plt.title(' {0:%d %B %Y %H:%MZ}'.format(time_final),loc='right',fontsize=16)\n",
    "\n",
    "                                            # Isentropic Pressure\n",
    "#---------------------------------------------------------------------------------------------------\n",
    "    levels = np.arange(300, 1000, 20)\n",
    "    cntr = ax.contour(lon, lat, isen_press, transform=datacrs,\n",
    "                  cmap='rainbow', levels=levels,linewidths=2.0)#colors='black'\n",
    "    ax.clabel(cntr, fmt='%.0f')\n",
    "\n",
    "                                            # Isentropic Winds\n",
    "#---------------------------------------------------------------------------------------------------\n",
    "    lon_slice = slice(None, None, 8)\n",
    "    lat_slice = slice(None, None, 8)\n",
    "    ax.barbs(lon[lon_slice], lat[lat_slice],\n",
    "         isen_u[lon_slice, lat_slice].to('knots').magnitude,\n",
    "         isen_v[lon_slice, lat_slice].to('knots').magnitude,\n",
    "         transform=ccrs.PlateCarree(), zorder=3,barbcolor='k')\n",
    "\n",
    "\n",
    "                                           # Isentropic Mixing Ratio\n",
    "#---------------------------------------------------------------------------------------------------\n",
    "# Contourf the mixing ratio values\n",
    "    mixing_levels = [0.001, 0.002, 0.004, 0.006, 0.010, 0.012, 0.014, 0.016, 0.020]\n",
    "    cntr2 = ax.contourf(lon, lat, isen_mixing, transform=datacrs,\n",
    "            levels=mixing_levels, cmap='YlGn')\n",
    "\n",
    "    ax.set_extent(extent, datacrs)\n",
    "\n",
    "#cbaxes = fig.add_axes(colorbar_axis) # [left, bottom, width, height]\n",
    "#cbar = plt.colorbar(cntr2, orientation='horizontal',cax=cbaxes)\n",
    "\n",
    "    #plt.show()\n",
    "    fig.savefig(im_save_path+\"Isentropes_Winds_MixingRatio_\"+file_time+\".png\",\n",
    "            bbox_inches='tight',dpi=120)\n",
    "\n",
    "########################################################################################################\n",
    "    isen_press.units, isen_u.units, isen_v.units\n",
    "    dx, dy = mpcalc.lat_lon_grid_spacing(lon, lat)\n",
    "    dy = -dy\n",
    "\n",
    "# Filter and re-attach units\n",
    "    isen_press = gaussian_filter(isen_press.squeeze(), sigma=2.0) * units.hPa\n",
    "    isen_u = gaussian_filter(isen_u.squeeze(), sigma=2.0) * units('m/s')\n",
    "    isen_v = gaussian_filter(isen_v.squeeze(), sigma=2.0) * units('m/s')\n",
    "    lift = -mpcalc.advection(isen_press, [isen_u, isen_v], [dx, dy], dim_order='yx')\n",
    "\n",
    "# Create a plot and basic map projection\n",
    "    fig = plt.figure(figsize=(17., 11.))\n",
    "\n",
    "    add_metpy_logo(fig, 30, 940, size='small')\n",
    "\n",
    "# Add the map and set the extent\n",
    "    ax = plt.subplot(111, projection=plotcrs)\n",
    "\n",
    "# Add state boundaries to plot\n",
    "    ax.add_feature(states_provinces, edgecolor='k', linewidth=1)\n",
    "\n",
    "# Add country borders to plot\n",
    "    ax.add_feature(country_borders, edgecolor='black', linewidth=1)\n",
    "\n",
    "# Plot Title\n",
    "    plt.title('{}K Isentropes, Winds (kts) and Omega'.format(TEMP),loc='left',fontsize=16)\n",
    "    plt.title(' {0:%d %B %Y %H:%MZ}'.format(time_final),loc='right',fontsize=16)\n",
    "\n",
    "                                            # Isentropic Pressure\n",
    "#---------------------------------------------------------------------------------------------------\n",
    "    levels = np.arange(300, 1000, 50)\n",
    "#cntr = ax.contour(lon, lat, isen_press, transform=ccrs.PlateCarree(), colors='black', levels=levels)\n",
    "    cntr = ax.contour(lon, lat, isen_press, transform=ccrs.PlateCarree(), cmap='rainbow', levels=levels,linewidths=2.0)\n",
    "    ax.clabel(cntr, fmt='%.0f')\n",
    "\n",
    "\n",
    "                                            # Isentropic Winds\n",
    "#---------------------------------------------------------------------------------------------------\n",
    "    lon_slice = slice(None, None, 7)\n",
    "    lat_slice = slice(None, None, 7)\n",
    "    ax.barbs(lon[lon_slice], lat[lat_slice],\n",
    "         isen_u[lon_slice, lat_slice].to('knots').magnitude,\n",
    "         isen_v[lon_slice, lat_slice].to('knots').magnitude,\n",
    "         transform=ccrs.PlateCarree(), zorder=2)\n",
    "\n",
    "\n",
    "                                            # Omega\n",
    "#---------------------------------------------------------------------------------------------------\n",
    "    levels = np.arange(-10, 10,2)\n",
    "    cs = ax.contourf(lon, lat, lift.to('microbar/s'), levels=levels, cmap='RdBu',\n",
    "                 transform=ccrs.PlateCarree())#, extend='both')\n",
    "#cbaxes = fig.add_axes(colorbar_axis) \n",
    "#cbar = plt.colorbar(cs, orientation='horizontal',cax=cbaxes)\n",
    "\n",
    "    ax.set_extent(extent, datacrs)\n",
    "\n",
    "    fig.savefig(im_save_path+\"Isentropes_Winds_MixingRatio_Omega_\"+file_time+\".png\",\n",
    "            bbox_inches='tight',dpi=120)\n",
    "\n",
    "print \"done.\""
   ]
  }
 ],
 "metadata": {
  "kernelspec": {
   "display_name": "Python 2",
   "language": "python",
   "name": "python2"
  },
  "language_info": {
   "codemirror_mode": {
    "name": "ipython",
    "version": 2
   },
   "file_extension": ".py",
   "mimetype": "text/x-python",
   "name": "python",
   "nbconvert_exporter": "python",
   "pygments_lexer": "ipython2",
   "version": "2.7.15"
  }
 },
 "nbformat": 4,
 "nbformat_minor": 2
}
