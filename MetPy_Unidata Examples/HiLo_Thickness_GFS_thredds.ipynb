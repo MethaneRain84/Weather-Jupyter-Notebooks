{
 "cells": [
  {
   "cell_type": "markdown",
   "metadata": {},
   "source": [
    "# Hi/Lo and MSLP with Thickness - GFS Forecast Maps from Thredds Server via NCSS and Siphon"
   ]
  },
  {
   "cell_type": "markdown",
   "metadata": {},
   "source": [
    "## Justin Richling\n",
    "## 11/15/18"
   ]
  },
  {
   "cell_type": "markdown",
   "metadata": {},
   "source": [
    "https://doi.org/10.6084/m9.figshare.5244637.v1"
   ]
  },
  {
   "cell_type": "code",
   "execution_count": 2,
   "metadata": {
    "collapsed": true
   },
   "outputs": [],
   "source": [
    "# Random Library Imports\n",
    "import subprocess,os,glob,tempfile,re,imageio,webbrowser,io,sys,types,urllib,urllib2,\\\n",
    "time,cStringIO\n",
    "\n",
    "# Importing Datetime Libraries\n",
    "from datetime import datetime, timedelta\n",
    "\n",
    "# CartoPy Map Plotting Libraires\n",
    "import cartopy.crs as ccrs\n",
    "import cartopy.feature as cfeature\n",
    "from pyproj import Proj \n",
    "\n",
    "# Numerical and Scientific Libraries\n",
    "import numpy as np\n",
    "import scipy.ndimage as ndimage\n",
    "from scipy.ndimage import gaussian_filter\n",
    "\n",
    "# Accessing Data from External Databases via XLM Catalog\n",
    "from siphon.ncss import NCSS\n",
    "from siphon.catalog import TDSCatalog\n",
    "\n",
    "# MetPy Libraries\n",
    "import metpy\n",
    "import metpy.calc as mpcalc\n",
    "from metpy.units import masked_array, units\n",
    "from metpy.plots import ctables\n",
    "from metpy.plots import add_metpy_logo\n",
    "from metpy.constants import g\n",
    "\n",
    "# NetCDF Libraries\n",
    "from netCDF4 import Dataset\n",
    "from netCDF4 import num2date\n",
    "\n",
    "# More Image Manipulation Options\n",
    "from PIL import Image as PILImage\n",
    "\n",
    "# Ipyhton Options\n",
    "from IPython import get_ipython\n",
    "from nbformat import current\n",
    "from IPython.core.interactiveshell import InteractiveShell\n",
    "from IPython.display import HTML, display, Image\n",
    "\n",
    "# Matplotlib Plotting Libraries\n",
    "import matplotlib.pyplot as plt\n",
    "from matplotlib.cm import get_cmap\n",
    "import matplotlib.colors as mcolors\n",
    "from matplotlib.colors import LogNorm, Normalize\n",
    "import matplotlib as mpl\n",
    "from mpl_toolkits.axes_grid1 import make_axes_locatable, axes_size\n",
    "from matplotlib.colors import LinearSegmentedColormap\n",
    "\n",
    "# URL Manipulation\n",
    "from urllib import urlopen\n",
    "\n",
    "# PV widgits imports\n",
    "import ipywidgets as widgets\n",
    "\n",
    "# Warnings\n",
    "import warnings\n",
    "warnings.filterwarnings('ignore')"
   ]
  },
  {
   "cell_type": "markdown",
   "metadata": {},
   "source": [
    "## Helper Functions"
   ]
  },
  {
   "cell_type": "code",
   "execution_count": 3,
   "metadata": {
    "collapsed": true
   },
   "outputs": [],
   "source": [
    "# Thanks to the crew over at Metpy for this handy little function\n",
    "def find_time_var(var, time_basename='time'):\n",
    "    for coord_name in var.coordinates.split():\n",
    "        if coord_name.startswith(time_basename):\n",
    "            return coord_name\n",
    "    raise ValueError('No time variable found for ' + var.name)"
   ]
  },
  {
   "cell_type": "code",
   "execution_count": 4,
   "metadata": {
    "collapsed": true
   },
   "outputs": [],
   "source": [
    "# MetPy Function\n",
    "def plot_maxmin_points(lon, lat, data, extrema, nsize, symbol, color='k',\n",
    "                       plotValue=True, transform=None):\n",
    "    \"\"\"\n",
    "    This function will find and plot relative maximum and minimum for a 2D grid. The function\n",
    "    can be used to plot an H for maximum values (e.g., High pressure) and an L for minimum\n",
    "    values (e.g., low pressue). It is best to used filetered data to obtain  a synoptic scale\n",
    "    max/min value. The symbol text can be set to a string value and optionally the color of the\n",
    "    symbol and any plotted value can be set with the parameter color\n",
    "    lon = plotting longitude values (2D)\n",
    "    lat = plotting latitude values (2D)\n",
    "    data = 2D data that you wish to plot the max/min symbol placement\n",
    "    extrema = Either a value of max for Maximum Values or min for Minimum Values\n",
    "    nsize = Size of the grid box to filter the max and min values to plot a reasonable number\n",
    "    symbol = String to be placed at location of max/min value\n",
    "    color = String matplotlib colorname to plot the symbol (and numerica value, if plotted)\n",
    "    plot_value = Boolean (True/False) of whether to plot the numeric value of max/min point\n",
    "    The max/min symbol will be plotted on the current axes within the bounding frame\n",
    "    (e.g., clip_on=True)\n",
    "    \"\"\"\n",
    "    from scipy.ndimage.filters import maximum_filter, minimum_filter\n",
    "\n",
    "    if (extrema == 'max'):\n",
    "        data_ext = maximum_filter(data, nsize, mode='nearest')\n",
    "    elif (extrema == 'min'):\n",
    "        data_ext = minimum_filter(data, nsize, mode='nearest')\n",
    "    else:\n",
    "        raise ValueError('Value for hilo must be either max or min')\n",
    "\n",
    "    mxy, mxx = np.where(data_ext == data)\n",
    "    #print mxy,mxx\n",
    "\n",
    "    for i in range(len(mxy)):\n",
    "        #ax.text(lon[mxy[i], mxx[i]], lat[mxy[i], mxx[i]], symbol, color=color, size=24,\n",
    "        #        clip_on=True, horizontalalignment='center', verticalalignment='center',\n",
    "        #        transform=transform)\n",
    "        #ax.text(lon[mxy[i], mxx[i]], lat[mxy[i], mxx[i]],\n",
    "        #        '\\n' + str(np.int(data[mxy[i], mxx[i]])),\n",
    "        #        color=color, size=12, clip_on=True, fontweight='bold',\n",
    "        #        horizontalalignment='center', verticalalignment='top', transform=transform)\n",
    "        \n",
    "        ax.text(lon[mxx[i]], lat[mxy[i]], symbol, color=color, size=24,\n",
    "                clip_on=True, horizontalalignment='center', verticalalignment='center',\n",
    "                transform=transform)\n",
    "        ax.text(lon[mxx[i]], lat[mxy[i]],\n",
    "                '\\n' + str(np.int(data[mxy[i], mxx[i]])),\n",
    "                color=color, size=12, clip_on=True, fontweight='bold',\n",
    "                horizontalalignment='center', verticalalignment='top', transform=transform)"
   ]
  },
  {
   "cell_type": "markdown",
   "metadata": {},
   "source": [
    "<h2>----------------------------------------------//---------------------------------------------------------</h2>"
   ]
  },
  {
   "cell_type": "markdown",
   "metadata": {},
   "source": [
    "## Set the Map Projection"
   ]
  },
  {
   "cell_type": "code",
   "execution_count": null,
   "metadata": {
    "collapsed": true
   },
   "outputs": [],
   "source": [
    "# Set Projection of Data\n",
    "datacrs = ccrs.PlateCarree()\n",
    "\n",
    "# Set Projection of Plot\n",
    "plotcrs = ccrs.LambertConformal(central_latitude=[30, 60], central_longitude=-100)\n",
    "\n",
    "# Add Map Features\n",
    "states_provinces = cfeature.NaturalEarthFeature(category='cultural',\n",
    "    name='admin_1_states_provinces_lakes',scale='50m', facecolor='none')\n",
    "\n",
    "country_borders = cfeature.NaturalEarthFeature(category='cultural',\n",
    "    name='admin_0_countries',scale='50m', facecolor='none')\n",
    "\n",
    "# Colorbar Axis Placement (under figure)\n",
    "colorbar_axis = [0.183, 0.09, 0.659, 0.03] # [left, bottom, width, height]\n",
    "\n",
    "# Lat/Lon Extents [lon0,lon1,lat0,lat1]\n",
    "extent = [-130., -70, 20., 60.]"
   ]
  },
  {
   "cell_type": "markdown",
   "metadata": {},
   "source": [
    "<h2>----------------------------------------------//---------------------------------------------------------</h2>"
   ]
  },
  {
   "cell_type": "markdown",
   "metadata": {},
   "source": [
    "## Set a list for the 24 hour forecast time steps"
   ]
  },
  {
   "cell_type": "code",
   "execution_count": null,
   "metadata": {
    "collapsed": true
   },
   "outputs": [],
   "source": [
    "now = datetime.utcnow()\n",
    "#now = datetime(2018,12,27,21,0)\n",
    "today_day = int('{0:%d}'.format(now))\n",
    "today_year = int('{0:%Y}'.format(now))\n",
    "today_month = int('{0:%m}'.format(now))\n",
    "print today_day,today_year,today_month\n",
    "\n",
    "forecast_times = []\n",
    "for i in range(4,8):\n",
    "    forecast_times.append(datetime(today_year,today_month,today_day,i*3,0))\n",
    "for i in range(0,5):\n",
    "    forecast_times.append(datetime(today_year,today_month,today_day+1,i*3,0))\n",
    "forecast_times"
   ]
  },
  {
   "cell_type": "markdown",
   "metadata": {},
   "source": [
    "<h2>----------------------------------------------//---------------------------------------------------------</h2>"
   ]
  },
  {
   "cell_type": "markdown",
   "metadata": {},
   "source": [
    "## Figure out where the saved maps will go"
   ]
  },
  {
   "cell_type": "code",
   "execution_count": null,
   "metadata": {
    "collapsed": true
   },
   "outputs": [],
   "source": [
    "# Set a path to save the plots with string format for the date to set the month and day \n",
    "im_save_path =\"/path/to/saved files/\"\n",
    "print im_save_path\n",
    "\n",
    "# Check to see if the folder already exists, if not create it\n",
    "if not os.path.isdir(im_save_path):\n",
    "    os.makedirs(im_save_path)\n",
    "\n",
    "# Uncomment if you want to automatically change to the map folder    \n",
    "#os.chdir(im_save_path)"
   ]
  },
  {
   "cell_type": "markdown",
   "metadata": {},
   "source": [
    "<h2>----------------------------------------------//---------------------------------------------------------</h2>"
   ]
  },
  {
   "cell_type": "markdown",
   "metadata": {},
   "source": [
    "## Start at the top of the thredds catalog"
   ]
  },
  {
   "cell_type": "code",
   "execution_count": 5,
   "metadata": {},
   "outputs": [
    {
     "name": "stdout",
     "output_type": "stream",
     "text": [
      "Forecast Model Data\n",
      "Forecast Products and Analyses\n",
      "Observation Data\n",
      "Radar Data\n",
      "Satellite Data\n",
      "Unidata case studies\n"
     ]
    }
   ],
   "source": [
    "from siphon.catalog import TDSCatalog\n",
    "top_cat = TDSCatalog('http://thredds.ucar.edu/thredds/catalog.xml')\n",
    "for ref in top_cat.catalog_refs:\n",
    "    print(ref)\n"
   ]
  },
  {
   "cell_type": "markdown",
   "metadata": {},
   "source": [
    "## Model Forecast Data"
   ]
  },
  {
   "cell_type": "code",
   "execution_count": 6,
   "metadata": {},
   "outputs": [
    {
     "data": {
      "text/plain": [
       "u'http://thredds.ucar.edu/thredds/idd/forecastModels.xml'"
      ]
     },
     "execution_count": 6,
     "metadata": {},
     "output_type": "execute_result"
    }
   ],
   "source": [
    "ref = top_cat.catalog_refs['Forecast Model Data']\n",
    "ref.href"
   ]
  },
  {
   "cell_type": "code",
   "execution_count": 7,
   "metadata": {},
   "outputs": [
    {
     "data": {
      "text/plain": [
       "['GEFS Members - Analysis',\n",
       " 'GEFS Members - Forecasts',\n",
       " 'GEFS Derived Forecast Products',\n",
       " 'GFS Quarter Degree Analysis',\n",
       " 'GFS Quarter Degree Forecast',\n",
       " 'GFS Half Degree Analysis',\n",
       " 'GFS Half Degree Forecast',\n",
       " 'GFS One Degree Analysis',\n",
       " 'GFS One Degree Forecast',\n",
       " 'GFS Global 1.0 Degree (NOAAPORT)',\n",
       " 'GFS Pacific 40km',\n",
       " 'GFS Pacific 20km',\n",
       " 'GFS Puerto Rico Half Degree',\n",
       " 'GFS Puerto Rico Quarter Degree',\n",
       " 'GFS CONUS 80km',\n",
       " 'GFS CONUS 20km',\n",
       " 'GFS CONUS 95km',\n",
       " 'GFS Alaska 20km',\n",
       " 'GSD HRRR CONUS 3km wrfprs',\n",
       " 'GSD HRRR CONUS 3km surface',\n",
       " 'NCEP HRRR CONUS 2.5km Analysis',\n",
       " 'NCEP HRRR CONUS 2.5km',\n",
       " 'NAM Alaska 11km',\n",
       " 'NAM Alaska 45km from NOAAPORT',\n",
       " 'NAM Alaska 45km from CONDUIT',\n",
       " 'NAM Alaska 95km',\n",
       " 'NAM CONUS 12km from NOAAPORT',\n",
       " 'NAM CONUS 12km from CONDUIT',\n",
       " 'NAM CONUS 20km',\n",
       " 'NAM CONUS 40km',\n",
       " 'NAM CONUS 80km',\n",
       " 'NAM Polar 90km',\n",
       " 'NAM Fireweather Nested',\n",
       " 'Rapid Refresh CONUS 13km',\n",
       " 'Rapid Refresh CONUS 20km',\n",
       " 'Rapid Refresh CONUS 40km',\n",
       " 'SREF CONUS 40km Ensemble Derived Products',\n",
       " 'SREF CONUS 40km Ensemble Derived Products (Bias Corrected)',\n",
       " 'SREF Alaska 45km Ensemble Derived Products',\n",
       " 'SREF Pacific North East 0.4 Degree Ensemble Derived Products',\n",
       " 'Wave Watch III Global',\n",
       " 'Wave Watch III Regional Alaska',\n",
       " 'Wave Watch III Coastal Alaska',\n",
       " 'Wave Watch III Regional Eastern Pacific',\n",
       " 'Wave Watch III Regional US East Coast',\n",
       " 'Wave Watch III Regional US West Coast',\n",
       " 'Wave Watch III Coastal US East Coast',\n",
       " 'Wave Watch III Coastal US West Coast',\n",
       " 'FNMOC NAVGEM Global 0.5 Degree',\n",
       " 'FNMOC WW3 Global 1.0 Degree',\n",
       " 'FNMOC WW3 Europe',\n",
       " 'FNMOC FAROP Global 1.0 Degree',\n",
       " 'FNMOC COAMPS Western Atlantic',\n",
       " 'FNMOC COAMPS Europe',\n",
       " 'FNMOC COAMPS Equatorial America',\n",
       " 'FNMOC COAMPS Northeast Pacific',\n",
       " 'FNMOC COAMPS Southern California',\n",
       " 'FNMOC NCODA Global Ocean']"
      ]
     },
     "execution_count": 7,
     "metadata": {},
     "output_type": "execute_result"
    }
   ],
   "source": [
    "new_cat = ref.follow()\n",
    "list(new_cat.catalog_refs)"
   ]
  },
  {
   "cell_type": "markdown",
   "metadata": {},
   "source": [
    "## GFS Quarter Degree Data"
   ]
  },
  {
   "cell_type": "code",
   "execution_count": 8,
   "metadata": {},
   "outputs": [
    {
     "name": "stdout",
     "output_type": "stream",
     "text": [
      "GFS Quarter Degree Forecast\n"
     ]
    },
    {
     "data": {
      "text/plain": [
       "['Full Collection (Reference / Forecast Time) Dataset',\n",
       " 'Best GFS Quarter Degree Forecast Time Series',\n",
       " 'Latest Collection for GFS Quarter Degree Forecast']"
      ]
     },
     "execution_count": 8,
     "metadata": {},
     "output_type": "execute_result"
    }
   ],
   "source": [
    "model = new_cat.catalog_refs[4]\n",
    "print str(model)\n",
    "gfs_cat = model.follow()\n",
    "list(gfs_cat.datasets)"
   ]
  },
  {
   "cell_type": "markdown",
   "metadata": {},
   "source": [
    "## Best GFS Quarter Degree Forecast Time Series"
   ]
  },
  {
   "cell_type": "code",
   "execution_count": 9,
   "metadata": {},
   "outputs": [
    {
     "name": "stdout",
     "output_type": "stream",
     "text": [
      "Variable Name: Best GFS Quarter Degree Forecast Time Series\n",
      "Path: grib/NCEP/GFS/Global_0p25deg/Best\n"
     ]
    }
   ],
   "source": [
    "ds = gfs_cat.datasets[1]\n",
    "print \"Variable Name:\",ds.name\n",
    "print \"Path:\",ds.url_path"
   ]
  },
  {
   "cell_type": "markdown",
   "metadata": {},
   "source": [
    "<h2>----------------------------------------------//---------------------------------------------------------</h2>\n",
    "<h2>----------------------------------------------//---------------------------------------------------------</h2>"
   ]
  },
  {
   "cell_type": "markdown",
   "metadata": {
    "collapsed": true
   },
   "source": [
    "<h1><font style=\"font-size:32px\"><center>-- Plotting all of the GFS forecast hours for the current day --</center></font></h1>"
   ]
  },
  {
   "cell_type": "markdown",
   "metadata": {},
   "source": [
    "<h2><font><center>-- Highs/Lows and 1000-500mb Thickness --</center></font></h2>"
   ]
  },
  {
   "cell_type": "code",
   "execution_count": null,
   "metadata": {
    "collapsed": true
   },
   "outputs": [],
   "source": [
    "for i in forecast_times:\n",
    "    ds = gfs_cat.datasets[1]\n",
    "    subset = ds.subset()\n",
    "    query_data = subset.query()\n",
    "    query_data.lonlat_box(west=-130, east=-50, south=10, north=60)\n",
    "\n",
    "# Allow for NetCDF files\n",
    "    query_data.accept('netcdf4')\n",
    "    query_data.time(i)\n",
    "    data = query_data.variables('Geopotential_height_isobaric',\n",
    "               'Pressure_reduced_to_MSL_msl')\n",
    "\n",
    "# Finally attempt to access the data\n",
    "    data = subset.get_data(query_data)\n",
    "    \n",
    "# Grab pressure levels\n",
    "    plev = list(data.variables['isobaric'][:])\n",
    "\n",
    "# Grab lat/lons and make all lons 0-360\n",
    "    lats = data.variables['lat'][:]\n",
    "    lons = data.variables['lon'][:]\n",
    "    lons[lons < 0] = 360 + lons[lons < 0]\n",
    "\n",
    "# Grab MSLP and smooth, use MetPy Units module for conversion\n",
    "    EMSL = data.variables['Pressure_reduced_to_MSL_msl'][:] * units.Pa\n",
    "    EMSL.ito('hPa')\n",
    "    mslp = gaussian_filter(EMSL[0], sigma=3.0)\n",
    "\n",
    "# Grab pressure level data\n",
    "    hght_1000 = data.variables['Geopotential_height_isobaric'][0, plev.index(100000.0)]\n",
    "    hght_500 = data.variables['Geopotential_height_isobaric'][0, plev.index(50000.0)]\n",
    "#mb500 = data.variables['Geopotential_height_isobaric'][0,::plev.index(50000.0)]*units.Pa\n",
    "#mb500.ito('hPa')\n",
    "    Height500mb = gaussian_filter(hght_500[0], sigma=3.0)\n",
    "\n",
    "# Calculate and smooth 1000-500 hPa thickness\n",
    "    thickness_1000_500 = gaussian_filter(hght_500 - hght_1000, sigma=3.0)\n",
    "    \n",
    "# Convert number of hours since the reference time into an actual date\n",
    "    time_var = data.variables[find_time_var(data.variables['Pressure_reduced_to_MSL_msl'])]\n",
    "    time_final = num2date(time_var[:].squeeze(), time_var.units)\n",
    "    print str(time_final)[:4]+\"_\"+str(time_final)[5:7]+\"_\"+str(time_final)[8:10]+\"_\"+str(time_final)[11:13]+\"Z\"\n",
    "    file_time = str(time_final)[:4]+\"_\"+str(time_final)[5:7]+\"_\"+str(time_final)[8:10]+\"_\"+str(time_final)[11:13]+\"Z\"    \n",
    "    \n",
    "# Create new figure\n",
    "    fig = plt.figure(figsize=(17., 11.))\n",
    "\n",
    "    add_metpy_logo(fig, 30, 940, size='small')\n",
    "\n",
    "# Add the map \n",
    "    ax = plt.subplot(111, projection=plotcrs)\n",
    "\n",
    "# Set extent and plot map lines\n",
    "    ax.set_extent(extent, datacrs)\n",
    "#ax.set_extent([-75, -30.5, 0.5, 28.5])\n",
    "\n",
    "# Add state boundaries to plot\n",
    "    ax.add_feature(states_provinces, edgecolor='k', linewidth=1)\n",
    "\n",
    "# Add country borders to plot\n",
    "    ax.add_feature(country_borders, edgecolor='black', linewidth=1)\n",
    "\n",
    "# Plot Title\n",
    "    plt.title('MSLP (hPa) with Highs and Lows, 1000-500 hPa Thickness (m)', loc='left',fontsize=16)\n",
    "    plt.title(' {0:%d %B %Y %H:%MZ}'.format(time_final), loc='right',fontsize=16)\n",
    "\n",
    "                                            # 1000-500mb Thickness\n",
    "#---------------------------------------------------------------------------------------------------\n",
    "    clevs = (np.arange(0, 5400, 60), 5400, np.arange(5460, 7000, 60))\n",
    "    colors = ('tab:blue', 'b', 'tab:red')\n",
    "    kw_clabels = {'fontsize': 11, 'inline': True, 'inline_spacing': 5, 'fmt': '%i',\n",
    "              'rightside_up': True, 'use_clabeltext': True}\n",
    "    for clevthick, color in zip(clevs, colors):\n",
    "        cs = ax.contour(lons, lats, thickness_1000_500, levels=clevthick, colors=color,\n",
    "                    linewidths=1.0, linestyles='dashed', transform=datacrs)\n",
    "        plt.clabel(cs, **kw_clabels)\n",
    "\n",
    "                                            # MSLP\n",
    "#---------------------------------------------------------------------------------------------------\n",
    "    clevmslp = np.arange(800., 1120., 4)\n",
    "    cs2 = ax.contour(lons, lats, mslp, clevmslp, colors='k', linewidths=1.25,\n",
    "                 linestyles='solid', transform=datacrs)\n",
    "    plt.clabel(cs2, **kw_clabels)\n",
    "\n",
    "                                            # High and Low Symbols\n",
    "#---------------------------------------------------------------------------------------------------\n",
    "    plot_maxmin_points(lons, lats, mslp, 'max', 50, symbol='H', color='b',  transform=datacrs)\n",
    "    plot_maxmin_points(lons, lats, mslp, 'min', 25, symbol='L', color='r', transform=datacrs)\n",
    "    \n",
    "#plt.show()\n",
    "    GFS_HILO = im_save_path+\"GFS/HILO/\"\n",
    "    if not os.path.isdir(GFS_HILO):\n",
    "        os.makedirs(GFS_HILO)\n",
    "    outfile=GFS_HILO+\"HL_Thickness_Model_\"+file_time+\".png\"\n",
    "    fig.savefig(outfile,bbox_inches='tight',dpi=120)\n",
    "print \"done.\""
   ]
  }
 ],
 "metadata": {
  "kernelspec": {
   "display_name": "Python 2",
   "language": "python",
   "name": "python2"
  },
  "language_info": {
   "codemirror_mode": {
    "name": "ipython",
    "version": 2
   },
   "file_extension": ".py",
   "mimetype": "text/x-python",
   "name": "python",
   "nbconvert_exporter": "python",
   "pygments_lexer": "ipython2",
   "version": "2.7.15"
  }
 },
 "nbformat": 4,
 "nbformat_minor": 2
}
