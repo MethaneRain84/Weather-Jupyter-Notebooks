{
 "cells": [
  {
   "cell_type": "markdown",
   "metadata": {},
   "source": [
    "# MetPy Basic Sounding"
   ]
  },
  {
   "cell_type": "markdown",
   "metadata": {},
   "source": [
    "## Justin Richling\n",
    "## 09/20/18"
   ]
  },
  {
   "cell_type": "markdown",
   "metadata": {},
   "source": [
    "\n",
    "# Plotting of Univeristy of Wyoiming Upper Air Data\n",
    "\n",
    "\n",
    "Read in raw data for specific time and station (List in Notebook down below)\n",
    "* Take raw data from columns and plot with clean plotting tools"
   ]
  },
  {
   "cell_type": "code",
   "execution_count": null,
   "metadata": {
    "collapsed": true
   },
   "outputs": [],
   "source": [
    "from datetime import datetime\n",
    "import matplotlib.pyplot as plt\n",
    "import metpy.plots as plots\n",
    "from metpy.units import units\n",
    "%matplotlib inline\n",
    "from siphon.simplewebservice.wyoming import WyomingUpperAir\n",
    "import numpy as np\n",
    "import metpy.calc as mcalc\n",
    "import os"
   ]
  },
  {
   "cell_type": "code",
   "execution_count": null,
   "metadata": {
    "collapsed": true
   },
   "outputs": [],
   "source": [
    "# Uncommment for archived date\n",
    "dateCurrent = datetime(2018,10,31,12) \n",
    "\n",
    "# Set today's date for search and naming purposes\n",
    "#now = datetime.now() \n",
    "#dateCurrent = datetime(int('{0:%Y}'.format(now)),int('{0:%m}'.format(now)),int('{0:%d}'.format(now)),12)\n",
    "\n",
    "print dateCurrent\n",
    "\n",
    "# Make a string for YYYYMMDD for naming saved figure later\n",
    "date = str(dateCurrent)[0:4]+str(dateCurrent)[5:7]+str(dateCurrent)[8:10]\n",
    "print date\n",
    "\n",
    "# Set a path to save the plots with string format for the date to set the month and day \n",
    "im_save_path =\"/path/to/saved/files/\"+'{0:%m_%d}'.format(dateCurrent)+\"/\"\n",
    "print im_save_path\n",
    "\n",
    "# Check to see if the folder already exists, if not create it\n",
    "if not os.path.isdir(im_save_path):\n",
    "    os.makedirs(im_save_path)\n",
    "\n",
    "# Uncomment if you want to automatically change to the map folder    \n",
    "#os.chdir(im_save_path)"
   ]
  },
  {
   "cell_type": "markdown",
   "metadata": {},
   "source": [
    "![alt text](http://weather.uwyo.edu/upperair/naconf.jpg)"
   ]
  },
  {
   "cell_type": "code",
   "execution_count": null,
   "metadata": {
    "collapsed": true
   },
   "outputs": [],
   "source": [
    "StationsList = [\"Wallops Island, VA\",\"Upton, NY\",\"Chatham, MA\",\"Albany, NY\",\"Sterling, VA\",\"Gray, ME\",\\\n",
    "\"Buffalo, NY\",\"Pittsburgh, PA\",\"Wilmington, OH\",\"White Lake, MI\",\"Blacksburg, VA\",\"Greensboro, NC\",\\\n",
    "\"Newport, NC\",\"Charleston, SC\",\"Jacksonville, FL\",\"Tampa Bay, FL\",\"Miami, FL\",\"Tallahassee, FL\",\\\n",
    "\"Shelby Cnty. Airport, AL\",\"Peachtree City, GA\",\"Nashville, TN\",\"Gaylord, MI\",\"Green Bay, WI\",\"Davenport, IA\",\\\n",
    "\"Lincoln, IL\",\"Springfield, MO\",\"Little Rock, AR\",\"Jackson Thomas, MS\",\"Slidell Muni., LA\",\"Lake Charles, LA\",\\\n",
    "\"Shreveport, LA\",\"Norman, OK\",\"Dodge City, KS\",\"Topeka, KS\",\"Omaha, NE\",\"Chanhassen, MN\",\"International Falls, MN\",\\\n",
    "\"Aberdeen, SD\",\"Bismarck, ND\",\"Rapid City, SD\",\"North Platte, NE\",\"Amarillo, TX\",\"Midland, TX\",\"Del Rio, TX\",\\\n",
    "\"Corpus Christi, TX\",\"Brownsville, TX\",\"Ft. Worth, TX\",\"Santa Teresa, NM\",\"Albuquerque, NM\",\"Denver, CO\",\"Grand Juncion, CO\",\\\n",
    "\"Riverton, WY\",\"Glasgow, MT\",\"Great Falls, MT\",\"Salt Lake City, UT\",\"Flagstaff, AZ\",\"Tuscon, AZ\",\"Yuma Prarie Grnds, AZ\",\"Las Vegas, NV\",\\\n",
    "\"Elko, NV\",\"Boise, ID\",\"Spokane, WA\",\"Quillayute, WA\",\"Salem, OR\",\"Medford, OR\",\"Reno, NV\",\\\n",
    "\"Oakland, CA\",\"Vandenberg Air Force Base, CA\",\"San Diego, CA\"]\n",
    "\n",
    "StationNumList = [72402,72501,74494,72518,72403,74389,72528,72520,72426,72632,72318,72317,72305,72208,72206,72210,\\\n",
    "72202,72214,72230,72215,72327,72635,72645,74455,74560,72440,72340,72235,72233,72240,72248,72357,72451,72456,\\\n",
    "72558,72649,72747,72659,72764,72662,72562,72363,72265,72261,72251,72250,72249,72364,72365,72469,72476,72672,\\\n",
    "72768,72776,72572,72376,72274,74004,72388,72582,72681,72786,72797,72694,72597,72489,72493,72393,72293]\n",
    "\n",
    "StationFinal = dict(zip(StationsList,StationNumList))"
   ]
  },
  {
   "cell_type": "code",
   "execution_count": null,
   "metadata": {
    "collapsed": true
   },
   "outputs": [],
   "source": [
    "# Lets take a look at Denver, DNR\n",
    "station = 'DNR'\n",
    "\n",
    "#station = 'GJT'\n",
    "#station = raw_input(\"Which station? \")"
   ]
  },
  {
   "cell_type": "code",
   "execution_count": null,
   "metadata": {
    "collapsed": true
   },
   "outputs": [],
   "source": [
    "# Pulling a request for U of Wyo's server:\n",
    "dateCurrent_db = WyomingUpperAir.request_data(dateCurrent,station)\n",
    "\n",
    "# Print it out:\n",
    "dateCurrent_db"
   ]
  },
  {
   "cell_type": "code",
   "execution_count": null,
   "metadata": {
    "collapsed": true
   },
   "outputs": [],
   "source": [
    "# Print out what units say dewpoint are:\n",
    "dateCurrent_db.units[\"dewpoint\"]"
   ]
  },
  {
   "cell_type": "markdown",
   "metadata": {},
   "source": [
    "<h2><font><center>-- Dew Point, Ambient Temperatures, U and V Winds  --</center></font></h2>"
   ]
  },
  {
   "cell_type": "code",
   "execution_count": null,
   "metadata": {
    "collapsed": true
   },
   "outputs": [],
   "source": [
    "p = dateCurrent_db[\"pressure\"].values * units(dateCurrent_db.units[\"pressure\"])\n",
    "#print \"Pressures:\",p,\"\\n\"\n",
    "\n",
    "# We can essentially take a slice of the data as a mask variable\n",
    "mask = p >= 100 * units.hPa\n",
    "\n",
    "T = dateCurrent_db[\"temperature\"].values * units(dateCurrent_db.units[\"temperature\"])\n",
    "Td = dateCurrent_db[\"dewpoint\"].values * units(dateCurrent_db.units[\"dewpoint\"])\n",
    "u = dateCurrent_db[\"u_wind\"].values * units(dateCurrent_db.units[\"u_wind\"])\n",
    "v = dateCurrent_db[\"v_wind\"].values * units(dateCurrent_db.units[\"v_wind\"])"
   ]
  },
  {
   "cell_type": "markdown",
   "metadata": {},
   "source": [
    "<h2><font><center>-- Setting up the logrithmic scale for y-axis (wind barbs)  --</center></font></h2>"
   ]
  },
  {
   "cell_type": "code",
   "execution_count": null,
   "metadata": {
    "collapsed": true
   },
   "outputs": [],
   "source": [
    "# We can plot on specific intervals for wind barb location:\n",
    "\n",
    "interval = np.logspace(2,3)*units.hPa\n",
    "idx = mcalc.resample_nn_1d(p,interval)"
   ]
  },
  {
   "cell_type": "markdown",
   "metadata": {},
   "source": [
    "<h2><font><center>-- Find Max/Min of Temp and Dew Pt to help Automate Axis Generation  --</center></font></h2>"
   ]
  },
  {
   "cell_type": "code",
   "execution_count": null,
   "metadata": {
    "collapsed": true
   },
   "outputs": [],
   "source": [
    "# Dew Point\n",
    "td = dateCurrent_db[\"dewpoint\"].values\n",
    "t_min = td.min()\n",
    "\n",
    "# Ambient Temperature\n",
    "t = dateCurrent_db[\"temperature\"].values\n",
    "t_max = t.max()\n",
    "\n",
    "print \"Dew pt min:\",t_min,\"Temp max:\",t_max"
   ]
  },
  {
   "cell_type": "markdown",
   "metadata": {},
   "source": [
    "<h2><font><center>-- Create Plot  --</center></font></h2>"
   ]
  },
  {
   "cell_type": "code",
   "execution_count": null,
   "metadata": {
    "collapsed": true
   },
   "outputs": [],
   "source": [
    "# Create new figure\n",
    "fig = plt.figure(figsize=(10,10))\n",
    "\n",
    "# Create the new skew-T figure\n",
    "skew = plots.SkewT(fig)\n",
    "\n",
    "# Plot Temperatures (red) and Dew Pt. (green)\n",
    "skew.plot(p,T,\"red\")\n",
    "skew.plot(p,Td,\"green\")\n",
    "\n",
    "# Set extent for both axes\n",
    "skew.ax.set_ylim(1000,100)\n",
    "skew.ax.set_xlim(-65,t_max+15)\n",
    "skew.ax.set_xlim(t_min+30,t_max+15)\n",
    "\n",
    "#skew.plot_barbs(p2[mask],u[mask],v[mask])\n",
    "#skew.plot_barbs(p2[mask][::5],u[mask][::5],v[mask][::5])\n",
    "skew.plot_barbs(p[idx][::2],u[idx][::2],v[idx][::2])\n",
    "\n",
    "# Thermodynamic lines\n",
    "skew.plot_dry_adiabats(alpha=0.4)\n",
    "skew.plot_moist_adiabats(alpha=0.4)\n",
    "skew.plot_mixing_lines(alpha=0.6)\n",
    "\n",
    "# Add logos\n",
    "plots.add_metpy_logo(fig, x=57, y=45)\n",
    "plots.add_unidata_logo(fig, x=58, y=510)\n",
    "\n",
    "# Plot title\n",
    "plt.title(station+\"  \"+str(dateCurrent)+\"Z\", fontsize=25)\n",
    "\n",
    "# Label axes\n",
    "plt.xlabel(r'Temperature:   ($^{o}$C)', fontsize='large', fontweight='bold')\n",
    "plt.ylabel(r'Pressure:   (hPa)', fontsize='large', fontweight='bold')\n",
    "\n",
    "# Save figure to desired location on computer\n",
    "fig.savefig(im_save_path+\"Sounding_\"+station+\"_\"+date+\".png\",bbox_inches='tight')"
   ]
  },
  {
   "cell_type": "code",
   "execution_count": null,
   "metadata": {
    "collapsed": true
   },
   "outputs": [],
   "source": []
  }
 ],
 "metadata": {
  "kernelspec": {
   "display_name": "Python 2",
   "language": "python",
   "name": "python2"
  },
  "language_info": {
   "codemirror_mode": {
    "name": "ipython",
    "version": 2
   },
   "file_extension": ".py",
   "mimetype": "text/x-python",
   "name": "python",
   "nbconvert_exporter": "python",
   "pygments_lexer": "ipython2",
   "version": "2.7.15"
  }
 },
 "nbformat": 4,
 "nbformat_minor": 2
}
