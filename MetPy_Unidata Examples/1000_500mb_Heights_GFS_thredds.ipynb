{
 "cells": [
  {
   "cell_type": "markdown",
   "metadata": {},
   "source": [
    "# 1000 and 500mb Geopotential Heights  - GFS Forecast Maps from Thredds Server via NCSS and Siphon"
   ]
  },
  {
   "cell_type": "markdown",
   "metadata": {},
   "source": [
    "## Justin Richling\n",
    "## 11/15/18"
   ]
  },
  {
   "cell_type": "markdown",
   "metadata": {},
   "source": [
    "https://doi.org/10.6084/m9.figshare.5244637.v1"
   ]
  },
  {
   "cell_type": "code",
   "execution_count": 2,
   "metadata": {
    "collapsed": true
   },
   "outputs": [],
   "source": [
    "# Random Library Imports\n",
    "import subprocess,os,glob,tempfile,re,imageio,webbrowser,io,sys,types,urllib,urllib2,\\\n",
    "time,cStringIO\n",
    "\n",
    "# Importing Datetime Libraries\n",
    "from datetime import datetime, timedelta\n",
    "\n",
    "# CartoPy Map Plotting Libraires\n",
    "import cartopy.crs as ccrs\n",
    "import cartopy.feature as cfeature\n",
    "from pyproj import Proj \n",
    "\n",
    "# Numerical and Scientific Libraries\n",
    "import numpy as np\n",
    "import scipy.ndimage as ndimage\n",
    "from scipy.ndimage import gaussian_filter\n",
    "\n",
    "# Accessing Data from External Databases via XLM Catalog\n",
    "from siphon.ncss import NCSS\n",
    "from siphon.catalog import TDSCatalog\n",
    "\n",
    "# MetPy Libraries\n",
    "import metpy\n",
    "import metpy.calc as mpcalc\n",
    "from metpy.units import masked_array, units\n",
    "from metpy.plots import ctables\n",
    "from metpy.plots import add_metpy_logo\n",
    "from metpy.constants import g\n",
    "\n",
    "# NetCDF Libraries\n",
    "from netCDF4 import Dataset\n",
    "from netCDF4 import num2date\n",
    "\n",
    "# More Image Manipulation Options\n",
    "from PIL import Image as PILImage\n",
    "\n",
    "# Ipyhton Options\n",
    "from IPython import get_ipython\n",
    "from nbformat import current\n",
    "from IPython.core.interactiveshell import InteractiveShell\n",
    "from IPython.display import HTML, display, Image\n",
    "\n",
    "# Matplotlib Plotting Libraries\n",
    "import matplotlib.pyplot as plt\n",
    "from matplotlib.cm import get_cmap\n",
    "import matplotlib.colors as mcolors\n",
    "from matplotlib.colors import LogNorm, Normalize\n",
    "import matplotlib as mpl\n",
    "from mpl_toolkits.axes_grid1 import make_axes_locatable, axes_size\n",
    "from matplotlib.colors import LinearSegmentedColormap\n",
    "\n",
    "# URL Manipulation\n",
    "from urllib import urlopen\n",
    "\n",
    "# PV widgits imports\n",
    "import ipywidgets as widgets\n",
    "\n",
    "# Warnings\n",
    "import warnings\n",
    "warnings.filterwarnings('ignore')"
   ]
  },
  {
   "cell_type": "markdown",
   "metadata": {},
   "source": [
    "## Helper Functions"
   ]
  },
  {
   "cell_type": "code",
   "execution_count": 3,
   "metadata": {
    "collapsed": true
   },
   "outputs": [],
   "source": [
    "# Thanks to the crew over at Metpy for this handy little function\n",
    "def find_time_var(var, time_basename='time'):\n",
    "    for coord_name in var.coordinates.split():\n",
    "        if coord_name.startswith(time_basename):\n",
    "            return coord_name\n",
    "    raise ValueError('No time variable found for ' + var.name)"
   ]
  },
  {
   "cell_type": "markdown",
   "metadata": {},
   "source": [
    "<h2>----------------------------------------------//---------------------------------------------------------</h2>"
   ]
  },
  {
   "cell_type": "markdown",
   "metadata": {},
   "source": [
    "## Set the Map Projection"
   ]
  },
  {
   "cell_type": "code",
   "execution_count": null,
   "metadata": {
    "collapsed": true
   },
   "outputs": [],
   "source": [
    "# Set Projection of Data\n",
    "datacrs = ccrs.PlateCarree()\n",
    "\n",
    "# Set Projection of Plot\n",
    "plotcrs = ccrs.LambertConformal(central_latitude=[30, 60], central_longitude=-100)\n",
    "\n",
    "# Add Map Features\n",
    "states_provinces = cfeature.NaturalEarthFeature(category='cultural',\n",
    "    name='admin_1_states_provinces_lakes',scale='50m', facecolor='none')\n",
    "\n",
    "country_borders = cfeature.NaturalEarthFeature(category='cultural',\n",
    "    name='admin_0_countries',scale='50m', facecolor='none')\n",
    "\n",
    "# Colorbar Axis Placement (under figure)\n",
    "colorbar_axis = [0.183, 0.09, 0.659, 0.03] # [left, bottom, width, height]\n",
    "\n",
    "# Lat/Lon Extents [lon0,lon1,lat0,lat1]\n",
    "extent = [-130., -70, 20., 60.]"
   ]
  },
  {
   "cell_type": "markdown",
   "metadata": {},
   "source": [
    "<h2>----------------------------------------------//---------------------------------------------------------</h2>"
   ]
  },
  {
   "cell_type": "markdown",
   "metadata": {},
   "source": [
    "## Set a list for the 24 hour forecast time steps"
   ]
  },
  {
   "cell_type": "code",
   "execution_count": null,
   "metadata": {
    "collapsed": true
   },
   "outputs": [],
   "source": [
    "now = datetime.utcnow()\n",
    "#now = datetime(2018,12,27,21,0)\n",
    "today_day = int('{0:%d}'.format(now))\n",
    "today_year = int('{0:%Y}'.format(now))\n",
    "today_month = int('{0:%m}'.format(now))\n",
    "print today_day,today_year,today_month\n",
    "\n",
    "forecast_times = []\n",
    "for i in range(4,8):\n",
    "    forecast_times.append(datetime(today_year,today_month,today_day,i*3,0))\n",
    "for i in range(0,5):\n",
    "    forecast_times.append(datetime(today_year,today_month,today_day+1,i*3,0))\n",
    "forecast_times"
   ]
  },
  {
   "cell_type": "markdown",
   "metadata": {},
   "source": [
    "<h2>----------------------------------------------//---------------------------------------------------------</h2>"
   ]
  },
  {
   "cell_type": "markdown",
   "metadata": {},
   "source": [
    "## Figure out where the saved maps will go"
   ]
  },
  {
   "cell_type": "code",
   "execution_count": null,
   "metadata": {
    "collapsed": true
   },
   "outputs": [],
   "source": [
    "# Set a path to save the plots with string format for the date to set the month and day \n",
    "im_save_path =\"/path/to/saved files/\"\n",
    "print im_save_path\n",
    "\n",
    "# Check to see if the folder already exists, if not create it\n",
    "if not os.path.isdir(im_save_path):\n",
    "    os.makedirs(im_save_path)\n",
    "\n",
    "# Uncomment if you want to automatically change to the map folder    \n",
    "#os.chdir(im_save_path)"
   ]
  },
  {
   "cell_type": "markdown",
   "metadata": {},
   "source": [
    "<h2>----------------------------------------------//---------------------------------------------------------</h2>"
   ]
  },
  {
   "cell_type": "markdown",
   "metadata": {},
   "source": [
    "## Start at the top of the thredds catalog"
   ]
  },
  {
   "cell_type": "code",
   "execution_count": 5,
   "metadata": {},
   "outputs": [
    {
     "name": "stdout",
     "output_type": "stream",
     "text": [
      "Forecast Model Data\n",
      "Forecast Products and Analyses\n",
      "Observation Data\n",
      "Radar Data\n",
      "Satellite Data\n",
      "Unidata case studies\n"
     ]
    }
   ],
   "source": [
    "from siphon.catalog import TDSCatalog\n",
    "top_cat = TDSCatalog('http://thredds.ucar.edu/thredds/catalog.xml')\n",
    "for ref in top_cat.catalog_refs:\n",
    "    print(ref)\n"
   ]
  },
  {
   "cell_type": "markdown",
   "metadata": {},
   "source": [
    "## Model Forecast Data"
   ]
  },
  {
   "cell_type": "code",
   "execution_count": 6,
   "metadata": {},
   "outputs": [
    {
     "data": {
      "text/plain": [
       "u'http://thredds.ucar.edu/thredds/idd/forecastModels.xml'"
      ]
     },
     "execution_count": 6,
     "metadata": {},
     "output_type": "execute_result"
    }
   ],
   "source": [
    "ref = top_cat.catalog_refs['Forecast Model Data']\n",
    "ref.href"
   ]
  },
  {
   "cell_type": "code",
   "execution_count": 7,
   "metadata": {},
   "outputs": [
    {
     "data": {
      "text/plain": [
       "['GEFS Members - Analysis',\n",
       " 'GEFS Members - Forecasts',\n",
       " 'GEFS Derived Forecast Products',\n",
       " 'GFS Quarter Degree Analysis',\n",
       " 'GFS Quarter Degree Forecast',\n",
       " 'GFS Half Degree Analysis',\n",
       " 'GFS Half Degree Forecast',\n",
       " 'GFS One Degree Analysis',\n",
       " 'GFS One Degree Forecast',\n",
       " 'GFS Global 1.0 Degree (NOAAPORT)',\n",
       " 'GFS Pacific 40km',\n",
       " 'GFS Pacific 20km',\n",
       " 'GFS Puerto Rico Half Degree',\n",
       " 'GFS Puerto Rico Quarter Degree',\n",
       " 'GFS CONUS 80km',\n",
       " 'GFS CONUS 20km',\n",
       " 'GFS CONUS 95km',\n",
       " 'GFS Alaska 20km',\n",
       " 'GSD HRRR CONUS 3km wrfprs',\n",
       " 'GSD HRRR CONUS 3km surface',\n",
       " 'NCEP HRRR CONUS 2.5km Analysis',\n",
       " 'NCEP HRRR CONUS 2.5km',\n",
       " 'NAM Alaska 11km',\n",
       " 'NAM Alaska 45km from NOAAPORT',\n",
       " 'NAM Alaska 45km from CONDUIT',\n",
       " 'NAM Alaska 95km',\n",
       " 'NAM CONUS 12km from NOAAPORT',\n",
       " 'NAM CONUS 12km from CONDUIT',\n",
       " 'NAM CONUS 20km',\n",
       " 'NAM CONUS 40km',\n",
       " 'NAM CONUS 80km',\n",
       " 'NAM Polar 90km',\n",
       " 'NAM Fireweather Nested',\n",
       " 'Rapid Refresh CONUS 13km',\n",
       " 'Rapid Refresh CONUS 20km',\n",
       " 'Rapid Refresh CONUS 40km',\n",
       " 'SREF CONUS 40km Ensemble Derived Products',\n",
       " 'SREF CONUS 40km Ensemble Derived Products (Bias Corrected)',\n",
       " 'SREF Alaska 45km Ensemble Derived Products',\n",
       " 'SREF Pacific North East 0.4 Degree Ensemble Derived Products',\n",
       " 'Wave Watch III Global',\n",
       " 'Wave Watch III Regional Alaska',\n",
       " 'Wave Watch III Coastal Alaska',\n",
       " 'Wave Watch III Regional Eastern Pacific',\n",
       " 'Wave Watch III Regional US East Coast',\n",
       " 'Wave Watch III Regional US West Coast',\n",
       " 'Wave Watch III Coastal US East Coast',\n",
       " 'Wave Watch III Coastal US West Coast',\n",
       " 'FNMOC NAVGEM Global 0.5 Degree',\n",
       " 'FNMOC WW3 Global 1.0 Degree',\n",
       " 'FNMOC WW3 Europe',\n",
       " 'FNMOC FAROP Global 1.0 Degree',\n",
       " 'FNMOC COAMPS Western Atlantic',\n",
       " 'FNMOC COAMPS Europe',\n",
       " 'FNMOC COAMPS Equatorial America',\n",
       " 'FNMOC COAMPS Northeast Pacific',\n",
       " 'FNMOC COAMPS Southern California',\n",
       " 'FNMOC NCODA Global Ocean']"
      ]
     },
     "execution_count": 7,
     "metadata": {},
     "output_type": "execute_result"
    }
   ],
   "source": [
    "new_cat = ref.follow()\n",
    "list(new_cat.catalog_refs)"
   ]
  },
  {
   "cell_type": "markdown",
   "metadata": {},
   "source": [
    "## GFS Quarter Degree Data"
   ]
  },
  {
   "cell_type": "code",
   "execution_count": 8,
   "metadata": {},
   "outputs": [
    {
     "name": "stdout",
     "output_type": "stream",
     "text": [
      "GFS Quarter Degree Forecast\n"
     ]
    },
    {
     "data": {
      "text/plain": [
       "['Full Collection (Reference / Forecast Time) Dataset',\n",
       " 'Best GFS Quarter Degree Forecast Time Series',\n",
       " 'Latest Collection for GFS Quarter Degree Forecast']"
      ]
     },
     "execution_count": 8,
     "metadata": {},
     "output_type": "execute_result"
    }
   ],
   "source": [
    "model = new_cat.catalog_refs[4]\n",
    "print str(model)\n",
    "gfs_cat = model.follow()\n",
    "list(gfs_cat.datasets)"
   ]
  },
  {
   "cell_type": "markdown",
   "metadata": {},
   "source": [
    "## Best GFS Quarter Degree Forecast Time Series"
   ]
  },
  {
   "cell_type": "code",
   "execution_count": 9,
   "metadata": {},
   "outputs": [
    {
     "name": "stdout",
     "output_type": "stream",
     "text": [
      "Variable Name: Best GFS Quarter Degree Forecast Time Series\n",
      "Path: grib/NCEP/GFS/Global_0p25deg/Best\n"
     ]
    }
   ],
   "source": [
    "ds = gfs_cat.datasets[1]\n",
    "print \"Variable Name:\",ds.name\n",
    "print \"Path:\",ds.url_path"
   ]
  },
  {
   "cell_type": "markdown",
   "metadata": {},
   "source": [
    "<h2>----------------------------------------------//---------------------------------------------------------</h2>\n",
    "<h2>----------------------------------------------//---------------------------------------------------------</h2>"
   ]
  },
  {
   "cell_type": "markdown",
   "metadata": {
    "collapsed": true
   },
   "source": [
    "<h1><font style=\"font-size:32px\"><center>-- Plotting all of the GFS forecast hours for the current day --</center></font></h1>"
   ]
  },
  {
   "cell_type": "markdown",
   "metadata": {},
   "source": [
    "<h2><font><center>-- 1000 and 500mb Heights --</center></font></h2>"
   ]
  },
  {
   "cell_type": "code",
   "execution_count": null,
   "metadata": {
    "collapsed": true
   },
   "outputs": [],
   "source": [
    "for i in forecast_times:\n",
    "    ds = gfs_cat.datasets[1]\n",
    "    subset = ds.subset()\n",
    "    query_data = subset.query()\n",
    "    query_data.lonlat_box(west=-130, east=-50, south=10, north=60)\n",
    "\n",
    "# Allow for NetCDF files\n",
    "    query_data.accept('netcdf4')\n",
    "    query_data.time(i)\n",
    "    data = query_data.variables('Geopotential_height_isobaric')\n",
    "\n",
    "# Finally attempt to access the data\n",
    "    data = subset.get_data(query_data)\n",
    "    \n",
    "    lev_500 = np.where(data.variables['isobaric'][:] == 50000)[0][0]\n",
    "    hght_500 = data.variables['Geopotential_height_isobaric'][0, lev_500, :, :]\n",
    "    \n",
    "    # Create a figure object, title it, and do the plots.\n",
    "    fig = plt.figure(figsize = (17.,11.))\n",
    "\n",
    "    add_metpy_logo(fig, 30, 940, size='small')\n",
    "\n",
    "# Add the map and set the extent\n",
    "    ax5 = plt.subplot(1,1,1, projection=plotcrs)\n",
    "    ax5.set_extent(extent, datacrs)\n",
    "\n",
    "# Add state boundaries to plot\n",
    "    ax5.add_feature(states_provinces, edgecolor='k', linewidth=1)\n",
    "\n",
    "# Add country borders to plot\n",
    "    ax5.add_feature(country_borders, edgecolor='black', linewidth=1)\n",
    "\n",
    "# Convert number of hours since the reference time into an actual date\n",
    "    time_var = data.variables[find_time_var(data.variables['Geopotential_height_isobaric'])]\n",
    "    time_final = num2date(time_var[:].squeeze(), time_var.units)\n",
    "    print str(time_final)[:4]+\"_\"+str(time_final)[5:7]+\"_\"+str(time_final)[8:10]+\"_\"+str(time_final)[11:13]+\"Z\"\n",
    "    file_time = str(time_final)[:4]+\"_\"+str(time_final)[5:7]+\"_\"+str(time_final)[8:10]+\"_\"+str(time_final)[11:13]+\"Z\"\n",
    "    \n",
    "# Plot Title\n",
    "    plt.title('1000 and 500mb Heights (m)',loc='left',fontsize=16)\n",
    "    plt.title(' {0:%d %B %Y %H:%MZ}'.format(time_final),loc='right',fontsize=16)\n",
    "\n",
    "                                        # Heights - 1000mb\n",
    "#---------------------------------------------------------------------------------------------------\n",
    "    lev_1000 = np.where(data.variables['isobaric'][:] == 100000)[0][0]\n",
    "\n",
    "    hght_1000 = data.variables['Geopotential_height_isobaric'][0, lev_1000, :, :]\n",
    "    MIN = hght_1000.min()\n",
    "    MAX = hght_1000.max()\n",
    "#print hght_1000.min(),hght_1000.max()\n",
    "    hght_1000 = ndimage.gaussian_filter(hght_1000, sigma=3, order=0) * units.meter\n",
    "\n",
    "    clev1000 = np.arange(MIN, MAX, 50)\n",
    "    cs = ax5.contour(lon, lat, hght_1000.m, clev1000, colors='blue', linewidths=2.0,\n",
    "                linestyles='solid', transform=ccrs.PlateCarree())\n",
    "    plt.clabel(cs, fontsize=10, inline=1, inline_spacing=10, fmt='%i',\n",
    "           rightside_up=True, use_clabeltext=True)\n",
    "\n",
    "                                        # Heights - 500mb\n",
    "#---------------------------------------------------------------------------------------------------\n",
    "    MIN = hght_500.min()\n",
    "    MAX = hght_500.max()\n",
    "    #print hght_500.min(),hght_500.max()\n",
    "    hght_500 = ndimage.gaussian_filter(hght_500, sigma=3, order=0) * units.meter\n",
    "\n",
    "    clev500 = np.arange(MIN, MAX, 70)\n",
    "    cs = ax5.contour(lon, lat, hght_500.m, clev500, colors='black', linewidths=2.0,\n",
    "                linestyles='solid', transform=ccrs.PlateCarree())\n",
    "    plt.clabel(cs, fontsize=10, inline=1, inline_spacing=10, fmt='%i',\n",
    "           rightside_up=True, use_clabeltext=True)\n",
    "\n",
    "\n",
    "                                        # Vorticity\n",
    "#---------------------------------------------------------------------------------------------------\n",
    "#uwnd_500 = data.variables['u-component_of_wind_isobaric'][0, lev_500, :, :] * units('m/s')\n",
    "#vwnd_500 = data.variables['v-component_of_wind_isobaric'][0, lev_500, :, :] * units('m/s')\n",
    "#dx, dy = mpcalc.lat_lon_grid_spacing(lon, lat)#\n",
    "\n",
    "#lat = data.variables['lat'][:]\n",
    "#f = mpcalc.coriolis_parameter(np.deg2rad(lat)).to(units('1/sec'))\n",
    "\n",
    "#avor = mpcalc.vorticity(uwnd_500, vwnd_500, dx, dy, dim_order='yx') + f\n",
    "#print avor.units\n",
    "#MAX = avor2.max()\n",
    "#MIN = avor2.min()\n",
    "#print MAX*units('dimensionless'),MIN*units('dimensionless')\n",
    "\n",
    "#avor2 = ndimage.gaussian_filter(avor, sigma=3, order=0) * units('1/s')\n",
    "\n",
    "\n",
    "#vort_adv = mpcalc.advection(avor2, [uwnd_500, vwnd_500], (dx, dy), dim_order='yx') * 1e9\n",
    "# Plot Colorfill of Vorticity Advection\n",
    "#clev_avoradv = np.arange(MIN, MAX, 5)\n",
    "#cf = ax5.contourf(lon, lat, vort_adv.m, clev_avoradv[clev_avoradv != 0], extend='both',\n",
    "#                 cmap='bwr', transform=ccrs.PlateCarree())\n",
    "#cax = plt.subplot(gs[1])\n",
    "#cb = plt.colorbar(cf, cax=cax, orientation='horizontal', extendrect='True', ticks=clev_avoradv)\n",
    "#cb.set_label(r'$1/s^2$', size='large')\n",
    "\n",
    "#---------------------------------------------------------------------------------------------------\n",
    "#---------------------------------------------------------------------------------------------------\n",
    "\n",
    "    \n",
    "    GFS_1000_500 = im_save_path+\"GFS/1000_500mb/\"\n",
    "    if not os.path.isdir(GFS_1000_500):\n",
    "        os.makedirs(GFS_1000_500)\n",
    "    fig.savefig(GFS_1000_500+\"1000_500mb_Heights_\"+file_time+\".png\",\n",
    "            bbox_inches='tight',dpi=120)\n",
    "print 'done.'"
   ]
  }
 ],
 "metadata": {
  "kernelspec": {
   "display_name": "Python 2",
   "language": "python",
   "name": "python2"
  },
  "language_info": {
   "codemirror_mode": {
    "name": "ipython",
    "version": 2
   },
   "file_extension": ".py",
   "mimetype": "text/x-python",
   "name": "python",
   "nbconvert_exporter": "python",
   "pygments_lexer": "ipython2",
   "version": "2.7.15"
  }
 },
 "nbformat": 4,
 "nbformat_minor": 2
}
