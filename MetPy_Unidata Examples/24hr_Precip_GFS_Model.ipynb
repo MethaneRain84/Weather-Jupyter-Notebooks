{
 "cells": [
  {
   "cell_type": "markdown",
   "metadata": {},
   "source": [
    "# 24 Hour Precipitation Totals - National Weather Service"
   ]
  },
  {
   "cell_type": "markdown",
   "metadata": {},
   "source": [
    "## Justin Richling\n",
    "## 09/20/18"
   ]
  },
  {
   "cell_type": "code",
   "execution_count": null,
   "metadata": {
    "collapsed": true
   },
   "outputs": [],
   "source": [
    "%matplotlib inline"
   ]
  },
  {
   "cell_type": "markdown",
   "metadata": {},
   "source": [
    "## Imports"
   ]
  },
  {
   "cell_type": "code",
   "execution_count": null,
   "metadata": {
    "collapsed": true
   },
   "outputs": [],
   "source": [
    "# Random Library Imports\n",
    "import subprocess,os,glob,tempfile,re,imageio,webbrowser,io,sys,types,urllib,urllib2,\\\n",
    "time,cStringIO\n",
    "\n",
    "# Importing Datetime Libraries\n",
    "from datetime import datetime, timedelta\n",
    "\n",
    "# CartoPy Map Plotting Libraires\n",
    "import cartopy.crs as ccrs\n",
    "import cartopy.feature as cfeature\n",
    "from pyproj import Proj \n",
    "\n",
    "# Numerical and Scientific Libraries\n",
    "import numpy as np\n",
    "import scipy.ndimage as ndimage\n",
    "from scipy.ndimage import gaussian_filter\n",
    "\n",
    "# Accessing Data from External Databases via XLM Catalog\n",
    "from siphon.ncss import NCSS\n",
    "from siphon.catalog import TDSCatalog\n",
    "\n",
    "# MetPy Libraries\n",
    "import metpy\n",
    "import metpy.calc as mpcalc\n",
    "from metpy.units import masked_array, units\n",
    "from metpy.plots import ctables\n",
    "from metpy.plots import add_metpy_logo\n",
    "from metpy.constants import g\n",
    "\n",
    "# NetCDF Libraries\n",
    "from netCDF4 import Dataset\n",
    "from netCDF4 import num2date\n",
    "\n",
    "# More Image Manipulation Options\n",
    "from PIL import Image as PILImage\n",
    "\n",
    "# Ipyhton Options\n",
    "from IPython import get_ipython\n",
    "from nbformat import current\n",
    "from IPython.core.interactiveshell import InteractiveShell\n",
    "from IPython.display import HTML, display, Image\n",
    "\n",
    "# Matplotlib Plotting Libraries\n",
    "import matplotlib.pyplot as plt\n",
    "from matplotlib.cm import get_cmap\n",
    "import matplotlib.colors as mcolors\n",
    "from matplotlib.colors import LogNorm, Normalize\n",
    "import matplotlib as mpl\n",
    "from mpl_toolkits.axes_grid1 import make_axes_locatable, axes_size\n",
    "from matplotlib.colors import LinearSegmentedColormap\n",
    "\n",
    "# URL Manipulation\n",
    "from urllib import urlopen\n",
    "\n",
    "# PV widgits imports\n",
    "import ipywidgets as widgets\n",
    "\n",
    "# Warnings\n",
    "import warnings\n",
    "warnings.filterwarnings('ignore')"
   ]
  },
  {
   "cell_type": "markdown",
   "metadata": {},
   "source": [
    "## Figuring out where you want the current day's files..."
   ]
  },
  {
   "cell_type": "code",
   "execution_count": null,
   "metadata": {
    "collapsed": true
   },
   "outputs": [],
   "source": [
    "# Pull the current time\n",
    "now = datetime.now() \n",
    "\n",
    "# Set a path to save the plots with string format for the date to set the month and day \n",
    "im_save_path =\"/path/for/saved/images/\"\n",
    "print im_save_path\n",
    "\n",
    "# Check to see if the folder already exists, if not create it\n",
    "if not os.path.isdir(im_save_path):\n",
    "    os.makedirs(im_save_path)\n",
    "\n",
    "# Uncomment if you want to automatically change to the map folder    \n",
    "#os.chdir(im_save_path)"
   ]
  },
  {
   "cell_type": "markdown",
   "metadata": {},
   "source": [
    "Begin map creation\n",
    "------------------\n",
    "\n"
   ]
  },
  {
   "cell_type": "code",
   "execution_count": null,
   "metadata": {
    "collapsed": true
   },
   "outputs": [],
   "source": [
    "# Set Projection of Data\n",
    "datacrs = ccrs.PlateCarree()\n",
    "\n",
    "# Set Projection of Plot\n",
    "plotcrs = ccrs.LambertConformal(central_latitude=[30, 60], central_longitude=-100)\n",
    "\n",
    "states_provinces = cfeature.NaturalEarthFeature(category='cultural',\n",
    "    name='admin_1_states_provinces_lakes',scale='50m', facecolor='none')\n",
    "\n",
    "country_borders = cfeature.NaturalEarthFeature(category='cultural',\n",
    "    name='admin_0_countries',scale='50m', facecolor='none')"
   ]
  },
  {
   "cell_type": "code",
   "execution_count": null,
   "metadata": {
    "collapsed": true
   },
   "outputs": [],
   "source": [
    "# Colorbar Axis Placement (under figure)\n",
    "colorbar_axis = [0.183, 0.09, 0.659, 0.03] # [left, bottom, width, height]\n",
    "\n",
    "# Lat/Lon Extents [lon0,lon1,lat0,lat1]\n",
    "extent = [-130., -70, 20., 60.]"
   ]
  },
  {
   "cell_type": "markdown",
   "metadata": {},
   "source": [
    "# 24-Hour Precipitation\n",
    "\n",
    "## NWS"
   ]
  },
  {
   "cell_type": "code",
   "execution_count": null,
   "metadata": {
    "collapsed": true
   },
   "outputs": [],
   "source": [
    "# We want the previous day because that's the 24 hour period we're looking at\n",
    "print dt\n",
    "dt = datetime.utcnow() - timedelta(days=1)  \n",
    "#dt = datetime(2018,10,31)\n",
    "#print dt\n",
    "url = 'http://water.weather.gov/precip/downloads/{dt:%Y/%m/%d}/nws_precip_1day_'\\\n",
    "      '{dt:%Y%m%d}_conus.nc'.format(dt=dt)\n",
    "data = urlopen(url).read()\n",
    "Dataset('temp.nc', 'w').close()  # Work around bug where it needs an existing netCDF file\n",
    "nc = Dataset('temp.nc', 'r', memory=data)\n",
    "\n",
    "print str(dt)\n",
    "Time = str(dt)[:-7]\n",
    "print Time"
   ]
  },
  {
   "cell_type": "code",
   "execution_count": null,
   "metadata": {
    "collapsed": true
   },
   "outputs": [],
   "source": [
    "prcpvar = nc.variables['observation']\n",
    "data = masked_array(prcpvar[:], units(prcpvar.units.lower())).to('mm')\n",
    "x = nc.variables['x'][:]\n",
    "y = nc.variables['y'][:]\n",
    "proj_var = nc.variables[prcpvar.grid_mapping]\n",
    "\n",
    "globe2 = ccrs.Globe(semimajor_axis=proj_var.earth_radius)\n",
    "proj = ccrs.Stereographic(central_latitude=90.0,\n",
    "                          central_longitude=proj_var.straight_vertical_longitude_from_pole,\n",
    "                          true_scale_latitude=proj_var.standard_parallel, globe=globe2)\n",
    "\n",
    "fig = plt.figure(figsize=(17.,11.))\n",
    "ax = fig.add_subplot(1, 1, 1, projection=plotcrs)\n",
    "\n",
    "# Plot Title\n",
    "plt.title('24-Hour Precipitation (mm)',loc='left',fontsize=16)\n",
    "plt.title('Valid from: '+' {0:%d %B %Y}'.format(modified_date),loc='right',fontsize=16)\n",
    "\n",
    "# Add state boundaries to plot\n",
    "ax.add_feature(states_provinces, edgecolor='k', linewidth=1)\n",
    "\n",
    "# Add country borders to plot\n",
    "ax.add_feature(country_borders, edgecolor='k', linewidth=1)\n",
    "\n",
    "# draw filled contours.\n",
    "clevs = [0, 1, 2.5, 5, 7.5, 10, 15, 20, 30, 40,\n",
    "         50, 70, 100, 150, 200, 250, 300, 400, 500, 600, 750]\n",
    "# In future MetPy\n",
    "#norm, cmap = ctables.registry.get_with_boundaries('precipitation', clevs)\n",
    "cmap_data = [(1.0, 1.0, 1.0),\n",
    "             (0.3137255012989044, 0.8156862854957581, 0.8156862854957581),\n",
    "             (0.0, 1.0, 1.0),\n",
    "             (0.0, 0.8784313797950745, 0.501960813999176),\n",
    "             (0.0, 0.7529411911964417, 0.0),\n",
    "             (0.501960813999176, 0.8784313797950745, 0.0),\n",
    "             (1.0, 1.0, 0.0),\n",
    "             (1.0, 0.6274510025978088, 0.0),\n",
    "             (1.0, 0.0, 0.0),\n",
    "             (1.0, 0.125490203499794, 0.501960813999176),\n",
    "             (0.9411764740943909, 0.250980406999588, 1.0),\n",
    "             (0.501960813999176, 0.125490203499794, 1.0),\n",
    "             (0.250980406999588, 0.250980406999588, 1.0),\n",
    "             (0.125490203499794, 0.125490203499794, 0.501960813999176),\n",
    "             (0.125490203499794, 0.125490203499794, 0.125490203499794),\n",
    "             (0.501960813999176, 0.501960813999176, 0.501960813999176),\n",
    "             (0.8784313797950745, 0.8784313797950745, 0.8784313797950745),\n",
    "             (0.9333333373069763, 0.8313725590705872, 0.7372549176216125),\n",
    "             (0.8549019694328308, 0.6509804129600525, 0.47058823704719543),\n",
    "             (0.6274510025978088, 0.42352941632270813, 0.23529411852359772),\n",
    "             (0.4000000059604645, 0.20000000298023224, 0.0)]\n",
    "cmap = mcolors.ListedColormap(cmap_data, 'precipitation')\n",
    "norm = mcolors.BoundaryNorm(clevs, cmap.N)\n",
    "\n",
    "cs = ax.contourf(x, y, data, clevs, cmap=cmap, norm=norm,transform=proj)\n",
    "cbaxes = fig.add_axes(colorbar_axis) \n",
    "cbar = plt.colorbar(cs, orientation='horizontal',cax=cbaxes)\n",
    "\n",
    "ax.set_extent(extent, datacrs)\n",
    "plt.show()\n",
    "\n",
    "fig.savefig(im_save_path+\"SIMPLE_Precip_\"+Time+\".png\",\n",
    "            bbox_inches='tight',dpi=120)"
   ]
  }
 ],
 "metadata": {
  "kernelspec": {
   "display_name": "Python 2",
   "language": "python",
   "name": "python2"
  },
  "language_info": {
   "codemirror_mode": {
    "name": "ipython",
    "version": 2
   },
   "file_extension": ".py",
   "mimetype": "text/x-python",
   "name": "python",
   "nbconvert_exporter": "python",
   "pygments_lexer": "ipython2",
   "version": "2.7.15"
  }
 },
 "nbformat": 4,
 "nbformat_minor": 1
}
